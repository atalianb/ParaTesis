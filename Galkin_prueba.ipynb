{
 "cells": [
  {
   "cell_type": "code",
   "execution_count": 14,
   "metadata": {},
   "outputs": [],
   "source": [
    "import galkin\n",
    "import matplotlib.pyplot as plt\n",
    "import numpy as np"
   ]
  },
  {
   "cell_type": "code",
   "execution_count": 2,
   "metadata": {},
   "outputs": [],
   "source": [
    "import galkin.plots"
   ]
  },
  {
   "cell_type": "code",
   "execution_count": 3,
   "metadata": {},
   "outputs": [],
   "source": [
    "import sys\n",
    "sys.path.append('..')"
   ]
  },
  {
   "cell_type": "code",
   "execution_count": 4,
   "metadata": {},
   "outputs": [],
   "source": [
    "# import auxiliary modules\n",
    "import galkin.processdata   # routines to process kinematic data\n",
    "import galkin.readparsFile  # routines to read and check input parameters\n"
   ]
  },
  {
   "cell_type": "code",
   "execution_count": 6,
   "metadata": {},
   "outputs": [],
   "source": [
    "# Galactic parameters\n",
    "R0=8.0# Galactocentric distance (kpc)\n",
    "V0=230.# local circular velocity (km/s)\n",
    "UsunINUSE=11.10# solar motion in the U-direction (km/s), e.g. from Schoenrich+ '10, MNRAS 403, 1829 (2010)\n",
    "VsunINUSE=12.24# solar motion in the V-direction (km/s), e.g. from Schoenrich+ '10, MNRAS 403, 1829 (2010)\n",
    "WsunINUSE=07.25# solar motion in the W-direction (km/s), e.g. from Schoenrich+ '10, MNRAS 403, 1829 (2010)\n",
    "SYSTDISP=0.# systematic dispersion due to spiral arm streaming (km/s), e.g. 11.8 km/s from Brand & Blitz '93, A&A 275, 67 (1993)"
   ]
  },
  {
   "cell_type": "code",
   "execution_count": 7,
   "metadata": {},
   "outputs": [],
   "source": [
    "# Flags\n",
    "flagPROPERMOTIONS=0\t \t\t\t# proper motions not supported in current version - please keep at 0\n",
    "flagHITERMINAL=1\t\t\t\t# whether to use HI terminal velocities\n",
    "flagFich89tab2=1\t\t\t\t# whether to use Fich+ '89, ApJ 342, 272 (1989) (Table 2)\n",
    "flagMalhotra95=1\t\t\t\t# whether to use Malhotra '95, ApJ 448, 138 (1995)\n",
    "flagMcClureGriffithsDickey07=1\t\t\t# whether to use McClure-Griffiths & Dickey '07, ApJ 671, 427 (2007)\n",
    "flagHITHICKNESS=1\t\t\t\t# whether to use the HI thickness method\n",
    "flagHonmaSofue97=1\t\t\t\t# whether to use Honma & Sofue '97, PASJ 49, 453 (1997)\n",
    "flagCOTERMINAL=1\t\t\t\t# whether to use CO terminal velocities\n",
    "flagBurtonGordon78=1\t\t\t\t# whether to use Burton & Gordon '78, A&A 63, 7 (1978)\n",
    "flagClemens85=1\t\t\t\t\t# whether to use Clemens '85, ApJ 295, 422 (1985)\n",
    "flagKnapp85=1\t\t\t\t\t# whether to use Knapp+ '85, AJ 90, 2 (1985)\n",
    "flagLuna06=1\t\t\t\t\t# whether to use Luna+ '06, ApJ 641, 938 (2006)\n",
    "flagHIIREGIONS=1\t\t\t\t# whether to use HII regions\n",
    "flagBlitz79=1\t\t\t\t\t# whether to use Blitz '79, ApJL 231, L115 (1979)\n",
    "flagFich89tab1=1\t\t\t\t# whether to use Fich+ '89, ApJ 342, 272 (1989) (Table 1)\t\n",
    "flagTurbideMoffat93=1\t\t\t\t# whether to use Turbide & Moffat '93, AJ 105, 5 (1993)\n",
    "flagBrandBlitz93=1\t\t\t\t# whether to use Brand & Blitz '93, A&A 275, 67 (1993)\n",
    "flagHou09tabA1=1\t\t\t\t# whether to use Hou+ '09, A&A 499, 473 (2009) (Table A1)\n",
    "flagGMC=1\t\t\t\t\t# whether to use giant molecular clouds\n",
    "flagHou09tabA2=1\t\t\t\t# whether to use Hou+ '09, A&A 499, 473 (2009) (Table A2)\n",
    "flagOPENCLUSTERS=1\t\t\t\t# whether to use open clusters\n",
    "flagFrinchaboyMajewski08=1\t\t\t# whether to use Frinchaboy & Majewski '08, AJ 136, 118 (2008)\n",
    "flagPLANETARYNEBULAE=1\t\t\t\t# whether to use planetary nebulae\n",
    "flagDurand98=1\t\t\t\t\t# whether to use Durand+ '98, A&AS 132, 13 (1998)\n",
    "flagCEPHEIDS=1\t\t\t\t\t# whether to use classical cepheids\n",
    "flagPont94=1\t\t\t\t\t# whether to use Pont+ '94, A&A 285, 415 (1994)\n",
    "flagPont97=1\t\t\t\t\t# whether to use Pont+ '97, A&A 318, 416 (1997)\n",
    "flagCSTARS=1\t\t\t\t\t# whether to use carbon stars\n",
    "flagDemersBattinelli07=1\t\t\t# whether to use Demers & Battinelli '07, A&A 473, 143 (2007)\n",
    "flagBattinelli12=1\t\t\t\t# whether to use Battinelli+ '12, Ap 56, 68 (2013)\n",
    "flagMASERS=1\t\t\t\t\t# whether to use masers\n",
    "flagReid14=1\t\t\t\t\t# whether to use Reid+ '14, ApJ 783, 130 (2014)\n",
    "flagHonma12=1\t\t\t\t\t# whether to use Honma+ '12, PASJ 64, 136 (2012)\n",
    "flagStepanishchevBobylev11=1\t\t\t# whether to use Stepanishchev & Bobylev '11, AstL 37, 4 (2011)\n",
    "flagXu13=1\t\t\t\t\t# whether to use Xu+ '13, ApJ 769, 15 (2013)\n",
    "flagBobylevBajkova13=1\t\t\t\t# whether to use Bobylev & Bajkova '13, AstL 39, 809 (2013)\n",
    "flagastropy=0\t\t\t\t \t# whether to use astropy for equatorial-to-galactic conversions\n"
   ]
  },
  {
   "cell_type": "code",
   "execution_count": 8,
   "metadata": {},
   "outputs": [],
   "source": [
    "inputpars=(R0,V0,UsunINUSE,VsunINUSE,WsunINUSE,SYSTDISP, flagPROPERMOTIONS,flagHITERMINAL,flagFich89tab2,flagMalhotra95,flagMcClureGriffithsDickey07, flagHITHICKNESS,flagHonmaSofue97,flagCOTERMINAL,flagBurtonGordon78,flagClemens85,flagKnapp85,flagLuna06, flagHIIREGIONS,flagBlitz79,flagFich89tab1,flagTurbideMoffat93,flagBrandBlitz93,flagHou09tabA1, flagGMC,flagHou09tabA2,flagOPENCLUSTERS,flagFrinchaboyMajewski08,flagPLANETARYNEBULAE,flagDurand98,flagCEPHEIDS,flagPont94,flagPont97, flagCSTARS,flagDemersBattinelli07,flagBattinelli12, flagMASERS,flagReid14,flagHonma12,flagStepanishchevBobylev11,flagXu13,flagBobylevBajkova13,flagastropy)"
   ]
  },
  {
   "cell_type": "code",
   "execution_count": 9,
   "metadata": {},
   "outputs": [
    {
     "name": "stdout",
     "output_type": "stream",
     "text": [
      "checking validity of input parameters...\n",
      "printing input parameters...\n",
      " R0=  8.0  kpc\n",
      " V0=  230.0  km/s\n",
      " (Usun,Vsun,Wsun) = ( 11.1 , 12.24 , 7.25 ) km/s\n",
      " systematic dispersion =  0.0  km/s\n",
      " use HI terminal velocities?            1\n",
      "  use Fich+ 89(Table 2)?                  1\n",
      "  use Malhotra 95?                        1\n",
      "  use McClure-Griffiths & Dickey 07?      1\n",
      " use HI thickness method?               1\n",
      "  use Honma & Sofue 97?                   1\n",
      " use CO terminal velocities?            1\n",
      "  use Burton & Gordon 78?                 1\n",
      "  use Clemens 85?                         1\n",
      "  use Knapp+ 85?                          1\n",
      "  use Luna+ 06?                           1\n",
      " use HII regions?                       1\n",
      "  use Blitz 79?                           1\n",
      "  use Fich+ 89 (Table 1)?                 1\n",
      "  use Turbide & Moffat 93?                1\n",
      "  use Brand & Blitz 93?                   1\n",
      "  use Hou+ 09 (Table A1)?                 1\n",
      " use giant molecular clouds?            1\n",
      "  use Hou+ 09 (Table A2)?                 1\n",
      " use open clusters?                     1\n",
      "  use Frinchaboy & Majewski 08?           1\n",
      " use planetary nebulae?                 1\n",
      "  use Durand+ 98?                         1\n",
      " use cepheids?                          1\n",
      "  use Pont+ 94?                           1\n",
      "  use Pont+ 97?                           1\n",
      " use C stars?                           1\n",
      "  use Demers & Battinelli 07?             1\n",
      "  use Battinelli+ 12?                     1\n",
      " use masers?                            1\n",
      "  use Stepanishchev & Bobylev 11?         1\n",
      "  use Honma+ 12?                          1\n",
      "  use Xu+ 13?                             1\n",
      "  use Bobylev & Bajkova 13?               1\n",
      "  use Reid+ 14?                           1\n",
      " use astropy?                           0\n"
     ]
    }
   ],
   "source": [
    "galkin.readparsFile.CheckAndPrintParameters(inputpars)"
   ]
  },
  {
   "cell_type": "code",
   "execution_count": 10,
   "metadata": {},
   "outputs": [
    {
     "name": "stdout",
     "output_type": "stream",
     "text": [
      "processing HI terminal velocities...\n",
      " processing Fich+ 89 (Table 2)...\n",
      "  selected  149  HI terminal velocities\n",
      " processing Malhotra 95...\n",
      "  selected  110  HI terminal velocities\n",
      " processing McClure-Griffiths & Dickey 07...\n",
      "  selected  701  out of the total sample of  761  HI terminal velocities\n",
      "processing HI thickness method...\n",
      " processing Honma & Sofue 97...\n",
      "  selected  13  HI thickness rings\n",
      "processing CO terminal velocities...\n",
      " processing Burton & Gordon 78...\n",
      "  selected  284  CO terminal velocities\n",
      " processing Clemens 85...\n",
      "  selected  143  CO terminal velocities\n",
      " processing Knapp+ 85...\n",
      "  selected  37  CO terminal velocities\n",
      " processing Luna+ 06...\n",
      "  selected  272  out of the total sample of  457  CO terminal velocities\n",
      "processing HII regions...\n",
      " processing Blitz 79...\n",
      "  selected  3  HII regions\n",
      " processing Fich+ 89 (Table 1)...\n",
      "  selected  5  out of the total sample of  104  HII regions\n",
      " processing Turbide & Moffat 93...\n",
      "  selected  5  out of the total sample of  8  HII regions\n",
      " processing Brand & Blitz 93...\n",
      "  selected  148  out of the total sample of  206  HII regions\n",
      " processing Hou+ 09 (Table A1)...\n",
      "  selected  274  out of the total sample of  815  HII regions\n",
      "processing giant molecular clouds...\n",
      " processing Hou+ 09 (Table A2)...\n",
      "  selected  30  out of the total sample of  963  giant molecular clouds\n",
      "processing open clusters...\n",
      " processing Frinchaboy & Majewski 08...\n",
      "  selected  60  out of the total sample of  71  open clusters\n",
      "processing planetary nebulae...\n",
      " processing Durand+ 98...\n",
      "  selected  79  out of the total sample of  867  planetary nebulae\n",
      "processing classical cepheids...\n",
      " processing Pont+ 94...\n",
      "  selected  245  out of the total sample of  278  cepheids\n",
      " processing Pont+ 97...\n",
      "  selected  32  out of the total sample of  48  cepheids\n",
      "processing carbon stars...\n",
      " processing Demers & Battinelli 07...\n",
      "  selected  55  out of the total sample of  103  C stars\n",
      " processing Battinelli+ 12...\n",
      "  selected  35  out of the total sample of  36  C stars\n",
      "processing masers...\n",
      " processing Reid+ 14...\n",
      "  selected  80  out of the total sample of  103  masers\n",
      " processing Honma+ 12...\n",
      "*** warning: found more than 1 coincidence!\n",
      "  selected  11  out of the total sample of  52  masers\n",
      " processing Stepanishchev & Bobylev 11...\n",
      "  selected  1  out of the total sample of  1  masers\n",
      " processing Xu+ 13...\n",
      "  selected  6  out of the total sample of  30  masers\n",
      "  selected  1  out of the total sample of  6  masers\n",
      " processing Bobylev & Bajkova 13...\n",
      "  selected  14  out of the total sample of  31  masers\n",
      "  selected  7  out of the total sample of  14  masers\n"
     ]
    }
   ],
   "source": [
    "vecout=galkin.processdata.ProcessData(inputpars)\n",
    "totallistvc=vecout[0]; # list of {R[kpc], delta_R[kpc], vc[km/s], delta_vc[km/s], wc[km/s/kpc], delta_wc[km/s/kpc], Reference}"
   ]
  },
  {
   "cell_type": "code",
   "execution_count": 11,
   "metadata": {},
   "outputs": [
    {
     "name": "stdout",
     "output_type": "stream",
     "text": [
      "[2.070552360820166, 0.0, 204.7522462861832, 4.5, 98.88774133926218, 2.173333109150404, 'Fich89_Table2']\n"
     ]
    }
   ],
   "source": [
    "print totallistvc[0]"
   ]
  },
  {
   "cell_type": "code",
   "execution_count": 12,
   "metadata": {},
   "outputs": [
    {
     "name": "stdout",
     "output_type": "stream",
     "text": [
      "[7.612212812065508, 0.010544186304777303, 236.3513518499254, 8.658320507429012, 31.048967978838405, 1.1366115200893554, 'BobylevBajkova13']\n"
     ]
    }
   ],
   "source": [
    "print totallistvc[len(totallistvc)-1]"
   ]
  },
  {
   "cell_type": "code",
   "execution_count": 28,
   "metadata": {},
   "outputs": [],
   "source": [
    "vcfile = open(\"/Users/atalia/galkin/bin/output/vcdata.dat\",'r')\n"
   ]
  },
  {
   "cell_type": "code",
   "execution_count": 26,
   "metadata": {},
   "outputs": [
    {
     "name": "stdout",
     "output_type": "stream",
     "text": [
      "<open file '/Users/atalia/galkin/bin/output/vcdata.dat', mode 'r' at 0x1080bcf60>\n"
     ]
    }
   ],
   "source": [
    "print r"
   ]
  },
  {
   "cell_type": "code",
   "execution_count": 30,
   "metadata": {},
   "outputs": [],
   "source": [
    "totallistvc=[]\n",
    "i=0\n",
    "for line in vcfile:\n",
    "    i+=1\n",
    "    values=line.split()\n",
    "    if(i>2):\n",
    "        totallistvc.append([float(values[0]),float(values[1]),float(values[2]),float(values[3]),float(values[4]),float(values[5]),values[6]])"
   ]
  },
  {
   "cell_type": "code",
   "execution_count": 40,
   "metadata": {},
   "outputs": [],
   "source": [
    "#print totallistvc"
   ]
  },
  {
   "cell_type": "code",
   "execution_count": 31,
   "metadata": {},
   "outputs": [],
   "source": [
    "posfile = open(\"/Users/atalia/galkin/bin/output/posdata.dat\",'r')\n",
    "totallistpos=[]\n",
    "i=0"
   ]
  },
  {
   "cell_type": "code",
   "execution_count": 32,
   "metadata": {},
   "outputs": [],
   "source": [
    "for line in posfile:\n",
    "    i+=1\n",
    "    values=line.split()\n",
    "    if(i>2):\n",
    "        totallistpos.append([float(values[0]),float(values[1]),float(values[2]),float(values[3]),float(values[4]),float(values[5]),float(values[6]),values[7]])"
   ]
  },
  {
   "cell_type": "code",
   "execution_count": 38,
   "metadata": {},
   "outputs": [
    {
     "data": {
      "image/png": "[encoded data removed]",
      "text/plain": [
       "<Figure size 432x288 with 1 Axes>"
      ]
     },
     "metadata": {},
     "output_type": "display_data"
    }
   ],
   "source": [
    "# plot rotation curve measurements\n",
    "galkin.plots.PlotRotationCurve(totallistvc)"
   ]
  },
  {
   "cell_type": "code",
   "execution_count": 37,
   "metadata": {},
   "outputs": [
    {
     "data": {
      "image/png": "[encoded data removed]",
      "text/plain": [
       "<Figure size 432x288 with 1 Axes>"
      ]
     },
     "metadata": {},
     "output_type": "display_data"
    }
   ],
   "source": [
    "# plot positions in galactic plane\n",
    "galkin.plots.PlotPositions(totallistpos)"
   ]
  },
  {
   "cell_type": "code",
   "execution_count": 41,
   "metadata": {},
   "outputs": [
    {
     "data": {
      "text/plain": [
       "\u001b[0;31mSignature:\u001b[0m \u001b[0mgalkin\u001b[0m\u001b[0;34m.\u001b[0m\u001b[0mplots\u001b[0m\u001b[0;34m.\u001b[0m\u001b[0mPlotRotationCurve\u001b[0m\u001b[0;34m(\u001b[0m\u001b[0mtotallistvc\u001b[0m\u001b[0;34m)\u001b[0m\u001b[0;34m\u001b[0m\u001b[0m\n",
       "\u001b[0;31mDocstring:\u001b[0m <no docstring>\n",
       "\u001b[0;31mFile:\u001b[0m      ~/miniconda2/lib/python2.7/site-packages/galkin-1.0-py2.7.egg/galkin/plots.py\n",
       "\u001b[0;31mType:\u001b[0m      function\n"
      ]
     },
     "metadata": {},
     "output_type": "display_data"
    }
   ],
   "source": [
    "?galkin.plots.PlotRotationCurve"
   ]
  },
  {
   "cell_type": "code",
   "execution_count": null,
   "metadata": {},
   "outputs": [],
   "source": []
  }
 ],
 "metadata": {
  "kernelspec": {
   "display_name": "Python 2",
   "language": "python",
   "name": "python2"
  },
  "language_info": {
   "codemirror_mode": {
    "name": "ipython",
    "version": 2
   },
   "file_extension": ".py",
   "mimetype": "text/x-python",
   "name": "python",
   "nbconvert_exporter": "python",
   "pygments_lexer": "ipython2",
   "version": "2.7.15"
  }
 },
 "nbformat": 4,
 "nbformat_minor": 2
}
