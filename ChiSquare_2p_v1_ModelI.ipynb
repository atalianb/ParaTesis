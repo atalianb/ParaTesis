{
 "cells": [
  {
   "cell_type": "code",
   "execution_count": 1,
   "metadata": {},
   "outputs": [
    {
     "name": "stdout",
     "output_type": "stream",
     "text": [
      "Populating the interactive namespace from numpy and matplotlib\n"
     ]
    }
   ],
   "source": [
    "import numpy as np\n",
    "import matplotlib.pyplot as plt\n",
    "from scipy import integrate\n",
    "import galkin\n",
    "import galkin.processdata   # routines to process kinematic data\n",
    "import galkin.readparsFile  # routines to read and check input parameters\n",
    "%pylab inline"
   ]
  },
  {
   "cell_type": "code",
   "execution_count": null,
   "metadata": {},
   "outputs": [],
   "source": [
    "#Constants\n",
    "G = 4.302e-6#kpc/SM(km/s)^2\n",
    "q_b = 0.6\n",
    "r_b = 1.9#kpc\n",
    "a_b = 1.#kpc\n",
    "q_h = 0.8\n",
    "alpha_b = 1.8\n",
    "R_m = 4.#kpc\n",
    "#parameters\n",
    "rho_b_I = 0.427e9#sM/kpc^3\n",
    "a_h_I = 3.83#kpc\n",
    "rho_h_I = 0.711e9#SM/kpc^3\n",
    "alpha_h_I = -2.\n",
    "beta_h_I = 2.96\n",
    "R_d_I = 2.0#kpc\n",
    "Sigma_d_SD_I = (1905.0e6)*0.75#SM/kpc^2\n",
    "Sigma_g_ISM_I = (1905.0e6)*0.25#SM/kpc^2\n",
    "#params = np.array([alpha_h_I,beta_h_I])"
   ]
  },
  {
   "cell_type": "code",
   "execution_count": 10,
   "metadata": {},
   "outputs": [],
   "source": [
    "#tose functions can go in a script \n",
    "def Vc_b(R,q_b=q_b,alpha_b=alpha_b,r_b=r_b,a_b=a_b):\n",
    "    def I_b(x,R):\n",
    "        e = np.sqrt(1. - q_b**2.)\n",
    "        n = x**(2.-alpha_b)*np.exp(-(R**2.*x**2.)/r_b**2.)\n",
    "        d = np.sqrt(1.-x**2.*e**2.)\n",
    "        t = R**2.*(R/a_b)**(-alpha_b)\n",
    "        return (t*n)/d\n",
    "    Integral_b = []\n",
    "    for i in range (0,len(R)):\n",
    "        result = integrate.quad(I_b,0,1,args=(R[i]))[0]\n",
    "        Integral_b.append(result)\n",
    "    return np.array(Integral_b)\n",
    "def Vc_DM(R,alpha_h,a_h,beta_h,q_h):\n",
    "    def I_h(x,R):\n",
    "        e = np.sqrt(1.- q_h**2.)\n",
    "        n = x**(2.-alpha_h)*(1.+ (x*R)/(a_h))**(alpha_h-beta_h)\n",
    "        d = np.sqrt(1-x**2.*e**2)\n",
    "        t = R**2.*(R/a_h)**(-alpha_h)\n",
    "        result = (t*n)/d\n",
    "        return result\n",
    "    Integral_DM = []\n",
    "    for i in range (0,len(R)):\n",
    "        result = integrate.quad(I_h,0,1,args=(R[i]))[0]\n",
    "        Integral_DM.append(result)\n",
    "    return np.array(Integral_DM)\n",
    "def V2_c_SD(R,R_d):\n",
    "    result = (R_d/R) - np.exp(-R/R_d) - (np.exp(-R/R_d)*R_d/R)\n",
    "    return result\n",
    "def Vc_ISM(R,R_d,R_m):\n",
    "    def M_g_ISM(u,R):\n",
    "        return R*u*np.exp(-((R*u)/(2.*R_d))-(R_m/(R*u)))\n",
    "    Integral_M_g = []\n",
    "    for i in range (0,len(R)):\n",
    "        result = integrate.quad(M_g_ISM,0,1,args=(R[i]))[0]\n",
    "        Integral_M_g.append(result)\n",
    "    return np.array(Integral_M_g)"
   ]
  },
  {
   "cell_type": "code",
   "execution_count": 3,
   "metadata": {},
   "outputs": [],
   "source": []
  },
  {
   "cell_type": "code",
   "execution_count": 20,
   "metadata": {},
   "outputs": [],
   "source": [
    "def Vc_prueba_b(R,parameter):\n",
    "    rho_b = parameter \n",
    "    V_b = 4.*np.pi*G*q_b*rho_b*Vc_b(R)\n",
    "    return np.sqrt(V_b)"
   ]
  },
  {
   "cell_type": "code",
   "execution_count": 21,
   "metadata": {},
   "outputs": [
    {
     "data": {
      "text/plain": [
       "[<matplotlib.lines.Line2D at 0x10e770710>]"
      ]
     },
     "execution_count": 21,
     "metadata": {},
     "output_type": "execute_result"
    },
    {
     "data": {
      "image/png": "[encoded data removed]",
      "text/plain": [
       "<Figure size 432x288 with 1 Axes>"
      ]
     },
     "metadata": {
      "needs_background": "light"
     },
     "output_type": "display_data"
    }
   ],
   "source": [
    "plt.plot(R,Vc_prueba_b(R,rho_b_I))"
   ]
  },
  {
   "cell_type": "code",
   "execution_count": null,
   "metadata": {},
   "outputs": [],
   "source": []
  },
  {
   "cell_type": "code",
   "execution_count": 4,
   "metadata": {},
   "outputs": [],
   "source": [
    "def Vc_ah_alpha(R,params,*args):\n",
    "    a_h,alpha_h = params\n",
    "    suma = 4.*np.pi*G*q_b*rho_b*Vc_b(R) + 4.*np.pi*G*q_h*rho_h*Vc_DM(R) + 2.*np.pi*G*Sigma_d_SD*R_d*V2_c_SD(R) + 2.*np.pi*Sigma_g_ISM*G*Vc_ISM(R)\n",
    "    return np.sqrt(suma)"
   ]
  },
  {
   "cell_type": "code",
   "execution_count": 5,
   "metadata": {},
   "outputs": [],
   "source": [
    "R = np.linspace(0.1,15.,100)\n",
    "params_a_alpha = np.array([a_h_I,alpha_h_I])"
   ]
  },
  {
   "cell_type": "code",
   "execution_count": 6,
   "metadata": {},
   "outputs": [
    {
     "ename": "TypeError",
     "evalue": "Vc_ah_alpha() got an unexpected keyword argument 'rho_b'",
     "output_type": "error",
     "traceback": [
      "\u001b[0;31m---------------------------------------------------------------------------\u001b[0m",
      "\u001b[0;31mTypeError\u001b[0m                                 Traceback (most recent call last)",
      "\u001b[0;32m<ipython-input-6-611e7913228c>\u001b[0m in \u001b[0;36m<module>\u001b[0;34m()\u001b[0m\n\u001b[0;32m----> 1\u001b[0;31m \u001b[0mplt\u001b[0m\u001b[0;34m.\u001b[0m\u001b[0mplot\u001b[0m\u001b[0;34m(\u001b[0m\u001b[0mR\u001b[0m\u001b[0;34m,\u001b[0m\u001b[0mVc_ah_alpha\u001b[0m\u001b[0;34m(\u001b[0m\u001b[0mR\u001b[0m\u001b[0;34m,\u001b[0m\u001b[0mparams_a_alpha\u001b[0m\u001b[0;34m,\u001b[0m\u001b[0mrho_b\u001b[0m\u001b[0;34m=\u001b[0m\u001b[0mrho_b_I\u001b[0m\u001b[0;34m,\u001b[0m\u001b[0mrho_h\u001b[0m\u001b[0;34m=\u001b[0m\u001b[0mrho_h_I\u001b[0m\u001b[0;34m,\u001b[0m\u001b[0mbeta_h\u001b[0m\u001b[0;34m=\u001b[0m\u001b[0mbeta_h_I\u001b[0m\u001b[0;34m,\u001b[0m\u001b[0mR_d\u001b[0m\u001b[0;34m=\u001b[0m\u001b[0mR_d_I\u001b[0m\u001b[0;34m,\u001b[0m\u001b[0mSigma_d_SD\u001b[0m\u001b[0;34m=\u001b[0m\u001b[0mSigma_d_SD_I\u001b[0m\u001b[0;34m,\u001b[0m\u001b[0mSigma_g_ISM\u001b[0m\u001b[0;34m=\u001b[0m\u001b[0mSigma_g_ISM_I\u001b[0m\u001b[0;34m)\u001b[0m\u001b[0;34m)\u001b[0m\u001b[0;34m\u001b[0m\u001b[0m\n\u001b[0m",
      "\u001b[0;31mTypeError\u001b[0m: Vc_ah_alpha() got an unexpected keyword argument 'rho_b'"
     ]
    }
   ],
   "source": [
    "plt.plot(R,Vc_ah_alpha(R,params_a_alpha,rho_b=rho_b_I,rho_h=rho_h_I,beta_h=beta_h_I,R_d=R_d_I,Sigma_d_SD=Sigma_d_SD_I,Sigma_g_ISM=Sigma_g_ISM_I))"
   ]
  },
  {
   "cell_type": "code",
   "execution_count": null,
   "metadata": {},
   "outputs": [],
   "source": []
  }
 ],
 "metadata": {
  "kernelspec": {
   "display_name": "Python 2",
   "language": "python",
   "name": "python2"
  },
  "language_info": {
   "codemirror_mode": {
    "name": "ipython",
    "version": 2
   },
   "file_extension": ".py",
   "mimetype": "text/x-python",
   "name": "python",
   "nbconvert_exporter": "python",
   "pygments_lexer": "ipython2",
   "version": "2.7.15"
  }
 },
 "nbformat": 4,
 "nbformat_minor": 2
}
