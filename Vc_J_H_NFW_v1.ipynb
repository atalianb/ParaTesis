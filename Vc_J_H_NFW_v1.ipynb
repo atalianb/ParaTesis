{
 "cells": [
  {
   "cell_type": "code",
   "execution_count": 1,
   "metadata": {
    "scrolled": true
   },
   "outputs": [
    {
     "name": "stdout",
     "output_type": "stream",
     "text": [
      "Populating the interactive namespace from numpy and matplotlib\n"
     ]
    },
    {
     "name": "stderr",
     "output_type": "stream",
     "text": [
      "/Users/atalia/miniconda2/lib/python2.7/site-packages/IPython/core/magics/pylab.py:161: UserWarning: pylab import has clobbered these variables: ['expm1', 'seterr', 'log1p', 'errstate', 'exp2', 'geterr', 'beta', 'gamma', 'i0', 'cbrt']\n",
      "`%matplotlib` prevents importing * from pylab and numpy\n",
      "  \"\\n`%matplotlib` prevents importing * from pylab and numpy\"\n"
     ]
    }
   ],
   "source": [
    "import numpy as np\n",
    "import matplotlib.pyplot as plt\n",
    "from scipy.special import *\n",
    "import math as mt\n",
    "%pylab inline"
   ]
  },
  {
   "cell_type": "code",
   "execution_count": 2,
   "metadata": {},
   "outputs": [],
   "source": [
    "G = 4.302e-3 #pcSM(km/s)**2"
   ]
  },
  {
   "cell_type": "code",
   "execution_count": 3,
   "metadata": {},
   "outputs": [],
   "source": [
    "# c= r_200/a donde 6<c<16 para el valor medio con forme el halo aunmenta de 3x10^11SM a 3x10^15SM\n",
    "# r_200 es 200*rho_c donde rho_c = 3*H^2(t)/8piG\n",
    "#parámetros\n",
    "rho_0 = 1.\n",
    "a = 1.\n",
    "r = np.linspace(0.,100.,1000)"
   ]
  },
  {
   "cell_type": "code",
   "execution_count": 4,
   "metadata": {},
   "outputs": [],
   "source": [
    "#Función para calcular la velocidad circular del perfil de densidad de Jaffe\n",
    "def Vc_Jaffe(r, a, rho_0):\n",
    "    f = 1./(1. + r/a)\n",
    "    C = 4.*np.pi*G*rho_0*a**2.\n",
    "    Vc = np.sqrt(C*f)\n",
    "    return Vc"
   ]
  },
  {
   "cell_type": "code",
   "execution_count": 5,
   "metadata": {},
   "outputs": [],
   "source": [
    "#Para graficar normalizando\n",
    "C = 4.*np.pi*G*rho_0*a**2.\n",
    "y = Vc_Jaffe(r, a, rho_0)/np.sqrt(C)\n",
    "x = r/a"
   ]
  },
  {
   "cell_type": "code",
   "execution_count": 6,
   "metadata": {},
   "outputs": [],
   "source": [
    "#Función para calcular la velocidad circular del perfil de densidad de Hernquist\n",
    "def Vc_Hernquist(r, a, rho_0):\n",
    "    f = (a*r)/(2.*(1. + r/a)**2.)\n",
    "    C = 4.*np.pi*G*rho_0*a**2.\n",
    "    Vc = np.sqrt(C*f)\n",
    "    return Vc"
   ]
  },
  {
   "cell_type": "code",
   "execution_count": 7,
   "metadata": {},
   "outputs": [],
   "source": [
    "y_1 = Vc_Hernquist(r, a, rho_0)/np.sqrt(C)"
   ]
  },
  {
   "cell_type": "code",
   "execution_count": 8,
   "metadata": {},
   "outputs": [],
   "source": [
    "#Función para calcular la velocidad circular del perfil de densidad de NFW\n",
    "def Vc_NFW(r, a, rho_0):\n",
    "    f = 1./r*np.log(1. + r/a) - 1./(1. + r/a)\n",
    "    C = 4.*np.pi*G*rho_0*a**2.\n",
    "    Vc = np.sqrt(C*f)\n",
    "    return Vc"
   ]
  },
  {
   "cell_type": "code",
   "execution_count": 9,
   "metadata": {},
   "outputs": [
    {
     "name": "stderr",
     "output_type": "stream",
     "text": [
      "/Users/atalia/miniconda2/lib/python2.7/site-packages/ipykernel_launcher.py:3: RuntimeWarning: divide by zero encountered in divide\n",
      "  This is separate from the ipykernel package so we can avoid doing imports until\n",
      "/Users/atalia/miniconda2/lib/python2.7/site-packages/ipykernel_launcher.py:3: RuntimeWarning: invalid value encountered in multiply\n",
      "  This is separate from the ipykernel package so we can avoid doing imports until\n"
     ]
    }
   ],
   "source": [
    "y_2 = Vc_NFW(r, a, rho_0)/np.sqrt(C)"
   ]
  },
  {
   "cell_type": "code",
   "execution_count": 12,
   "metadata": {},
   "outputs": [
    {
     "data": {
      "image/png": "[encoded data removed]",
      "text/plain": [
       "<Figure size 432x288 with 1 Axes>"
      ]
     },
     "metadata": {
      "needs_background": "light"
     },
     "output_type": "display_data"
    }
   ],
   "source": [
    "plt.plot(x,y,label='Jaffe model')\n",
    "plt.plot(x,y_1, label='Hernquist model')\n",
    "plt.plot(x,y_2, label='NFW model')\n",
    "plt.xscale(\"log\")\n",
    "plt.xlabel(r'$r/a$')\n",
    "plt.ylabel(r'$V_{c}/\\sqrt{4\\pi G\\rho_{0}a^{2}}$')\n",
    "plt.legend(loc='upper right', prop={'size':10})\n",
    "#plt.xlim(0.,10.)\n",
    "plt.savefig(\"Vc_J_H_NFW.png\")\n",
    "plt.show()"
   ]
  },
  {
   "cell_type": "markdown",
   "metadata": {},
   "source": [
    "Perfil de densidad $\\rho_{DM}(r) = \\rho_{0} \\frac{r}{r_{DM}}^{-\\gamma_{DM}} (1 + (\\frac{r}{r_{DM}})^{\\alpha_{DM}})^{(\\gamma_{DM} - \\beta_{DM})/\\alpha_{DM}}$"
   ]
  },
  {
   "cell_type": "markdown",
   "metadata": {},
   "source": [
    "donde $M(r) = 4\\pi \\int_{0}^{r} \\rho(r') r'^{2} dr'$"
   ]
  },
  {
   "cell_type": "markdown",
   "metadata": {},
   "source": [
    "entonces $M(r) = 4\\pi \\int_{0}^{r} \\rho_{0} (\\frac{r'}{r_{DM}})^{-\\gamma_{DM}} (1 + (\\frac{r'}{r_{DM}})^{\\alpha_{DM}})^{(\\gamma_{DM} - \\beta_{DM})/\\alpha_{DM}} r'^{2} dr'$"
   ]
  },
  {
   "cell_type": "markdown",
   "metadata": {},
   "source": [
    "$M(r) = 4\\pi \\rho_{0} \\frac{r^{3}(\\frac{r}{r_{DM}})^{\\gamma} 2F_{1}(\\frac{\\beta - \\gamma}{\\alpha};\\frac{\\gamma + 3}{\\alpha};\\frac{\\alpha + \\gamma + 3}{\\alpha};-\\frac{r}{r_{DM}}^{\\alpha})}{\\gamma + 3}\\mid_{0}^{r}$"
   ]
  },
  {
   "cell_type": "markdown",
   "metadata": {},
   "source": [
    "donde $2F_{1} = \\sum_{n=0}^{\\infty} \\frac{(\\frac{\\beta - \\gamma}{\\alpha})_{n} (\\frac{\\gamma + 3}{\\alpha})_{n}}{(\\frac{\\alpha + \\gamma + 3}{\\alpha})_{n}}\\frac{(-(\\frac{r}{r_{DM}})^{\\alpha})^{n}}{n!}$"
   ]
  },
  {
   "cell_type": "markdown",
   "metadata": {},
   "source": [
    "así "
   ]
  },
  {
   "cell_type": "markdown",
   "metadata": {},
   "source": [
    "(1)$$\\begin{equation} \n",
    "\\frac{M(r)}{4\\pi \\rho_{0}} = \\frac{r^{3}(\\frac{r}{r_{DM}})^{\\gamma} 2F_{1}(\\frac{\\beta - \\gamma}{\\alpha};\\frac{\\gamma + 3}{\\alpha};\\frac{\\alpha + \\gamma + 3}{\\alpha};-\\frac{r}{r_{DM}}^{\\alpha})}{\\gamma + 3}\\mid_{0}^{r}\n",
    "\\end{equation}$$"
   ]
  },
  {
   "cell_type": "code",
   "execution_count": null,
   "metadata": {},
   "outputs": [],
   "source": [
    "alpha = 1.\n",
    "beta = 3.\n",
    "gamma = 0.\n",
    "r_DM = 1.#r_DM/kpc\n",
    "rho_0 = 0.064"
   ]
  },
  {
   "cell_type": "code",
   "execution_count": null,
   "metadata": {},
   "outputs": [],
   "source": [
    "r = np.linspace(0.,100.,1000)"
   ]
  },
  {
   "cell_type": "code",
   "execution_count": null,
   "metadata": {},
   "outputs": [],
   "source": [
    "#Función para M(r)\n",
    "#Nota al definir una función con parámetros fijos, primero poner indeterminados\n",
    "def M_PW(r, alpha=1., beta=3., gamma=1., r_DM=1.):\n",
    "    a = [(beta-gamma)/alpha]\n",
    "    b = [(gamma +3.)/alpha]\n",
    "    c = [(alpha + gamma + 3.)/alpha]\n",
    "    z = -(r/r_DM)**alpha\n",
    "    f = (r**3.)*(r/r_DM)**gamma/(gamma + 3.)\n",
    "    K = 4.*np.pi*rho_0\n",
    "    M = K*f*hyp2f1(a, b, c, z)\n",
    "    return M"
   ]
  },
  {
   "cell_type": "code",
   "execution_count": null,
   "metadata": {
    "scrolled": false
   },
   "outputs": [],
   "source": [
    "plt.plot(r,np.log(M_PW(r, alpha=1., beta=3., gamma=1., r_DM=1.)))\n",
    "plt.xlabel(r'$r$')\n",
    "plt.ylabel(r'$logM(r)$')\n",
    "plt.show()"
   ]
  },
  {
   "cell_type": "markdown",
   "metadata": {},
   "source": [
    "Sabemos que $$\\begin{equation}\n",
    "V_{c} = \\sqrt{\\frac{GM(r)}{r}}\\end{equation}$$"
   ]
  },
  {
   "cell_type": "code",
   "execution_count": null,
   "metadata": {},
   "outputs": [],
   "source": [
    "def Vc(M,r):\n",
    "    V_c = np.sqrt(G*M/r)\n",
    "    return V_c"
   ]
  },
  {
   "cell_type": "markdown",
   "metadata": {},
   "source": [
    "o bien $$\\begin{equation} \\frac{V_{c}}{\\sqrt{G}} = \\sqrt{\\frac{M(r)}{r}}\\end{equation}$$"
   ]
  },
  {
   "cell_type": "markdown",
   "metadata": {},
   "source": [
    "donde estamos tomando $M(r)/4\\pi \\rho_{0}$ ecuación (1)"
   ]
  },
  {
   "cell_type": "code",
   "execution_count": null,
   "metadata": {},
   "outputs": [],
   "source": [
    "def Vc_ad(M,r):\n",
    "    V_c = np.sqrt(M/r)\n",
    "    return V_c"
   ]
  },
  {
   "cell_type": "code",
   "execution_count": null,
   "metadata": {},
   "outputs": [],
   "source": [
    "plt.plot(r,Vc(M_PW(r, alpha=1., beta=3., gamma=1., r_DM=1.),r))\n",
    "plt.xlabel(r'$r$')\n",
    "plt.ylabel(r'$Vc/\\sqrt{4\\pi G\\rho_{0}}$')\n",
    "plt.show()"
   ]
  },
  {
   "cell_type": "code",
   "execution_count": null,
   "metadata": {},
   "outputs": [],
   "source": [
    "def Vc_PW(r):\n",
    "    a = [(beta-gamma)/alpha]\n",
    "    b = [(gamma +3.)/alpha]\n",
    "    c = [(alpha + gamma + 3.)/alpha]\n",
    "    z = -(r/r_DM)**alpha\n",
    "    K = 4.*np.pi*rho_0\n",
    "    f = (r**2.)*(r/r_DM)**gamma/(gamma + 3.)\n",
    "    M = K*f*hyp2f1(a, b, c, z)\n",
    "    V_c = np.sqrt(G*M)\n",
    "    return V_c"
   ]
  },
  {
   "cell_type": "code",
   "execution_count": null,
   "metadata": {},
   "outputs": [],
   "source": [
    "plt.plot(r,Vc_PW(r)/np.sqrt(4.*np.pi*G*rho_0))\n",
    "plt.xlabel(r'$r$')\n",
    "plt.ylabel(r'$Vc/\\sqrt{4\\pi G\\rho_{0}}$')\n",
    "plt.show()"
   ]
  },
  {
   "cell_type": "code",
   "execution_count": null,
   "metadata": {},
   "outputs": [],
   "source": []
  }
 ],
 "metadata": {
  "kernelspec": {
   "display_name": "Python 2",
   "language": "python",
   "name": "python2"
  },
  "language_info": {
   "codemirror_mode": {
    "name": "ipython",
    "version": 2
   },
   "file_extension": ".py",
   "mimetype": "text/x-python",
   "name": "python",
   "nbconvert_exporter": "python",
   "pygments_lexer": "ipython2",
   "version": "2.7.15"
  }
 },
 "nbformat": 4,
 "nbformat_minor": 2
}
