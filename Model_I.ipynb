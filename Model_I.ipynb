{
 "cells": [
  {
   "cell_type": "code",
   "execution_count": 6,
   "metadata": {},
   "outputs": [
    {
     "name": "stdout",
     "output_type": "stream",
     "text": [
      "Populating the interactive namespace from numpy and matplotlib\n"
     ]
    }
   ],
   "source": [
    "import numpy as np\n",
    "import matplotlib.pyplot as plt\n",
    "from scipy import integrate\n",
    "%pylab inline"
   ]
  },
  {
   "cell_type": "markdown",
   "metadata": {},
   "source": [
    "Para el bulbo tomaremos a la velocidad circular de la siguiente forma $$\\begin{equation}\n",
    "\\frac{V_{c}^{2}}{G\\rho_{b,0}r_{b}^{2}C} = y^{2-\\alpha_{b}}  \\int^{1}_{0} dx \\frac{x^{2-\\alpha_{b}}exp(x^{2}y^{2})}{\\sqrt{1-x^{2}e^{2}}}\n",
    "\\end{equation}$$"
   ]
  },
  {
   "cell_type": "markdown",
   "metadata": {},
   "source": [
    "donde $$\\begin{equation}\n",
    "C = 4\\pi \\sqrt{1-e^{2}} (\\frac{r_{b}}{a_{b}})^{-\\alpha_{b}}\n",
    "\\end{equation}$$\n",
    "y $$\\begin{equation}\n",
    "e = \\sqrt{1-q_{b}^2}\n",
    "\\end{equation}$$\n",
    "y haciendo\n",
    "$$\\begin{equation}\n",
    "U = G\\rho_{b,0}r_{b^{2}}\n",
    "\\end{equation}$$\n",
    "donde de la tabla 2.3 sabemos que $\\rho_{b,0}$ toma el valor 0.427 para el modelo I"
   ]
  },
  {
   "cell_type": "code",
   "execution_count": 13,
   "metadata": {},
   "outputs": [
    {
     "name": "stdout",
     "output_type": "stream",
     "text": [
      "2.37467747459\n"
     ]
    }
   ],
   "source": [
    "G = 4.302e-3\n",
    "r_b2 = 3.61e6\n",
    "U_b = G*r_b2\n",
    "q_b = 0.6\n",
    "r_b = 1.9e03\n",
    "a_b = 1.0e03\n",
    "alpha_b = 1.8\n",
    "C_b = 4.*np.pi*q_b*(r_b/a_b)**(-alpha_b)\n",
    "print C_b"
   ]
  },
  {
   "cell_type": "code",
   "execution_count": 7,
   "metadata": {},
   "outputs": [],
   "source": [
    "def I_b(x,y,q_b=0.6,alpha_b=1.8):\n",
    "    e = np.sqrt(1.-q_b**2.)\n",
    "    n = x**(2.-alpha_b)*np.exp(-x**2. * y**2.)\n",
    "    d = np.sqrt(1.-x**2. * e**2.)\n",
    "    return y**(2.-alpha_b)*n/d"
   ]
  },
  {
   "cell_type": "code",
   "execution_count": 9,
   "metadata": {},
   "outputs": [],
   "source": [
    "y = np.linspace(0.,15.,100)\n",
    "r = np.linspace(0.,15.,100)"
   ]
  },
  {
   "cell_type": "code",
   "execution_count": 10,
   "metadata": {},
   "outputs": [],
   "source": [
    "def Vc_ad_b(l):\n",
    "    Integral_b = []\n",
    "    for i in range (0,len(l)):\n",
    "        result = integrate.quad(I_b,0,1,args=(l[i]))[0]\n",
    "        Integral_b.append(result)\n",
    "    return np.sqrt(Integral_b)"
   ]
  },
  {
   "cell_type": "code",
   "execution_count": 14,
   "metadata": {},
   "outputs": [
    {
     "data": {
      "image/png": "[encoded data removed]",
      "text/plain": [
       "<Figure size 432x288 with 1 Axes>"
      ]
     },
     "metadata": {
      "needs_background": "light"
     },
     "output_type": "display_data"
    }
   ],
   "source": [
    "plt.plot(r,np.sqrt(C_b*U_b*0.427)*Vc_ad_b(y),label='Bulge')\n",
    "xlim(0.,12.)\n",
    "plt.xlabel(r'$R$')\n",
    "plt.ylabel(r'$V_{c}/km s^{-1}$')\n",
    "plt.legend(loc='upper right', prop={'size':10})\n",
    "plt.show()"
   ]
  },
  {
   "cell_type": "markdown",
   "metadata": {},
   "source": [
    "Para calcular la velocidad circular de halo de materia oscura volvemos a utiliar la expresión (2.132) del libro Galactic Dynamics, Binney & Tremaine\n",
    "$$\\begin{equation}\n",
    "v_{c}^{2} (R) = 4\\pi G\\sqrt{1-e^{2}} \\int_{0}^{R} dm \\frac{m^{2} \\rho (m^{2})}{\\sqrt{R^{2} - m^{2}e^{2}}}\n",
    "\\end{equation}$$"
   ]
  },
  {
   "cell_type": "markdown",
   "metadata": {},
   "source": [
    "$$\\begin{equation}\n",
    "\\frac{v_{c}^{2}}{4\\pi U\\sqrt{1-e^{2}}} = y^{2-\\alpha_{h}}\\int_{0}^{1} \\frac{x^{2-\\alpha_{h}}}{\\sqrt{1-x^{2}e^{2}}} (1-xy)^{\\alpha_{h}-\\beta_{h}}\n",
    "\\end{equation}$$\n",
    "donde $U = G\\rho_{h,0}a_{h}^{2}$"
   ]
  },
  {
   "cell_type": "code",
   "execution_count": 15,
   "metadata": {},
   "outputs": [],
   "source": [
    "U_h = G*0.711*3.83e03**2.\n",
    "C_h = 4.*np.pi*0.8"
   ]
  },
  {
   "cell_type": "code",
   "execution_count": 25,
   "metadata": {},
   "outputs": [],
   "source": [
    "def I_h(x,y,q_h=0.8,alpha_h=-2.,a_h=3.83e03,beta_h=2.96):\n",
    "    n = x**(2.-alpha_h)*(1.+x*y)**(alpha_h-beta_h)\n",
    "    d = np.sqrt(1.-x**2. * (1.-q_h**2.))\n",
    "    return (n*y**(2.-alpha_h))/d"
   ]
  },
  {
   "cell_type": "code",
   "execution_count": 26,
   "metadata": {},
   "outputs": [],
   "source": [
    "y = np.linspace(0.,15.,100)\n",
    "r = np.linspace(0.,15.,100)"
   ]
  },
  {
   "cell_type": "code",
   "execution_count": 27,
   "metadata": {},
   "outputs": [],
   "source": [
    "def Vc_b(l):\n",
    "    Integral_h = []\n",
    "    for i in range (0,len(l)):\n",
    "        result = integrate.quad(I_h,0,1,args=(l[i]))[0]\n",
    "        Integral_h.append(result)\n",
    "    return np.sqrt(Integral_h)"
   ]
  },
  {
   "cell_type": "code",
   "execution_count": 30,
   "metadata": {},
   "outputs": [
    {
     "data": {
      "image/png": "[encoded data removed]",
      "text/plain": [
       "<Figure size 432x288 with 1 Axes>"
      ]
     },
     "metadata": {
      "needs_background": "light"
     },
     "output_type": "display_data"
    }
   ],
   "source": [
    "plt.plot(r,np.sqrt(C_h*U_h)*Vc_b(y),label='DM Halo')\n",
    "xlim(0.,12.)\n",
    "plt.xlabel(r'$R$')\n",
    "plt.ylabel(r'$V_{c}/km s^{-1}$')\n",
    "plt.legend(loc='upper right', prop={'size':10})\n",
    "plt.show()"
   ]
  },
  {
   "cell_type": "code",
   "execution_count": 34,
   "metadata": {},
   "outputs": [
    {
     "data": {
      "image/png": "[encoded data removed]",
      "text/plain": [
       "<Figure size 432x288 with 1 Axes>"
      ]
     },
     "metadata": {
      "needs_background": "light"
     },
     "output_type": "display_data"
    }
   ],
   "source": [
    "plt.plot(r,np.sqrt(C_b*U_b*0.427)*Vc_ad_b(y),label='Bulge')\n",
    "plt.plot(r,np.sqrt(C_h*U_h)*Vc_b(y),label='DM Halo')\n",
    "#plt.plot(r,Vc_tot(y),label='Total')\n",
    "xlim(0.,12.)\n",
    "plt.xlabel(r'$R$')\n",
    "plt.ylabel(r'$V_{c}/km s^{-1}$')\n",
    "plt.legend(loc='upper right', prop={'size':10})\n",
    "plt.title('Model I')\n",
    "plt.show()"
   ]
  },
  {
   "cell_type": "code",
   "execution_count": 32,
   "metadata": {},
   "outputs": [],
   "source": [
    "def Vc_tot(l):\n",
    "    suma = (np.sqrt(C_b*U_b*0.427)*Vc_ad_b(l))**2. + (np.sqrt(C_h*U_h)*Vc_b(l))**2.\n",
    "    return suma"
   ]
  },
  {
   "cell_type": "code",
   "execution_count": null,
   "metadata": {},
   "outputs": [],
   "source": []
  }
 ],
 "metadata": {
  "kernelspec": {
   "display_name": "Python 2",
   "language": "python",
   "name": "python2"
  },
  "language_info": {
   "codemirror_mode": {
    "name": "ipython",
    "version": 2
   },
   "file_extension": ".py",
   "mimetype": "text/x-python",
   "name": "python",
   "nbconvert_exporter": "python",
   "pygments_lexer": "ipython2",
   "version": "2.7.15"
  }
 },
 "nbformat": 4,
 "nbformat_minor": 2
}
