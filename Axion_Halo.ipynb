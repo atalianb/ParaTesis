{
 "cells": [
  {
   "cell_type": "code",
   "execution_count": 3,
   "metadata": {},
   "outputs": [
    {
     "name": "stdout",
     "output_type": "stream",
     "text": [
      "Populating the interactive namespace from numpy and matplotlib\n"
     ]
    }
   ],
   "source": [
    "import numpy as np\n",
    "import matplotlib.pyplot as plt\n",
    "from scipy import integrate\n",
    "%pylab inline"
   ]
  },
  {
   "cell_type": "code",
   "execution_count": 4,
   "metadata": {},
   "outputs": [],
   "source": [
    "r_soliton = 1.45#kpc\n",
    "rho_soliton = 2.42e9#SM*kpc−3\n",
    "rho_NFW = 0.037*rho_soliton\n",
    "r_s = 0.39#kpc\n",
    "m_axion = 2.44e-22#eV\n",
    "G = 4.302e-6#kpc/SM(km/s)^2"
   ]
  },
  {
   "cell_type": "code",
   "execution_count": 5,
   "metadata": {},
   "outputs": [],
   "source": [
    "def rho_reps(r,rho_sol,m_a):\n",
    "    rsol = ((rho_sol/(2.42e9))*(m_a/1.0e-22)**2.)**(-0.25)\n",
    "    d = (1. + (r/rsol)**2.)**8.\n",
    "    return 1/d"
   ]
  },
  {
   "cell_type": "code",
   "execution_count": 6,
   "metadata": {},
   "outputs": [],
   "source": [
    "def rho_rmayor(r,rho_sol,m_a,eps,r_s):\n",
    "    rsol = ((rho_sol/(2.42e9))*(m_a/1.0e-22)**2.)**(-0.25)\n",
    "    r_eps = rsol*np.sqrt(eps**(-1./8.) - 1.)\n",
    "    delta_NFW = eps*(r_eps/r_s**3.)*(r_s + r_eps)**2.\n",
    "    d = (r/r_s**3.)*(r_s + r)**2.\n",
    "    return delta_NFW/d"
   ]
  },
  {
   "cell_type": "code",
   "execution_count": 7,
   "metadata": {},
   "outputs": [],
   "source": [
    "r = np.linspace(0.,15.,100)"
   ]
  },
  {
   "cell_type": "code",
   "execution_count": 9,
   "metadata": {},
   "outputs": [
    {
     "name": "stdout",
     "output_type": "stream",
     "text": [
      "0.45246598658288756 [0.01       0.11473684 0.21947368 0.32421053 0.42894737 0.53368421\n",
      " 0.63842105 0.74315789 0.84789474 0.95263158 1.05736842 1.16210526\n",
      " 1.26684211 1.37157895 1.47631579 1.58105263 1.68578947 1.79052632\n",
      " 1.89526316 2.        ]\n"
     ]
    }
   ],
   "source": [
    "rsol_1 = ((0.037*rho_soliton/(2.42e9))*(m_axion/1.0e-22)**2.)**(-0.25)\n",
    "r_eps_1 = rsol_1*np.sqrt(0.48**(-1./8.) - 1.)\n",
    "r_1 = np.linspace(0.01,2,20)\n",
    "r_2 = np.linspace(0.01,20.,90)\n",
    "print r_eps_1,r_1"
   ]
  },
  {
   "cell_type": "code",
   "execution_count": 10,
   "metadata": {},
   "outputs": [
    {
     "data": {
      "text/plain": [
       "Text(0.5,0,'r')"
      ]
     },
     "execution_count": 10,
     "metadata": {},
     "output_type": "execute_result"
    },
    {
     "data": {
      "image/png": "[encoded data removed]",
      "text/plain": [
       "<Figure size 432x288 with 1 Axes>"
      ]
     },
     "metadata": {
      "needs_background": "light"
     },
     "output_type": "display_data"
    }
   ],
   "source": [
    "#plt.plot(r,rho_sol*0.037*rho_reps(r,rho_sol=0.037*rho_sol,m_a=m_axion))\n",
    "#plt.plot(r,rho_sol*0.037*rho_rmayor(r,rho_sol=0.037*rho_sol,m_a=m_axion,eps=0.48,r_s=0.39))\n",
    "plt.plot(r_2,rho_soliton*0.037*rho_rmayor(r_2,rho_sol=0.037*rho_soliton,m_a=m_axion,eps=0.48,r_s=0.39))\n",
    "plt.plot(r_1,rho_soliton*0.037*rho_reps(r_1,rho_sol=0.037*rho_soliton,m_a=m_axion))\n",
    "plt.yscale('log')\n",
    "plt.xscale('log')\n",
    "plt.ylabel(r'$\\rho(r)$')\n",
    "plt.xlabel('r')\n",
    "#plt.xlim(0,2.5)"
   ]
  },
  {
   "cell_type": "code",
   "execution_count": 11,
   "metadata": {},
   "outputs": [],
   "source": [
    "rsol_2 = ((0.057*rho_soliton/(2.42e9))*(m_axion/1.0e-22)**2.)**(-0.25)\n",
    "r_eps_2 = rsol_2*np.sqrt(0.464**(-1./8.) - 1.)\n",
    "r_1_2 = np.linspace(0.,r_eps_2,10)\n",
    "r_2_2 = np.linspace(r_eps_2,20.,90)"
   ]
  },
  {
   "cell_type": "code",
   "execution_count": 12,
   "metadata": {},
   "outputs": [
    {
     "data": {
      "text/plain": [
       "Text(0.5,0,'r')"
      ]
     },
     "execution_count": 12,
     "metadata": {},
     "output_type": "execute_result"
    },
    {
     "data": {
      "image/png": "[encoded data removed]",
      "text/plain": [
       "<Figure size 432x288 with 1 Axes>"
      ]
     },
     "metadata": {
      "needs_background": "light"
     },
     "output_type": "display_data"
    }
   ],
   "source": [
    "plt.plot(r_2_2,rho_soliton*0.057*rho_rmayor(r_2_2,rho_sol=0.057*rho_soliton,m_a=m_axion,eps=0.464,r_s=0.57))\n",
    "plt.plot(r_1_2,rho_soliton*0.057*rho_reps(r_1_2,rho_sol=0.057*rho_soliton,m_a=m_axion))\n",
    "plt.yscale('log')\n",
    "plt.ylabel(r'$\\rho(r)$')\n",
    "plt.xlabel('r')"
   ]
  },
  {
   "cell_type": "code",
   "execution_count": 20,
   "metadata": {},
   "outputs": [],
   "source": [
    "def vc_rmayor(r,eps,r_s,m_a,rho_sol):\n",
    "    rsol = ((rho_sol/(2.42e9))*(m_a/10.0e-22)**2.)**(-0.25)\n",
    "    r_eps = rsol*np.sqrt(eps**(-1./8.) - 1.)\n",
    "    delta_NFW = eps*(r_eps/r_s**3.)*((r_s+r_eps))**2.\n",
    "    t = np.log(r+r_s) - np.log(r_eps+r_s) + r_s/(r+r_s) - r_s/(r_eps+r_s)\n",
    "    return 4.*np.pi*G*rho_sol*delta_NFW*r_s**3.*t/r"
   ]
  },
  {
   "cell_type": "code",
   "execution_count": 21,
   "metadata": {},
   "outputs": [],
   "source": [
    "def vc_rminor(r,m_a,rho_sol,eps):\n",
    "    rsol = ((rho_sol/(2.42e9))*(m_a/10.0e-22)**2.)**(-0.25)\n",
    "    r_eps = rsol*np.sqrt(eps**(-1./8.) - 1.)\n",
    "    t = 3465.*rsol*r_eps**13. + 23100.*r_eps**11.*rsol**3. + 65373.*r_eps**9.*rsol**5. + 101376.*r_eps**7.*rsol**7. + 92323.*r_eps**5.*rsol**9. + 48580.*r_eps**3.*rsol**11. - 3465.*r_eps*rsol**13. + 3465.*(r_eps**2. + rsol**2.)**7.*np.arctan(r_eps/rsol)\n",
    "    d = 215040.*r*(r_eps**2. + rsol**2.)**7.\n",
    "    return 4.*np.pi*G*rho_sol*rsol**3.*t/d"
   ]
  },
  {
   "cell_type": "code",
   "execution_count": 22,
   "metadata": {},
   "outputs": [
    {
     "name": "stderr",
     "output_type": "stream",
     "text": [
      "/Users/atalia/miniconda2/lib/python2.7/site-packages/ipykernel_launcher.py:2: RuntimeWarning: invalid value encountered in sqrt\n",
      "  \n"
     ]
    },
    {
     "data": {
      "text/plain": [
       "[<matplotlib.lines.Line2D at 0x1189d5590>]"
      ]
     },
     "execution_count": 22,
     "metadata": {},
     "output_type": "execute_result"
    },
    {
     "data": {
      "image/png": "[encoded data removed]",
      "text/plain": [
       "<Figure size 432x288 with 1 Axes>"
      ]
     },
     "metadata": {
      "needs_background": "light"
     },
     "output_type": "display_data"
    }
   ],
   "source": [
    "plt.plot(r_1,np.sqrt(vc_rminor(r_1,m_a=m_axion,rho_sol=0.037*rho_soliton,eps=0.48)))\n",
    "plt.plot(r_2,np.sqrt(vc_rmayor(r_2,eps=0.48,r_s=0.39,m_a=m_axion,rho_sol=0.037*rho_soliton)))"
   ]
  },
  {
   "cell_type": "code",
   "execution_count": 23,
   "metadata": {},
   "outputs": [
    {
     "name": "stderr",
     "output_type": "stream",
     "text": [
      "/Users/atalia/miniconda2/lib/python2.7/site-packages/ipykernel_launcher.py:6: RuntimeWarning: divide by zero encountered in divide\n",
      "  \n",
      "/Users/atalia/miniconda2/lib/python2.7/site-packages/ipykernel_launcher.py:2: RuntimeWarning: invalid value encountered in sqrt\n",
      "  \n"
     ]
    },
    {
     "data": {
      "text/plain": [
       "[<matplotlib.lines.Line2D at 0x118967850>]"
      ]
     },
     "execution_count": 23,
     "metadata": {},
     "output_type": "execute_result"
    },
    {
     "data": {
      "image/png": "[encoded data removed]",
      "text/plain": [
       "<Figure size 432x288 with 1 Axes>"
      ]
     },
     "metadata": {
      "needs_background": "light"
     },
     "output_type": "display_data"
    }
   ],
   "source": [
    "plt.plot(r_1_2,np.sqrt(vc_rminor(r_1_2,m_a=m_axion,rho_sol=0.037*rho_soliton,eps=0.48)))\n",
    "plt.plot(r_2_2,np.sqrt(vc_rmayor(r_2_2,eps=0.464,r_s=0.57,m_a=m_axion,rho_sol=0.057*rho_soliton)))"
   ]
  },
  {
   "cell_type": "code",
   "execution_count": 26,
   "metadata": {},
   "outputs": [
    {
     "data": {
      "text/plain": [
       "True"
      ]
     },
     "execution_count": 26,
     "metadata": {},
     "output_type": "execute_result"
    }
   ],
   "source": [
    "1.0e-22==10.0**(-22)"
   ]
  },
  {
   "cell_type": "code",
   "execution_count": null,
   "metadata": {},
   "outputs": [],
   "source": []
  }
 ],
 "metadata": {
  "kernelspec": {
   "display_name": "Python 2",
   "language": "python",
   "name": "python2"
  },
  "language_info": {
   "codemirror_mode": {
    "name": "ipython",
    "version": 2
   },
   "file_extension": ".py",
   "mimetype": "text/x-python",
   "name": "python",
   "nbconvert_exporter": "python",
   "pygments_lexer": "ipython2",
   "version": "2.7.15"
  }
 },
 "nbformat": 4,
 "nbformat_minor": 2
}
