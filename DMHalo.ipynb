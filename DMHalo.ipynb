{
 "cells": [
  {
   "cell_type": "code",
   "execution_count": 1,
   "metadata": {},
   "outputs": [
    {
     "name": "stdout",
     "output_type": "stream",
     "text": [
      "Populating the interactive namespace from numpy and matplotlib\n"
     ]
    }
   ],
   "source": [
    "import numpy as np\n",
    "import matplotlib.pyplot as plt\n",
    "%pylab inline"
   ]
  },
  {
   "cell_type": "markdown",
   "metadata": {},
   "source": [
    "La densidad para el halo de materia oscura está dado por \n",
    "$$\\begin{equation}\n",
    "\\frac{\\rho_{h} (R,z)}{\\rho_{h,0}} =  (\\frac{\\sqrt{R^{2} + z^{2}/q_{h}^{2}}}{a_{b}})^{-\\alpha_b} (1 + \\frac{\\sqrt{R^{2} + z^{2}/q_{h}^{2}}}{a_{h}})^{\\alpha_{h} - \\beta_{h}}\n",
    "\\end{equation}$$"
   ]
  },
  {
   "cell_type": "code",
   "execution_count": 2,
   "metadata": {},
   "outputs": [],
   "source": [
    "def densidad_h(R,z,q_h=0.8,alpha_h=-2.,a_h=3.83,beta_h=2.96):\n",
    "    m = np.sqrt(R**2. + z**2./q_h**2.) \n",
    "    t1 = (m/a_h)**(-alpha_h)\n",
    "    d = (1. + m/a_h)**(alpha_h-beta_h)\n",
    "    rho_h = t1*d\n",
    "    return rho_h"
   ]
  },
  {
   "cell_type": "code",
   "execution_count": 3,
   "metadata": {},
   "outputs": [],
   "source": [
    "R = np.linspace(-15.,15.,100)\n",
    "z = np.linspace(-15.,15.,100)"
   ]
  },
  {
   "cell_type": "code",
   "execution_count": 4,
   "metadata": {},
   "outputs": [
    {
     "data": {
      "image/png": "[encoded data removed]",
      "text/plain": [
       "<Figure size 432x288 with 1 Axes>"
      ]
     },
     "metadata": {
      "needs_background": "light"
     },
     "output_type": "display_data"
    }
   ],
   "source": [
    "plt.plot(R, densidad_h(R,z),label='model I')\n",
    "plt.plot(R, densidad_h(R,z,alpha_h=1.63,a_h=1.90,beta_h=2.17),label='model II')\n",
    "plt.xlabel(r'$R$')\n",
    "plt.ylabel(r'$\\rho_{b}/\\rho_{b,0}$')\n",
    "plt.legend(loc='upper right', prop={'size':10})\n",
    "ylim(0.,0.05)\n",
    "plt.show()"
   ]
  },
  {
   "cell_type": "markdown",
   "metadata": {},
   "source": [
    "Para calcular la velocidad circular volvemos a utiliar la expresión (2.132) del libro Galactic Dynamics, Binney & Tremaine\n",
    "$$\\begin{equation}\n",
    "v_{c}^{2} (R) = 4\\pi G\\sqrt{1-e^{2}} \\int_{0}^{R} dm \\frac{m^{2} \\rho (m^{2})}{\\sqrt{R^{2} - m^{2}e^{2}}}\n",
    "\\end{equation}$$"
   ]
  },
  {
   "cell_type": "markdown",
   "metadata": {},
   "source": [
    "$$\\begin{equation}\n",
    "\\frac{v_{c}^{2}}{4\\pi U\\sqrt{1-e^{2}}} = y^{2-\\alpha_{h}}\\int_{0}^{1} \\frac{x^{2-\\alpha_{h}}}{\\sqrt{1-x^{2}e^{2}}} (1-xy)^{\\alpha_{h}-\\beta_{h}}\n",
    "\\end{equation}$$\n",
    "donde $U = G\\rho_{h,0}a_{h}^{2}$"
   ]
  },
  {
   "cell_type": "code",
   "execution_count": 41,
   "metadata": {},
   "outputs": [
    {
     "name": "stdout",
     "output_type": "stream",
     "text": [
      "-4.96\n"
     ]
    }
   ],
   "source": [
    "G = 4.302e-03\n",
    "U_1 = G*0.711*3.83e03**2.\n",
    "U_2 = G*0.266*1.9e03**2.\n",
    "C = 4.*np.pi*0.8"
   ]
  },
  {
   "cell_type": "code",
   "execution_count": 56,
   "metadata": {},
   "outputs": [],
   "source": [
    "def I_h_1(x,y,q_h=0.8,alpha_h=-2.,a_h=3.83e03,beta_h=2.96):\n",
    "    #e = np.sqrt(1.-q_h**2.)\n",
    "    t1 = x**(2.-alpha_h) \n",
    "    t3 = x*y\n",
    "    t2 = (1.+x*y)**(alpha_h-beta_h)\n",
    "    d = np.sqrt(1.-x**2. * (1.-q_h**2.))\n",
    "    n = t1*t2\n",
    "    return (n*y**(2.-alpha_h))/d"
   ]
  },
  {
   "cell_type": "code",
   "execution_count": 57,
   "metadata": {},
   "outputs": [],
   "source": [
    "def I_h_2(x,y,q_h=0.8,alpha_h=1.63,a_h=1.9e03,beta_h=2.17):\n",
    "    e = np.sqrt(1.-q_h**2.)\n",
    "    n = x**(2.-alpha_h)*(1+x*y)**(alpha_h-beta_h)\n",
    "    d = np.sqrt(1.-x**2. * e**2.)\n",
    "    return y**(2.-alpha_h)*n/d"
   ]
  },
  {
   "cell_type": "code",
   "execution_count": 58,
   "metadata": {},
   "outputs": [],
   "source": [
    "y = np.linspace(0.,15.,100)"
   ]
  },
  {
   "cell_type": "code",
   "execution_count": 59,
   "metadata": {},
   "outputs": [],
   "source": [
    "from scipy import integrate"
   ]
  },
  {
   "cell_type": "code",
   "execution_count": 60,
   "metadata": {},
   "outputs": [],
   "source": [
    "def Vc_ad_b_1(l):\n",
    "    Integral_h_1 = []\n",
    "    for i in range (0,len(l)):\n",
    "        result = integrate.quad(I_h_1,0,1,args=(l[i]))[0]\n",
    "        Integral_h_1.append(result)\n",
    "    return np.sqrt(Integral_h_1)"
   ]
  },
  {
   "cell_type": "code",
   "execution_count": 61,
   "metadata": {},
   "outputs": [],
   "source": [
    "def Vc_ad_b_2(l):\n",
    "    Integral_h_2 = []\n",
    "    for i in range (0,len(l)):\n",
    "        result = integrate.quad(I_h_2,0,1,args=(l[i]))[0]\n",
    "        Integral_h_2.append(result)\n",
    "    return np.sqrt(Integral_h_2)"
   ]
  },
  {
   "cell_type": "code",
   "execution_count": 62,
   "metadata": {},
   "outputs": [],
   "source": [
    "r = np.linspace(0.,15.,100)"
   ]
  },
  {
   "cell_type": "code",
   "execution_count": 63,
   "metadata": {},
   "outputs": [
    {
     "data": {
      "image/png": "[encoded data removed]",
      "text/plain": [
       "<Figure size 432x288 with 1 Axes>"
      ]
     },
     "metadata": {
      "needs_background": "light"
     },
     "output_type": "display_data"
    }
   ],
   "source": [
    "plt.plot(r,np.sqrt(C*U_1)*Vc_ad_b_1(y),label='model I')\n",
    "plt.plot(r,np.sqrt(C*U_2)*Vc_ad_b_2(y),label='model II')\n",
    "xlim(0.,12.)\n",
    "plt.xlabel(r'$R$')\n",
    "plt.ylabel(r'$V_{c}/km s^{-1}$')\n",
    "plt.legend(loc='upper right', prop={'size':10})\n",
    "plt.show()"
   ]
  },
  {
   "cell_type": "code",
   "execution_count": null,
   "metadata": {},
   "outputs": [],
   "source": []
  }
 ],
 "metadata": {
  "kernelspec": {
   "display_name": "Python 2",
   "language": "python",
   "name": "python2"
  },
  "language_info": {
   "codemirror_mode": {
    "name": "ipython",
    "version": 2
   },
   "file_extension": ".py",
   "mimetype": "text/x-python",
   "name": "python",
   "nbconvert_exporter": "python",
   "pygments_lexer": "ipython2",
   "version": "2.7.15"
  }
 },
 "nbformat": 4,
 "nbformat_minor": 2
}
