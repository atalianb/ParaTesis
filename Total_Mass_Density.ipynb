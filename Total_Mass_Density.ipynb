{
 "cells": [
  {
   "cell_type": "code",
   "execution_count": 1,
   "metadata": {},
   "outputs": [
    {
     "name": "stdout",
     "output_type": "stream",
     "text": [
      "Populating the interactive namespace from numpy and matplotlib\n"
     ]
    }
   ],
   "source": [
    "import numpy as np\n",
    "import matplotlib.pyplot as plt\n",
    "from scipy import integrate\n",
    "%pylab inline"
   ]
  },
  {
   "cell_type": "markdown",
   "metadata": {},
   "source": [
    "$ M(R) = 4\\pi q_{b}\\rho_{b,0}R^{3}\\left(\\frac{R}{a_{b}}\\right)^{-\\alpha_{b}}\\int_{0}^{1}dx x^{2-\\alpha_{b}} e^{-R^{2}x^{2}/r_{b}^{2}} \\\\+ 4\\pi\\rho_{h,0}q_{h}R^{3}\\left(\\frac{R}{a_{h}}\\right)^{-\\alpha_{h}}\\int_{0}^{1}x^{2-\\alpha_{h}}\\left(1+\\frac{Rx}{a_{h}}\\right)^{\\alpha_{h}-\\beta_{h}}dx \\\\- 2\\pi\\Sigma_{d}R_{d}\\left[ Re^{-R/R_{d}} + R_{d}e^{R/R_{d}} -R_d \\right] + 2\\pi\\Sigma_{g}\\int_{0}^{R} e^{-R'/R_{g}-R_{m}/R'}R'dR'$"
   ]
  },
  {
   "cell_type": "code",
   "execution_count": 2,
   "metadata": {},
   "outputs": [],
   "source": [
    "#Constants\n",
    "G = 4.302e-6#kpc/SM(km/s)^2\n",
    "q_b = 0.6\n",
    "r_b = 1.9#kpc\n",
    "a_b = 1.#kpc\n",
    "q_h = 0.8\n",
    "alpha_b = 1.8\n",
    "R_m = 4.#kpc\n",
    "#parameters model I\n",
    "rho_b_I = 0.427e9#sM/kpc^3\n",
    "a_h_I = 3.83#kpc\n",
    "rho_h_I = 0.711e9#SM/kpc^3\n",
    "alpha_h_I = -2.\n",
    "beta_h_I = 2.96\n",
    "R_d_I = 2.0#kpc\n",
    "R_d_II = 3.2#kpc\n",
    "Sigma_d_SD_I = (1905.0e6)*0.75#SM/kpc^2\n",
    "Sigma_g_ISM_I = (1905.0e6)*0.25#SM/kpc^2\n",
    "#parameters model II\n",
    "rho_b_II = 0.3e9#sM/kpc^3\n",
    "a_h_II = 1.9#kpc\n",
    "rho_h_II = 0.266e9#SM/kpc^3\n",
    "alpha_h_II = 1.63\n",
    "beta_h_II = 2.17\n",
    "R_d_II = 3.2#kpc\n",
    "Sigma_d_SD_II = (536.0e6)*0.75#SM/kpc^2\n",
    "Sigma_g_ISM_II = (536.0e6)*0.25#SM/kpc^2"
   ]
  },
  {
   "cell_type": "code",
   "execution_count": 12,
   "metadata": {},
   "outputs": [],
   "source": [
    "R = np.linspace(0.1,100.,100)"
   ]
  },
  {
   "cell_type": "code",
   "execution_count": 21,
   "metadata": {},
   "outputs": [],
   "source": [
    "def M_Bulge(R,rho_b,a_b=a_b,r_b=r_b,alpha_b=alpha_b,q_b=q_b):\n",
    "    def Integral_bulge(x,R):\n",
    "        t1 = x**(2-alpha_b)\n",
    "        t2 = np.exp(-R**2.*x**2./r_b**2.)\n",
    "        t3 = (R/a_b)**(-alpha_b)\n",
    "        return R**3.*t3*t1*t2\n",
    "    Integral_bulbo = []\n",
    "    for i in range(0,len(R)):\n",
    "        resultado = integrate.quad(Integral_bulge,0,1,args=(R[i]))[0]\n",
    "        Integral_bulbo.append(resultado)\n",
    "    return 4.*np.pi*q_b*rho_b*np.array(Integral_bulbo)"
   ]
  },
  {
   "cell_type": "code",
   "execution_count": 20,
   "metadata": {},
   "outputs": [
    {
     "ename": "NameError",
     "evalue": "name 'rho_b' is not defined",
     "output_type": "error",
     "traceback": [
      "\u001b[0;31m---------------------------------------------------------------------------\u001b[0m",
      "\u001b[0;31mNameError\u001b[0m                                 Traceback (most recent call last)",
      "\u001b[0;32m<ipython-input-20-44fa31ca479b>\u001b[0m in \u001b[0;36m<module>\u001b[0;34m()\u001b[0m\n\u001b[1;32m      8\u001b[0m     \u001b[0mresultado\u001b[0m \u001b[0;34m=\u001b[0m \u001b[0mintegrate\u001b[0m\u001b[0;34m.\u001b[0m\u001b[0mquad\u001b[0m\u001b[0;34m(\u001b[0m\u001b[0mIntegral_bulge\u001b[0m\u001b[0;34m,\u001b[0m\u001b[0;36m0\u001b[0m\u001b[0;34m,\u001b[0m\u001b[0;36m1\u001b[0m\u001b[0;34m,\u001b[0m\u001b[0margs\u001b[0m\u001b[0;34m=\u001b[0m\u001b[0;34m(\u001b[0m\u001b[0mR\u001b[0m\u001b[0;34m[\u001b[0m\u001b[0mi\u001b[0m\u001b[0;34m]\u001b[0m\u001b[0;34m)\u001b[0m\u001b[0;34m)\u001b[0m\u001b[0;34m[\u001b[0m\u001b[0;36m0\u001b[0m\u001b[0;34m]\u001b[0m\u001b[0;34m\u001b[0m\u001b[0m\n\u001b[1;32m      9\u001b[0m     \u001b[0mIntegral_bulbo\u001b[0m\u001b[0;34m.\u001b[0m\u001b[0mappend\u001b[0m\u001b[0;34m(\u001b[0m\u001b[0mresultado\u001b[0m\u001b[0;34m)\u001b[0m\u001b[0;34m\u001b[0m\u001b[0m\n\u001b[0;32m---> 10\u001b[0;31m \u001b[0;32mprint\u001b[0m \u001b[0;36m4.\u001b[0m\u001b[0;34m*\u001b[0m\u001b[0mnp\u001b[0m\u001b[0;34m.\u001b[0m\u001b[0mpi\u001b[0m\u001b[0;34m*\u001b[0m\u001b[0mq_b\u001b[0m\u001b[0;34m*\u001b[0m\u001b[0mrho_b\u001b[0m\u001b[0;34m*\u001b[0m\u001b[0mnp\u001b[0m\u001b[0;34m.\u001b[0m\u001b[0marray\u001b[0m\u001b[0;34m(\u001b[0m\u001b[0mIntegral_bulbo\u001b[0m\u001b[0;34m)\u001b[0m\u001b[0;34m\u001b[0m\u001b[0m\n\u001b[0m",
      "\u001b[0;31mNameError\u001b[0m: name 'rho_b' is not defined"
     ]
    }
   ],
   "source": [
    "def Integral_bulge(x,R):\n",
    "    t1 = x**(2-alpha_b)\n",
    "    t2 = np.exp(R**2.*x**2./r_b**2.)\n",
    "    t3 = (R/a_b)**(-alpha_b)\n",
    "    return R**3.*t3*t1*t2\n",
    "Integral_bulbo = []\n",
    "for i in range(0,len(R_test)):\n",
    "    resultado = integrate.quad(Integral_bulge,0,1,args=(R[i]))[0]\n",
    "    Integral_bulbo.append(resultado)\n",
    "print 4.*np.pi*q_b*rho_b*np.array(Integral_bulbo)"
   ]
  },
  {
   "cell_type": "code",
   "execution_count": 14,
   "metadata": {},
   "outputs": [
    {
     "name": "stdout",
     "output_type": "stream",
     "text": [
      "[100.]\n"
     ]
    }
   ],
   "source": [
    "R_test=np.linspace(100.,100.,1)\n",
    "print R_test"
   ]
  },
  {
   "cell_type": "code",
   "execution_count": null,
   "metadata": {},
   "outputs": [],
   "source": [
    "def M_Bulge_test(R,rho_b,a_b=a_b,r_b=r_b,alpha_b=alpha_b,q_b=q_b):\n",
    "    def Integral_bulge(x,R):\n",
    "        t1 = x**(2-alpha_b)\n",
    "        t2 = np.exp(R**2.*x**2./r_b**2.)\n",
    "        t3 = (R/a_b)**(-alpha_b)\n",
    "        return R**3.*t3*t1*t2\n",
    "    Integral_bulbo = []\n",
    "    for i in range(0,len(R)):\n",
    "        resultado = integrate.quad(Integral_bulge,0,1,args=(R[i]))[0]\n",
    "        Integral_bulbo.append(resultado)\n",
    "    return 4.*np.pi*q_b*rho_b*np.array(Integral_bulbo)"
   ]
  },
  {
   "cell_type": "code",
   "execution_count": 5,
   "metadata": {},
   "outputs": [],
   "source": [
    "def M_DM(R,a_h,rho_h,alpha_h,beta_h,q_h=q_h):\n",
    "    def integral_DM(x,R):\n",
    "        t1 = x**(2-alpha_h)\n",
    "        t2 = (1+R*x/a_h)**(alpha_h-beta_h)\n",
    "        t3 = (R/a_h)**(-alpha_h)\n",
    "        return R**3.*t3*t1*t2\n",
    "    Integral_DMHalo = []\n",
    "    for i in range(0,len(R)):\n",
    "        res = integrate.quad(integral_DM,0,1,args=(R[i]))[0]\n",
    "        Integral_DMHalo.append(res)\n",
    "    return 4.*np.pi*rho_h*q_h*np.array(Integral_DMHalo)"
   ]
  },
  {
   "cell_type": "code",
   "execution_count": 6,
   "metadata": {},
   "outputs": [],
   "source": [
    "def M_SD(R,R_d,Sigma_d_SD):\n",
    "    return -2.*np.pi*Sigma_d_SD*R_d**2.*(R*np.exp(-R/R_d)/R_d + np.exp(-R/R_d) -1)"
   ]
  },
  {
   "cell_type": "code",
   "execution_count": 7,
   "metadata": {},
   "outputs": [],
   "source": [
    "def M_ISM(R,R_d,Sigma_g_ISM,R_m=R_m):\n",
    "    def M_g_ISM(u,R):\n",
    "        return R**2.*u*np.exp(-((R*u)/(2.*R_d))-(R_m/(R*u)))\n",
    "    Integral_M_g = []\n",
    "    for i in range (0,len(R)):\n",
    "        result = integrate.quad(M_g_ISM,0,1,args=(R[i]))[0]\n",
    "        Integral_M_g.append(result)\n",
    "    return 2.*np.pi*Sigma_g_ISM*np.array(Integral_M_g)"
   ]
  },
  {
   "cell_type": "code",
   "execution_count": 8,
   "metadata": {},
   "outputs": [],
   "source": [
    "def M_total(R,params):\n",
    "    rho_b,a_h,rho_h,alpha_h,beta_h,R_d,Sigma_d_SD,Sigma_g_ISM = params\n",
    "    suma = M_Bulge(R,rho_b) + M_DM(R,a_h,rho_h,alpha_h,beta_h) +  M_SD(R,R_d,Sigma_d_SD) + M_ISM(R,R_d,Sigma_g_ISM)\n",
    "    return suma"
   ]
  },
  {
   "cell_type": "code",
   "execution_count": 9,
   "metadata": {},
   "outputs": [],
   "source": [
    "params_I = np.array([rho_b_I,a_h_I,rho_h_I,alpha_h_I,beta_h_I,R_d_I,Sigma_d_SD_I,Sigma_g_ISM_I])\n",
    "params_II = np.array([rho_b_II,a_h_II,rho_h_II,alpha_h_II,beta_h_II,R_d_II,Sigma_d_SD_II,Sigma_g_ISM_II])"
   ]
  },
  {
   "cell_type": "code",
   "execution_count": 22,
   "metadata": {},
   "outputs": [
    {
     "name": "stdout",
     "output_type": "stream",
     "text": [
      "[5.17862045e+09]\n"
     ]
    }
   ],
   "source": [
    "print M_Bulge(R_test,rho_b_I)"
   ]
  },
  {
   "cell_type": "code",
   "execution_count": 23,
   "metadata": {},
   "outputs": [
    {
     "name": "stdout",
     "output_type": "stream",
     "text": [
      "[2.12523001e+08 6.60526101e+09 1.56576191e+10 2.52912680e+10\n",
      " 3.53508740e+10 4.57888607e+10 5.64590103e+10 6.72365926e+10\n",
      " 7.80420496e+10 8.88247868e+10 9.95501869e+10 1.10192964e+11\n",
      " 1.20734013e+11 1.31158859e+11 1.41456774e+11 1.51620137e+11\n",
      " 1.61643897e+11 1.71525078e+11 1.81262338e+11 1.90855590e+11\n",
      " 2.00305673e+11 2.09614094e+11 2.18782823e+11 2.27814135e+11\n",
      " 2.36710495e+11 2.45474478e+11 2.54108707e+11 2.62615818e+11\n",
      " 2.70998435e+11 2.79259151e+11 2.87400523e+11 2.95425065e+11\n",
      " 3.03335246e+11 3.11133490e+11 3.18822179e+11 3.26403649e+11\n",
      " 3.33880193e+11 3.41254063e+11 3.48527468e+11 3.55702577e+11\n",
      " 3.62781517e+11 3.69766371e+11 3.76659186e+11 3.83461962e+11\n",
      " 3.90176661e+11 3.96805203e+11 4.03349463e+11 4.09811277e+11\n",
      " 4.16192439e+11 4.22494701e+11 4.28719771e+11 4.34869320e+11\n",
      " 4.40944976e+11 4.46948325e+11 4.52880915e+11 4.58744255e+11\n",
      " 4.64539815e+11 4.70269025e+11 4.75933280e+11 4.81533937e+11\n",
      " 4.87072319e+11 4.92549712e+11 4.97967369e+11 5.03326509e+11\n",
      " 5.08628318e+11 5.13873952e+11 5.19064536e+11 5.24201163e+11\n",
      " 5.29284899e+11 5.34316780e+11 5.39297816e+11 5.44228989e+11\n",
      " 5.49111256e+11 5.53945549e+11 5.58732773e+11 5.63473813e+11\n",
      " 5.68169529e+11 5.72820759e+11 5.77428318e+11 5.81993003e+11\n",
      " 5.86515587e+11 5.90996828e+11 5.95437459e+11 5.99838200e+11\n",
      " 6.04199749e+11 6.08522789e+11 6.12807986e+11 6.17055987e+11\n",
      " 6.21267426e+11 6.25442920e+11 6.29583073e+11 6.33688472e+11\n",
      " 6.37759691e+11 6.41797290e+11 6.45801817e+11 6.49773806e+11\n",
      " 6.53713780e+11 6.57622246e+11 6.61499704e+11 6.65346641e+11]\n"
     ]
    }
   ],
   "source": [
    "print M_total(R,params_I)"
   ]
  },
  {
   "cell_type": "code",
   "execution_count": 25,
   "metadata": {},
   "outputs": [
    {
     "data": {
      "image/png": "[encoded data removed]",
      "text/plain": [
       "<Figure size 432x288 with 1 Axes>"
      ]
     },
     "metadata": {
      "needs_background": "light"
     },
     "output_type": "display_data"
    }
   ],
   "source": [
    "plt.plot(R,M_total(R,params_I),label='Modelo I')\n",
    "plt.plot(R,M_total(R,params_II),label='Modelo II')\n",
    "plt.ylabel(r'$M(R)$')\n",
    "plt.xlabel('R')\n",
    "plt.legend(loc='lower right', prop={'size':10})\n",
    "plt.yscale('log')\n",
    "plt.savefig('Mass_I_II.pdf')"
   ]
  },
  {
   "cell_type": "code",
   "execution_count": 26,
   "metadata": {},
   "outputs": [
    {
     "name": "stdout",
     "output_type": "stream",
     "text": [
      "[3.64435454e+08 8.63526142e+09 1.89553417e+10 2.95031785e+10\n",
      " 4.00851944e+10 5.06210692e+10 6.09803744e+10 7.10662283e+10\n",
      " 8.08307737e+10 9.02601034e+10 9.93603672e+10 1.08148642e+11\n",
      " 1.16647249e+11 1.24880322e+11 1.32871824e+11 1.40644466e+11\n",
      " 1.48219197e+11 1.55615020e+11 1.62849002e+11 1.69936386e+11\n",
      " 1.76890748e+11 1.83724168e+11 1.90447404e+11 1.97070041e+11\n",
      " 2.03600641e+11 2.10046858e+11 2.16415552e+11 2.22712879e+11\n",
      " 2.28944376e+11 2.35115025e+11 2.41229318e+11 2.47291307e+11\n",
      " 2.53304653e+11 2.59272664e+11 2.65198333e+11 2.71084368e+11\n",
      " 2.76933224e+11 2.82747124e+11 2.88528085e+11 2.94277938e+11\n",
      " 2.99998346e+11 3.05690822e+11 3.11356742e+11 3.16997359e+11\n",
      " 3.22613818e+11 3.28207165e+11 3.33778354e+11 3.39328262e+11\n",
      " 3.44857692e+11 3.50367385e+11 3.55858020e+11 3.61330226e+11\n",
      " 3.66784584e+11 3.72221633e+11 3.77641873e+11 3.83045770e+11\n",
      " 3.88433758e+11 3.93806244e+11 3.99163608e+11 4.04506209e+11\n",
      " 4.09834383e+11 4.15148448e+11 4.20448705e+11 4.25735438e+11\n",
      " 4.31008917e+11 4.36269401e+11 4.41517134e+11 4.46752350e+11\n",
      " 4.51975274e+11 4.57186119e+11 4.62385092e+11 4.67572391e+11\n",
      " 4.72748205e+11 4.77912718e+11 4.83066108e+11 4.88208545e+11\n",
      " 4.93340193e+11 4.98461214e+11 5.03571762e+11 5.08671987e+11\n",
      " 5.13762034e+11 5.18842046e+11 5.23912160e+11 5.28972508e+11\n",
      " 5.34023223e+11 5.39064429e+11 5.44096251e+11 5.49118808e+11\n",
      " 5.54132218e+11 5.59136596e+11 5.64132052e+11 5.69118696e+11\n",
      " 5.74096634e+11 5.79065971e+11 5.84026807e+11 5.88979242e+11\n",
      " 5.93923373e+11 5.98859296e+11 6.03787104e+11 6.08706886e+11]\n"
     ]
    }
   ],
   "source": [
    "print M_total(R,params_II)"
   ]
  },
  {
   "cell_type": "markdown",
   "metadata": {},
   "source": [
    "$$\\begin{equation}\n",
    "\\begin{split}\n",
    "    \\Sigma (R) = \\sqrt{1-e^{2}}\\rho_{b,0}\\left(\\frac{R}{a_{h}}\\right)^{-\\alpha_{b}}R\\int_{0}^{1}\\frac{x^{1-\\alpha_{b}}e^{-R^{2}x^{2}/r_{b}^{2}}}{\\sqrt{x^{2}-e^{2}}}dx \\\\+ \\sqrt{1-e^{2}}\\rho_{h,0}\\left(\\frac{R}{a_{h}}\\right)^{-\\alpha_{h}}R\\int_{0}^{1} \\frac{x^{1-\\alpha_{h}}\\left(1+\\frac{Rx}{a_{h}}\\right)^{\\alpha_{h}-\\beta_{h}}}{\\sqrt{x^{2}-e^{2}}}dx \\\\+ \\Sigma_{d}e^{-R/R_{d}} + \\Sigma_{g}e^{-R/R_{g}-R_{m}/R}.\n",
    "    \\end{split}\n",
    "    \\label{eq:SigmaRTotal}\n",
    "\\end{equation}\n",
    "$$"
   ]
  },
  {
   "cell_type": "code",
   "execution_count": 101,
   "metadata": {},
   "outputs": [],
   "source": [
    "def Sigma_Bulge(R,rho_b,a_b=a_b,r_b=r_b,alpha_b=alpha_b,q_b=q_b):\n",
    "    def Int_sigma(x,R):\n",
    "        n = x**(1.-alpha_b)*np.exp(-R**2.*x**2./r_b**2.)\n",
    "        d = np.sqrt(x**2. - 1. + q_b**2.)\n",
    "        t1 = (R/a_b)**(-alpha_b)\n",
    "        return t1*R*n/d\n",
    "    Int = []\n",
    "    for i in range(0,len(R)):\n",
    "        res = integrate.quad(Int_sigma,0.9,1.1,args=(R[i]))[0]\n",
    "        Int.append(res)\n",
    "    return rho_b*q_b*np.array(Int)"
   ]
  },
  {
   "cell_type": "code",
   "execution_count": 102,
   "metadata": {},
   "outputs": [],
   "source": [
    "def Sigma_DM(R,rho_h,a_h,alpha_h,beta_h,q_h=q_h):\n",
    "    def Int_sig_Halo(x,R):\n",
    "        n = x**(1-alpha_h)*(1.+R*x/a_h)**(alpha_h-beta_h)\n",
    "        d = np.sqrt(x**2.-1.+q_h**2.)\n",
    "        t1 = (R/a_h)**(-alpha_h)\n",
    "        return t1*R*n/d\n",
    "    Int_Halo = []\n",
    "    for i in range(0,len(R)):\n",
    "        res = integrate.quad(Int_sig_Halo,0.9,1.1,args=(R[i]))[0]\n",
    "        Int_Halo.append(res)\n",
    "    return q_h*rho_h*np.array(Int_Halo)"
   ]
  },
  {
   "cell_type": "code",
   "execution_count": 87,
   "metadata": {},
   "outputs": [],
   "source": [
    "def Sigma_SD(R,R_d,Sigma_d):\n",
    "    return Sigma_d*np.exp(-R/R_d)"
   ]
  },
  {
   "cell_type": "code",
   "execution_count": 88,
   "metadata": {},
   "outputs": [],
   "source": [
    "def Sigma_ISM(R,R_d,Sigma_g,R_m=R_m):\n",
    "    return Sigma_g*np.exp(-R/(2.*R_d)-R_m/R)"
   ]
  },
  {
   "cell_type": "code",
   "execution_count": 103,
   "metadata": {},
   "outputs": [],
   "source": [
    "def Sigma_tot(R,params):\n",
    "    rho_b,rho_h,a_h,alpha_h,beta_h,R_d,Sigma_d,Sigma_g = params\n",
    "    suma = Sigma_Bulge(R,rho_b) + Sigma_DM(R,rho_h,a_h,alpha_h,beta_h) + Sigma_SD(R,R_d,Sigma_d) + Sigma_ISM(R,R_d,Sigma_g)\n",
    "    return suma"
   ]
  },
  {
   "cell_type": "code",
   "execution_count": 112,
   "metadata": {},
   "outputs": [],
   "source": [
    "params_I_sigma = np.array([rho_b_I,rho_h_I,a_h_I,alpha_h_I,beta_h_I,R_d_I,Sigma_d_SD_I,Sigma_g_ISM_I])\n",
    "params_II_sigma = np.array([rho_b_II,rho_h_II,a_h_II,alpha_h_II,beta_h_II,R_d_II,Sigma_d_SD_II,Sigma_g_ISM_II])"
   ]
  },
  {
   "cell_type": "code",
   "execution_count": 90,
   "metadata": {},
   "outputs": [
    {
     "name": "stdout",
     "output_type": "stream",
     "text": [
      "[0.1        0.12040816 0.14081633 0.16122449 0.18163265 0.20204082\n",
      " 0.22244898 0.24285714 0.26326531 0.28367347 0.30408163 0.3244898\n",
      " 0.34489796 0.36530612 0.38571429 0.40612245 0.42653061 0.44693878\n",
      " 0.46734694 0.4877551  0.50816327 0.52857143 0.54897959 0.56938776\n",
      " 0.58979592 0.61020408 0.63061224 0.65102041 0.67142857 0.69183673\n",
      " 0.7122449  0.73265306 0.75306122 0.77346939 0.79387755 0.81428571\n",
      " 0.83469388 0.85510204 0.8755102  0.89591837 0.91632653 0.93673469\n",
      " 0.95714286 0.97755102 0.99795918 1.01836735 1.03877551 1.05918367\n",
      " 1.07959184 1.1       ]\n"
     ]
    }
   ],
   "source": [
    "Rpeq = np.linspace(0.1,1.1,50)\n",
    "print Rpeq"
   ]
  },
  {
   "cell_type": "code",
   "execution_count": 94,
   "metadata": {},
   "outputs": [],
   "source": [
    "R_1 = np.linspace(1.1,8.,50)\n",
    "Rp = np.linspace(6.9,9.1,50)"
   ]
  },
  {
   "cell_type": "code",
   "execution_count": 108,
   "metadata": {},
   "outputs": [
    {
     "name": "stdout",
     "output_type": "stream",
     "text": [
      "[6.9        6.94489796 6.98979592 7.03469388 7.07959184 7.1244898\n",
      " 7.16938776 7.21428571 7.25918367 7.30408163 7.34897959 7.39387755\n",
      " 7.43877551 7.48367347 7.52857143 7.57346939 7.61836735 7.66326531\n",
      " 7.70816327 7.75306122 7.79795918 7.84285714 7.8877551  7.93265306\n",
      " 7.97755102 8.02244898 8.06734694 8.1122449  8.15714286 8.20204082\n",
      " 8.24693878 8.29183673 8.33673469 8.38163265 8.42653061 8.47142857\n",
      " 8.51632653 8.56122449 8.60612245 8.65102041 8.69591837 8.74081633\n",
      " 8.78571429 8.83061224 8.8755102  8.92040816 8.96530612 9.01020408\n",
      " 9.05510204 9.1       ]\n"
     ]
    }
   ],
   "source": [
    "print Rp"
   ]
  },
  {
   "cell_type": "code",
   "execution_count": 113,
   "metadata": {},
   "outputs": [
    {
     "name": "stdout",
     "output_type": "stream",
     "text": [
      "[1.12287622e+08 1.10903589e+08 1.09541554e+08 1.08201116e+08\n",
      " 1.06881878e+08 1.05583455e+08 1.04305467e+08 1.03047543e+08\n",
      " 1.01809319e+08 1.00590436e+08 9.93905455e+07 9.82093034e+07\n",
      " 9.70463734e+07 9.59014255e+07 9.47741361e+07 9.36641881e+07\n",
      " 9.25712705e+07 9.14950784e+07 9.04353128e+07 8.93916807e+07\n",
      " 8.83638945e+07 8.73516725e+07 8.63547385e+07 8.53728213e+07\n",
      " 8.44056553e+07 8.34529800e+07 8.25145399e+07 8.15900845e+07\n",
      " 8.06793681e+07 7.97821497e+07 7.88981931e+07 7.80272665e+07\n",
      " 7.71691429e+07 7.63235991e+07 7.54904168e+07 7.46693816e+07\n",
      " 7.38602831e+07 7.30629153e+07 7.22770758e+07 7.15025663e+07\n",
      " 7.07391922e+07 6.99867627e+07 6.92450905e+07 6.85139920e+07\n",
      " 6.77932871e+07 6.70827991e+07 6.63823547e+07 6.56917838e+07\n",
      " 6.50109195e+07 6.43395984e+07] [92044667.09230246 91177086.5209716  90319307.7845654  89471207.67639747\n",
      " 88632664.73154199 87803559.19383524 86983772.98406613 86173189.66927719\n",
      " 85371694.43310405 84579174.0470882  83795516.84290181 83020612.68542966\n",
      " 82254352.9466574  81496630.48031884 80747339.59726003 80006376.04147995\n",
      " 79273636.96681193 78549020.91421218 77832427.78962435 77123758.84239182\n",
      " 76422916.64419141 75729805.06846423 75044329.27032052 74366395.66689868\n",
      " 73695911.91815782 73032786.9080869  72376930.72631274 71728254.65009212\n",
      " 71086671.12667237 70452093.75600764 69824437.27381778 69203617.53497723\n",
      " 68589551.49722382 67982157.20517573 67381353.77464737 66787061.37725435\n",
      " 66199201.22529884 65617695.55692679 65042467.62154923 64473441.66551975\n",
      " 63910542.91806121 63353697.57743478 62802832.7973451  62257876.67357446\n",
      " 61718758.23084128 61185407.40987632 60657755.05471158 60135732.90017677\n",
      " 59619273.55959808 59108310.51269478]\n"
     ]
    }
   ],
   "source": [
    "print Sigma_tot(Rp,params_I_sigma),Sigma_tot(Rp,params_II_sigma)"
   ]
  },
  {
   "cell_type": "code",
   "execution_count": 114,
   "metadata": {},
   "outputs": [
    {
     "name": "stdout",
     "output_type": "stream",
     "text": [
      "8.022448979591836 83452980.01123694 73032786.9080869\n"
     ]
    }
   ],
   "source": [
    "print Rp[25],Sigma_tot(Rp,params_I_sigma)[25],Sigma_tot(Rp,params_II_sigma)[25]"
   ]
  },
  {
   "cell_type": "code",
   "execution_count": 127,
   "metadata": {},
   "outputs": [
    {
     "data": {
      "text/plain": [
       "(85439316.3831039, 74128865.30684295)"
      ]
     },
     "execution_count": 127,
     "metadata": {},
     "output_type": "execute_result"
    }
   ],
   "source": [
    "sum(Sigma_tot(Rp,params_I_sigma))/len(Rp),sum(Sigma_tot(Rp,params_II_sigma))/len(Rp)"
   ]
  },
  {
   "cell_type": "code",
   "execution_count": 124,
   "metadata": {},
   "outputs": [
    {
     "data": {
      "image/png": "[encoded data removed]",
      "text/plain": [
       "<Figure size 432x288 with 1 Axes>"
      ]
     },
     "metadata": {
      "needs_background": "light"
     },
     "output_type": "display_data"
    }
   ],
   "source": [
    "plt.plot(Rp,Sigma_tot(Rp,params_I_sigma),label='Modelo I')\n",
    "plt.plot(Rp,Sigma_tot(Rp,params_II_sigma),label='Modelo II')\n",
    "plt.xlabel('R/kpc')\n",
    "plt.ylabel(r'$\\Sigma(R)$')\n",
    "plt.legend(loc='upper right', prop={'size':10})\n",
    "#plt.yscale('log')\n",
    "plt.savefig('Sigma_I_II.pdf')"
   ]
  },
  {
   "cell_type": "code",
   "execution_count": null,
   "metadata": {},
   "outputs": [],
   "source": []
  }
 ],
 "metadata": {
  "kernelspec": {
   "display_name": "Python 2",
   "language": "python",
   "name": "python2"
  },
  "language_info": {
   "codemirror_mode": {
    "name": "ipython",
    "version": 2
   },
   "file_extension": ".py",
   "mimetype": "text/x-python",
   "name": "python",
   "nbconvert_exporter": "python",
   "pygments_lexer": "ipython2",
   "version": "2.7.15"
  }
 },
 "nbformat": 4,
 "nbformat_minor": 2
}
