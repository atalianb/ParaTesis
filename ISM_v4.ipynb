{
 "cells": [
  {
   "cell_type": "code",
   "execution_count": 1,
   "metadata": {},
   "outputs": [
    {
     "name": "stdout",
     "output_type": "stream",
     "text": [
      "Populating the interactive namespace from numpy and matplotlib\n"
     ]
    }
   ],
   "source": [
    "import numpy as np\n",
    "import matplotlib.pyplot as plt\n",
    "from scipy import integrate\n",
    "%pylab inline"
   ]
  },
  {
   "cell_type": "markdown",
   "metadata": {},
   "source": [
    "$$\\begin{equation}\n",
    "v_{c}^{2} = \\frac{4G\\Sigma_{g}R_{d}}{\\pi} y^{2}\\int_{0}^{\\pi/2}(\\cos(2u) + 1)du\\int_{0}^{\\infty}d\\beta exp(-y\\cos u\\cosh\\beta -\\frac{R_{m}}{2*R_{d}y\\cos u \\cosh\\beta})(\\frac{R_{m}}{2R_{d}y^{2}\\cos^{2}u\\cosh^{2}\\beta} -1)\n",
    "\\end{equation}$$\n",
    "$$\\begin{equation}\n",
    "\\frac{v_{c}^{2}\\pi}{4G\\Sigma_{g}R_{d}} =  y^{2}\\int_{0}^{\\pi/2}(\\cos(2u) + 1)du\\int_{0}^{\\infty}d\\beta exp(-y\\cos u\\cosh\\beta -\\frac{R_{m}}{2*R_{d}y\\cos u \\cosh\\beta})(\\frac{R_{m}}{2R_{d}y^{2}\\cos^{2}u\\cosh^{2}\\beta} -1)\n",
    "\\end{equation}$$"
   ]
  },
  {
   "cell_type": "markdown",
   "metadata": {},
   "source": [
    "donde $y = \\frac{R}{2R_{d}}$, por lo que $v_{c}^{2}(R)$ es \n",
    "$$\\begin{equation}\n",
    "v_{c}^{2} = \\frac{G\\Sigma_{g}R^{2}}{\\pi R_{d}}\\int_{0}^{\\pi/2}(\\cos2u + 1)du\\int_{0}^{\\infty} d\\beta exp(-\\frac{R\\cos u \\cosh\\beta}{2R_{d}} -\\frac{R_{m}}{R\\cos u \\cosh\\beta})(\\frac{2R_{m}R_{d}}{R^{2}\\cos^{2}u\\cosh^{2}\\beta} -1)\n",
    "\\end{equation}$$\n",
    "$$\\begin{equation}\n",
    "\\frac{v_{c}^{2}\\pi R_{d}}{G\\Sigma_{g}} = R^{2}\\int_{0}^{\\pi/2}(\\cos2u + 1)du\\int_{0}^{\\infty} d\\beta exp(-\\frac{R\\cos u \\cosh\\beta}{2R_{d}} -\\frac{R_{m}}{R\\cos u \\cosh\\beta})(\\frac{2R_{m}R_{d}}{R^{2}\\cos^{2}u\\cosh^{2}\\beta} -1)\n",
    "\\end{equation}$$"
   ]
  },
  {
   "cell_type": "code",
   "execution_count": 2,
   "metadata": {},
   "outputs": [],
   "source": [
    "def func(u,beta,y,R_m=4.0e03,R_d=2.0e03):\n",
    "    exp = np.exp(-y*np.cos(u)*np.cosh(beta) - R_m/(2.*R_d*y*np.cos(u)*np.cosh(beta)))\n",
    "    t1 = R_m/(2.*R_d*y**2.*np.cos(u)**2.*np.cosh(beta)**2.) -1.\n",
    "    t2 = np.cos(2.*u) + 1.\n",
    "    f = t1*t2*exp\n",
    "    return f"
   ]
  },
  {
   "cell_type": "code",
   "execution_count": 3,
   "metadata": {},
   "outputs": [],
   "source": [
    "def Vc2_ISMy_I(l):\n",
    "    Integral_ISM = []\n",
    "    for i in range (0,len(l)):\n",
    "        integrando = lambda beta,u: func(u,beta,l[i])\n",
    "        result = integrate.dblquad(integrando,0,np.inf,lambda u: 0, lambda u: np.pi/2.)[0]\n",
    "        Integral_ISM.append(result)\n",
    "    return np.array(l**2.*Integral_ISM)"
   ]
  },
  {
   "cell_type": "code",
   "execution_count": 4,
   "metadata": {},
   "outputs": [
    {
     "name": "stderr",
     "output_type": "stream",
     "text": [
      "/Users/atalia/miniconda2/lib/python2.7/site-packages/scipy/integrate/quadpack.py:385: IntegrationWarning: The maximum number of subdivisions (50) has been achieved.\n",
      "  If increasing the limit yields no improvement it is advised to analyze \n",
      "  the integrand in order to determine the difficulties.  If the position of a \n",
      "  local difficulty can be determined (singularity, discontinuity) one will \n",
      "  probably gain from splitting up the interval and calling the integrator \n",
      "  on the subranges.  Perhaps a special-purpose integrator should be used.\n",
      "  warnings.warn(msg, IntegrationWarning)\n",
      "/Users/atalia/miniconda2/lib/python2.7/site-packages/scipy/integrate/quadpack.py:385: IntegrationWarning: The algorithm does not converge.  Roundoff error is detected\n",
      "  in the extrapolation table.  It is assumed that the requested tolerance\n",
      "  cannot be achieved, and that the returned result (if full_output = 1) is \n",
      "  the best which can be obtained.\n",
      "  warnings.warn(msg, IntegrationWarning)\n"
     ]
    },
    {
     "name": "stdout",
     "output_type": "stream",
     "text": [
      "[ 1.07602985e+44  9.47566528e+16  1.92742107e+10  1.86478014e+07\n",
      "  3.73055873e+05  3.39441813e+04  2.32253175e+38  1.24955583e+33\n",
      "  1.11483297e+29  1.90497597e+63  1.22067205e+57  9.05728558e+51\n",
      "  4.35489051e+47  9.00010617e+43  5.93153044e+40  9.98178185e+37\n",
      "  3.62262044e+35  2.48815894e+33  3.00392864e+12  5.64710377e+11\n",
      "  1.46604937e+28  3.18222769e+10  9.15262282e+09  2.92689473e+09\n",
      "  1.02638999e+09  3.89214426e+08  1.56516791e+08  6.40012701e+07\n",
      "  2.32189453e+07  2.07416086e+06 -1.22205700e+07 -2.55574508e+07\n",
      " -4.14550765e+07 -6.29173291e+07 -9.33915366e+07 -1.37480973e+08\n",
      " -2.01702957e+08 -2.95473945e+08 -4.32492364e+08 -6.32730159e+08\n",
      " -9.25324554e+08 -1.35278762e+09 -1.97713857e+09 -2.88886133e+09\n",
      " -4.21982070e+09 -6.16238048e+09 -8.99689682e+09 -1.31319512e+10\n",
      " -1.91628757e+10 -2.79569409e+10 -7.44546181e+10 -9.90439126e+10\n",
      " -1.49120718e+11 -2.11939301e+11 -3.09869705e+12 -1.18948357e+13\n",
      " -6.64418695e+12 -9.72764133e+12 -5.93619196e+14 -8.11468903e+14\n",
      " -3.05313162e+13 -1.51654369e+15 -6.54405621e+13 -9.58032503e+13\n",
      " -1.40249612e+14 -5.37725811e+15 -3.00544322e+14 -4.40022274e+14\n",
      " -6.44098950e+14 -9.42606039e+14 -1.37997951e+15 -2.01982984e+15\n",
      " -2.95627644e+15 -4.32676646e+15 -6.33242518e+15 -9.26754997e+15\n",
      " -1.35636670e+16 -1.98495184e+16 -2.90455603e+16 -4.25038592e+16\n",
      " -6.21964528e+16 -5.64843783e+16 -8.09686898e+16 -1.17858813e+17\n",
      " -1.73170859e+17 -2.52128567e+17 -3.67083391e+17 -5.34444863e+17\n",
      " -7.78102190e+17 -1.13283328e+18 -1.64926739e+18 -2.40110937e+18\n",
      " -3.49565611e+18 -5.08910548e+18 -7.40884139e+18 -1.07858741e+19\n",
      " -1.57020631e+19 -2.28588581e+19 -3.32773635e+19 -4.80331461e+19]\n"
     ]
    }
   ],
   "source": [
    "y = np.linspace(0.1,15.,100)\n",
    "print Vc2_ISMy_I(y)"
   ]
  },
  {
   "cell_type": "code",
   "execution_count": 6,
   "metadata": {},
   "outputs": [
    {
     "data": {
      "text/plain": [
       "[<matplotlib.lines.Line2D at 0x1132dc790>]"
      ]
     },
     "execution_count": 6,
     "metadata": {},
     "output_type": "execute_result"
    },
    {
     "data": {
      "image/png": "[encoded data removed]",
      "text/plain": [
       "<Figure size 432x288 with 1 Axes>"
      ]
     },
     "metadata": {
      "needs_background": "light"
     },
     "output_type": "display_data"
    }
   ],
   "source": [
    "plt.plot(y,Vc2_ISMy_I(y))"
   ]
  },
  {
   "cell_type": "code",
   "execution_count": 7,
   "metadata": {},
   "outputs": [],
   "source": [
    "R = np.linspace(0.1,15.,100)"
   ]
  },
  {
   "cell_type": "code",
   "execution_count": 8,
   "metadata": {},
   "outputs": [],
   "source": [
    "def func_R_I(u,beta,R,R_m=4.0e03,R_d=2.0e03):\n",
    "    exp1 = np.exp(-(R*np.cos(u)*np.cosh(beta))/(2.*R_d))\n",
    "    exp2 = np.exp(-R_m/(R*np.cos(u)*np.cosh(beta)))\n",
    "    t1 = (2.*R_m*R_d)/(R**2.*np.cos(u)**2.*np.cosh(beta)**2.) - 1.\n",
    "    t2 = np.cos(2.*u) + 1.\n",
    "    return exp1*t1*t2*exp2"
   ]
  },
  {
   "cell_type": "code",
   "execution_count": 13,
   "metadata": {},
   "outputs": [
    {
     "name": "stdout",
     "output_type": "stream",
     "text": [
      "[0.0, 0.0, 0.0, 0.0, 0.0, 0.0, 0.0, 0.0, 0.0, 0.0, 0.0, 0.0, 0.0, 0.0, 1.0568492075e-314, 1.4142179962760307e-294, 7.250071379847032e-277, 3.6652162097415117e-261, 3.8403949966478514e-247, 1.5070221813507322e-234, 3.568814088228448e-223, 7.525084027223341e-213, 1.946160717701542e-203, 8.055646855730851e-195, 6.669582721936614e-187, 1.3332084381915845e-179, 7.550190332051986e-173, 1.3889609087544193e-166, 9.337104289821994e-161, 2.53949218397235e-155, 3.053134768131449e-150, 1.75308343562939e-145, 5.1451146991643535e-141, 8.194046186149756e-137, 7.466031604052334e-133, 4.079144884359527e-129, 1.3935108957127643e-125, 3.089992001628662e-122, 4.5991053511997024e-119, 4.735359786005278e-116, 3.465794269120252e-113, 1.8479739491716304e-110, 7.340145314316806e-108, 2.2162342892053843e-105, 5.181177764153683e-103, 9.537664770591467e-101, 1.403878970962934e-98, 1.6757324019228904e-96, 1.6431526981727266e-94, 1.3393942836251681e-92, 9.175884459951438e-91, 5.336791786002095e-89, 2.6598448885295016e-87, 1.1458428641041017e-85, 4.300918140735975e-84, 1.4170645303275845e-82, 4.126746090978651e-81, 1.0690670885842958e-79, 2.478451870356894e-78, 5.170818699000578e-77, 9.759026600343598e-76, 1.6743267340281579e-74, 2.6232723504511342e-73, 3.7694185556494346e-72, 4.987427029078737e-71, 6.09940042468835e-70, 6.919028055731301e-69, 7.304632437199843e-68, 7.19963689430262e-67, 6.644573208783488e-66, 5.75811611467597e-65, 4.697810051640841e-64, 3.6173792562706287e-63, 2.6351132967281624e-62, 1.8200339339187214e-61, 1.194405286349271e-60, 7.462515187409994e-60, 4.447382542331423e-59, 2.5327483158459936e-58, 1.380673912340711e-57, 7.216192747115005e-57, 3.621719711412098e-56, 1.748036630270751e-55, 8.125010095269675e-55, 3.641790203883751e-54, 1.5760733830608341e-53, 6.593800245277211e-53, 2.6699077561680863e-52, 1.0474623407280711e-51, 3.9858541116566586e-51, 1.472597542987581e-50, 5.287448542682379e-50, 1.8467548309928362e-49, 6.279973145530064e-49, 2.0809420254509844e-48, 6.724633632573453e-48, 2.1209084816049336e-47, 6.533474938412643e-47, 1.967191893184827e-46, 5.793328064497625e-46]\n"
     ]
    }
   ],
   "source": [
    "fun = []\n",
    "t = np.pi/2.-0.1\n",
    "for i in range (0,len(R)):\n",
    "    integ = lambda beta,u: func_R_I(u,beta,R[i])\n",
    "    resul = integrate.dblquad(integ,0.1,1.,lambda u: 0.1, lambda u: np.pi/2.)[0]\n",
    "    fun.append(resul)\n",
    "print fun"
   ]
  },
  {
   "cell_type": "code",
   "execution_count": 15,
   "metadata": {},
   "outputs": [
    {
     "data": {
      "text/plain": [
       "[<matplotlib.lines.Line2D at 0x113455610>]"
      ]
     },
     "execution_count": 15,
     "metadata": {},
     "output_type": "execute_result"
    },
    {
     "data": {
      "image/png": "[encoded data removed]",
      "text/plain": [
       "<Figure size 432x288 with 1 Axes>"
      ]
     },
     "metadata": {
      "needs_background": "light"
     },
     "output_type": "display_data"
    }
   ],
   "source": [
    "plt.plot(R,fun)"
   ]
  },
  {
   "cell_type": "code",
   "execution_count": 16,
   "metadata": {},
   "outputs": [],
   "source": [
    "def func_R_I_(u,beta,R,R_m=4.0e03,R_d=2.0e03):\n",
    "    exp1 = np.exp(-(R*np.cos(u)*np.cosh(beta))/(2.*R_d))\n",
    "    exp2 = np.exp(-R_m/(R*np.cos(u)*np.cosh(beta)))\n",
    "    t1 = (2.*R_m*R_d)/(R**2.*np.cos(u)**2.*np.cosh(beta)**2.) - 1.\n",
    "    t2 = np.cos(2.*u) + 1.\n",
    "    return exp1*t1*t2#*exp2"
   ]
  },
  {
   "cell_type": "code",
   "execution_count": 19,
   "metadata": {},
   "outputs": [
    {
     "name": "stderr",
     "output_type": "stream",
     "text": [
      "/Users/atalia/miniconda2/lib/python2.7/site-packages/ipykernel_launcher.py:3: RuntimeWarning: overflow encountered in exp\n",
      "  This is separate from the ipykernel package so we can avoid doing imports until\n"
     ]
    },
    {
     "name": "stdout",
     "output_type": "stream",
     "text": [
      "[-2186850916.4700184, -258945802.6502947, -66108448.64160575, 963275980392830.9, 594497365716446.5, 403104991844584.44, 291197804933790.5, 13121523.15377, 13570959.761651114, 13562945.573093839, 13319080.130758844, 12955817.223128326, 12536627.887918089, 12096845.003295694, 11656293.918597689, 11226017.090117907, 10811944.726956908, 10417002.230268003, 10042336.483848266, 9688046.019331357, 9353622.3275398, 9038219.399011074, 8740819.1495004, 8460332.812537149, 8195662.487293416, 7945737.687983932, 7709536.139270256, 7486094.638868811, 7274513.692128321, 7073958.2893968895, 6883656.351506108, 6702895.826046057, 6531021.063795908, 6367428.879432196, 6211564.54767986, 6062917.890439552, 5921019.545624303, 5785437.466931259, 5655773.676790626, 5531661.27774319, 5412761.7168428255, 5298762.291348973, 5189373.880633281, 5084328.887486702, 4983379.371739182, 4886295.359305676, 4792863.310605944, 4702884.7332656495, 4616174.92524482, 4532561.835538503, 4451885.03092779, 4373994.758182213, 4298751.092267637, 4226023.16198652, 4155688.4453962403, 4087632.1280848198, 4021746.518129452, 3957930.512235809, 3896089.108028729, 3836132.958117657, 3777977.961891614, 3721544.8914948395, 3666759.048782786, 3613549.9503485486, 3561851.0380608914, 3511599.412769017, 3462735.5890815053, 3415203.26934723, 3368949.13511569, 3323922.6545656407, 3280075.9045014363, 3237363.4056667155, 3195741.970252824, 3155170.5605653, 3115610.157917595, 3077023.640922774, 3039375.6724006603, 3002632.594207256, 2966762.3293600897, 2931734.290877249, 2897519.296800263, 2864089.490929783, 2831418.2688244083, 2799480.208669356, 2768251.006652212, 2737707.4164952575, 2707827.19285419, 2678589.0382853597, 2649972.553536312, 2621958.1909111845, 2594527.210501464, 2567661.639063447, 2541344.2313865516, 2515558.433948461, 2490288.3507218407, 2465518.7109845304, 2441234.8389868345, 2417422.6253604502, 2394068.500162457, 2371159.4074253067]\n"
     ]
    }
   ],
   "source": [
    "fun_2 = []\n",
    "t = np.pi/2.-0.1\n",
    "for i in range (0,len(R)):\n",
    "    integ = lambda beta,u: func_R_I_(u,beta,R[i])\n",
    "    resul = integrate.dblquad(integ,0.1,np.inf,lambda u: 0.1, lambda u: t)[0]\n",
    "    fun_2.append(resul)\n",
    "print fun_2"
   ]
  },
  {
   "cell_type": "code",
   "execution_count": 10,
   "metadata": {},
   "outputs": [
    {
     "data": {
      "text/plain": [
       "[<matplotlib.lines.Line2D at 0x1103e7590>]"
      ]
     },
     "execution_count": 10,
     "metadata": {},
     "output_type": "execute_result"
    },
    {
     "data": {
      "image/png": "[encoded data removed]",
      "text/plain": [
       "<Figure size 432x288 with 1 Axes>"
      ]
     },
     "metadata": {
      "needs_background": "light"
     },
     "output_type": "display_data"
    }
   ],
   "source": [
    "plt.plot(R,fun)"
   ]
  },
  {
   "cell_type": "code",
   "execution_count": 20,
   "metadata": {},
   "outputs": [],
   "source": [
    "#Probar con el integrando con def function en vez de lambda"
   ]
  },
  {
   "cell_type": "code",
   "execution_count": null,
   "metadata": {},
   "outputs": [],
   "source": []
  }
 ],
 "metadata": {
  "kernelspec": {
   "display_name": "Python 2",
   "language": "python",
   "name": "python2"
  },
  "language_info": {
   "codemirror_mode": {
    "name": "ipython",
    "version": 2
   },
   "file_extension": ".py",
   "mimetype": "text/x-python",
   "name": "python",
   "nbconvert_exporter": "python",
   "pygments_lexer": "ipython2",
   "version": "2.7.15"
  }
 },
 "nbformat": 4,
 "nbformat_minor": 2
}
