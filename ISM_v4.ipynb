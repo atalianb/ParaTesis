{
 "cells": [
  {
   "cell_type": "code",
   "execution_count": 1,
   "metadata": {},
   "outputs": [
    {
     "name": "stdout",
     "output_type": "stream",
     "text": [
      "Populating the interactive namespace from numpy and matplotlib\n"
     ]
    }
   ],
   "source": [
    "import numpy as np\n",
    "import matplotlib.pyplot as plt\n",
    "from scipy import integrate\n",
    "%pylab inline"
   ]
  },
  {
   "cell_type": "markdown",
   "metadata": {},
   "source": [
    "$$\\begin{equation}\n",
    "v_{c}^{2} = \\frac{4G\\Sigma_{g}R_{d}}{\\pi} y^{2}\\int_{0}^{\\pi/2}(\\cos(2u) + 1)du\\int_{0}^{\\infty}d\\beta exp(-y\\cos u\\cosh\\beta -\\frac{R_{m}}{2*R_{d}y\\cos u \\cosh\\beta})(\\frac{R_{m}}{2R_{d}y^{2}\\cos^{2}u\\cosh^{2}\\beta} -1)\n",
    "\\end{equation}$$\n",
    "$$\\begin{equation}\n",
    "\\frac{v_{c}^{2}\\pi}{4G\\Sigma_{g}R_{d}} =  y^{2}\\int_{0}^{\\pi/2}(\\cos(2u) + 1)du\\int_{0}^{\\infty}d\\beta exp(-y\\cos u\\cosh\\beta -\\frac{R_{m}}{2*R_{d}y\\cos u \\cosh\\beta})(\\frac{R_{m}}{2R_{d}y^{2}\\cos^{2}u\\cosh^{2}\\beta} -1)\n",
    "\\end{equation}$$"
   ]
  },
  {
   "cell_type": "markdown",
   "metadata": {},
   "source": [
    "donde $y = \\frac{R}{2R_{d}}$, por lo que $v_{c}^{2}(R)$ es \n",
    "$$\\begin{equation}\n",
    "v_{c}^{2} = \\frac{G\\Sigma_{g}R^{2}}{\\pi R_{d}}\\int_{0}^{\\pi/2}(\\cos2u + 1)du\\int_{0}^{\\infty} d\\beta exp(-\\frac{R\\cos u \\cosh\\beta}{2R_{d}} -\\frac{R_{m}}{R\\cos u \\cosh\\beta})(\\frac{2R_{m}R_{d}}{R^{2}\\cos^{2}u\\cosh^{2}\\beta} -1)\n",
    "\\end{equation}$$\n",
    "$$\\begin{equation}\n",
    "\\frac{v_{c}^{2}\\pi R_{d}}{G\\Sigma_{g}} = R^{2}\\int_{0}^{\\pi/2}(\\cos2u + 1)du\\int_{0}^{\\infty} d\\beta exp(-\\frac{R\\cos u \\cosh\\beta}{2R_{d}} -\\frac{R_{m}}{R\\cos u \\cosh\\beta})(\\frac{2R_{m}R_{d}}{R^{2}\\cos^{2}u\\cosh^{2}\\beta} -1)\n",
    "\\end{equation}$$"
   ]
  },
  {
   "cell_type": "code",
   "execution_count": 2,
   "metadata": {},
   "outputs": [],
   "source": [
    "R = np.linspace(0.1,15.,100)"
   ]
  },
  {
   "cell_type": "code",
   "execution_count": 12,
   "metadata": {},
   "outputs": [],
   "source": [
    "def func_R_I(u,beta,R,R_m=4.,R_d=2.):\n",
    "    exp1 = np.exp(-(R*np.cos(u)*np.cosh(beta))/(2.*R_d))\n",
    "    exp2 = np.exp(-R_m/(R*np.cos(u)*np.cosh(beta)))\n",
    "    t1 = (2.*R_m*R_d)/(R**2.*np.cos(u)**2.*np.cosh(beta)**2.) - 1.\n",
    "    t2 = np.cos(2.*u) + 1.\n",
    "    return exp1*t1*t2*exp2*R**2."
   ]
  },
  {
   "cell_type": "code",
   "execution_count": 14,
   "metadata": {},
   "outputs": [
    {
     "name": "stderr",
     "output_type": "stream",
     "text": [
      "/Users/atalia/miniconda2/lib/python2.7/site-packages/ipykernel_launcher.py:3: RuntimeWarning: overflow encountered in exp\n",
      "  This is separate from the ipykernel package so we can avoid doing imports until\n",
      "/Users/atalia/miniconda2/lib/python2.7/site-packages/ipykernel_launcher.py:6: RuntimeWarning: overflow encountered in double_scalars\n",
      "  \n"
     ]
    },
    {
     "name": "stdout",
     "output_type": "stream",
     "text": [
      "[inf, inf, inf, inf, inf, inf, inf, inf, inf, inf, inf, inf, inf, inf, inf, inf, inf, inf, inf, inf, inf, inf, inf, inf, inf, inf, inf, inf, inf, inf, 9.380859177814076e+101, 5.0220435945109584e+98, 4.267138713792802e+95, 5.522337160423649e+92, 1.0495792608176021e+90, 2.836385884708926e+87, 1.058907149536895e+85, 5.322396865220267e+82, 3.5195356002583505e+80, 2.998995256822268e+78, 3.231835977198534e+76, 4.3306940355206266e+74, 7.106260263458468e+72, 1.408157291185326e+71, 3.327213385739584e+69, 9.266273860103171e+67, 3.009754188770873e+66, 1.1291468518288169e+65, 4.849549979673166e+63, 2.3650119812743113e+62, 1.299798066188126e+61, 7.994883011991178e+59, 5.468325114953398e+58, 4.134497343549117e+57, 3.4365790408712896e+56, 3.1242525790395393e+55, 3.0918597854675544e+54, 3.3161036871931323e+53, 3.8386878693469506e+52, 4.7776636185503546e+51, 6.370421256348525e+50, 9.069501712060987e+49, 1.374349965112003e+49, 2.21019997450111e+48, 3.761724092232859e+47, 6.758298106491106e+46, 1.278569371224934e+46, 2.5412764618015218e+45, 5.295199963942715e+44, 1.1543345640666183e+44, 2.627641033069387e+43, 6.234448773985272e+42, 1.5391602318877614e+42, 3.9474790406078794e+41, 1.0501231947877372e+41, 2.8934401466004858e+40, 8.246030285753177e+39, 2.427530293884969e+39, 7.372854864144407e+38, 2.3075282219799026e+38, 7.433837106296481e+37, 2.4624754981061114e+37, 8.378845696031367e+36, 2.9257110290943e+36, 1.0474058009170815e+36, 3.8410928625246506e+35, 1.441745000723655e+35, 5.534393029433356e+34, 2.1710465521472653e+34, 8.69701688648792e+33, 3.555264428829521e+33, 1.4821271695959566e+33, 6.297019050957136e+32, 2.724936148369382e+32, 1.2003182703252652e+32, 5.379139829276212e+31, 2.451168625208273e+31, 1.135153560574347e+31, 5.340024997163514e+30, 2.5505507955146043e+30]\n"
     ]
    }
   ],
   "source": [
    "fun = []\n",
    "t = np.pi/2.-0.1\n",
    "for i in range (0,len(R)):\n",
    "    integ = lambda u,beta: func_R_I(u,beta,R[i])\n",
    "    resul = integrate.dblquad(integ,0.1,np.pi/2.,lambda u: 0.1, lambda u: np.inf)[0]\n",
    "    fun.append(resul)\n",
    "print fun"
   ]
  },
  {
   "cell_type": "code",
   "execution_count": 15,
   "metadata": {},
   "outputs": [],
   "source": [
    "#Constants\n",
    "G = 4.302e-6#kpc/SM(km/s)^2\n",
    "q_b = 0.6\n",
    "r_b = 1.9#kpc\n",
    "a_b = 1.#kpc\n",
    "q_h = 0.8\n",
    "alpha_b = 1.8\n",
    "R_m = 4.#kpc\n",
    "#parameters model I\n",
    "rho_b_I = 0.427e9#sM/kpc^3\n",
    "a_h_I = 3.83#kpc\n",
    "rho_h_I = 0.711e9#SM/kpc^3\n",
    "alpha_h_I = -2.\n",
    "beta_h_I = 2.96\n",
    "R_d_I = 2.0#kpc\n",
    "R_d_II = 3.2#kpc\n",
    "Sigma_d_SD_I = (1905.0e6)*0.75#SM/kpc^2\n",
    "Sigma_g_ISM_I = (1905.0e6)*0.25#SM/kpc^2\n",
    "#parameters model II\n",
    "rho_b_II = 0.3e9#sM/kpc^3\n",
    "a_h_II = 1.9#kpc\n",
    "rho_h_II = 0.266e9#SM/kpc^3\n",
    "alpha_h_II = 1.63\n",
    "beta_h_II = 2.17\n",
    "R_d_II = 3.2#kpc\n",
    "Sigma_d_SD_II = (536.0e6)*0.75#SM/kpc^2\n",
    "Sigma_g_ISM_II = (536.0e6)*0.25#SM/kpc^2"
   ]
  },
  {
   "cell_type": "code",
   "execution_count": 16,
   "metadata": {},
   "outputs": [],
   "source": [
    "vel_integral_I = np.array(fun)"
   ]
  },
  {
   "cell_type": "code",
   "execution_count": 18,
   "metadata": {},
   "outputs": [
    {
     "name": "stdout",
     "output_type": "stream",
     "text": [
      "[           inf            inf            inf            inf\n",
      "            inf            inf            inf            inf\n",
      "            inf            inf            inf            inf\n",
      "            inf            inf            inf            inf\n",
      "            inf            inf            inf            inf\n",
      "            inf            inf            inf            inf\n",
      "            inf            inf            inf            inf\n",
      "            inf            inf 1.74897689e+52 4.04671857e+50\n",
      " 1.17959017e+49 4.24350016e+47 1.84999427e+46 9.61712854e+44\n",
      " 5.87613417e+43 4.16597242e+42 3.38770390e+41 3.12716396e+40\n",
      " 3.24629078e+39 3.75786794e+38 4.81374763e+37 6.77623326e+36\n",
      " 1.04160508e+36 1.73826237e+35 3.13276831e+34 6.06789388e+33\n",
      " 1.25751589e+33 2.77702274e+32 6.51029557e+31 1.61461439e+31\n",
      " 4.22269707e+30 1.16111202e+30 3.34754121e+29 1.00933616e+29\n",
      " 3.17521150e+28 1.03986465e+28 3.53797014e+27 1.24816083e+27\n",
      " 4.55771158e+26 1.71970707e+26 6.69439649e+25 2.68459358e+25\n",
      " 1.10753187e+25 4.69441452e+24 2.04185506e+24 9.10308756e+23\n",
      " 4.15531494e+23 1.94012009e+23 9.25647816e+22 4.50880854e+22\n",
      " 2.24029227e+22 1.13454749e+22 5.85171126e+21 3.07163788e+21\n",
      " 1.63977864e+21 8.89703077e+20 4.90321126e+20 2.74306611e+20\n",
      " 1.55693070e+20 8.96083999e+19 5.22702840e+19 3.08871955e+19\n",
      " 1.84807780e+19 1.11915481e+19 6.85657120e+18 4.24812964e+18\n",
      " 2.66070871e+18 1.68402262e+18 1.07670993e+18 6.95193171e+17\n",
      " 4.53137774e+17 2.98085553e+17 1.97838573e+17 1.32440002e+17\n",
      " 8.94024371e+16 6.08401213e+16 4.17286571e+16 2.88389704e+16]\n"
     ]
    }
   ],
   "source": [
    "C = (G*Sigma_g_ISM_I)/(np.pi*R_d_I)\n",
    "vel = np.sqrt(C*vel_integral_I)\n",
    "print vel"
   ]
  },
  {
   "cell_type": "code",
   "execution_count": 19,
   "metadata": {},
   "outputs": [
    {
     "data": {
      "text/plain": [
       "[<matplotlib.lines.Line2D at 0x11c8b2cd0>]"
      ]
     },
     "execution_count": 19,
     "metadata": {},
     "output_type": "execute_result"
    },
    {
     "data": {
      "image/png": "[encoded data removed]",
      "text/plain": [
       "<Figure size 432x288 with 1 Axes>"
      ]
     },
     "metadata": {
      "needs_background": "light"
     },
     "output_type": "display_data"
    }
   ],
   "source": [
    "plt.plot(R,vel)"
   ]
  },
  {
   "cell_type": "code",
   "execution_count": 20,
   "metadata": {},
   "outputs": [],
   "source": [
    "#Probar con el integrando con def function en vez de lambda"
   ]
  },
  {
   "cell_type": "code",
   "execution_count": 23,
   "metadata": {},
   "outputs": [],
   "source": [
    "def func_R_II(u,beta,R,R_m=4.,R_d=3.2):\n",
    "    exp1 = np.exp(-(R*np.cos(u)*np.cosh(beta))/(2.*R_d))\n",
    "    exp2 = np.exp(-R_m/(R*np.cos(u)*np.cosh(beta)))\n",
    "    t1 = (2.*R_m*R_d)/(R**2.*np.cos(u)**2.*np.cosh(beta)**2.) - 1.\n",
    "    t2 = np.cos(2.*u) + 1.\n",
    "    return exp1*t1*t2*exp2*R**2."
   ]
  },
  {
   "cell_type": "code",
   "execution_count": 24,
   "metadata": {},
   "outputs": [
    {
     "name": "stderr",
     "output_type": "stream",
     "text": [
      "/Users/atalia/miniconda2/lib/python2.7/site-packages/ipykernel_launcher.py:3: RuntimeWarning: overflow encountered in exp\n",
      "  This is separate from the ipykernel package so we can avoid doing imports until\n",
      "/Users/atalia/miniconda2/lib/python2.7/site-packages/ipykernel_launcher.py:6: RuntimeWarning: overflow encountered in double_scalars\n",
      "  \n"
     ]
    },
    {
     "name": "stdout",
     "output_type": "stream",
     "text": [
      "[inf, inf, inf, inf, inf, inf, inf, inf, inf, inf, inf, inf, inf, inf, inf, inf, inf, inf, inf, inf, inf, inf, inf, inf, inf, inf, inf, inf, inf, inf, 1.4985895158219783e+102, 8.022290851962525e+98, 6.816046421909554e+95, 8.820568004927571e+92, 1.6763578485454737e+90, 4.5299631177722095e+87, 1.6910836564904835e+85, 8.499479473307015e+82, 5.62015511489428e+80, 4.7886884777575795e+78, 5.1602172557748175e+76, 6.91439280541339e+74, 1.1345288090721067e+73, 2.248037037500882e+71, 5.3114222113558605e+69, 1.4791532807125521e+68, 4.8041544164888536e+66, 1.802246710940355e+65, 7.740038807929787e+63, 3.774443519666655e+62, 2.074308569344921e+61, 1.2758143406472852e+60, 8.725846865415774e+58, 6.597112232630717e+57, 5.483216450779473e+56, 4.984631869151697e+55, 4.932699345008181e+54, 5.290185008218368e+53, 6.123552780817975e+52, 7.62103827524891e+51, 1.0161191499855798e+51, 1.4465645715675433e+50, 2.1919449769329363e+49, 3.524859406050844e+48, 5.9989478668791454e+47, 1.0777137291006713e+47, 2.0387702676108736e+46, 4.052041037688342e+45, 8.44271666716306e+44, 1.8403883708601014e+44, 4.189109848025663e+43, 9.938748701697647e+42, 2.453552867093732e+42, inf, 1.6738160185461896e+41, 4.611687983084643e+40, 1.3142206460084998e+40, 3.868708142101239e+39, 1.17493798779186e+39, 3.67708979791496e+38, 1.1845358553281924e+38, 3.923602903143463e+37, 1.3349816088888244e+37, 4.6612294569992426e+36, 1.6686374789966472e+36, 6.118990711886352e+35, 2.2966319998675193e+35, 8.815580753170526e+34, 3.458024304701961e+34, 1.3851831389990477e+34, 5.662220409638485e+33, 2.360360369723611e+33, 1.002780402126692e+33, 4.339154840603573e+32, 1.911275198120086e+32, 8.564808035234252e+31, 3.9026174611583534e+31, 1.8072382386453573e+31, 8.501236161345593e+30, 4.0602312551179727e+30]\n"
     ]
    }
   ],
   "source": [
    "fun_II = []\n",
    "t = np.pi/2.-0.1\n",
    "for i in range (0,len(R)):\n",
    "    integral_II = lambda u,beta: func_R_II(u,beta,R[i])\n",
    "    resultado_II = integrate.dblquad(integral_II,0.1,np.pi/2.,lambda u: 0.1, lambda u: np.inf)[0]\n",
    "    fun_II.append(resultado_II)\n",
    "print fun_II"
   ]
  },
  {
   "cell_type": "code",
   "execution_count": 25,
   "metadata": {},
   "outputs": [
    {
     "name": "stdout",
     "output_type": "stream",
     "text": [
      "[           inf            inf            inf            inf\n",
      "            inf            inf            inf            inf\n",
      "            inf            inf            inf            inf\n",
      "            inf            inf            inf            inf\n",
      "            inf            inf            inf            inf\n",
      "            inf            inf            inf            inf\n",
      "            inf            inf            inf            inf\n",
      "            inf            inf 9.26998479e+51 2.14480038e+50\n",
      " 6.25178374e+48 2.24898186e+47 9.80440048e+45 5.09665234e+44\n",
      " 3.11401158e+43 2.20766840e+42 1.79519582e+41 1.65708952e+40\n",
      " 1.72017119e+39 1.99119916e+38 2.55061812e+37 3.59037166e+36\n",
      " 5.51878010e+35 9.20967421e+34 1.65976329e+34 3.21473218e+33\n",
      " 6.66207083e+32 1.47117434e+32 3.44885041e+31 8.55325493e+30\n",
      " 2.23687374e+30 6.15055934e+29 1.77319040e+29 5.34631104e+28\n",
      " 1.68182188e+28 5.50773589e+27 1.87386979e+27 6.61065889e+26\n",
      " 2.41384842e+26 9.10765537e+25 3.54529600e+25 1.42170201e+25\n",
      " 5.86509729e+24 2.48593280e+24 1.08123930e+24 4.82030584e+23\n",
      " 2.20028422e+23 1.02728848e+23 4.90115628e+22 2.38728095e+22\n",
      " 1.18613846e+22            inf 3.09807221e+21 1.62617633e+21\n",
      " 8.68104124e+20 4.70999732e+20 2.59564413e+20 1.45207750e+20\n",
      " 8.24160474e+19 4.74329571e+19 2.76678440e+19 1.63488767e+19\n",
      " 9.78179763e+18 5.92348883e+18 3.62897004e+18 2.24834597e+18\n",
      " 1.40815901e+18 8.91233033e+17 5.69811306e+17 3.67897498e+17\n",
      " 2.39795261e+17 1.57739424e+17 1.04688575e+17 7.00803873e+16\n",
      " 4.73059391e+16 3.21918088e+16 2.20789653e+16 1.52585429e+16]\n"
     ]
    }
   ],
   "source": [
    "vel2arrayII = np.array(fun_II)\n",
    "C = (G*Sigma_g_ISM_II)/(np.pi*R_d_II)\n",
    "vel_II = np.sqrt(C*vel2arrayII)\n",
    "print vel_II"
   ]
  },
  {
   "cell_type": "code",
   "execution_count": 32,
   "metadata": {},
   "outputs": [
    {
     "data": {
      "text/plain": [
       "(0, 2e+30)"
      ]
     },
     "execution_count": 32,
     "metadata": {},
     "output_type": "execute_result"
    },
    {
     "data": {
      "image/png": "[encoded data removed]",
      "text/plain": [
       "<Figure size 432x288 with 1 Axes>"
      ]
     },
     "metadata": {
      "needs_background": "light"
     },
     "output_type": "display_data"
    }
   ],
   "source": [
    "plt.plot(R,vel_II)\n",
    "plt.xlim(6,15)\n",
    "plt.ylim(0,2e30)"
   ]
  },
  {
   "cell_type": "code",
   "execution_count": null,
   "metadata": {},
   "outputs": [],
   "source": []
  }
 ],
 "metadata": {
  "kernelspec": {
   "display_name": "Python 2",
   "language": "python",
   "name": "python2"
  },
  "language_info": {
   "codemirror_mode": {
    "name": "ipython",
    "version": 2
   },
   "file_extension": ".py",
   "mimetype": "text/x-python",
   "name": "python",
   "nbconvert_exporter": "python",
   "pygments_lexer": "ipython2",
   "version": "2.7.15"
  }
 },
 "nbformat": 4,
 "nbformat_minor": 2
}
