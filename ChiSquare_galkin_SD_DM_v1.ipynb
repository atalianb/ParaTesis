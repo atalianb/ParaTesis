{
 "cells": [
  {
   "cell_type": "code",
   "execution_count": 1,
   "metadata": {},
   "outputs": [
    {
     "name": "stdout",
     "output_type": "stream",
     "text": [
      "Populating the interactive namespace from numpy and matplotlib\n"
     ]
    }
   ],
   "source": [
    "import numpy as np\n",
    "import matplotlib.pyplot as plt\n",
    "from scipy import integrate\n",
    "from scipy.optimize import minimize\n",
    "from scipy.special import kn\n",
    "import galkin\n",
    "import galkin.processdata   # routines to process kinematic data\n",
    "import galkin.readparsFile  # routines to read and check input parameters\n",
    "%pylab inline"
   ]
  },
  {
   "cell_type": "code",
   "execution_count": 2,
   "metadata": {},
   "outputs": [],
   "source": [
    "#10.3, 15.3, 7.7from the paper\n",
    "# Galactic parameters\n",
    "R0=8.0# Galactocentric distance (kpc)\n",
    "V0=230.# local circular velocity (km/s)\n",
    "UsunINUSE=11.10# solar motion in the U-direction (km/s), e.g. from Schoenrich+ '10, MNRAS 403, 1829 (2010)\n",
    "VsunINUSE=12.24# solar motion in the V-direction (km/s), e.g. from Schoenrich+ '10, MNRAS 403, 1829 (2010)\n",
    "WsunINUSE=07.25# solar motion in the W-direction (km/s), e.g. from Schoenrich+ '10, MNRAS 403, 1829 (2010)\n",
    "SYSTDISP=0.# systematic dispersion due to spiral arm streaming (km/s)"
   ]
  },
  {
   "cell_type": "code",
   "execution_count": 3,
   "metadata": {},
   "outputs": [],
   "source": [
    "# Flags\n",
    "flagPROPERMOTIONS=0\t \t\t\t# proper motions not supported in current version - please keep at 0\n",
    "flagHITERMINAL=0\t\t\t\t# whether to use HI terminal velocities\n",
    "flagFich89tab2=0\t\t\t\t# whether to use Fich+ '89, ApJ 342, 272 (1989) (Table 2)\n",
    "flagMalhotra95=0\t\t\t\t# whether to use Malhotra '95, ApJ 448, 138 (1995)\n",
    "flagMcClureGriffithsDickey07=0\t\t\t# whether to use McClure-Griffiths & Dickey '07, ApJ 671, 427 (2007)\n",
    "flagHITHICKNESS=0\t\t\t\t# whether to use the HI thickness method\n",
    "flagHonmaSofue97=0\t\t\t\t# whether to use Honma & Sofue '97, PASJ 49, 453 (1997)\n",
    "flagCOTERMINAL=1\t\t\t\t# whether to use CO terminal velocities\n",
    "flagBurtonGordon78=0\t\t\t\t# whether to use Burton & Gordon '78, A&A 63, 7 (1978)\n",
    "flagClemens85=0\t\t\t\t\t# whether to use Clemens '85, ApJ 295, 422 (1985)\n",
    "flagKnapp85=1\t\t\t\t\t# whether to use Knapp+ '85, AJ 90, 2 (1985)\n",
    "flagLuna06=0\t\t\t\t\t# whether to use Luna+ '06, ApJ 641, 938 (2006)\n",
    "flagHIIREGIONS=1\t\t\t\t# whether to use HII regions\n",
    "flagBlitz79=0\t\t\t\t\t# whether to use Blitz '79, ApJL 231, L115 (1979)\n",
    "flagFich89tab1=0\t\t\t\t# whether to use Fich+ '89, ApJ 342, 272 (1989) (Table 1)\t\n",
    "flagTurbideMoffat93=0\t\t\t\t# whether to use Turbide & Moffat '93, AJ 105, 5 (1993)\n",
    "flagBrandBlitz93=0\t\t\t\t# whether to use Brand & Blitz '93, A&A 275, 67 (1993)\n",
    "flagHou09tabA1=1\t\t\t\t# whether to use Hou+ '09, A&A 499, 473 (2009) (Table A1)\n",
    "flagGMC=0\t\t\t\t\t# whether to use giant molecular clouds\n",
    "flagHou09tabA2=0\t\t\t\t# whether to use Hou+ '09, A&A 499, 473 (2009) (Table A2)\n",
    "##\n",
    "flagOPENCLUSTERS=0\t\t\t\t# whether to use open clusters\n",
    "flagFrinchaboyMajewski08=0\t\t\t# whether to use Frinchaboy & Majewski '08, AJ 136, 118 (2008)\n",
    "flagPLANETARYNEBULAE=0\t\t\t\t# whether to use planetary nebulae\n",
    "flagDurand98=0\t\t\t\t\t# whether to use Durand+ '98, A&AS 132, 13 (1998)\n",
    "flagCEPHEIDS=1\t\t\t\t\t# whether to use classical cepheids\n",
    "flagPont94=1\t\t\t\t\t# whether to use Pont+ '94, A&A 285, 415 (1994)\n",
    "flagPont97=0\t\t\t\t\t# whether to use Pont+ '97, A&A 318, 416 (1997)\n",
    "flagCSTARS=0\t\t\t\t\t# whether to use carbon stars\n",
    "flagDemersBattinelli07=0\t\t\t# whether to use Demers & Battinelli '07, A&A 473, 143 (2007)\n",
    "flagBattinelli12=0\t\t\t\t# whether to use Battinelli+ '12, Ap 56, 68 (2013)\n",
    "###\n",
    "flagMASERS=0\t\t\t\t\t# whether to use masers\n",
    "flagReid14=0\t\t\t\t\t# whether to use Reid+ '14, ApJ 783, 130 (2014)\n",
    "flagHonma12=0\t\t\t\t\t# whether to use Honma+ '12, PASJ 64, 136 (2012)\n",
    "flagStepanishchevBobylev11=0\t\t\t# whether to use Stepanishchev & Bobylev '11, AstL 37, 4 (2011)\n",
    "flagXu13=0\t\t\t\t\t# whether to use Xu+ '13, ApJ 769, 15 (2013)\n",
    "flagBobylevBajkova13=0\t\t\t\t# whether to use Bobylev & Bajkova '13, AstL 39, 809 (2013)\n",
    "##\n",
    "flagastropy=0\t\t\t\t \t# whether to use astropy for equatorial-to-galactic conversions"
   ]
  },
  {
   "cell_type": "code",
   "execution_count": 4,
   "metadata": {},
   "outputs": [],
   "source": [
    "inputpars=(R0,V0,UsunINUSE,VsunINUSE,WsunINUSE,SYSTDISP, flagPROPERMOTIONS,flagHITERMINAL,flagFich89tab2,flagMalhotra95,flagMcClureGriffithsDickey07, flagHITHICKNESS,flagHonmaSofue97,flagCOTERMINAL,flagBurtonGordon78,flagClemens85,flagKnapp85,flagLuna06, flagHIIREGIONS,flagBlitz79,flagFich89tab1,flagTurbideMoffat93,flagBrandBlitz93,flagHou09tabA1, flagGMC,flagHou09tabA2,flagOPENCLUSTERS,flagFrinchaboyMajewski08,flagPLANETARYNEBULAE,flagDurand98,flagCEPHEIDS,flagPont94,flagPont97, flagCSTARS,flagDemersBattinelli07,flagBattinelli12, flagMASERS,flagReid14,flagHonma12,flagStepanishchevBobylev11,flagXu13,flagBobylevBajkova13,flagastropy)"
   ]
  },
  {
   "cell_type": "code",
   "execution_count": 5,
   "metadata": {},
   "outputs": [
    {
     "name": "stdout",
     "output_type": "stream",
     "text": [
      "checking validity of input parameters...\n",
      "printing input parameters...\n",
      " R0=  8.0  kpc\n",
      " V0=  230.0  km/s\n",
      " (Usun,Vsun,Wsun) = ( 11.1 , 12.24 , 7.25 ) km/s\n",
      " systematic dispersion =  0.0  km/s\n",
      " use HI terminal velocities?            0\n",
      " use HI thickness method?               0\n",
      " use CO terminal velocities?            1\n",
      "  use Burton & Gordon 78?                 0\n",
      "  use Clemens 85?                         0\n",
      "  use Knapp+ 85?                          1\n",
      "  use Luna+ 06?                           0\n",
      " use HII regions?                       1\n",
      "  use Blitz 79?                           0\n",
      "  use Fich+ 89 (Table 1)?                 0\n",
      "  use Turbide & Moffat 93?                0\n",
      "  use Brand & Blitz 93?                   0\n",
      "  use Hou+ 09 (Table A1)?                 1\n",
      " use giant molecular clouds?            0\n",
      " use open clusters?                     0\n",
      " use planetary nebulae?                 0\n",
      " use cepheids?                          1\n",
      "  use Pont+ 94?                           1\n",
      "  use Pont+ 97?                           0\n",
      " use C stars?                           0\n",
      " use masers?                            0\n",
      " use astropy?                           0\n"
     ]
    }
   ],
   "source": [
    "galkin.readparsFile.CheckAndPrintParameters(inputpars)"
   ]
  },
  {
   "cell_type": "code",
   "execution_count": 6,
   "metadata": {},
   "outputs": [
    {
     "name": "stdout",
     "output_type": "stream",
     "text": [
      "processing CO terminal velocities...\n",
      " processing Knapp+ 85...\n",
      "  selected  37  CO terminal velocities\n",
      "processing HII regions...\n",
      " processing Hou+ 09 (Table A1)...\n",
      "  selected  316  out of the total sample of  815  HII regions\n",
      "processing classical cepheids...\n",
      " processing Pont+ 94...\n",
      "  selected  245  out of the total sample of  278  cepheids\n"
     ]
    }
   ],
   "source": [
    "vecout=galkin.processdata.ProcessData(inputpars)\n",
    "totallistvc=vecout[0]"
   ]
  },
  {
   "cell_type": "code",
   "execution_count": 7,
   "metadata": {},
   "outputs": [],
   "source": [
    "vecRp    = np.array([row[0] for row in totallistvc])# galactocentric distance [kpc]\n",
    "vecerrRp = np.array([row[1] for row in totallistvc])# error in galactocentric distance [kpc]\n",
    "vecvRp   = np.array([row[2] for row in totallistvc])# rotation velocity [km/s]\n",
    "vecerrvRp= np.array([row[3] for row in totallistvc])# error in rotation velocity [km/s]"
   ]
  },
  {
   "cell_type": "code",
   "execution_count": 8,
   "metadata": {},
   "outputs": [],
   "source": [
    "#Constants\n",
    "G = 4.302e-6#kpc/SM(km/s)^2\n",
    "q_b = 0.6\n",
    "r_b = 1.9#kpc\n",
    "a_b = 1.#kpc\n",
    "q_h = 0.8\n",
    "alpha_b = 1.8\n",
    "R_m = 4.#kpc\n",
    "#parameters model I\n",
    "rho_b_I = 0.427e9#sM/kpc^3\n",
    "a_h_I = 3.83#kpc\n",
    "rho_h_I = 0.711e9#SM/kpc^3\n",
    "alpha_h_I = -2.\n",
    "beta_h_I = 2.96\n",
    "R_d_I = 2.0#kpc\n",
    "R_d_II = 3.2#kpc\n",
    "Sigma_d_SD_I = (1905.0e6)*0.75#SM/kpc^2\n",
    "Sigma_g_ISM_I = (1905.0e6)*0.25#SM/kpc^2\n",
    "#parameters model II\n",
    "rho_b_II = 0.3e9#sM/kpc^3\n",
    "a_h_II = 1.9#kpc\n",
    "rho_h_II = 0.266e9#SM/kpc^3\n",
    "alpha_h_II = 1.63\n",
    "beta_h_II = 2.17\n",
    "R_d_II = 3.2#kpc\n",
    "Sigma_d_SD_II = (536.0e6)*0.75#SM/kpc^2\n",
    "Sigma_g_ISM_II = (536.0e6)*0.25#SM/kpc^2"
   ]
  },
  {
   "cell_type": "code",
   "execution_count": 9,
   "metadata": {},
   "outputs": [
    {
     "name": "stdout",
     "output_type": "stream",
     "text": [
      "1428750000.0 402000000.0 476250000.0 134000000.0\n"
     ]
    }
   ],
   "source": [
    "print Sigma_d_SD_I,Sigma_d_SD_II,Sigma_g_ISM_I,Sigma_g_ISM_II"
   ]
  },
  {
   "cell_type": "code",
   "execution_count": 10,
   "metadata": {},
   "outputs": [],
   "source": [
    "def Vc2_b(R,rho_b,q_b=q_b,alpha_b=alpha_b,r_b=r_b,a_b=a_b):\n",
    "    def I_b(x,R):\n",
    "        e = np.sqrt(1. - q_b**2.)\n",
    "        n = x**(2.-alpha_b)*np.exp(-(R**2.*x**2.)/r_b**2.)\n",
    "        d = np.sqrt(1.-x**2.*e**2.)\n",
    "        t = R**2.*(R/a_b)**(-alpha_b)\n",
    "        return (t*n)/d\n",
    "    Rx = R.reshape(-1, 1)\n",
    "    yp = np.linspace(0.,1.,100).reshape(1,-1)#integration limits\n",
    "    dx = yp[0,1] - yp[0,0]\n",
    "    fun = I_b(yp,Rx)\n",
    "    res_int = integrate.simps(fun,dx=dx)\n",
    "    return 4.*np.pi*G*q_b*rho_b*res_int"
   ]
  },
  {
   "cell_type": "code",
   "execution_count": 11,
   "metadata": {},
   "outputs": [],
   "source": [
    " def Vc2_DM(R,a_h,rho_h,alpha_h,beta_h,q_h=q_h):\n",
    "    def I_h(x,R):\n",
    "        e = np.sqrt(1.- q_h**2.)\n",
    "        n = x**(2.-alpha_h)*(1.+ (x*R)/(a_h))**(alpha_h-beta_h)\n",
    "        d = np.sqrt(1-x**2.*e**2)\n",
    "        t = R**2.*(R/a_h)**(-alpha_h)\n",
    "        result = (t*n)/d\n",
    "        return result\n",
    "    Rx = R.reshape(-1, 1)\n",
    "    yp = np.linspace(0.,1.,100).reshape(1,-1)#integration limits\n",
    "    dx = yp[0,1] - yp[0,0]\n",
    "    fun = I_h(yp,Rx)\n",
    "    res_int = integrate.simps(fun,dx=dx)\n",
    "    return 4.*np.pi*G*q_h*rho_h*res_int"
   ]
  },
  {
   "cell_type": "code",
   "execution_count": 12,
   "metadata": {},
   "outputs": [],
   "source": [
    "def Vc2_SD_simps(R,R_d,Sigma_d_SD,z=0.,alpha_0=0.5,z1=1.,z0=0.3):\n",
    "    def I_SD(zp,a,R):\n",
    "        d = np.sqrt((a+R)**2. + (z-zp)**2.) + np.sqrt((a-R)**2. + (z-zp)**2.)\n",
    "        u = (2.*a)/d\n",
    "        t2 = u/np.sqrt(1-u**2.)\n",
    "        t1 = (a+R)/(np.sqrt((a+R)**2. + (z-zp)**2.)) - (a-R)/(np.sqrt((a-R)**2. + (z-zp)**2.))\n",
    "        g = -a*kn(0,a/R_d)*t2*t1/d\n",
    "        f = (alpha_0*np.exp(-abs(zp)/z0))/(2.*z0) + np.exp(-abs(zp)/z1)/(2.*z1) - (alpha_0*np.exp(-abs(zp)/z1))/(2.*z1)\n",
    "        return R*f*g\n",
    "    Integral_SD_sims = []\n",
    "    a_lims = np.linspace(0.1, 20.0,2*len(R))#200\n",
    "    zp_lims = np.linspace(-20.0,20.0,4*len(R))#400\n",
    "    fun_zp = np.zeros(len(zp_lims))\n",
    "    for k in range(0,len(R)):\n",
    "        for i in range(0,len(zp_lims)):\n",
    "            fun_zp[i] = integrate.simps(I_SD(zp_lims[i],a_lims,R[k]),a_lims)\n",
    "        result = integrate.simps(fun_zp,zp_lims)\n",
    "        Integral_SD_sims.append(result)\n",
    "    return -4.*G*Sigma_d_SD*np.array(Integral_SD_sims)/R_d"
   ]
  },
  {
   "cell_type": "code",
   "execution_count": 13,
   "metadata": {},
   "outputs": [],
   "source": [
    "def Vc2_ISM_ap(R,R_d,Sigma_g_ISM,R_m=R_m):\n",
    "    def M_g_ISM(u,R):\n",
    "        return R*u*np.exp(-((R*u)/(2.*R_d))-(R_m/(R*u)))\n",
    "    Integral_M_g = []\n",
    "    for i in range (0,len(R)):\n",
    "        result = integrate.quad(M_g_ISM,0,1,args=(R[i]))[0]\n",
    "        Integral_M_g.append(result)\n",
    "    return 2.*np.pi*Sigma_g_ISM*G*np.array(Integral_M_g)"
   ]
  },
  {
   "cell_type": "code",
   "execution_count": 14,
   "metadata": {},
   "outputs": [],
   "source": [
    "Bulge_I=Vc2_b(vecRp,rho_b_I)\n",
    "Bulge_II=Vc2_b(vecRp,rho_b_II)"
   ]
  },
  {
   "cell_type": "code",
   "execution_count": 15,
   "metadata": {},
   "outputs": [],
   "source": [
    "def Vc_tot_R_d_rho_h(R,parameter,parameters):\n",
    "    R_d,rho_h = parameter\n",
    "    Sigma_d_SD,rho_b,a_h,alpha_h,beta_h,Sigma_g_ISM = parameters\n",
    "    suma = Vc2_b(R,rho_b) + Vc2_DM(R,a_h,rho_h,alpha_h,beta_h) + Vc2_SD(R,R_d,Sigma_d_SD) + Vc2_ISM(R,R_d,Sigma_g_ISM)\n",
    "    return np.sqrt(suma)"
   ]
  },
  {
   "cell_type": "code",
   "execution_count": 16,
   "metadata": {},
   "outputs": [],
   "source": [
    "params_wo_R_d_rho_h_II = np.array([Sigma_d_SD_II,rho_b_II,a_h_II,alpha_h_II,beta_h_II,Sigma_g_ISM_II])\n",
    "params_wo_R_d_rho_h_I = np.array([Sigma_d_SD_I,rho_b_I,a_h_I,alpha_h_I,beta_h_I,Sigma_g_ISM_I])\n",
    "params_wo_R_d_rho_h_NFW_I = np.array([Sigma_d_SD_I,rho_b_I,a_h_I,1.,3.,Sigma_g_ISM_I])\n",
    "params_wo_R_d_rho_h_NFW_II = np.array([Sigma_d_SD_II,rho_b_II,a_h_II,1.,3.,Sigma_g_ISM_II])"
   ]
  },
  {
   "cell_type": "code",
   "execution_count": null,
   "metadata": {},
   "outputs": [],
   "source": [
    "def Xi2_R_d(parameter):\n",
    "    R_d = parameter\n",
    "    model = Vc_tot_R_d(vecRp,parameter,params_wo_R_d)\n",
    "    xi = np.sum((vecvRp-model)**2./(vecerrvRp)**2.)\n",
    "    return xi"
   ]
  },
  {
   "cell_type": "code",
   "execution_count": null,
   "metadata": {},
   "outputs": [],
   "source": [
    "x0"
   ]
  },
  {
   "cell_type": "markdown",
   "metadata": {},
   "source": [
    "# $R_{d}$, $\\Sigma_{d}$, $\\rho_{h}$, $a_{h}$ Model I"
   ]
  },
  {
   "cell_type": "code",
   "execution_count": 17,
   "metadata": {},
   "outputs": [],
   "source": [
    "def Vc_tot_4p_I(R,parameter,parameters):\n",
    "    R_d,Sigma_d_SD,rho_h,a_h = parameter\n",
    "    alpha_h,beta_h,Sigma_g_ISM = parameters\n",
    "    suma = Bulge_I + Vc2_DM(R,a_h,rho_h,alpha_h,beta_h) + Vc2_SD_simps(R,R_d,Sigma_d_SD) + Vc2_ISM_ap(R,R_d,Sigma_g_ISM)\n",
    "    return np.sqrt(suma)"
   ]
  },
  {
   "cell_type": "code",
   "execution_count": 18,
   "metadata": {},
   "outputs": [],
   "source": [
    "params_wo_4_I = np.array([alpha_h_I,beta_h_I,Sigma_g_ISM_I])"
   ]
  },
  {
   "cell_type": "code",
   "execution_count": 19,
   "metadata": {},
   "outputs": [],
   "source": [
    "def Xi2_4p_I(parameters):\n",
    "    R_d,Sigma_d_SD,rho_h,a_h = parameters\n",
    "    par = R_d,np.exp(Sigma_d_SD),np.exp(rho_h),a_h\n",
    "    model = Vc_tot_4p_I(vecRp,par,params_wo_4_I)\n",
    "    xi = np.sum((vecvRp-model)**2./(vecerrvRp)**2.)\n",
    "    return xi"
   ]
  },
  {
   "cell_type": "code",
   "execution_count": 20,
   "metadata": {},
   "outputs": [],
   "source": [
    "x0_4p_I = np.array([1.,np.log(0.1e8),np.log(0.1e8),1.])"
   ]
  },
  {
   "cell_type": "code",
   "execution_count": null,
   "metadata": {},
   "outputs": [],
   "source": [
    "LS_4p_I = minimize(Xi2_4p_I,x0_4p_I,method='L-BFGS-B',bounds=((1.,9.),(np.log(0.1e8),np.log(30.0e8)),(np.log(0.1e8),np.log(30.0e8)),(1.0,9.),))"
   ]
  },
  {
   "cell_type": "code",
   "execution_count": null,
   "metadata": {},
   "outputs": [],
   "source": [
    "print LS_4p_I"
   ]
  },
  {
   "cell_type": "code",
   "execution_count": null,
   "metadata": {},
   "outputs": [],
   "source": [
    "params_4p_I_min = np.array([LS_4p_I.x[0],np.exp(LS_4p_I.x[1]),np.exp(LS_4p_I.x[2]),LS_4p_I.x[3]])\n",
    "print params_4p_I_min"
   ]
  },
  {
   "cell_type": "code",
   "execution_count": null,
   "metadata": {},
   "outputs": [],
   "source": [
    "plt.plot(vecRp,np.sqrt(Bulge_I),'.',label='Bulge')\n",
    "plt.plot(vecRp,np.sqrt(Vc2_DM(vecRp,np.asscalar(LS_4p_I.x[3]),np.asscalar(np.exp(LS_4p_I.x[2])),alpha_h_I,beta_h_I)),'.',label='DM Halo')\n",
    "plt.plot(vecRp,np.sqrt(Vc2_SD_simps(vecRp,np.asscalar(LS_4p_I.x[0]),np.asscalar(np.exp(LS_4p_I.x[1])))),'.',label='Stelar Disk')\n",
    "plt.plot(vecRp,np.sqrt(Vc2_ISM_ap(R,np.asscalar(LS_4p_I.x[0]),Sigma_g_ISM_I)),'.',label='ISM')\n",
    "plt.plot(vecRp,Vc_tot_4p_I(vecRp,params_4p_I_min,params_wo_4_I),'.',label='Total')\n",
    "plt.xlabel('R/kpc')\n",
    "plt.ylabel(r'$V_{c}(R)/kms^{-1}$')\n",
    "plt.legend(loc='lower right', prop={'size':10})\n",
    "plt.hlines(230,0,17)\n",
    "plt.vlines(8,0,240)\n",
    "plt.savefig('Fit_R_d_Sigma_SD_rho_h_a_h_I.pdf')"
   ]
  },
  {
   "cell_type": "markdown",
   "metadata": {},
   "source": [
    "# $R_{d}$, $\\Sigma_{d}$, $\\rho_{h}$, $a_{h}$ Model II"
   ]
  },
  {
   "cell_type": "code",
   "execution_count": null,
   "metadata": {},
   "outputs": [],
   "source": [
    "params_wo_4_II = np.array([alpha_h_II,beta_h_II,Sigma_g_ISM_II])"
   ]
  },
  {
   "cell_type": "code",
   "execution_count": null,
   "metadata": {},
   "outputs": [],
   "source": [
    "def Vc_tot_4p_II(R,parameter,parameters):\n",
    "    R_d,Sigma_d_SD,rho_h,a_h = parameter\n",
    "    alpha_h,beta_h,Sigma_g_ISM = parameters\n",
    "    suma = Bulge_II + Vc2_DM(R,a_h,rho_h,alpha_h,beta_h) + Vc2_SD_simps(R,R_d,Sigma_d_SD) + Vc2_ISM_ap(R,R_d,Sigma_g_ISM)\n",
    "    return np.sqrt(suma)"
   ]
  },
  {
   "cell_type": "code",
   "execution_count": null,
   "metadata": {},
   "outputs": [],
   "source": [
    "def Xi2_4p_II(parameters):\n",
    "    R_d,Sigma_d_SD,rho_h,a_h = parameters\n",
    "    par = R_d,np.exp(Sigma_d_SD),np.exp(rho_h),a_h\n",
    "    model = Vc_tot_4p_II(vecRp,par,params_wo_4_II)\n",
    "    xi = np.sum((vecvRp-model)**2./(vecerrvRp)**2.)\n",
    "    return xi"
   ]
  },
  {
   "cell_type": "code",
   "execution_count": null,
   "metadata": {},
   "outputs": [],
   "source": [
    "x0_4p_II = np.array([1.,np.log(0.1e8),np.log(0.1e8),1.])"
   ]
  },
  {
   "cell_type": "code",
   "execution_count": null,
   "metadata": {},
   "outputs": [],
   "source": [
    "LS_4p_II = minimize(Xi2_4p_II,x0_4p_II,method='L-BFGS-B',bounds=((1.,9.),(np.log(0.1e8),np.log(15.0e8)),(np.log(0.1e8),np.log(1000.0e8)),(1.0,9.),))"
   ]
  },
  {
   "cell_type": "code",
   "execution_count": null,
   "metadata": {},
   "outputs": [],
   "source": [
    "print LS_4p_II"
   ]
  },
  {
   "cell_type": "code",
   "execution_count": null,
   "metadata": {},
   "outputs": [],
   "source": [
    "params_4p_II_min = np.array([LS_4p_II.x[0],np.exp(LS_4p_II.x[1]),np.exp(LS_4p_II.x[2]),LS_4p_II.x[3]])\n",
    "print params_4p_II_min"
   ]
  },
  {
   "cell_type": "code",
   "execution_count": null,
   "metadata": {},
   "outputs": [],
   "source": [
    "plt.plot(vecRp,np.sqrt(Bulge_II),'.',label='Bulge')\n",
    "plt.plot(vecRp,np.sqrt(Vc2_DM(vecRp,np.asscalar(LS_4p_II.x[3]),np.asscalar(np.exp(LS_4p_II.x[2])),alpha_h_II,beta_h_II)),'.',label='DM Halo')\n",
    "plt.plot(vecRp,np.sqrt(Vc2_SD_simps(vecRp,np.asscalar(LS_4p_II.x[0]),np.asscalar(np.exp(LS_4p_II.x[1])))),'.',label='Stelar Disk')\n",
    "plt.plot(vecRp,np.sqrt(Vc2_ISM_ap(R,np.asscalar(LS_4p_II.x[0]),Sigma_g_ISM_II)),'.',label='ISM')\n",
    "plt.plot(vecRp,Vc_tot_4p_II(vecRp,params_4p_II_min,params_wo_4_II),'.',label='Total')\n",
    "plt.xlabel('R/kpc')\n",
    "plt.ylabel(r'$V_{c}(R)/kms^{-1}$')\n",
    "plt.legend(loc='lower right', prop={'size':10})\n",
    "plt.hlines(230,0,17)\n",
    "plt.vlines(8,0,240)\n",
    "plt.savefig('Fit_R_d_Sigma_SD_rho_h_a_h_II.pdf')"
   ]
  },
  {
   "cell_type": "code",
   "execution_count": null,
   "metadata": {},
   "outputs": [],
   "source": [
    "# $R_{d}$, $\\Sigma_{d}$, $\\rho_{h}$, $a_{h}$ Model I with NFW"
   ]
  },
  {
   "cell_type": "code",
   "execution_count": null,
   "metadata": {},
   "outputs": [],
   "source": [
    "params_NFW_I = np.array([1.,3.,Sigma_g_ISM_I])"
   ]
  },
  {
   "cell_type": "code",
   "execution_count": null,
   "metadata": {},
   "outputs": [],
   "source": [
    "def Xi2_4p_I_NFW(parameters):\n",
    "    R_d,Sigma_d_SD,rho_h,a_h = parameters\n",
    "    par = R_d,np.exp(Sigma_d_SD),np.exp(rho_h),a_h\n",
    "    model = Vc_tot_4p_I(vecRp,par,params_NFW_I)\n",
    "    xi = np.sum((vecvRp-model)**2./(vecerrvRp)**2.)\n",
    "    return xi"
   ]
  },
  {
   "cell_type": "code",
   "execution_count": null,
   "metadata": {},
   "outputs": [],
   "source": [
    "x0_4p_NFW_I = np.array([1.,np.log(0.1e8),np.log(0.1e8),1.])"
   ]
  },
  {
   "cell_type": "code",
   "execution_count": null,
   "metadata": {},
   "outputs": [],
   "source": [
    "LS_4p_NFW_I = minimize(Xi2_4p_I_NFW,x0_4p_NFW_I,method='L-BFGS-B',bounds=((1.,9.),(np.log(0.1e8),np.log(15.0e8)),(np.log(0.1e8),np.log(1000.0e8)),(1.0,9.),))"
   ]
  },
  {
   "cell_type": "code",
   "execution_count": null,
   "metadata": {},
   "outputs": [],
   "source": [
    "print LS_4p_NFW_I"
   ]
  },
  {
   "cell_type": "code",
   "execution_count": null,
   "metadata": {},
   "outputs": [],
   "source": [
    "params_4p_NFW_I_min = np.array([LS_4p_NFW_I.x[0],np.exp(LS_4p_NFW_I.x[1]),np.exp(LS_4p_NFW_I.x[2]),LS_4p_NFW_I.x[3]])\n",
    "print params_4p_NFW_I_min"
   ]
  },
  {
   "cell_type": "code",
   "execution_count": null,
   "metadata": {},
   "outputs": [],
   "source": [
    "plt.plot(vecRp,np.sqrt(Bulge_I),'.',label='Bulge')\n",
    "plt.plot(vecRp,np.sqrt(Vc2_DM(vecRp,np.asscalar(LS_4p_NFW_I.x[3]),np.asscalar(np.exp(LS_4p_NFW_I.x[2])),1.,3.)),'.',label='DM Halo')\n",
    "plt.plot(vecRp,np.sqrt(Vc2_SD_simps(vecRp,np.asscalar(LS_4p_NFW_I.x[0]),np.asscalar(np.exp(LS_4p_NFW_I.x[1])))),'.',label='Stelar Disk')\n",
    "plt.plot(vecRp,np.sqrt(Vc2_ISM_ap(R,np.asscalar(LS_4p_NFW_I.x[0]),Sigma_g_ISM_I)),'.',label='ISM')\n",
    "plt.plot(vecRp,Vc_tot_4p_I(vecRp,params_4p_NFW_I_min,params_NFW),'.',label='Total')\n",
    "plt.xlabel('R/kpc')\n",
    "plt.ylabel(r'$V_{c}(R)/kms^{-1}$')\n",
    "plt.legend(loc='lower right', prop={'size':10})\n",
    "plt.hlines(230,0,17)\n",
    "plt.vlines(8,0,240)\n",
    "plt.savefig('Fit_R_d_Sigma_SD_rho_h_a_h_NFW_I.pdf')"
   ]
  },
  {
   "cell_type": "markdown",
   "metadata": {},
   "source": [
    "# $R_{d}$, $\\Sigma_{d}$, $\\rho_{h}$, $a_{h}$ Model II with NFW"
   ]
  },
  {
   "cell_type": "code",
   "execution_count": null,
   "metadata": {},
   "outputs": [],
   "source": [
    "params_NFW_II = np.array([1.,3.,Sigma_g_ISM_II])"
   ]
  },
  {
   "cell_type": "code",
   "execution_count": null,
   "metadata": {},
   "outputs": [],
   "source": [
    "def Xi2_4p_II_NFW(parameters):\n",
    "    R_d,Sigma_d_SD,rho_h,a_h = parameters\n",
    "    par = R_d,np.exp(Sigma_d_SD),np.exp(rho_h),a_h\n",
    "    model = Vc_tot_4p_II(vecRp,par,params_NFW_II)\n",
    "    xi = np.sum((vecvRp-model)**2./(vecerrvRp)**2.)\n",
    "    return xi"
   ]
  },
  {
   "cell_type": "code",
   "execution_count": null,
   "metadata": {},
   "outputs": [],
   "source": [
    "x0_4p_NFW_II = np.array([1.,np.log(0.1e8),np.log(0.1e8),1.])"
   ]
  },
  {
   "cell_type": "code",
   "execution_count": null,
   "metadata": {},
   "outputs": [],
   "source": [
    "LS_4p_NFW_II = minimize(Xi2_4p_II_NFW,x0_4p_NFW_II,method='L-BFGS-B',bounds=((1.,9.),(np.log(0.1e8),np.log(15.0e8)),(np.log(0.1e8),np.log(1000.0e8)),(1.0,9.),))"
   ]
  },
  {
   "cell_type": "code",
   "execution_count": null,
   "metadata": {},
   "outputs": [],
   "source": [
    "print LS_4p_NFW_II"
   ]
  },
  {
   "cell_type": "code",
   "execution_count": null,
   "metadata": {},
   "outputs": [],
   "source": [
    "params_4p_NFW_II_min = np.array([LS_4p_NFW_II.x[0],np.exp(LS_4p_NFW_II.x[1]),np.exp(LS_4p_NFW_II.x[2]),LS_4p_NFW_II.x[3]])\n",
    "print params_4p_NFW_II_min"
   ]
  },
  {
   "cell_type": "code",
   "execution_count": null,
   "metadata": {},
   "outputs": [],
   "source": [
    "plt.plot(vecRp,np.sqrt(Bulge_II),'.',label='Bulge')\n",
    "plt.plot(vecRp,np.sqrt(Vc2_DM(vecRp,np.asscalar(LS_4p_NFW_II.x[3]),np.asscalar(np.exp(LS_4p_NFW_II.x[2])),1.,3.)),'.',label='DM Halo')\n",
    "plt.plot(vecRp,np.sqrt(Vc2_SD_simps(vecRp,np.asscalar(LS_4p_NFW_II.x[0]),np.asscalar(np.exp(LS_4p_NFW_II.x[1])))),'.',label='Stelar Disk')\n",
    "plt.plot(vecRp,np.sqrt(Vc2_ISM_ap(R,np.asscalar(LS_4p_NFW_I.x[0]),Sigma_g_ISM_II)),'.',label='ISM')\n",
    "plt.plot(vecRp,Vc_tot_4p_II(vecRp,params_4p_NFW_II_min,params_NFW),'.',label='Total')\n",
    "plt.xlabel('R/kpc')\n",
    "plt.ylabel(r'$V_{c}(R)/kms^{-1}$')\n",
    "plt.legend(loc='lower right', prop={'size':10})\n",
    "plt.hlines(230,0,17)\n",
    "plt.vlines(8,0,240)\n",
    "plt.savefig('Fit_R_d_Sigma_SD_rho_h_a_h_NFW_II.pdf')"
   ]
  },
  {
   "cell_type": "code",
   "execution_count": null,
   "metadata": {},
   "outputs": [],
   "source": []
  }
 ],
 "metadata": {
  "kernelspec": {
   "display_name": "Python 2",
   "language": "python",
   "name": "python2"
  },
  "language_info": {
   "codemirror_mode": {
    "name": "ipython",
    "version": 2
   },
   "file_extension": ".py",
   "mimetype": "text/x-python",
   "name": "python",
   "nbconvert_exporter": "python",
   "pygments_lexer": "ipython2",
   "version": "2.7.15"
  }
 },
 "nbformat": 4,
 "nbformat_minor": 2
}
