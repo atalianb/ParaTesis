{
 "cells": [
  {
   "cell_type": "code",
   "execution_count": 2,
   "metadata": {},
   "outputs": [
    {
     "name": "stdout",
     "output_type": "stream",
     "text": [
      "Populating the interactive namespace from numpy and matplotlib\n"
     ]
    }
   ],
   "source": [
    "import numpy as np\n",
    "import matplotlib.pyplot as plt\n",
    "from scipy import integrate\n",
    "from scipy.special import kn\n",
    "from scipy.optimize import minimize\n",
    "import galkin\n",
    "import galkin.processdata   # routines to process kinematic data\n",
    "import galkin.readparsFile  # routines to read and check input parameters\n",
    "%pylab inline"
   ]
  },
  {
   "cell_type": "code",
   "execution_count": 3,
   "metadata": {},
   "outputs": [],
   "source": [
    "#10.3, 15.3, 7.7from the paper\n",
    "# Galactic parameters\n",
    "R0=8.0# Galactocentric distance (kpc)\n",
    "V0=230.# local circular velocity (km/s)\n",
    "UsunINUSE=11.10# solar motion in the U-direction (km/s), e.g. from Schoenrich+ '10, MNRAS 403, 1829 (2010)\n",
    "VsunINUSE=12.24# solar motion in the V-direction (km/s), e.g. from Schoenrich+ '10, MNRAS 403, 1829 (2010)\n",
    "WsunINUSE=07.25# solar motion in the W-direction (km/s), e.g. from Schoenrich+ '10, MNRAS 403, 1829 (2010)\n",
    "SYSTDISP=0.# systematic dispersion due to spiral arm streaming (km/s)"
   ]
  },
  {
   "cell_type": "code",
   "execution_count": 4,
   "metadata": {},
   "outputs": [],
   "source": [
    "# Flags\n",
    "flagPROPERMOTIONS=0\t \t\t\t# proper motions not supported in current version - please keep at 0\n",
    "flagHITERMINAL=0\t\t\t\t# whether to use HI terminal velocities\n",
    "flagFich89tab2=0\t\t\t\t# whether to use Fich+ '89, ApJ 342, 272 (1989) (Table 2)\n",
    "flagMalhotra95=0\t\t\t\t# whether to use Malhotra '95, ApJ 448, 138 (1995)\n",
    "flagMcClureGriffithsDickey07=0\t\t\t# whether to use McClure-Griffiths & Dickey '07, ApJ 671, 427 (2007)\n",
    "flagHITHICKNESS=0\t\t\t\t# whether to use the HI thickness method\n",
    "flagHonmaSofue97=0\t\t\t\t# whether to use Honma & Sofue '97, PASJ 49, 453 (1997)\n",
    "flagCOTERMINAL=1\t\t\t\t# whether to use CO terminal velocities\n",
    "flagBurtonGordon78=0\t\t\t\t# whether to use Burton & Gordon '78, A&A 63, 7 (1978)\n",
    "flagClemens85=0\t\t\t\t\t# whether to use Clemens '85, ApJ 295, 422 (1985)\n",
    "flagKnapp85=1\t\t\t\t\t# whether to use Knapp+ '85, AJ 90, 2 (1985)\n",
    "flagLuna06=0\t\t\t\t\t# whether to use Luna+ '06, ApJ 641, 938 (2006)\n",
    "flagHIIREGIONS=1\t\t\t\t# whether to use HII regions\n",
    "flagBlitz79=0\t\t\t\t\t# whether to use Blitz '79, ApJL 231, L115 (1979)\n",
    "flagFich89tab1=0\t\t\t\t# whether to use Fich+ '89, ApJ 342, 272 (1989) (Table 1)\t\n",
    "flagTurbideMoffat93=0\t\t\t\t# whether to use Turbide & Moffat '93, AJ 105, 5 (1993)\n",
    "flagBrandBlitz93=0\t\t\t\t# whether to use Brand & Blitz '93, A&A 275, 67 (1993)\n",
    "flagHou09tabA1=1\t\t\t\t# whether to use Hou+ '09, A&A 499, 473 (2009) (Table A1)\n",
    "flagGMC=0\t\t\t\t\t# whether to use giant molecular clouds\n",
    "flagHou09tabA2=0\t\t\t\t# whether to use Hou+ '09, A&A 499, 473 (2009) (Table A2)\n",
    "##\n",
    "flagOPENCLUSTERS=0\t\t\t\t# whether to use open clusters\n",
    "flagFrinchaboyMajewski08=0\t\t\t# whether to use Frinchaboy & Majewski '08, AJ 136, 118 (2008)\n",
    "flagPLANETARYNEBULAE=0\t\t\t\t# whether to use planetary nebulae\n",
    "flagDurand98=0\t\t\t\t\t# whether to use Durand+ '98, A&AS 132, 13 (1998)\n",
    "flagCEPHEIDS=1\t\t\t\t\t# whether to use classical cepheids\n",
    "flagPont94=1\t\t\t\t\t# whether to use Pont+ '94, A&A 285, 415 (1994)\n",
    "flagPont97=0\t\t\t\t\t# whether to use Pont+ '97, A&A 318, 416 (1997)\n",
    "flagCSTARS=0\t\t\t\t\t# whether to use carbon stars\n",
    "flagDemersBattinelli07=0\t\t\t# whether to use Demers & Battinelli '07, A&A 473, 143 (2007)\n",
    "flagBattinelli12=0\t\t\t\t# whether to use Battinelli+ '12, Ap 56, 68 (2013)\n",
    "###\n",
    "flagMASERS=0\t\t\t\t\t# whether to use masers\n",
    "flagReid14=0\t\t\t\t\t# whether to use Reid+ '14, ApJ 783, 130 (2014)\n",
    "flagHonma12=0\t\t\t\t\t# whether to use Honma+ '12, PASJ 64, 136 (2012)\n",
    "flagStepanishchevBobylev11=0\t\t\t# whether to use Stepanishchev & Bobylev '11, AstL 37, 4 (2011)\n",
    "flagXu13=0\t\t\t\t\t# whether to use Xu+ '13, ApJ 769, 15 (2013)\n",
    "flagBobylevBajkova13=0\t\t\t\t# whether to use Bobylev & Bajkova '13, AstL 39, 809 (2013)\n",
    "##\n",
    "flagastropy=0\t\t\t\t \t# whether to use astropy for equatorial-to-galactic conversions"
   ]
  },
  {
   "cell_type": "code",
   "execution_count": 5,
   "metadata": {},
   "outputs": [],
   "source": [
    "inputpars=(R0,V0,UsunINUSE,VsunINUSE,WsunINUSE,SYSTDISP, flagPROPERMOTIONS,flagHITERMINAL,flagFich89tab2,flagMalhotra95,flagMcClureGriffithsDickey07, flagHITHICKNESS,flagHonmaSofue97,flagCOTERMINAL,flagBurtonGordon78,flagClemens85,flagKnapp85,flagLuna06, flagHIIREGIONS,flagBlitz79,flagFich89tab1,flagTurbideMoffat93,flagBrandBlitz93,flagHou09tabA1, flagGMC,flagHou09tabA2,flagOPENCLUSTERS,flagFrinchaboyMajewski08,flagPLANETARYNEBULAE,flagDurand98,flagCEPHEIDS,flagPont94,flagPont97, flagCSTARS,flagDemersBattinelli07,flagBattinelli12, flagMASERS,flagReid14,flagHonma12,flagStepanishchevBobylev11,flagXu13,flagBobylevBajkova13,flagastropy)"
   ]
  },
  {
   "cell_type": "code",
   "execution_count": 6,
   "metadata": {},
   "outputs": [
    {
     "name": "stdout",
     "output_type": "stream",
     "text": [
      "checking validity of input parameters...\n",
      "printing input parameters...\n",
      " R0=  8.0  kpc\n",
      " V0=  230.0  km/s\n",
      " (Usun,Vsun,Wsun) = ( 11.1 , 12.24 , 7.25 ) km/s\n",
      " systematic dispersion =  0.0  km/s\n",
      " use HI terminal velocities?            0\n",
      " use HI thickness method?               0\n",
      " use CO terminal velocities?            1\n",
      "  use Burton & Gordon 78?                 0\n",
      "  use Clemens 85?                         0\n",
      "  use Knapp+ 85?                          1\n",
      "  use Luna+ 06?                           0\n",
      " use HII regions?                       1\n",
      "  use Blitz 79?                           0\n",
      "  use Fich+ 89 (Table 1)?                 0\n",
      "  use Turbide & Moffat 93?                0\n",
      "  use Brand & Blitz 93?                   0\n",
      "  use Hou+ 09 (Table A1)?                 1\n",
      " use giant molecular clouds?            0\n",
      " use open clusters?                     0\n",
      " use planetary nebulae?                 0\n",
      " use cepheids?                          1\n",
      "  use Pont+ 94?                           1\n",
      "  use Pont+ 97?                           0\n",
      " use C stars?                           0\n",
      " use masers?                            0\n",
      " use astropy?                           0\n"
     ]
    }
   ],
   "source": [
    "galkin.readparsFile.CheckAndPrintParameters(inputpars)"
   ]
  },
  {
   "cell_type": "code",
   "execution_count": 7,
   "metadata": {},
   "outputs": [
    {
     "name": "stdout",
     "output_type": "stream",
     "text": [
      "processing CO terminal velocities...\n",
      " processing Knapp+ 85...\n",
      "  selected  37  CO terminal velocities\n",
      "processing HII regions...\n",
      " processing Hou+ 09 (Table A1)...\n",
      "  selected  316  out of the total sample of  815  HII regions\n",
      "processing classical cepheids...\n",
      " processing Pont+ 94...\n",
      "  selected  245  out of the total sample of  278  cepheids\n"
     ]
    }
   ],
   "source": [
    "vecout=galkin.processdata.ProcessData(inputpars)\n",
    "totallistvc=vecout[0]"
   ]
  },
  {
   "cell_type": "code",
   "execution_count": 8,
   "metadata": {},
   "outputs": [],
   "source": [
    "vecRp    = np.array([row[0] for row in totallistvc])# galactocentric distance [kpc]\n",
    "vecerrRp = np.array([row[1] for row in totallistvc])# error in galactocentric distance [kpc]\n",
    "vecvRp   = np.array([row[2] for row in totallistvc])# rotation velocity [km/s]\n",
    "vecerrvRp= np.array([row[3] for row in totallistvc])# error in rotation velocity [km/s]"
   ]
  },
  {
   "cell_type": "code",
   "execution_count": 9,
   "metadata": {},
   "outputs": [
    {
     "data": {
      "text/plain": [
       "Text(0,0.5,'$V_{c}(R)/km s^{-1}$')"
      ]
     },
     "execution_count": 9,
     "metadata": {},
     "output_type": "execute_result"
    },
    {
     "data": {
      "image/png": "[encoded data removed]",
      "text/plain": [
       "<Figure size 432x288 with 1 Axes>"
      ]
     },
     "metadata": {
      "needs_background": "light"
     },
     "output_type": "display_data"
    }
   ],
   "source": [
    "plt.plot(vecRp,vecvRp,'.')\n",
    "plt.xlabel('R/kpc')\n",
    "plt.ylabel(r'$V_{c}(R)/km s^{-1}$')"
   ]
  },
  {
   "cell_type": "code",
   "execution_count": 10,
   "metadata": {},
   "outputs": [],
   "source": [
    "rho_soliton = 2.42e9#SM*kpc−3\n",
    "m_axion = 2.44e-22#eV\n",
    "#Constants\n",
    "G = 4.302e-6#kpc/SM(km/s)^2\n",
    "q_b = 0.6\n",
    "r_b = 1.9#kpc\n",
    "a_b = 1.#kpc\n",
    "q_h = 0.8\n",
    "alpha_b = 1.8\n",
    "R_m = 4.#kpc\n",
    "#parameters model I\n",
    "rho_b_I = 0.427e9#sM/kpc^3\n",
    "a_h_I = 3.83#kpc\n",
    "rho_h_I = 0.711e9#SM/kpc^3\n",
    "alpha_h_I = -2.\n",
    "beta_h_I = 2.96\n",
    "R_d_I = 2.0#kpc\n",
    "R_d_II = 3.2#kpc\n",
    "Sigma_d_SD_I = (1905.0e6)*0.75#SM/kpc^2\n",
    "Sigma_g_ISM_I = (1905.0e6)*0.25#SM/kpc^2\n",
    "#parameters model II\n",
    "rho_b_II = 0.3e9#sM/kpc^3\n",
    "a_h_II = 1.9#kpc\n",
    "rho_h_II = 0.266e9#SM/kpc^3\n",
    "alpha_h_II = 1.63\n",
    "beta_h_II = 2.17\n",
    "R_d_II = 3.2#kpc\n",
    "Sigma_d_SD_II = (536.0e6)*0.75#SM/kpc^2\n",
    "Sigma_g_ISM_II = (536.0e6)*0.25#SM/kpc^2"
   ]
  },
  {
   "cell_type": "code",
   "execution_count": 11,
   "metadata": {},
   "outputs": [],
   "source": [
    "R = np.linspace(0.1,20.,100)"
   ]
  },
  {
   "cell_type": "code",
   "execution_count": 12,
   "metadata": {},
   "outputs": [],
   "source": [
    "def Vc2_b(R,rho_b,q_b=q_b,alpha_b=alpha_b,r_b=r_b,a_b=a_b):\n",
    "    def I_b(x,R):\n",
    "        e = np.sqrt(1. - q_b**2.)\n",
    "        n = x**(2.-alpha_b)*np.exp(-(R**2.*x**2.)/r_b**2.)\n",
    "        d = np.sqrt(1.-x**2.*e**2.)\n",
    "        t = R**2.*(R/a_b)**(-alpha_b)\n",
    "        return (t*n)/d\n",
    "    Rx = R.reshape(-1, 1)\n",
    "    yp = np.linspace(0.,1.,100).reshape(1,-1)#integration limits\n",
    "    dx = yp[0,1] - yp[0,0]\n",
    "    fun = I_b(yp,Rx)\n",
    "    res_int = integrate.simps(fun,dx=dx)\n",
    "    return 4.*np.pi*G*q_b*rho_b*res_int"
   ]
  },
  {
   "cell_type": "code",
   "execution_count": 13,
   "metadata": {},
   "outputs": [
    {
     "data": {
      "text/plain": [
       "Text(0.5,1,'Bulge')"
      ]
     },
     "execution_count": 13,
     "metadata": {},
     "output_type": "execute_result"
    },
    {
     "data": {
      "image/png": "[encoded data removed]",
      "text/plain": [
       "<Figure size 432x288 with 1 Axes>"
      ]
     },
     "metadata": {
      "needs_background": "light"
     },
     "output_type": "display_data"
    }
   ],
   "source": [
    "plt.plot(R,np.sqrt(Vc2_b(R,rho_b=rho_b_I)),label='Model I')\n",
    "plt.plot(R,np.sqrt(Vc2_b(R,rho_b=rho_b_II)),label='Model II')\n",
    "plt.xlabel('r')\n",
    "plt.ylabel(r'$V_{c}(r)$')\n",
    "plt.legend(loc='upper right', prop={'size':10})\n",
    "plt.title('Bulge')"
   ]
  },
  {
   "cell_type": "code",
   "execution_count": 14,
   "metadata": {},
   "outputs": [],
   "source": [
    "Vc2_b_I = Vc2_b(vecRp,rho_b=rho_b_I)\n",
    "Vc2_b_II = Vc2_b(vecRp,rho_b=rho_b_II)"
   ]
  },
  {
   "cell_type": "code",
   "execution_count": 15,
   "metadata": {},
   "outputs": [],
   "source": [
    "def M_minor(r,rho_sol,m_a):\n",
    "    rsol = ((rho_sol/2.42e9)*(m_a/1.0e-22)**2.)**(-0.25)\n",
    "    n = 3465.*r**13.*rsol + 23100.*r**11.*rsol**3. + 65373.*r**9.*rsol**5. + 101376.*r**7.*rsol**7. + 92323.*r**5.*rsol**9. + 48580.*r**3.*rsol**11. + 3465.*(r**2.+rsol**2.)**7.*np.arctan(r/rsol) - 3465.*r*rsol**13.\n",
    "    d = (r**2. +rsol**2.)**7.\n",
    "    const = 4.*np.pi*rho_sol*rsol**3./215040.\n",
    "    return const*n/d"
   ]
  },
  {
   "cell_type": "code",
   "execution_count": 16,
   "metadata": {},
   "outputs": [],
   "source": [
    "def M_mayor(r,rho_sol,m_a,eps,r_s):\n",
    "    rsol = ((rho_sol/2.42e9)*(m_a/1.0e-22)**2.)**(-0.25)\n",
    "    r_eps = rsol*np.sqrt(eps**(-1./8.) - 1.)\n",
    "    delta_NFW = eps*r_eps*(r_s + r_eps)**2./r_s**3.\n",
    "    t1 = np.log(r + r_s) + r_s/(r+r_s) -np.log(r_s +r_eps) - r_s/(r_s+r_eps)#- np.log(r_s) - 1.\n",
    "    constant = 4.*np.pi*rho_sol*delta_NFW*r_s**3.\n",
    "    n2 = 3465.*r_eps**13.*rsol + 23100.*r_eps**11.*rsol**3. + 65373.*r_eps**9.*rsol**5. + 101376.*r_eps**7.*rsol**7. + 92323.*r_eps**5.*rsol**9. + 48580.*r_eps**3.*rsol**11. + 3465.*(r_eps**2.+rsol**2.)**7.*np.arctan(r_eps/rsol) - 3465.*r_eps*rsol**13.\n",
    "    d2 = (r_eps**2. +rsol**2.)**7.\n",
    "    const2 = 4.*np.pi*rho_sol*rsol**3./215040.\n",
    "    return constant*t1 + const2*n2/d2"
   ]
  },
  {
   "cell_type": "code",
   "execution_count": 17,
   "metadata": {},
   "outputs": [
    {
     "data": {
      "text/plain": [
       "<matplotlib.legend.Legend at 0x1168c1b50>"
      ]
     },
     "execution_count": 17,
     "metadata": {},
     "output_type": "execute_result"
    },
    {
     "data": {
      "image/png": "[encoded data removed]",
      "text/plain": [
       "<Figure size 432x288 with 1 Axes>"
      ]
     },
     "metadata": {
      "needs_background": "light"
     },
     "output_type": "display_data"
    }
   ],
   "source": [
    "plt.plot(R,M_minor(R,rho_sol=0.037*rho_soliton,m_a=m_axion),label='minor')\n",
    "plt.plot(R,M_mayor(R,rho_sol=0.037*rho_soliton,m_a=m_axion,eps=0.48,r_s=0.39),label='mayor')\n",
    "plt.xlabel('r')\n",
    "plt.ylabel('M(r)')\n",
    "plt.yscale('log')\n",
    "plt.title('Fornax Mass Function')\n",
    "plt.legend(loc='lower right',prop={'size':10})"
   ]
  },
  {
   "cell_type": "code",
   "execution_count": 18,
   "metadata": {},
   "outputs": [],
   "source": [
    "def vc2_DM_axion(r,rho_sol,m_a,eps,r_s):\n",
    "    rsol = ((rho_sol/(2.42e9))*(m_a/1.0e-22)**2.)**(-0.25)\n",
    "    r_eps = rsol*np.sqrt(eps**(-1./8.) - 1.)\n",
    "    result = []\n",
    "    for i in range(0,len(r)):\n",
    "        if r[i]<r_eps:\n",
    "            result.append(G*M_minor(r[i],rho_sol,m_a)/r[i])\n",
    "        else:\n",
    "            result.append(G*M_mayor(r[i],rho_sol,m_a,eps,r_s)/r[i])\n",
    "    return np.array(result)"
   ]
  },
  {
   "cell_type": "code",
   "execution_count": 19,
   "metadata": {},
   "outputs": [
    {
     "data": {
      "text/plain": [
       "Text(0.5,1,'Dark Matter Axion Halo')"
      ]
     },
     "execution_count": 19,
     "metadata": {},
     "output_type": "execute_result"
    },
    {
     "data": {
      "image/png": "[encoded data removed]",
      "text/plain": [
       "<Figure size 432x288 with 1 Axes>"
      ]
     },
     "metadata": {
      "needs_background": "light"
     },
     "output_type": "display_data"
    }
   ],
   "source": [
    "plt.plot(R,np.sqrt(vc2_DM_axion(R,rho_sol=0.037*rho_soliton,m_a=m_axion,eps=0.48,r_s=0.39)),label='Fornax')\n",
    "plt.plot(R,np.sqrt(vc2_DM_axion(R,rho_sol=0.057*rho_soliton,m_a=m_axion,eps=0.464,r_s=0.57)),label='Sculptor')\n",
    "plt.xlabel('r')\n",
    "plt.ylabel(r'$V_{c}(r)$')\n",
    "plt.legend(loc='upper right', prop={'size':10})\n",
    "plt.title('Dark Matter Axion Halo')"
   ]
  },
  {
   "cell_type": "code",
   "execution_count": 20,
   "metadata": {},
   "outputs": [
    {
     "name": "stdout",
     "output_type": "stream",
     "text": [
      "1.45966991119\n"
     ]
    }
   ],
   "source": [
    "print ((0.037*rho_soliton/2.42e9)*(m_axion/1.0e-22)**2.)**(-0.25)"
   ]
  },
  {
   "cell_type": "code",
   "execution_count": 21,
   "metadata": {},
   "outputs": [],
   "source": [
    "def M_minor_v2(r,rho_sol,rsol,m_a):\n",
    "    m_a = 1.0e-22*np.sqrt(2.42e9/(rho_sol*rsol**4.))\n",
    "    n = 3465.*r**13.*rsol + 23100.*r**11.*rsol**3. + 65373.*r**9.*rsol**5. + 101376.*r**7.*rsol**7. + 92323.*r**5.*rsol**9. + 48580.*r**3.*rsol**11. + 3465.*(r**2.+rsol**2.)**7.*np.arctan(r/rsol) - 3465.*r*rsol**13.\n",
    "    d = (r**2. +rsol**2.)**7.\n",
    "    const = 4.*np.pi*rho_sol*rsol**3./215040.\n",
    "    return const*n/d\n",
    "def M_mayor_v2(r,rho_sol,rsol,eps,r_s,m_a):\n",
    "    m_a = 1.0e-22*np.sqrt(2.42e9/(rho_sol*rsol**4.))\n",
    "    r_eps = rsol*np.sqrt(eps**(-1./8.) - 1.)\n",
    "    delta_NFW = eps*r_eps*(r_s + r_eps)**2./r_s**3.\n",
    "    t1 = np.log(r + r_s) + r_s/(r+r_s) -np.log(r_s +r_eps) - r_s/(r_s+r_eps)#- np.log(r_s) - 1.\n",
    "    constant = 4.*np.pi*rho_sol*delta_NFW*r_s**3.\n",
    "    n2 = 3465.*r_eps**13.*rsol + 23100.*r_eps**11.*rsol**3. + 65373.*r_eps**9.*rsol**5. + 101376.*r_eps**7.*rsol**7. + 92323.*r_eps**5.*rsol**9. + 48580.*r_eps**3.*rsol**11. + 3465.*(r_eps**2.+rsol**2.)**7.*np.arctan(r_eps/rsol) - 3465.*r_eps*rsol**13.\n",
    "    d2 = (r_eps**2. +rsol**2.)**7.\n",
    "    const2 = 4.*np.pi*rho_sol*rsol**3./215040.\n",
    "    return constant*t1 + const2*n2/d2"
   ]
  },
  {
   "cell_type": "code",
   "execution_count": 22,
   "metadata": {},
   "outputs": [
    {
     "data": {
      "text/plain": [
       "<matplotlib.legend.Legend at 0x116c2b790>"
      ]
     },
     "execution_count": 22,
     "metadata": {},
     "output_type": "execute_result"
    },
    {
     "data": {
      "image/png": "[encoded data removed]",
      "text/plain": [
       "<Figure size 432x288 with 1 Axes>"
      ]
     },
     "metadata": {
      "needs_background": "light"
     },
     "output_type": "display_data"
    }
   ],
   "source": [
    "plt.plot(R,M_minor_v2(R,rho_sol=0.037*rho_soliton,rsol=1.45,m_a=m_axion),label='minor')\n",
    "plt.plot(R,M_mayor_v2(R,rho_sol=0.037*rho_soliton,rsol=1.45,eps=0.48,r_s=0.39,m_a=m_axion),label='mayor')\n",
    "plt.xlabel('r')\n",
    "plt.ylabel('M(r)')\n",
    "plt.yscale('log')\n",
    "plt.title('Fornax Mass Function')\n",
    "plt.legend(loc='lower right',prop={'size':10})"
   ]
  },
  {
   "cell_type": "code",
   "execution_count": 23,
   "metadata": {},
   "outputs": [],
   "source": [
    "def vc2_DM_axion_v2(r,rho_sol,rsol,eps,r_s,m_a):\n",
    "    m_a = 1.0e-22*np.sqrt(2.42e9/(rho_sol*rsol**4.))\n",
    "    r_eps = rsol*np.sqrt(eps**(-1./8.) - 1.)\n",
    "    result = []\n",
    "    for i in range(0,len(r)):\n",
    "        if r[i]<r_eps:\n",
    "            result.append(G*M_minor_v2(r[i],rho_sol,rsol,m_a)/r[i])\n",
    "        else:\n",
    "            result.append(G*M_mayor_v2(r[i],rho_sol,rsol,eps,r_s,m_a)/r[i])\n",
    "    return np.array(result)"
   ]
  },
  {
   "cell_type": "code",
   "execution_count": 24,
   "metadata": {},
   "outputs": [
    {
     "data": {
      "text/plain": [
       "Text(0.5,1,'Dark Matter Axion Halo')"
      ]
     },
     "execution_count": 24,
     "metadata": {},
     "output_type": "execute_result"
    },
    {
     "data": {
      "image/png": "[encoded data removed]",
      "text/plain": [
       "<Figure size 432x288 with 1 Axes>"
      ]
     },
     "metadata": {
      "needs_background": "light"
     },
     "output_type": "display_data"
    }
   ],
   "source": [
    "plt.plot(R,np.sqrt(vc2_DM_axion_v2(R,rho_sol=0.037*rho_soliton,rsol=1.45,eps=0.48,r_s=0.39,m_a=m_axion)),label='Fornax')\n",
    "plt.plot(R,np.sqrt(vc2_DM_axion_v2(R,rho_sol=0.057*rho_soliton,rsol=1.45,eps=0.464,r_s=0.57,m_a=m_axion)),label='Sculptor')\n",
    "plt.xlabel('r')\n",
    "plt.ylabel(r'$V_{c}(r)$')\n",
    "plt.legend(loc='upper right', prop={'size':10})\n",
    "plt.title('Dark Matter Axion Halo')"
   ]
  },
  {
   "cell_type": "code",
   "execution_count": 26,
   "metadata": {},
   "outputs": [],
   "source": [
    "def Vc2_SD_simps(R,R_d,Sigma_d_SD,z=0.,alpha_0=0.5,z1=1.,z0=0.3):\n",
    "    def I_SD(zp,a,R):\n",
    "        d = np.sqrt((a+R)**2. + (z-zp)**2.) + np.sqrt((a-R)**2. + (z-zp)**2.)\n",
    "        u = (2.*a)/d\n",
    "        t2 = u/np.sqrt(1-u**2.)\n",
    "        t1 = (a+R)/(np.sqrt((a+R)**2. + (z-zp)**2.)) - (a-R)/(np.sqrt((a-R)**2. + (z-zp)**2.))\n",
    "        g = -a*kn(0,a/R_d)*t2*t1/d\n",
    "        f = (alpha_0*np.exp(-abs(zp)/z0))/(2.*z0) + np.exp(-abs(zp)/z1)/(2.*z1) - (alpha_0*np.exp(-abs(zp)/z1))/(2.*z1)\n",
    "        return R*f*g\n",
    "    Integral_SD_sims = []\n",
    "    a_lims = np.linspace(0.1, 20.0,2*len(R))#200\n",
    "    zp_lims = np.linspace(-20.0,20.0,4*len(R))#400\n",
    "    fun_zp = np.zeros(len(zp_lims))\n",
    "    for k in range(0,len(R)):\n",
    "        for i in range(0,len(zp_lims)):\n",
    "            fun_zp[i] = integrate.simps(I_SD(zp_lims[i],a_lims,R[k]),a_lims)\n",
    "        result = integrate.simps(fun_zp,zp_lims)\n",
    "        Integral_SD_sims.append(result)\n",
    "    return -4.*G*Sigma_d_SD*np.array(Integral_SD_sims)/R_d"
   ]
  },
  {
   "cell_type": "code",
   "execution_count": 27,
   "metadata": {},
   "outputs": [
    {
     "data": {
      "text/plain": [
       "Text(0.5,1,'Stelar Disk')"
      ]
     },
     "execution_count": 27,
     "metadata": {},
     "output_type": "execute_result"
    },
    {
     "data": {
      "image/png": "[encoded data removed]",
      "text/plain": [
       "<Figure size 432x288 with 1 Axes>"
      ]
     },
     "metadata": {
      "needs_background": "light"
     },
     "output_type": "display_data"
    }
   ],
   "source": [
    "plt.plot(R,np.sqrt(Vc2_SD_simps(R,R_d=R_d_I,Sigma_d_SD=Sigma_d_SD_I)),label='Model I')\n",
    "plt.plot(R,np.sqrt(Vc2_SD_simps(R,R_d=R_d_II,Sigma_d_SD=Sigma_d_SD_II)),label='Model II')\n",
    "plt.xlabel('R')\n",
    "plt.ylabel(r'$V_{c}(R)$')\n",
    "plt.legend(loc='upper right', prop={'size':10})\n",
    "plt.title('Stelar Disk')"
   ]
  },
  {
   "cell_type": "code",
   "execution_count": 28,
   "metadata": {},
   "outputs": [],
   "source": [
    "Vc2_SD_I = Vc2_SD_simps(vecRp,R_d=R_d_I,Sigma_d_SD=Sigma_d_SD_I)\n",
    "Vc2_SD_II = Vc2_SD_simps(vecRp,R_d=R_d_II,Sigma_d_SD=Sigma_d_SD_II)"
   ]
  },
  {
   "cell_type": "code",
   "execution_count": 29,
   "metadata": {},
   "outputs": [],
   "source": [
    "def Vc2_ISM_ap(R,R_d,Sigma_g_ISM,R_m=R_m):\n",
    "    def M_g_ISM(u,R):\n",
    "        return R*u*np.exp(-((R*u)/(2.*R_d))-(R_m/(R*u)))\n",
    "    Integral_M_g = []\n",
    "    for i in range (0,len(R)):\n",
    "        result = integrate.quad(M_g_ISM,0,1,args=(R[i]))[0]\n",
    "        Integral_M_g.append(result)\n",
    "    return 2.*np.pi*Sigma_g_ISM*G*np.array(Integral_M_g)"
   ]
  },
  {
   "cell_type": "code",
   "execution_count": 30,
   "metadata": {},
   "outputs": [
    {
     "data": {
      "text/plain": [
       "Text(0.5,1,'Interestelar Medium')"
      ]
     },
     "execution_count": 30,
     "metadata": {},
     "output_type": "execute_result"
    },
    {
     "data": {
      "image/png": "[encoded data removed]",
      "text/plain": [
       "<Figure size 432x288 with 1 Axes>"
      ]
     },
     "metadata": {
      "needs_background": "light"
     },
     "output_type": "display_data"
    }
   ],
   "source": [
    "plt.plot(R,np.sqrt(Vc2_ISM_ap(R,R_d=R_d_I,Sigma_g_ISM=Sigma_g_ISM_I)),label='Model I')\n",
    "plt.plot(R,np.sqrt(Vc2_ISM_ap(R,R_d=R_d_II,Sigma_g_ISM=Sigma_g_ISM_II)),label='Model II')\n",
    "plt.xlabel('R')\n",
    "plt.ylabel(r'$V_{c}(R)$')\n",
    "plt.legend(loc='upper right', prop={'size':10})\n",
    "plt.title('Interestelar Medium')"
   ]
  },
  {
   "cell_type": "code",
   "execution_count": 31,
   "metadata": {},
   "outputs": [],
   "source": [
    "Vc2_ISM_ap_I = Vc2_ISM_ap(vecRp,R_d=R_d_I,Sigma_g_ISM=Sigma_g_ISM_I)\n",
    "Vc2_ISM_ap_II = Vc2_ISM_ap(vecRp,R_d=R_d_II,Sigma_g_ISM=Sigma_g_ISM_II)"
   ]
  },
  {
   "cell_type": "markdown",
   "metadata": {},
   "source": [
    "# Ajuste de $\\rho_{sol}$"
   ]
  },
  {
   "cell_type": "code",
   "execution_count": 41,
   "metadata": {},
   "outputs": [],
   "source": [
    "def Vc_tot_rho_sol_I(R,params,parameters):\n",
    "    rho_sol = params\n",
    "    eps,r_s,m_a = parameters\n",
    "    suma = Vc2_b_I + vc2_DM_axion(R,rho_sol,m_a,eps,r_s) + Vc2_SD_I + Vc2_ISM_ap_I\n",
    "    return np.sqrt(suma)"
   ]
  },
  {
   "cell_type": "code",
   "execution_count": 42,
   "metadata": {},
   "outputs": [],
   "source": [
    "par_wo_rho_sol_I = np.array([0.4,0.3,m_axion])\n",
    "par_wo_rho_sol_II = np.array([0.4,0.3,m_axion])"
   ]
  },
  {
   "cell_type": "code",
   "execution_count": 43,
   "metadata": {},
   "outputs": [
    {
     "name": "stdout",
     "output_type": "stream",
     "text": [
      "0.640184399664\n"
     ]
    }
   ],
   "source": [
    "print ((rho_soliton/(2.42e9))*(m_axion/1.0e-22)**2.)**(-0.25)"
   ]
  },
  {
   "cell_type": "code",
   "execution_count": 44,
   "metadata": {},
   "outputs": [
    {
     "name": "stdout",
     "output_type": "stream",
     "text": [
      "[0.1 0.2 0.3 0.4 0.5 0.6 0.7 0.8 0.9 1.  1.1 1.2 1.3 1.4 1.5 1.6 1.7 1.8\n",
      " 1.9 2. ]\n"
     ]
    }
   ],
   "source": [
    "rsol_array = np.linspace(0.1,2.0,20)\n",
    "print rsol_array"
   ]
  },
  {
   "cell_type": "code",
   "execution_count": 45,
   "metadata": {},
   "outputs": [
    {
     "name": "stdout",
     "output_type": "stream",
     "text": [
      "[1.44077120e+14 9.00482000e+12 1.77872988e+12 5.62801250e+11\n",
      " 2.30523392e+11 1.11170617e+11 6.00071304e+10 3.51750781e+10\n",
      " 2.19596281e+10 1.44077120e+10 9.84066116e+09 6.94816358e+09\n",
      " 5.04454046e+09 3.75044565e+09 2.84596780e+09 2.19844238e+09\n",
      " 1.72504065e+09 1.37247676e+09 1.10555567e+09 9.00482000e+08]\n"
     ]
    }
   ],
   "source": [
    "rhosol_array = rho_soliton/((1.0e-22/m_axion)**2.*rsol_array**4.)\n",
    "print rhosol_array"
   ]
  },
  {
   "cell_type": "code",
   "execution_count": 46,
   "metadata": {},
   "outputs": [],
   "source": [
    "def Xi2_rho_sol_I(parameters):\n",
    "    rho_sol = parameters\n",
    "    par = np.exp(rho_sol)\n",
    "    model = Vc_tot_rho_sol_I(vecRp,par,par_wo_rho_sol_I)\n",
    "    xi = np.sum((vecvRp-model)**2./(vecerrvRp)**2.)\n",
    "    return xi"
   ]
  },
  {
   "cell_type": "code",
   "execution_count": 47,
   "metadata": {},
   "outputs": [],
   "source": [
    "x0_rho_sol_I = np.array(np.log(1.0e8))"
   ]
  },
  {
   "cell_type": "code",
   "execution_count": 48,
   "metadata": {},
   "outputs": [],
   "source": [
    "LS_rho_sol_I = minimize(Xi2_rho_sol_I,x0_rho_sol_I,method='L-BFGS-B',bounds=((np.log(1.0e9),np.log(9.0e12)),))"
   ]
  },
  {
   "cell_type": "code",
   "execution_count": 49,
   "metadata": {},
   "outputs": [
    {
     "name": "stdout",
     "output_type": "stream",
     "text": [
      "      fun: 2483059.142108562\n",
      " hess_inv: <1x1 LbfgsInvHessProduct with dtype=float64>\n",
      "      jac: array([0.13969839])\n",
      "  message: 'CONVERGENCE: REL_REDUCTION_OF_F_<=_FACTR*EPSMCH'\n",
      "     nfev: 24\n",
      "      nit: 5\n",
      "   status: 0\n",
      "  success: True\n",
      "        x: array([26.68452912])\n"
     ]
    }
   ],
   "source": [
    "print LS_rho_sol_I"
   ]
  },
  {
   "cell_type": "code",
   "execution_count": 52,
   "metadata": {},
   "outputs": [
    {
     "name": "stdout",
     "output_type": "stream",
     "text": [
      "      fun: 2483059.142108562\n",
      " hess_inv: <1x1 LbfgsInvHessProduct with dtype=float64>\n",
      "      jac: array([0.13969839])\n",
      "  message: 'CONVERGENCE: REL_REDUCTION_OF_F_<=_FACTR*EPSMCH'\n",
      "     nfev: 24\n",
      "      nit: 5\n",
      "   status: 0\n",
      "  success: True\n",
      "        x: array([26.68452912])\n"
     ]
    }
   ],
   "source": [
    "print LS_rho_sol_I"
   ]
  },
  {
   "cell_type": "code",
   "execution_count": 53,
   "metadata": {},
   "outputs": [
    {
     "name": "stdout",
     "output_type": "stream",
     "text": [
      "[3.88100096e+11]\n"
     ]
    }
   ],
   "source": [
    "print np.exp(LS_rho_sol_I.x)"
   ]
  },
  {
   "cell_type": "code",
   "execution_count": 65,
   "metadata": {},
   "outputs": [
    {
     "data": {
      "text/plain": [
       "<matplotlib.legend.Legend at 0x10fc22a90>"
      ]
     },
     "execution_count": 65,
     "metadata": {},
     "output_type": "execute_result"
    },
    {
     "data": {
      "image/png": "[encoded data removed]",
      "text/plain": [
       "<Figure size 432x288 with 1 Axes>"
      ]
     },
     "metadata": {
      "needs_background": "light"
     },
     "output_type": "display_data"
    }
   ],
   "source": [
    "plt.plot(R,Vc_tot_rho_sol(R,np.exp(26.68452912),par_wo_rho_sol_I), label='total')\n",
    "plt.plot(R,np.sqrt(Vc2_b(R,rho_b=rho_b_I)),label='Bulge')\n",
    "plt.plot(R,np.sqrt(Vc2_SD_simps(R,R_d=R_d_I,Sigma_d_SD=Sigma_d_SD_I)),label='Stelar Disk')\n",
    "plt.plot(R,np.sqrt(Vc2_ISM_ap(R,R_d=R_d_I,Sigma_g_ISM=Sigma_g_ISM_I)),label='ISM')\n",
    "plt.plot(R,np.sqrt(vc2_DM_axion(R,rho_sol=np.exp(26.68452912),m_a=m_axion,eps=0.48,r_s=0.39)),label='DM Halo')\n",
    "plt.xlabel('R')\n",
    "plt.ylabel(r'$V_{c}(R)$')\n",
    "plt.legend(loc='upper right', prop={'size':10})"
   ]
  },
  {
   "cell_type": "code",
   "execution_count": 76,
   "metadata": {},
   "outputs": [
    {
     "data": {
      "text/plain": [
       "<matplotlib.collections.LineCollection at 0x11e7003d0>"
      ]
     },
     "execution_count": 76,
     "metadata": {},
     "output_type": "execute_result"
    },
    {
     "data": {
      "image/png": "[encoded data removed]",
      "text/plain": [
       "<Figure size 432x288 with 1 Axes>"
      ]
     },
     "metadata": {
      "needs_background": "light"
     },
     "output_type": "display_data"
    }
   ],
   "source": [
    "plt.plot(vecRp,Vc_tot_rho_sol_I(vecRp,np.asscalar(np.exp(LS_rho_sol_I.x)),par_wo_rho_sol_I),'.', label='total')\n",
    "plt.plot(vecRp,np.sqrt(Vc2_b_I),'.',label='Bulge')\n",
    "plt.plot(vecRp,np.sqrt(Vc2_SD_I),'.',label='Stelar Disk')\n",
    "plt.plot(vecRp,np.sqrt(Vc2_ISM_ap_I),'.',label='ISM')\n",
    "plt.plot(vecRp,np.sqrt(vc2_DM_axion(vecRp,rho_sol=np.asscalar(np.exp(LS_rho_sol_I.x)),m_a=m_axion,eps=0.48,r_s=0.39)),'.',label='DM Halo')\n",
    "plt.xlabel('R')\n",
    "plt.ylabel(r'$V_{c}(R)$')\n",
    "plt.legend(loc='upper right', prop={'size':10})\n",
    "plt.hlines(220,0,17)\n",
    "plt.hlines(230,0,17)\n",
    "plt.vlines(8,0,240)"
   ]
  },
  {
   "cell_type": "code",
   "execution_count": 62,
   "metadata": {},
   "outputs": [],
   "source": [
    "def Vc_tot_rho_sol_II(r,params,parameters):\n",
    "    rho_sol = params\n",
    "    eps,r_s,m_a = parameters\n",
    "    suma = Vc2_b_II + vc2_DM_axion(r,rho_sol,m_a,eps,r_s) + Vc2_SD_II + Vc2_ISM_ap_II\n",
    "    return np.sqrt(suma)"
   ]
  },
  {
   "cell_type": "code",
   "execution_count": 63,
   "metadata": {},
   "outputs": [],
   "source": [
    "def Xi2_rho_sol_II(parameters):\n",
    "    rho_sol = parameters\n",
    "    par = np.exp(rho_sol)\n",
    "    model = Vc_tot_rho_sol_II(vecRp,par,par_wo_rho_sol_II)\n",
    "    xi = np.sum((vecvRp-model)**2./(vecerrvRp)**2.)\n",
    "    return xi"
   ]
  },
  {
   "cell_type": "code",
   "execution_count": 64,
   "metadata": {},
   "outputs": [],
   "source": [
    "x0_rho_sol_II = np.array(np.log(1.0e8))"
   ]
  },
  {
   "cell_type": "code",
   "execution_count": 65,
   "metadata": {},
   "outputs": [],
   "source": [
    "LS_rho_sol_II = minimize(Xi2_rho_sol_II,x0_rho_sol_II,method='L-BFGS-B',bounds=((np.log(1.0e9),np.log(9.0e12)),))"
   ]
  },
  {
   "cell_type": "code",
   "execution_count": 66,
   "metadata": {},
   "outputs": [
    {
     "name": "stdout",
     "output_type": "stream",
     "text": [
      "      fun: 3774279.4654574106\n",
      " hess_inv: <1x1 LbfgsInvHessProduct with dtype=float64>\n",
      "      jac: array([-0.60535967])\n",
      "  message: 'CONVERGENCE: REL_REDUCTION_OF_F_<=_FACTR*EPSMCH'\n",
      "     nfev: 26\n",
      "      nit: 6\n",
      "   status: 0\n",
      "  success: True\n",
      "        x: array([27.42574813])\n"
     ]
    }
   ],
   "source": [
    "print LS_rho_sol_II"
   ]
  },
  {
   "cell_type": "code",
   "execution_count": 67,
   "metadata": {},
   "outputs": [
    {
     "name": "stdout",
     "output_type": "stream",
     "text": [
      "[8.14424963e+11]\n"
     ]
    }
   ],
   "source": [
    "print np.exp(LS_rho_sol_II.x)"
   ]
  },
  {
   "cell_type": "code",
   "execution_count": 68,
   "metadata": {},
   "outputs": [
    {
     "data": {
      "text/plain": [
       "814424962994.7181"
      ]
     },
     "execution_count": 68,
     "metadata": {},
     "output_type": "execute_result"
    }
   ],
   "source": [
    "np.asscalar(np.exp(LS_rho_sol_II.x))"
   ]
  },
  {
   "cell_type": "code",
   "execution_count": 77,
   "metadata": {},
   "outputs": [
    {
     "data": {
      "text/plain": [
       "<matplotlib.collections.LineCollection at 0x11e805f90>"
      ]
     },
     "execution_count": 77,
     "metadata": {},
     "output_type": "execute_result"
    },
    {
     "data": {
      "image/png": "[encoded data removed]",
      "text/plain": [
       "<Figure size 432x288 with 1 Axes>"
      ]
     },
     "metadata": {
      "needs_background": "light"
     },
     "output_type": "display_data"
    }
   ],
   "source": [
    "plt.plot(vecRp,Vc_tot_rho_sol_II(vecRp,np.asscalar(np.exp(LS_rho_sol_II.x)),par_wo_rho_sol_II),'.', label='total')\n",
    "plt.plot(vecRp,np.sqrt(Vc2_b_II),'.',label='Bulge')\n",
    "plt.plot(vecRp,np.sqrt(Vc2_SD_II),'.',label='Stelar Disk')\n",
    "plt.plot(vecRp,np.sqrt(Vc2_ISM_ap_II),'.',label='ISM')\n",
    "plt.plot(vecRp,np.sqrt(vc2_DM_axion(vecRp,rho_sol=np.asscalar(np.exp(LS_rho_sol_II.x)),m_a=m_axion,eps=0.48,r_s=0.39)),'.',label='DM Halo')\n",
    "plt.xlabel('R')\n",
    "plt.ylabel(r'$V_{c}(R)$')\n",
    "plt.legend(loc='upper right', prop={'size':10})\n",
    "plt.hlines(220,0,17)\n",
    "plt.hlines(230,0,17)\n",
    "plt.vlines(8,0,240)"
   ]
  },
  {
   "cell_type": "markdown",
   "metadata": {},
   "source": [
    "# Ajuste de $m_{a}$"
   ]
  },
  {
   "cell_type": "code",
   "execution_count": 196,
   "metadata": {},
   "outputs": [],
   "source": [
    "def Vc_tot_m_a_I(r,params,parameters):\n",
    "    m_a = params\n",
    "    eps,r_s,rho_sol = parameters\n",
    "    suma = Vc2_b_I + vc2_DM_axion(r,rho_sol,m_a,eps,r_s) + Vc2_SD_I + Vc2_ISM_ap_I\n",
    "    return np.sqrt(suma)"
   ]
  },
  {
   "cell_type": "code",
   "execution_count": 205,
   "metadata": {},
   "outputs": [],
   "source": [
    "pars_wo_m_a_I = np.array([0.4,0.3,0.037*rho_soliton])"
   ]
  },
  {
   "cell_type": "code",
   "execution_count": 206,
   "metadata": {},
   "outputs": [],
   "source": [
    "def Xi2_m_a_I(parameters):\n",
    "    m_a = parameters\n",
    "    par = np.exp(m_a)\n",
    "    model = Vc_tot_m_a_I(vecRp,par,pars_wo_m_a_I)\n",
    "    xi = np.sum((vecvRp-model)**2./(vecerrvRp)**2.)\n",
    "    return xi"
   ]
  },
  {
   "cell_type": "code",
   "execution_count": 207,
   "metadata": {},
   "outputs": [],
   "source": [
    "x0_m_a_I = np.array(np.log(1.0e-24))"
   ]
  },
  {
   "cell_type": "code",
   "execution_count": 208,
   "metadata": {},
   "outputs": [],
   "source": [
    "LS_m_a_I = minimize(Xi2_m_a_I,x0_m_a_I,method='L-BFGS-B',bounds=((np.log(1.0e-24),np.log(1.0e-20)),))"
   ]
  },
  {
   "cell_type": "code",
   "execution_count": 209,
   "metadata": {},
   "outputs": [
    {
     "name": "stdout",
     "output_type": "stream",
     "text": [
      "      fun: 2041491.3591039532\n",
      " hess_inv: <1x1 LbfgsInvHessProduct with dtype=float64>\n",
      "      jac: array([-0.04656613])\n",
      "  message: 'CONVERGENCE: REL_REDUCTION_OF_F_<=_FACTR*EPSMCH'\n",
      "     nfev: 36\n",
      "      nit: 4\n",
      "   status: 0\n",
      "  success: True\n",
      "        x: array([-54.07207757])\n"
     ]
    }
   ],
   "source": [
    "print LS_m_a_I"
   ]
  },
  {
   "cell_type": "code",
   "execution_count": 210,
   "metadata": {},
   "outputs": [
    {
     "name": "stdout",
     "output_type": "stream",
     "text": [
      "[3.28696506e-24]\n"
     ]
    }
   ],
   "source": [
    "print np.exp(LS_m_a_I.x)"
   ]
  },
  {
   "cell_type": "code",
   "execution_count": 211,
   "metadata": {},
   "outputs": [
    {
     "data": {
      "text/plain": [
       "<matplotlib.collections.LineCollection at 0x120133fd0>"
      ]
     },
     "execution_count": 211,
     "metadata": {},
     "output_type": "execute_result"
    },
    {
     "data": {
      "image/png": "[encoded data removed]",
      "text/plain": [
       "<Figure size 432x288 with 1 Axes>"
      ]
     },
     "metadata": {
      "needs_background": "light"
     },
     "output_type": "display_data"
    }
   ],
   "source": [
    "plt.plot(vecRp,Vc_tot_m_a_I(vecRp,np.asscalar(np.exp(LS_m_a_I.x)),pars_wo_m_a_I),'.', label='total')\n",
    "plt.plot(vecRp,np.sqrt(Vc2_b_I),'.',label='Bulge')\n",
    "plt.plot(vecRp,np.sqrt(Vc2_SD_I),'.',label='Stelar Disk')\n",
    "plt.plot(vecRp,np.sqrt(Vc2_ISM_ap_I),'.',label='ISM')\n",
    "plt.plot(vecRp,np.sqrt(vc2_DM_axion(vecRp,rho_sol=0.037*rho_soliton,m_a=np.asscalar(np.exp(LS_m_a_I.x)),eps=0.48,r_s=0.39)),'.',label='DM Halo')\n",
    "plt.xlabel('R')\n",
    "plt.ylabel(r'$V_{c}(R)$')\n",
    "plt.legend(loc='upper right', prop={'size':10})\n",
    "plt.hlines(220,0,17)\n",
    "plt.hlines(230,0,17)\n",
    "plt.vlines(8,0,240)"
   ]
  },
  {
   "cell_type": "code",
   "execution_count": null,
   "metadata": {},
   "outputs": [],
   "source": []
  },
  {
   "cell_type": "markdown",
   "metadata": {},
   "source": [
    "# Ajustando $\\rho_{sol}$ y $m_{a}$"
   ]
  },
  {
   "cell_type": "code",
   "execution_count": 83,
   "metadata": {},
   "outputs": [],
   "source": [
    "def Vc_tot_rho_sol_m_a_I(r,params,parameters):\n",
    "    rho_sol,m_a = params\n",
    "    eps,r_s = parameters\n",
    "    suma = Vc2_b_I + vc2_DM_axion(r,rho_sol,m_a,eps,r_s) + Vc2_SD_I + Vc2_ISM_ap_I\n",
    "    return np.sqrt(suma)"
   ]
  },
  {
   "cell_type": "code",
   "execution_count": 84,
   "metadata": {},
   "outputs": [],
   "source": [
    "par_wo_rho_sol_m_a_I = np.array([0.4,0.3])\n",
    "par_wo_rho_sol_m_a_II = np.array([0.4,0.3])"
   ]
  },
  {
   "cell_type": "code",
   "execution_count": 85,
   "metadata": {},
   "outputs": [],
   "source": [
    "def Xi2_rho_sol_m_a_I(parameters):\n",
    "    rho_sol,m_a = parameters\n",
    "    par = np.exp(rho_sol),np.exp(m_a)\n",
    "    model = Vc_tot_rho_sol_m_a_I(vecRp,par,par_wo_rho_sol_m_a_I)\n",
    "    xi = np.sum((vecvRp-model)**2./(vecerrvRp)**2.)\n",
    "    return xi"
   ]
  },
  {
   "cell_type": "code",
   "execution_count": 109,
   "metadata": {},
   "outputs": [
    {
     "name": "stdout",
     "output_type": "stream",
     "text": [
      "[1.00000000e-20 2.50000000e-21 1.11111111e-21 6.25000000e-22\n",
      " 4.00000000e-22 2.77777778e-22 2.04081633e-22 1.56250000e-22\n",
      " 1.23456790e-22 1.00000000e-22 8.26446281e-23 6.94444444e-23\n",
      " 5.91715976e-23 5.10204082e-23 4.44444444e-23 3.90625000e-23\n",
      " 3.46020761e-23 3.08641975e-23 2.77008310e-23 2.50000000e-23]\n"
     ]
    }
   ],
   "source": [
    "print 1.0e-22*np.sqrt(2.42e9/(rho_soliton*rsol_array**4.))"
   ]
  },
  {
   "cell_type": "code",
   "execution_count": 120,
   "metadata": {},
   "outputs": [],
   "source": [
    "x0_rho_sol_m_a_I = np.array([np.log(1.0e8),np.log(1.0e-25)])"
   ]
  },
  {
   "cell_type": "code",
   "execution_count": 121,
   "metadata": {},
   "outputs": [],
   "source": [
    "LS_rho_sol_m_a_I = minimize(Xi2_rho_sol_m_a_I,x0_rho_sol_m_a_I,method='L-BFGS-B',bounds=((np.log(1.0e8),np.log(9.0e13)),(np.log(1.0e-25),np.log(1.0e-20)),))"
   ]
  },
  {
   "cell_type": "code",
   "execution_count": 122,
   "metadata": {},
   "outputs": [
    {
     "data": {
      "text/plain": [
       "      fun: 2914.118944728387\n",
       " hess_inv: <2x2 LbfgsInvHessProduct with dtype=float64>\n",
       "      jac: array([-0.00068212,  0.00181899])\n",
       "  message: 'CONVERGENCE: REL_REDUCTION_OF_F_<=_FACTR*EPSMCH'\n",
       "     nfev: 75\n",
       "      nit: 12\n",
       "   status: 0\n",
       "  success: True\n",
       "        x: array([ 19.63326443, -53.92732627])"
      ]
     },
     "execution_count": 122,
     "metadata": {},
     "output_type": "execute_result"
    }
   ],
   "source": [
    "LS_rho_sol_m_a_I"
   ]
  },
  {
   "cell_type": "code",
   "execution_count": 123,
   "metadata": {},
   "outputs": [
    {
     "name": "stdout",
     "output_type": "stream",
     "text": [
      "[3.36216019e+08 3.79891677e-24]\n"
     ]
    }
   ],
   "source": [
    "pars_rho_sol_m_a_I_min = np.array([np.exp(LS_rho_sol_m_a_I.x[0]),np.exp(LS_rho_sol_m_a_I.x[1])])\n",
    "print pars_rho_sol_m_a_I_min"
   ]
  },
  {
   "cell_type": "code",
   "execution_count": 194,
   "metadata": {},
   "outputs": [
    {
     "data": {
      "text/plain": [
       "8.403677000537964"
      ]
     },
     "execution_count": 194,
     "metadata": {},
     "output_type": "execute_result"
    }
   ],
   "source": [
    "((3.36216019e+08/(2.42e9))*(3.79891677e-24/1.0e-22)**2.)**(-0.25)"
   ]
  },
  {
   "cell_type": "code",
   "execution_count": 125,
   "metadata": {},
   "outputs": [
    {
     "data": {
      "text/plain": [
       "<matplotlib.collections.LineCollection at 0x11f8d15d0>"
      ]
     },
     "execution_count": 125,
     "metadata": {},
     "output_type": "execute_result"
    },
    {
     "data": {
      "image/png": "[encoded data removed]",
      "text/plain": [
       "<Figure size 432x288 with 1 Axes>"
      ]
     },
     "metadata": {
      "needs_background": "light"
     },
     "output_type": "display_data"
    }
   ],
   "source": [
    "plt.plot(vecRp,Vc_tot_rho_sol_m_a_I(vecRp,pars_rho_sol_m_a_I_min,par_wo_rho_sol_m_a_I),'.', label='total')\n",
    "plt.plot(vecRp,np.sqrt(Vc2_b_I),'.',label='Bulge')\n",
    "plt.plot(vecRp,np.sqrt(Vc2_SD_I),'.',label='Stelar Disk')\n",
    "plt.plot(vecRp,np.sqrt(Vc2_ISM_ap_I),'.',label='ISM')\n",
    "plt.plot(vecRp,np.sqrt(vc2_DM_axion(vecRp,rho_sol=np.asscalar(np.exp(LS_rho_sol_m_a_I.x[0])),m_a=np.asscalar(np.exp(LS_rho_sol_m_a_I.x[1])),eps=0.48,r_s=0.39)),'.',label='DM Halo')\n",
    "plt.xlabel('R')\n",
    "plt.ylabel(r'$V_{c}(R)$')\n",
    "plt.legend(loc='upper right', prop={'size':10})\n",
    "plt.hlines(220,0,17)\n",
    "plt.hlines(230,0,17)\n",
    "plt.vlines(8,0,240)"
   ]
  },
  {
   "cell_type": "code",
   "execution_count": 126,
   "metadata": {},
   "outputs": [],
   "source": [
    "def Vc_tot_rho_sol_m_a_II(r,params,parameters):\n",
    "    rho_sol,m_a = params\n",
    "    eps,r_s = parameters\n",
    "    suma = Vc2_b_II + vc2_DM_axion(r,rho_sol,m_a,eps,r_s) + Vc2_SD_II + Vc2_ISM_ap_II\n",
    "    return np.sqrt(suma)"
   ]
  },
  {
   "cell_type": "code",
   "execution_count": 127,
   "metadata": {},
   "outputs": [],
   "source": [
    "def Xi2_rho_sol_m_a_II(parameters):\n",
    "    rho_sol,m_a = parameters\n",
    "    par = np.exp(rho_sol),np.exp(m_a)\n",
    "    model = Vc_tot_rho_sol_m_a_II(vecRp,par,par_wo_rho_sol_m_a_II)\n",
    "    xi = np.sum((vecvRp-model)**2./(vecerrvRp)**2.)\n",
    "    return xi"
   ]
  },
  {
   "cell_type": "code",
   "execution_count": 128,
   "metadata": {},
   "outputs": [],
   "source": [
    "x0_rho_sol_m_a_II = np.array([np.log(1.0e8),np.log(1.0e-25)])"
   ]
  },
  {
   "cell_type": "code",
   "execution_count": 129,
   "metadata": {},
   "outputs": [],
   "source": [
    "LS_rho_sol_m_a_II = minimize(Xi2_rho_sol_m_a_II,x0_rho_sol_m_a_II,method='L-BFGS-B',bounds=((np.log(1.0e8),np.log(9.0e13)),(np.log(1.0e-25),np.log(1.0e-20)),))"
   ]
  },
  {
   "cell_type": "code",
   "execution_count": 130,
   "metadata": {},
   "outputs": [
    {
     "data": {
      "text/plain": [
       "      fun: 2914.118944728387\n",
       " hess_inv: <2x2 LbfgsInvHessProduct with dtype=float64>\n",
       "      jac: array([-0.00068212,  0.00181899])\n",
       "  message: 'CONVERGENCE: REL_REDUCTION_OF_F_<=_FACTR*EPSMCH'\n",
       "     nfev: 75\n",
       "      nit: 12\n",
       "   status: 0\n",
       "  success: True\n",
       "        x: array([ 19.63326443, -53.92732627])"
      ]
     },
     "execution_count": 130,
     "metadata": {},
     "output_type": "execute_result"
    }
   ],
   "source": [
    "LS_rho_sol_m_a_II"
   ]
  },
  {
   "cell_type": "code",
   "execution_count": 133,
   "metadata": {},
   "outputs": [
    {
     "name": "stdout",
     "output_type": "stream",
     "text": [
      "[3.36216019e+08 3.79891677e-24]\n"
     ]
    }
   ],
   "source": [
    "pars_rho_sol_m_a_II_min = np.array([np.exp(LS_rho_sol_m_a_II.x[0]),np.exp(LS_rho_sol_m_a_II.x[1])])\n",
    "print pars_rho_sol_m_a_II_min"
   ]
  },
  {
   "cell_type": "code",
   "execution_count": 195,
   "metadata": {},
   "outputs": [
    {
     "data": {
      "text/plain": [
       "8.403677000537964"
      ]
     },
     "execution_count": 195,
     "metadata": {},
     "output_type": "execute_result"
    }
   ],
   "source": [
    "((3.36216019e+08/(2.42e9))*(3.79891677e-24/1.0e-22)**2.)**(-0.25)"
   ]
  },
  {
   "cell_type": "code",
   "execution_count": 147,
   "metadata": {},
   "outputs": [
    {
     "data": {
      "text/plain": [
       "<matplotlib.collections.LineCollection at 0x11fbfa6d0>"
      ]
     },
     "execution_count": 147,
     "metadata": {},
     "output_type": "execute_result"
    },
    {
     "data": {
      "image/png": "[encoded data removed]",
      "text/plain": [
       "<Figure size 432x288 with 1 Axes>"
      ]
     },
     "metadata": {
      "needs_background": "light"
     },
     "output_type": "display_data"
    }
   ],
   "source": [
    "plt.plot(vecRp,Vc_tot_rho_sol_m_a_II(vecRp,pars_rho_sol_m_a_II_min,par_wo_rho_sol_m_a_II),'.', label='total')\n",
    "plt.plot(vecRp,np.sqrt(Vc2_b_II),'.',label='Bulge')\n",
    "plt.plot(vecRp,np.sqrt(Vc2_SD_II),'.',label='Stelar Disk')\n",
    "plt.plot(vecRp,np.sqrt(Vc2_ISM_ap_II),'.',label='ISM')\n",
    "plt.plot(vecRp,np.sqrt(vc2_DM_axion(vecRp,rho_sol=np.asscalar(np.exp(LS_rho_sol_m_a_II.x[0])),m_a=np.asscalar(np.exp(LS_rho_sol_m_a_II.x[1])),eps=0.48,r_s=0.39)),'.',label='DM Halo')\n",
    "plt.xlabel('R')\n",
    "plt.ylabel(r'$V_{c}(R)$')\n",
    "plt.legend(loc='upper right', prop={'size':10})\n",
    "plt.hlines(220,0,17)\n",
    "plt.hlines(230,0,17)\n",
    "plt.vlines(8,0,240)"
   ]
  },
  {
   "cell_type": "markdown",
   "metadata": {},
   "source": [
    "# Ahora ajustaremos $\\rho_{sol}$ y $r_{sol}$"
   ]
  },
  {
   "cell_type": "code",
   "execution_count": 135,
   "metadata": {},
   "outputs": [],
   "source": [
    "def Vc_tot_rho_sol_rsol_I(r,params,parameters):\n",
    "    rho_sol,rsol = params\n",
    "    eps,r_s,m_a = parameters\n",
    "    suma = Vc2_b_I + vc2_DM_axion_v2(r,rho_sol,rsol,eps,r_s,m_a) + Vc2_SD_I + Vc2_ISM_ap_I\n",
    "    return np.sqrt(suma)"
   ]
  },
  {
   "cell_type": "code",
   "execution_count": 136,
   "metadata": {},
   "outputs": [],
   "source": [
    "par_wo_rho_sol_rsol_I=np.array([0.4,0.3,m_axion])\n",
    "par_wo_rho_sol_rsol_II=np.array([0.4,0.3,m_axion])"
   ]
  },
  {
   "cell_type": "code",
   "execution_count": 137,
   "metadata": {},
   "outputs": [],
   "source": [
    "def Xi2_rho_sol_rsol_I(parameters):\n",
    "    rho_sol,rsol = parameters\n",
    "    par = np.exp(rho_sol),rsol\n",
    "    model = Vc_tot_rho_sol_rsol_I(vecRp,par,par_wo_rho_sol_rsol_I)\n",
    "    xi = np.sum((vecvRp-model)**2./(vecerrvRp)**2.)\n",
    "    return xi"
   ]
  },
  {
   "cell_type": "code",
   "execution_count": 184,
   "metadata": {},
   "outputs": [],
   "source": [
    "x0_rho_sol_rsol_I = np.array([np.log(1.0e7),0.00001])"
   ]
  },
  {
   "cell_type": "code",
   "execution_count": 189,
   "metadata": {},
   "outputs": [],
   "source": [
    "LS_rho_sol_rsol_I = minimize(Xi2_rho_sol_rsol_I,x0_rho_sol_rsol_I,method='L-BFGS-B',bounds=((np.log(1.0e7),np.log(9.0e13)),(0.00001,3.),))"
   ]
  },
  {
   "cell_type": "code",
   "execution_count": 190,
   "metadata": {},
   "outputs": [
    {
     "name": "stdout",
     "output_type": "stream",
     "text": [
      "      fun: 2563.656696229539\n",
      " hess_inv: <2x2 LbfgsInvHessProduct with dtype=float64>\n",
      "      jac: array([0.       , 0.0001819])\n",
      "  message: 'CONVERGENCE: REL_REDUCTION_OF_F_<=_FACTR*EPSMCH'\n",
      "     nfev: 84\n",
      "      nit: 13\n",
      "   status: 0\n",
      "  success: True\n",
      "        x: array([18.09289617,  2.65510089])\n"
     ]
    }
   ],
   "source": [
    "print LS_rho_sol_rsol_I"
   ]
  },
  {
   "cell_type": "code",
   "execution_count": 191,
   "metadata": {},
   "outputs": [
    {
     "name": "stdout",
     "output_type": "stream",
     "text": [
      "[7.20518219e+07 2.65510089e+00]\n"
     ]
    }
   ],
   "source": [
    "pars_rho_sol_rsol_I_min = np.array([np.exp(LS_rho_sol_rsol_I.x[0]),LS_rho_sol_rsol_I.x[1]])\n",
    "print pars_rho_sol_rsol_I_min"
   ]
  },
  {
   "cell_type": "code",
   "execution_count": 192,
   "metadata": {},
   "outputs": [
    {
     "data": {
      "text/plain": [
       "8.220971474154126e-23"
      ]
     },
     "execution_count": 192,
     "metadata": {},
     "output_type": "execute_result"
    }
   ],
   "source": [
    "1.0e-22*np.sqrt(2.42e9/(np.asscalar(np.exp(LS_rho_sol_rsol_I.x[0]))*np.asscalar(LS_rho_sol_rsol_I.x[1])**4.))"
   ]
  },
  {
   "cell_type": "code",
   "execution_count": 188,
   "metadata": {},
   "outputs": [
    {
     "data": {
      "text/plain": [
       "<matplotlib.collections.LineCollection at 0x11ff28f50>"
      ]
     },
     "execution_count": 188,
     "metadata": {},
     "output_type": "execute_result"
    },
    {
     "data": {
      "image/png": "[encoded data removed]",
      "text/plain": [
       "<Figure size 432x288 with 1 Axes>"
      ]
     },
     "metadata": {
      "needs_background": "light"
     },
     "output_type": "display_data"
    }
   ],
   "source": [
    "plt.plot(vecRp,Vc_tot_rho_sol_rsol_I(vecRp,pars_rho_sol_rsol_I_min,par_wo_rho_sol_rsol_I),'.', label='total')\n",
    "plt.plot(vecRp,np.sqrt(Vc2_b_I),'.',label='Bulge')\n",
    "plt.plot(vecRp,np.sqrt(Vc2_SD_I),'.',label='Stelar Disk')\n",
    "plt.plot(vecRp,np.sqrt(Vc2_ISM_ap_I),'.',label='ISM')\n",
    "plt.plot(vecRp,np.sqrt(vc2_DM_axion_v2(vecRp,rho_sol=np.asscalar(np.exp(LS_rho_sol_rsol_I.x[0])),rsol=np.asscalar(LS_rho_sol_rsol_I.x[1]),eps=0.48,r_s=0.39,m_a=m_axion)),'.',label='DM Halo')\n",
    "plt.xlabel('R')\n",
    "plt.ylabel(r'$V_{c}(R)$')\n",
    "plt.legend(loc='upper right', prop={'size':10})\n",
    "plt.hlines(220,0,17)\n",
    "plt.hlines(230,0,17)\n",
    "plt.vlines(8,0,240)"
   ]
  },
  {
   "cell_type": "code",
   "execution_count": 166,
   "metadata": {},
   "outputs": [],
   "source": [
    "def Vc_tot_rho_sol_rsol_II(r,params,parameters):\n",
    "    rho_sol,rsol = params\n",
    "    eps,r_s,m_a = parameters\n",
    "    suma = Vc2_b_II + vc2_DM_axion_v2(r,rho_sol,rsol,eps,r_s,m_a) + Vc2_SD_II + Vc2_ISM_ap_II\n",
    "    return np.sqrt(suma)"
   ]
  },
  {
   "cell_type": "code",
   "execution_count": 167,
   "metadata": {},
   "outputs": [],
   "source": [
    "def Xi2_rho_sol_rsol_II(parameters):\n",
    "    rho_sol,rsol = parameters\n",
    "    par = np.exp(rho_sol),rsol\n",
    "    model = Vc_tot_rho_sol_rsol_II(vecRp,par,par_wo_rho_sol_rsol_II)\n",
    "    xi = np.sum((vecvRp-model)**2./(vecerrvRp)**2.)\n",
    "    return xi"
   ]
  },
  {
   "cell_type": "code",
   "execution_count": 171,
   "metadata": {},
   "outputs": [],
   "source": [
    "x0_rho_sol_rsol_II = np.array([np.log(1.0e7),0.000001])"
   ]
  },
  {
   "cell_type": "code",
   "execution_count": 180,
   "metadata": {},
   "outputs": [],
   "source": [
    "LS_rho_sol_rsol_II = minimize(Xi2_rho_sol_rsol_II,x0_rho_sol_rsol_II,method='L-BFGS-B',bounds=((np.log(1.0e7),np.log(9.0e13)),(0.000001,15.0),))"
   ]
  },
  {
   "cell_type": "code",
   "execution_count": 181,
   "metadata": {},
   "outputs": [
    {
     "data": {
      "text/plain": [
       "      fun: 2914.1189447296006\n",
       " hess_inv: <2x2 LbfgsInvHessProduct with dtype=float64>\n",
       "      jac: array([-7.27595761e-04,  9.09494702e-05])\n",
       "  message: 'CONVERGENCE: REL_REDUCTION_OF_F_<=_FACTR*EPSMCH'\n",
       "     nfev: 93\n",
       "      nit: 23\n",
       "   status: 0\n",
       "  success: True\n",
       "        x: array([19.63326347,  8.40368072])"
      ]
     },
     "execution_count": 181,
     "metadata": {},
     "output_type": "execute_result"
    }
   ],
   "source": [
    "LS_rho_sol_rsol_II"
   ]
  },
  {
   "cell_type": "code",
   "execution_count": 182,
   "metadata": {},
   "outputs": [
    {
     "name": "stdout",
     "output_type": "stream",
     "text": [
      "[3.36215699e+08 8.40368072e+00]\n"
     ]
    }
   ],
   "source": [
    "pars_rho_sol_rsol_II_min = np.array([np.exp(LS_rho_sol_rsol_II.x[0]),LS_rho_sol_rsol_II.x[1]])\n",
    "print pars_rho_sol_rsol_II_min"
   ]
  },
  {
   "cell_type": "code",
   "execution_count": 183,
   "metadata": {},
   "outputs": [
    {
     "data": {
      "text/plain": [
       "<matplotlib.collections.LineCollection at 0x11fe23150>"
      ]
     },
     "execution_count": 183,
     "metadata": {},
     "output_type": "execute_result"
    },
    {
     "data": {
      "image/png": "[encoded data removed]",
      "text/plain": [
       "<Figure size 432x288 with 1 Axes>"
      ]
     },
     "metadata": {
      "needs_background": "light"
     },
     "output_type": "display_data"
    }
   ],
   "source": [
    "plt.plot(vecRp,Vc_tot_rho_sol_rsol_II(vecRp,pars_rho_sol_rsol_II_min,par_wo_rho_sol_rsol_II),'.', label='total')\n",
    "plt.plot(vecRp,np.sqrt(Vc2_b_II),'.',label='Bulge')\n",
    "plt.plot(vecRp,np.sqrt(Vc2_SD_II),'.',label='Stelar Disk')\n",
    "plt.plot(vecRp,np.sqrt(Vc2_ISM_ap_II),'.',label='ISM')\n",
    "plt.plot(vecRp,np.sqrt(vc2_DM_axion_v2(vecRp,rho_sol=np.asscalar(np.exp(LS_rho_sol_rsol_II.x[0])),rsol=np.asscalar(LS_rho_sol_rsol_II.x[1]),eps=0.48,r_s=0.39,m_a=m_axion)),'.',label='DM Halo')\n",
    "plt.xlabel('R')\n",
    "plt.ylabel(r'$V_{c}(R)$')\n",
    "plt.legend(loc='upper right', prop={'size':10})\n",
    "plt.hlines(220,0,17)\n",
    "plt.hlines(230,0,17)\n",
    "plt.vlines(8,0,240)"
   ]
  },
  {
   "cell_type": "code",
   "execution_count": 193,
   "metadata": {},
   "outputs": [
    {
     "data": {
      "text/plain": [
       "3.798915215409042e-24"
      ]
     },
     "execution_count": 193,
     "metadata": {},
     "output_type": "execute_result"
    }
   ],
   "source": [
    "1.0e-22*np.sqrt(2.42e9/(np.asscalar(np.exp(LS_rho_sol_rsol_II.x[0]))*np.asscalar(LS_rho_sol_rsol_II.x[1])**4.))"
   ]
  },
  {
   "cell_type": "markdown",
   "metadata": {},
   "source": [
    "# Ajuste $\\rho_{sol}$, $r_{sol}$, $\\epsilon$ y $r_{s}$"
   ]
  },
  {
   "cell_type": "code",
   "execution_count": 1,
   "metadata": {},
   "outputs": [],
   "source": [
    "def Vc_tot_rho_sol_rsol_r_s_epsI(r,params,parameters):\n",
    "    rho_sol,rsol,eps,r_s = params\n",
    "    m_a = parameters\n",
    "    suma = Vc2_b_I + vc2_DM_axion_v2(r,rho_sol,rsol,eps,r_s,m_a) + Vc2_SD_I + Vc2_ISM_ap_I\n",
    "    return np.sqrt(suma)"
   ]
  },
  {
   "cell_type": "code",
   "execution_count": 32,
   "metadata": {},
   "outputs": [],
   "source": [
    "def Xi2_rho_sol_rsol_r_s_epsI(parameters):\n",
    "    rho_sol,rsol,eps,r_s = parameters\n",
    "    par = np.exp(rho_sol),rsol,eps,r_s\n",
    "    model = Vc_tot_rho_sol_rsol_r_s_epsI(vecRp,par,m_axion)\n",
    "    xi = np.sum((vecvRp-model)**2./(vecerrvRp)**2.)\n",
    "    return xi"
   ]
  },
  {
   "cell_type": "code",
   "execution_count": 57,
   "metadata": {},
   "outputs": [],
   "source": [
    "x0_rho_sol_rsol_r_s_epsI = np.array([np.log(1.0e9),0.01,0.01,0.01])"
   ]
  },
  {
   "cell_type": "code",
   "execution_count": 62,
   "metadata": {},
   "outputs": [
    {
     "name": "stderr",
     "output_type": "stream",
     "text": [
      "/Users/atalia/miniconda2/lib/python2.7/site-packages/ipykernel_launcher.py:3: RuntimeWarning: invalid value encountered in sqrt\n",
      "  This is separate from the ipykernel package so we can avoid doing imports until\n",
      "/Users/atalia/miniconda2/lib/python2.7/site-packages/ipykernel_launcher.py:9: RuntimeWarning: invalid value encountered in sqrt\n",
      "  if __name__ == '__main__':\n"
     ]
    }
   ],
   "source": [
    "LS_rho_sol_rsol_r_s_epsI = minimize(Xi2_rho_sol_rsol_r_s_epsI,x0_rho_sol_rsol_r_s_epsI,method='L-BFGS-B',bounds=((np.log(1.0e9),np.log(9.0e13)),(0.01,15.0),(0.01,15.0),(0.01,15.0),))"
   ]
  },
  {
   "cell_type": "code",
   "execution_count": 63,
   "metadata": {},
   "outputs": [
    {
     "name": "stdout",
     "output_type": "stream",
     "text": [
      "      fun: nan\n",
      " hess_inv: <4x4 LbfgsInvHessProduct with dtype=float64>\n",
      "      jac: array([  36.85004231,   17.59763109, -843.28053163,    4.29890861])\n",
      "  message: 'ABNORMAL_TERMINATION_IN_LNSRCH'\n",
      "     nfev: 1025\n",
      "      nit: 93\n",
      "   status: 2\n",
      "  success: False\n",
      "        x: array([21.48772711,  2.26906657,  0.97706612,  8.62352608])\n"
     ]
    }
   ],
   "source": [
    "print LS_rho_sol_rsol_r_s_epsI"
   ]
  },
  {
   "cell_type": "code",
   "execution_count": 64,
   "metadata": {},
   "outputs": [
    {
     "name": "stdout",
     "output_type": "stream",
     "text": [
      "[2.14783696e+09 2.26906657e+00 9.77066116e-01 8.62352608e+00]\n"
     ]
    }
   ],
   "source": [
    "pars_rho_sol_rsol_r_s_epsI_min = np.array([np.exp(LS_rho_sol_rsol_r_s_epsI.x[0]),LS_rho_sol_rsol_r_s_epsI.x[1],LS_rho_sol_rsol_r_s_epsI.x[2],LS_rho_sol_rsol_r_s_epsI.x[3]])\n",
    "print pars_rho_sol_rsol_r_s_epsI_min"
   ]
  },
  {
   "cell_type": "code",
   "execution_count": 219,
   "metadata": {},
   "outputs": [
    {
     "data": {
      "text/plain": [
       "2.0616386661332623e-23"
      ]
     },
     "execution_count": 219,
     "metadata": {},
     "output_type": "execute_result"
    }
   ],
   "source": [
    "1.0e-22*np.sqrt(2.42e9/(np.asscalar(np.exp(LS_rho_sol_rsol_r_s_epsI.x[0]))*np.asscalar(LS_rho_sol_rsol_r_s_epsI.x[1])**4.))"
   ]
  },
  {
   "cell_type": "code",
   "execution_count": 65,
   "metadata": {},
   "outputs": [
    {
     "data": {
      "text/plain": [
       "<matplotlib.collections.LineCollection at 0x11755b950>"
      ]
     },
     "execution_count": 65,
     "metadata": {},
     "output_type": "execute_result"
    },
    {
     "data": {
      "image/png": "[encoded data removed]",
      "text/plain": [
       "<Figure size 432x288 with 1 Axes>"
      ]
     },
     "metadata": {
      "needs_background": "light"
     },
     "output_type": "display_data"
    }
   ],
   "source": [
    "plt.plot(vecRp,Vc_tot_rho_sol_rsol_r_s_epsI(vecRp,pars_rho_sol_rsol_r_s_epsI_min,m_axion),'.', label='total')\n",
    "plt.plot(vecRp,np.sqrt(Vc2_b_I),'.',label='Bulge')\n",
    "plt.plot(vecRp,np.sqrt(Vc2_SD_I),'.',label='Stelar Disk')\n",
    "plt.plot(vecRp,np.sqrt(Vc2_ISM_ap_I),'.',label='ISM')\n",
    "plt.plot(vecRp,np.sqrt(vc2_DM_axion_v2(vecRp,rho_sol=np.asscalar(np.exp(LS_rho_sol_rsol_r_s_epsI.x[0])),rsol=np.asscalar(LS_rho_sol_rsol_r_s_epsI.x[1]),eps=np.asscalar(LS_rho_sol_rsol_r_s_epsI.x[2]),r_s=np.asscalar(LS_rho_sol_rsol_r_s_epsI.x[3]),m_a=m_axion)),'.',label='DM Halo')\n",
    "plt.xlabel('R')\n",
    "plt.ylabel(r'$V_{c}(R)$')\n",
    "plt.legend(loc='upper right', prop={'size':10})\n",
    "plt.hlines(220,0,17)\n",
    "plt.hlines(230,0,17)\n",
    "plt.vlines(8,0,240)"
   ]
  },
  {
   "cell_type": "code",
   "execution_count": 217,
   "metadata": {},
   "outputs": [],
   "source": [
    "def Vc_tot_rho_sol_rsol_r_s_epsII(r,params,parameters):\n",
    "    rho_sol,rsol,eps,r_s = params\n",
    "    m_a = parameters\n",
    "    suma = Vc2_b_II + Vc2_SD_II + Vc2_ISM_ap_II + vc2_DM_axion_v2(r,rho_sol,rsol,eps,r_s,m_a)\n",
    "    return np.sqrt(suma)"
   ]
  },
  {
   "cell_type": "code",
   "execution_count": 67,
   "metadata": {},
   "outputs": [],
   "source": [
    "def Xi2_rho_sol_rsol_r_s_epsII(parameters):\n",
    "    rho_sol,rsol,eps,r_s = parameters\n",
    "    par = np.exp(rho_sol),rsol,eps,r_s\n",
    "    model = Vc_tot_rho_sol_rsol_r_s_epsII(vecRp,par,m_axion)\n",
    "    xi = np.sum((vecvRp-model)**2./(vecerrvRp)**2.)\n",
    "    return xi"
   ]
  },
  {
   "cell_type": "code",
   "execution_count": 196,
   "metadata": {},
   "outputs": [],
   "source": [
    "x0_rho_sol_rsol_r_s_epsII = np.array([np.log(1.0e7),0.01,0.01,0.01])"
   ]
  },
  {
   "cell_type": "code",
   "execution_count": 197,
   "metadata": {},
   "outputs": [
    {
     "name": "stderr",
     "output_type": "stream",
     "text": [
      "/Users/atalia/miniconda2/lib/python2.7/site-packages/ipykernel_launcher.py:3: RuntimeWarning: invalid value encountered in sqrt\n",
      "  This is separate from the ipykernel package so we can avoid doing imports until\n",
      "/Users/atalia/miniconda2/lib/python2.7/site-packages/ipykernel_launcher.py:9: RuntimeWarning: invalid value encountered in sqrt\n",
      "  if __name__ == '__main__':\n"
     ]
    }
   ],
   "source": [
    "LS_rho_sol_rsol_r_s_epsII = minimize(Xi2_rho_sol_rsol_r_s_epsII,x0_rho_sol_rsol_r_s_epsII,method='L-BFGS-B',bounds=((np.log(1.0e7),np.log(9.0e13)),(0.01,15.0),(0.01,5.0),(0.01,5.0),))"
   ]
  },
  {
   "cell_type": "code",
   "execution_count": 198,
   "metadata": {},
   "outputs": [
    {
     "name": "stdout",
     "output_type": "stream",
     "text": [
      "      fun: nan\n",
      " hess_inv: <4x4 LbfgsInvHessProduct with dtype=float64>\n",
      "      jac: array([-0.02910383, -1.09139364, -0.56752469, -0.51804818])\n",
      "  message: 'ABNORMAL_TERMINATION_IN_LNSRCH'\n",
      "     nfev: 110\n",
      "      nit: 1\n",
      "   status: 2\n",
      "  success: False\n",
      "        x: array([16.11809565,  0.05365575,  0.02455192,  0.0274623 ])\n"
     ]
    }
   ],
   "source": [
    "print LS_rho_sol_rsol_r_s_epsII"
   ]
  },
  {
   "cell_type": "code",
   "execution_count": 199,
   "metadata": {},
   "outputs": [
    {
     "name": "stdout",
     "output_type": "stream",
     "text": [
      "[1.00000000e+07 5.36557457e-02 2.45519152e-02 2.74622983e-02]\n"
     ]
    }
   ],
   "source": [
    "pars_rho_sol_rsol_r_s_epsII_min = np.array([np.exp(LS_rho_sol_rsol_r_s_epsII.x[0]),LS_rho_sol_rsol_r_s_epsII.x[1],LS_rho_sol_rsol_r_s_epsII.x[2],LS_rho_sol_rsol_r_s_epsII.x[3]])\n",
    "print pars_rho_sol_rsol_r_s_epsII_min"
   ]
  },
  {
   "cell_type": "code",
   "execution_count": 218,
   "metadata": {},
   "outputs": [
    {
     "data": {
      "text/plain": [
       "<matplotlib.collections.LineCollection at 0x117eeff50>"
      ]
     },
     "execution_count": 218,
     "metadata": {},
     "output_type": "execute_result"
    },
    {
     "data": {
      "image/png": "[encoded data removed]",
      "text/plain": [
       "<Figure size 432x288 with 1 Axes>"
      ]
     },
     "metadata": {
      "needs_background": "light"
     },
     "output_type": "display_data"
    }
   ],
   "source": [
    "plt.plot(vecRp,Vc_tot_rho_sol_rsol_r_s_epsI(vecRp,pars_rho_sol_rsol_r_s_epsII_min,m_axion),'.', label='total')\n",
    "plt.plot(vecRp,np.sqrt(Vc2_b_II),'.',label='Bulge')\n",
    "plt.plot(vecRp,np.sqrt(Vc2_SD_II),'.',label='Stelar Disk')\n",
    "plt.plot(vecRp,np.sqrt(Vc2_ISM_ap_II),'.',label='ISM')\n",
    "plt.plot(vecRp,np.sqrt(vc2_DM_axion_v2(vecRp,rho_sol=np.asscalar(np.exp(LS_rho_sol_rsol_r_s_epsII.x[0])),rsol=np.asscalar(LS_rho_sol_rsol_r_s_epsII.x[1]),eps=np.asscalar(LS_rho_sol_rsol_r_s_epsII.x[2]),r_s=np.asscalar(LS_rho_sol_rsol_r_s_epsII.x[3]),m_a=m_axion)),'.',label='DM Halo')\n",
    "plt.xlabel('R')\n",
    "plt.ylabel(r'$V_{c}(R)$')\n",
    "plt.legend(loc='upper right', prop={'size':10})\n",
    "plt.hlines(220,0,17)\n",
    "plt.hlines(230,0,17)\n",
    "plt.vlines(8,0,240)"
   ]
  },
  {
   "cell_type": "markdown",
   "metadata": {},
   "source": [
    "# Ajuste de $\\rho_{sol}$, $m_{a}$, $\\epsilon$ y $r_{s}$"
   ]
  },
  {
   "cell_type": "code",
   "execution_count": 367,
   "metadata": {},
   "outputs": [],
   "source": [
    "def Vc_tot_rho_sol_m_a_eps_r_s_I(r,params):\n",
    "    rho_sol,m_a,eps,r_s = params\n",
    "    suma = Vc2_b_I + vc2_DM_axion(r,rho_sol,m_a,eps,r_s) + Vc2_SD_I + Vc2_ISM_ap_I\n",
    "    return np.sqrt(suma)"
   ]
  },
  {
   "cell_type": "code",
   "execution_count": 368,
   "metadata": {},
   "outputs": [],
   "source": [
    "def Xi2_rho_sol_m_a_r_s_epsI(parameters):\n",
    "    rho_sol,m_a,eps,r_s = parameters\n",
    "    par = np.exp(rho_sol),np.exp(m_a),eps,r_s\n",
    "    model = Vc_tot_rho_sol_m_a_eps_r_s_I(vecRp,par)\n",
    "    xi = np.sum((vecvRp-model)**2./(vecerrvRp)**2.)\n",
    "    return xi"
   ]
  },
  {
   "cell_type": "code",
   "execution_count": 413,
   "metadata": {},
   "outputs": [],
   "source": [
    "x0_rho_sol_m_a_r_s_epsI = np.array([np.log(1.0e7),np.log(1.0e-23),0.00001,0.00001])"
   ]
  },
  {
   "cell_type": "code",
   "execution_count": 414,
   "metadata": {},
   "outputs": [
    {
     "name": "stderr",
     "output_type": "stream",
     "text": [
      "/Users/atalia/miniconda2/lib/python2.7/site-packages/ipykernel_launcher.py:3: RuntimeWarning: invalid value encountered in sqrt\n",
      "  This is separate from the ipykernel package so we can avoid doing imports until\n"
     ]
    }
   ],
   "source": [
    "LS_rho_sol_m_a_r_s_epsI = minimize(Xi2_rho_sol_m_a_r_s_epsI,x0_rho_sol_m_a_r_s_epsI,method='L-BFGS-B',bounds=((np.log(1.0e7),np.log(9.0e11)),(np.log(1.0e-23),np.log(1.0e-20)),(0.00001,25.0),(0.00001,25.0),))"
   ]
  },
  {
   "cell_type": "code",
   "execution_count": 415,
   "metadata": {},
   "outputs": [
    {
     "name": "stdout",
     "output_type": "stream",
     "text": [
      "      fun: 2375.7835284515168\n",
      " hess_inv: <4x4 LbfgsInvHessProduct with dtype=float64>\n",
      "      jac: array([-0.54205884, -0.02883098, -1.74495653,  1.01567821])\n",
      "  message: 'CONVERGENCE: REL_REDUCTION_OF_F_<=_FACTR*EPSMCH'\n",
      "     nfev: 1220\n",
      "      nit: 159\n",
      "   status: 0\n",
      "  success: True\n",
      "        x: array([ 22.11777184, -52.95655855,   0.9956012 ,   8.5124746 ])\n"
     ]
    }
   ],
   "source": [
    "print LS_rho_sol_m_a_r_s_epsI"
   ]
  },
  {
   "cell_type": "code",
   "execution_count": 416,
   "metadata": {},
   "outputs": [
    {
     "name": "stdout",
     "output_type": "stream",
     "text": [
      "[4.03298179e+09 1.00290279e-23 9.95601201e-01 8.51247460e+00]\n"
     ]
    }
   ],
   "source": [
    "pars_rho_sol_m_a_r_s_epsI_min = np.array([np.exp(LS_rho_sol_m_a_r_s_epsI.x[0]),np.exp(LS_rho_sol_m_a_r_s_epsI.x[1]),LS_rho_sol_m_a_r_s_epsI.x[2],LS_rho_sol_m_a_r_s_epsI.x[3]])\n",
    "print pars_rho_sol_m_a_r_s_epsI_min"
   ]
  },
  {
   "cell_type": "code",
   "execution_count": 381,
   "metadata": {},
   "outputs": [
    {
     "data": {
      "text/plain": [
       "4.4770850983629735"
      ]
     },
     "execution_count": 381,
     "metadata": {},
     "output_type": "execute_result"
    }
   ],
   "source": [
    "((6.02322067e+08/(2.42e9))*(1.00000598e-23/1.0e-22)**2.)**(-0.25)"
   ]
  },
  {
   "cell_type": "code",
   "execution_count": 351,
   "metadata": {},
   "outputs": [
    {
     "data": {
      "text/plain": [
       "<matplotlib.collections.LineCollection at 0x1187112d0>"
      ]
     },
     "execution_count": 351,
     "metadata": {},
     "output_type": "execute_result"
    },
    {
     "data": {
      "image/png": "[encoded data removed]",
      "text/plain": [
       "<Figure size 432x288 with 1 Axes>"
      ]
     },
     "metadata": {
      "needs_background": "light"
     },
     "output_type": "display_data"
    }
   ],
   "source": [
    "plt.plot(vecRp,Vc_tot_rho_sol_m_a_eps_r_s_I(vecRp,pars_rho_sol_m_a_r_s_epsI_min),'.', label='total')\n",
    "plt.plot(vecRp,np.sqrt(Vc2_b_I),'.',label='Bulge')\n",
    "plt.plot(vecRp,np.sqrt(Vc2_SD_I),'.',label='Stelar Disk')\n",
    "plt.plot(vecRp,np.sqrt(Vc2_ISM_ap_I),'.',label='ISM')\n",
    "plt.plot(vecRp,np.sqrt(vc2_DM_axion(vecRp,rho_sol=np.asscalar(np.exp(LS_rho_sol_m_a_r_s_epsI.x[0])),m_a=np.asscalar(np.exp(LS_rho_sol_m_a_r_s_epsI.x[1])),eps=np.asscalar(LS_rho_sol_m_a_r_s_epsI.x[2]),r_s=np.asscalar(LS_rho_sol_m_a_r_s_epsI.x[3]))),'.',label='DM Halo')\n",
    "plt.xlabel('R')\n",
    "plt.ylabel(r'$V_{c}(R)$')\n",
    "plt.legend(loc='upper right', prop={'size':10})\n",
    "plt.hlines(220,0,17)\n",
    "plt.hlines(230,0,17)\n",
    "plt.vlines(8,0,240)"
   ]
  },
  {
   "cell_type": "code",
   "execution_count": null,
   "metadata": {},
   "outputs": [],
   "source": []
  },
  {
   "cell_type": "code",
   "execution_count": 308,
   "metadata": {},
   "outputs": [],
   "source": [
    "x0_rho_sol_m_a_r_s_epsI_v2 = np.array([np.log(1.0e4),np.log(1.0e-22),0.1,0.1])"
   ]
  },
  {
   "cell_type": "code",
   "execution_count": 309,
   "metadata": {},
   "outputs": [
    {
     "name": "stderr",
     "output_type": "stream",
     "text": [
      "/Users/atalia/miniconda2/lib/python2.7/site-packages/ipykernel_launcher.py:3: RuntimeWarning: invalid value encountered in sqrt\n",
      "  This is separate from the ipykernel package so we can avoid doing imports until\n"
     ]
    }
   ],
   "source": [
    "LS_rho_sol_m_a_r_s_epsI_v2 = minimize(Xi2_rho_sol_m_a_r_s_epsI,x0_rho_sol_m_a_r_s_epsI_v2,method='L-BFGS-B',bounds=((np.log(1.0e4),np.log(9.0e12)),(np.log(1.0e-22),np.log(1.0e-20)),(0.1,5.0),(0.1,5.0),))"
   ]
  },
  {
   "cell_type": "code",
   "execution_count": 310,
   "metadata": {},
   "outputs": [
    {
     "name": "stdout",
     "output_type": "stream",
     "text": [
      "      fun: nan\n",
      " hess_inv: <4x4 LbfgsInvHessProduct with dtype=float64>\n",
      "      jac: array([ -6221.2492594 ,  13039.29457208, -12970.7652377 , -88929.52773749])\n",
      "  message: 'ABNORMAL_TERMINATION_IN_LNSRCH'\n",
      "     nfev: 135\n",
      "      nit: 1\n",
      "   status: 2\n",
      "  success: False\n",
      "        x: array([ 26.99934312, -50.65687205,   0.22429751,   0.10125553])\n"
     ]
    }
   ],
   "source": [
    "print LS_rho_sol_m_a_r_s_epsI_v2"
   ]
  },
  {
   "cell_type": "code",
   "execution_count": 311,
   "metadata": {},
   "outputs": [
    {
     "name": "stdout",
     "output_type": "stream",
     "text": [
      "[5.31698866e+11 1.00000000e-22 2.24297505e-01 1.01255530e-01]\n"
     ]
    }
   ],
   "source": [
    "pars_rho_sol_m_a_r_s_epsI_min_v2 = np.array([np.exp(LS_rho_sol_m_a_r_s_epsI_v2.x[0]),np.exp(LS_rho_sol_m_a_r_s_epsI_v2.x[1]),LS_rho_sol_m_a_r_s_epsI_v2.x[2],LS_rho_sol_m_a_r_s_epsI_v2.x[3]])\n",
    "print pars_rho_sol_m_a_r_s_epsI_min_v2"
   ]
  },
  {
   "cell_type": "code",
   "execution_count": null,
   "metadata": {},
   "outputs": [],
   "source": []
  }
 ],
 "metadata": {
  "kernelspec": {
   "display_name": "Python 2",
   "language": "python",
   "name": "python2"
  },
  "language_info": {
   "codemirror_mode": {
    "name": "ipython",
    "version": 2
   },
   "file_extension": ".py",
   "mimetype": "text/x-python",
   "name": "python",
   "nbconvert_exporter": "python",
   "pygments_lexer": "ipython2",
   "version": "2.7.15"
  }
 },
 "nbformat": 4,
 "nbformat_minor": 2
}
