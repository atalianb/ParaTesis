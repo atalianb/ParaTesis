{
 "cells": [
  {
   "cell_type": "code",
   "execution_count": 1,
   "metadata": {},
   "outputs": [
    {
     "name": "stdout",
     "output_type": "stream",
     "text": [
      "Populating the interactive namespace from numpy and matplotlib\n"
     ]
    }
   ],
   "source": [
    "import numpy as np\n",
    "import matplotlib.pyplot as plt\n",
    "from scipy import integrate\n",
    "%pylab inline"
   ]
  },
  {
   "cell_type": "markdown",
   "metadata": {},
   "source": [
    "# Bulge"
   ]
  },
  {
   "cell_type": "markdown",
   "metadata": {},
   "source": [
    "Para el bulbo tomaremos a la velocidad circular de la siguiente forma $$\\begin{equation}\n",
    "V_{c}^{2} = 4\\pi Gq_{b}\\rho_{b,0}R^{2}\\left(\\frac{R}{a_{b}}\\right)^{-\\alpha_{b}}\\int_{0}^{1}dx \\frac{x^{2-\\alpha_{b}}}{\\sqrt{1-x^{2}e^{2}}}e^{-R^{2}x^{2}/r_{b}^{2}}\n",
    "\\end{equation}$$"
   ]
  },
  {
   "cell_type": "markdown",
   "metadata": {},
   "source": [
    "$$\\begin{equation}\n",
    "\\frac{v_{c}^{2}}{4\\pi Gq_{b}\\rho_{b,0}} = R^{2}\\left(\\frac{R}{a_{b}}\\right)^{-\\alpha_{b}}\\int_{0}^{1}dx \\frac{x^{2-\\alpha_{b}}}{\\sqrt{1-x^{2}e^{2}}}e^{-R^{2}x^{2}/r_{b}^{2}}\n",
    "\\end{equation}$$\n",
    "\n",
    "donde de la tabla 2.3 sabemos que $\\rho_{b,0}$ toma el valor 0.427 para el modelo I"
   ]
  },
  {
   "cell_type": "code",
   "execution_count": 2,
   "metadata": {},
   "outputs": [],
   "source": [
    "#Constants\n",
    "G = 4.302e-6#kpc/SM(km/s)^2\n",
    "q_b = 0.6\n",
    "r_b = 1.9#kpc\n",
    "a_b = 1.#kpc\n",
    "alpha_b = 1.8\n",
    "rho_b_I = 0.427e9#sM/kpc^3"
   ]
  },
  {
   "cell_type": "code",
   "execution_count": 3,
   "metadata": {},
   "outputs": [],
   "source": [
    "def I_b(x,R,q_b=0.6,alpha_b=1.8,r_b=1.9,a_b=a_b):\n",
    "    e = np.sqrt(1. - q_b**2.)\n",
    "    n = x**(2.-alpha_b)*np.exp(-(R**2.*x**2.)/r_b**2.)\n",
    "    d = np.sqrt(1.-x**2.*e**2.)\n",
    "    t = R**2.*(R/a_b)**(-alpha_b)\n",
    "    return (t*n)/d"
   ]
  },
  {
   "cell_type": "code",
   "execution_count": 4,
   "metadata": {},
   "outputs": [],
   "source": [
    "R = np.linspace(0.,15.,100)"
   ]
  },
  {
   "cell_type": "code",
   "execution_count": 5,
   "metadata": {},
   "outputs": [],
   "source": [
    "def Vc_ad_b(l):\n",
    "    Integral_b = []\n",
    "    for i in range (0,len(l)):\n",
    "        result = integrate.quad(I_b,0,1,args=(l[i]))[0]\n",
    "        Integral_b.append(result)\n",
    "    return np.array(Integral_b)"
   ]
  },
  {
   "cell_type": "code",
   "execution_count": 6,
   "metadata": {},
   "outputs": [
    {
     "name": "stderr",
     "output_type": "stream",
     "text": [
      "/Users/atalia/miniconda2/lib/python2.7/site-packages/ipykernel_launcher.py:5: RuntimeWarning: divide by zero encountered in double_scalars\n",
      "  \"\"\"\n",
      "/Users/atalia/miniconda2/lib/python2.7/site-packages/ipykernel_launcher.py:5: RuntimeWarning: invalid value encountered in double_scalars\n",
      "  \"\"\"\n",
      "/Users/atalia/miniconda2/lib/python2.7/site-packages/scipy/integrate/quadpack.py:385: IntegrationWarning: The occurrence of roundoff error is detected, which prevents \n",
      "  the requested tolerance from being achieved.  The error may be \n",
      "  underestimated.\n",
      "  warnings.warn(msg, IntegrationWarning)\n"
     ]
    },
    {
     "data": {
      "image/png": "[encoded data removed]",
      "text/plain": [
       "<Figure size 432x288 with 1 Axes>"
      ]
     },
     "metadata": {
      "needs_background": "light"
     },
     "output_type": "display_data"
    }
   ],
   "source": [
    "V_b = np.sqrt(4.*np.pi*G*q_b*rho_b_I*Vc_ad_b(R))\n",
    "plt.plot(R,V_b,label='Bulge')\n",
    "xlim(0.,15.)\n",
    "plt.xlabel(r'$R/kpc$')\n",
    "plt.ylabel(r'$V_{c}/km s^{-1}$')\n",
    "plt.legend(loc='upper right', prop={'size':10})\n",
    "plt.show()"
   ]
  },
  {
   "cell_type": "markdown",
   "metadata": {},
   "source": [
    "# DM Halo"
   ]
  },
  {
   "cell_type": "markdown",
   "metadata": {},
   "source": [
    "Para calcular la velocidad circular de halo de materia oscura volvemos a utiliar la expresión (2.132) del libro Galactic Dynamics, Binney & Tremaine\n",
    "$$\\begin{equation}\n",
    "v_{c}^{2} (R) = 4\\pi G\\sqrt{1-e^{2}} \\int_{0}^{R} dm \\frac{m^{2} \\rho (m^{2})}{\\sqrt{R^{2} - m^{2}e^{2}}}\n",
    "\\end{equation}$$"
   ]
  },
  {
   "cell_type": "markdown",
   "metadata": {},
   "source": [
    "$$\\begin{equation}\n",
    "v_{c}^{2} = 4\\pi Gq_{h}R^{2}\\left(\\frac{R}{a_{h}}\\right)^{-\\alpha_{h}}\\int_{0}^{1}dx\\frac{x^{2-\\alpha_{h}}}{\\sqrt{1-x^{2}e^{2}}}\\left(1+\\frac{Rx}{a_{h}}\\right)^{\\alpha_{h} - \\beta_{h}}\n",
    "\\end{equation}$$\n",
    "$$\\begin{equation}\n",
    "\\frac{v_{c}^{2}}{4\\pi Gq_{h}} = R^{2}\\left(\\frac{R}{a_{h}}\\right)^{-\\alpha_{h}}\\int_{0}^{1}dx\\frac{x^{2-\\alpha_{h}}}{\\sqrt{1-x^{2}e^{2}}}\\left(1+\\frac{Rx}{a_{h}}\\right)^{\\alpha_{h} - \\beta_{h}}\n",
    "\\end{equation}$$"
   ]
  },
  {
   "cell_type": "code",
   "execution_count": 7,
   "metadata": {},
   "outputs": [],
   "source": [
    "q_h = 0.8\n",
    "a_h_I = 3.83#kpc\n",
    "rho_h_I = 0.711e9#SM/kpc^3"
   ]
  },
  {
   "cell_type": "code",
   "execution_count": 8,
   "metadata": {},
   "outputs": [],
   "source": [
    "def I_h(x,R,q_h=0.8,alpha_h=-2.,a_h=a_h_I,beta_h=2.96):\n",
    "    e = np.sqrt(1.- q_h**2.)\n",
    "    n = x**(2.-alpha_h)*(1.+ (x*R)/(a_h))**(alpha_h-beta_h)\n",
    "    d = np.sqrt(1-x**2.*e**2)\n",
    "    t = R**2.*(R/a_h)**(-alpha_h)\n",
    "    result = (t*n)/d\n",
    "    return result"
   ]
  },
  {
   "cell_type": "code",
   "execution_count": 9,
   "metadata": {},
   "outputs": [],
   "source": [
    "def Vc_h(l):\n",
    "    Integral_DM = []\n",
    "    for i in range (0,len(l)):\n",
    "        result = integrate.quad(I_h,0,1,args=(l[i]))[0]\n",
    "        Integral_DM.append(result)\n",
    "    return np.array(Integral_DM)"
   ]
  },
  {
   "cell_type": "code",
   "execution_count": 10,
   "metadata": {
    "scrolled": true
   },
   "outputs": [
    {
     "data": {
      "image/png": "[encoded data removed]",
      "text/plain": [
       "<Figure size 432x288 with 1 Axes>"
      ]
     },
     "metadata": {
      "needs_background": "light"
     },
     "output_type": "display_data"
    }
   ],
   "source": [
    "Vc_DM = np.sqrt(4.*np.pi*G*q_h*rho_h_I*Vc_h(R))\n",
    "plt.plot(R,Vc_DM,label='DM Halo')\n",
    "xlim(0.,14.)\n",
    "plt.xlabel(r'$R$')\n",
    "plt.ylabel(r'$V_{c}/km s^{-1}$')\n",
    "plt.legend(loc='lower right', prop={'size':10})\n",
    "plt.show()"
   ]
  },
  {
   "cell_type": "markdown",
   "metadata": {},
   "source": [
    "# Stelar Disk"
   ]
  },
  {
   "cell_type": "markdown",
   "metadata": {},
   "source": [
    "Para calcular la velocidad circular del disco estelar seguimos una metodología distinta, explicada detalladamente en el pdf de la tesis\n",
    "$$\\begin{equation}\n",
    "\\frac{v^{2}_{c}}{2\\pi G\\Sigma_{d}R_{d}} =  R_{d} - e^{-R/R_{d}}(R_{d} + R) \n",
    "\\end{equation}$$"
   ]
  },
  {
   "cell_type": "markdown",
   "metadata": {},
   "source": [
    "$$\\begin{equation}\n",
    "v^{2}_{c} = 2\\pi\\Sigma_{d}R_{d}G\\left( -e^{-R/R_{d}} - \\frac{R_{d}e^{R/R_{d}}}{R}  + \\frac{R_{d}}{R}\\right)\n",
    "\\end{equation}$$"
   ]
  },
  {
   "cell_type": "code",
   "execution_count": 11,
   "metadata": {},
   "outputs": [],
   "source": [
    "def V2_c_SD(R,R_d=2.0):\n",
    "    result = (R_d/R) - np.exp(-R/R_d) - (np.exp(-R/R_d)*R_d/R)\n",
    "    return result"
   ]
  },
  {
   "cell_type": "code",
   "execution_count": 12,
   "metadata": {},
   "outputs": [],
   "source": [
    "#Constants\n",
    "R_d_I = 2.0\n",
    "Sigma_d_SD = (1905.0e6)*0.75\n",
    "C_SD = 2.*np.pi*G*Sigma_d_SD*R_d_I"
   ]
  },
  {
   "cell_type": "code",
   "execution_count": 13,
   "metadata": {},
   "outputs": [
    {
     "name": "stderr",
     "output_type": "stream",
     "text": [
      "/Users/atalia/miniconda2/lib/python2.7/site-packages/ipykernel_launcher.py:2: RuntimeWarning: divide by zero encountered in divide\n",
      "  \n",
      "/Users/atalia/miniconda2/lib/python2.7/site-packages/ipykernel_launcher.py:2: RuntimeWarning: invalid value encountered in subtract\n",
      "  \n"
     ]
    },
    {
     "data": {
      "image/png": "[encoded data removed]",
      "text/plain": [
       "<Figure size 432x288 with 1 Axes>"
      ]
     },
     "metadata": {
      "needs_background": "light"
     },
     "output_type": "display_data"
    }
   ],
   "source": [
    "Vc_SD = np.sqrt(2.*np.pi*G*Sigma_d_SD*R_d_I*V2_c_SD(R))\n",
    "plt.plot(R,Vc_SD,label='Stelar Disk')\n",
    "#xlim(0.,15.)\n",
    "plt.xlabel(r'$R$')\n",
    "plt.ylabel(r'$V^{2}_{c}/km s^{-2}$')\n",
    "plt.legend(loc='upper right', prop={'size':10})\n",
    "plt.show()"
   ]
  },
  {
   "cell_type": "markdown",
   "metadata": {},
   "source": [
    "# Interstelar medium"
   ]
  },
  {
   "cell_type": "markdown",
   "metadata": {},
   "source": [
    "Para el medio interestelar seguimos el mismo procedimiento que en el caso anterior\n",
    "$$\\begin{equation}\n",
    "V^{2}_{c} = \\frac{GM(R)}{R} = \\frac{2\\pi G\\Sigma_{g}R^{2}\\int_{0}^{1}ue^{-Ru/R_{g}-R_{m}/Ru} du}{R} = 2\\pi G\\Sigma_{g}R\\int_{0}^{1}ue^{-Ru/R_{g}-R_{m}/Ru} du\n",
    "\\end{equation}$$"
   ]
  },
  {
   "cell_type": "code",
   "execution_count": 14,
   "metadata": {},
   "outputs": [],
   "source": [
    "def M_g_ISM(u,R,R_d=2.,R_m=4.):\n",
    "    return R*u*np.exp(-((R*u)/(2.*R_d))-(R_m/(R*u)))"
   ]
  },
  {
   "cell_type": "code",
   "execution_count": 15,
   "metadata": {},
   "outputs": [],
   "source": [
    "#Constants\n",
    "R_m = 4.#kpc\n",
    "Sigma_g_ISM = (1905.0e6)*0.25#SM/kpc^2"
   ]
  },
  {
   "cell_type": "code",
   "execution_count": 16,
   "metadata": {},
   "outputs": [],
   "source": [
    "def V_c_g_ISM(l):\n",
    "    Integral_M_g = []\n",
    "    for i in range (0,len(l)):\n",
    "        result = integrate.quad(M_g_ISM,0,1,args=(l[i]))[0]\n",
    "        Integral_M_g.append(result)\n",
    "    Integral = np.array(Integral_M_g)\n",
    "    return Integral"
   ]
  },
  {
   "cell_type": "code",
   "execution_count": 17,
   "metadata": {},
   "outputs": [
    {
     "name": "stderr",
     "output_type": "stream",
     "text": [
      "/Users/atalia/miniconda2/lib/python2.7/site-packages/ipykernel_launcher.py:2: RuntimeWarning: divide by zero encountered in double_scalars\n",
      "  \n"
     ]
    },
    {
     "data": {
      "image/png": "[encoded data removed]",
      "text/plain": [
       "<Figure size 432x288 with 1 Axes>"
      ]
     },
     "metadata": {
      "needs_background": "light"
     },
     "output_type": "display_data"
    }
   ],
   "source": [
    "Vc_ISM = np.sqrt(2.*np.pi*Sigma_g_ISM*G*V_c_g_ISM(R))\n",
    "plt.plot(R,Vc_ISM,label='model I')\n",
    "#xlim(0.,15.)\n",
    "plt.xlabel(r'$R$')\n",
    "plt.ylabel(r'$V_{c}/km s^{-1}$')\n",
    "plt.legend(loc='upper right', prop={'size':10})\n",
    "plt.show()"
   ]
  },
  {
   "cell_type": "code",
   "execution_count": 18,
   "metadata": {},
   "outputs": [],
   "source": [
    "def Vc2_tot(l):\n",
    "    V2_b = 4.*np.pi*G*q_b*rho_b_I*Vc_ad_b(l)\n",
    "    V2_DM = 4.*np.pi*G*q_h*rho_h_I*Vc_h(l)\n",
    "    V2_SD = 2.*np.pi*G*Sigma_d_SD*R_d_I*V2_c_SD(l)\n",
    "    V2_ISM = 2.*np.pi*Sigma_g_ISM*G*V_c_g_ISM(l)\n",
    "    suma = V2_b + V2_DM + V2_SD + V2_ISM\n",
    "    return np.sqrt(suma)"
   ]
  },
  {
   "cell_type": "code",
   "execution_count": 19,
   "metadata": {},
   "outputs": [
    {
     "name": "stderr",
     "output_type": "stream",
     "text": [
      "/Users/atalia/miniconda2/lib/python2.7/site-packages/ipykernel_launcher.py:5: RuntimeWarning: divide by zero encountered in double_scalars\n",
      "  \"\"\"\n",
      "/Users/atalia/miniconda2/lib/python2.7/site-packages/ipykernel_launcher.py:5: RuntimeWarning: invalid value encountered in double_scalars\n",
      "  \"\"\"\n",
      "/Users/atalia/miniconda2/lib/python2.7/site-packages/ipykernel_launcher.py:2: RuntimeWarning: divide by zero encountered in divide\n",
      "  \n",
      "/Users/atalia/miniconda2/lib/python2.7/site-packages/ipykernel_launcher.py:2: RuntimeWarning: invalid value encountered in subtract\n",
      "  \n",
      "/Users/atalia/miniconda2/lib/python2.7/site-packages/ipykernel_launcher.py:2: RuntimeWarning: divide by zero encountered in double_scalars\n",
      "  \n"
     ]
    },
    {
     "data": {
      "image/png": "[encoded data removed]",
      "text/plain": [
       "<Figure size 600x400 with 1 Axes>"
      ]
     },
     "metadata": {
      "needs_background": "light"
     },
     "output_type": "display_data"
    }
   ],
   "source": [
    "fig=plt.figure(dpi=100)\n",
    "plt.plot(R,V_b,label='Bulge')\n",
    "plt.plot(R,Vc_DM,label='DM Halo')\n",
    "plt.plot(R,Vc_SD,label='Stelar Disk')\n",
    "plt.plot(R,Vc_ISM,label='ISM')\n",
    "plt.plot(R,Vc2_tot(R),label='Total')\n",
    "xlim(0.,14.)\n",
    "plt.xlabel(r'$R/kpc$')\n",
    "plt.ylabel(r'$V_{c}/km s^{-1}$')\n",
    "plt.legend(loc='lower right', prop={'size':10})\n",
    "plt.title('Model I')\n",
    "plt.hlines(220,0,15)\n",
    "plt.hlines(250,0,15)\n",
    "plt.show()"
   ]
  },
  {
   "cell_type": "code",
   "execution_count": 24,
   "metadata": {},
   "outputs": [],
   "source": [
    "import galkin\n",
    "import galkin.plots\n",
    "# import auxiliary modules\n",
    "import galkin.processdata   # routines to process kinematic data\n",
    "import galkin.readparsFile  # routines to read and check input parameters"
   ]
  },
  {
   "cell_type": "code",
   "execution_count": 25,
   "metadata": {},
   "outputs": [],
   "source": [
    "# Galactic parameters\n",
    "R0=8.0# Galactocentric distance (kpc)\n",
    "V0=220.# local circular velocity (km/s)\n",
    "UsunINUSE=11.10# solar motion in the U-direction (km/s), e.g. from Schoenrich+ '10, MNRAS 403, 1829 (2010)\n",
    "VsunINUSE=12.24# solar motion in the V-direction (km/s), e.g. from Schoenrich+ '10, MNRAS 403, 1829 (2010)\n",
    "WsunINUSE=07.25# solar motion in the W-direction (km/s), e.g. from Schoenrich+ '10, MNRAS 403, 1829 (2010)\n",
    "SYSTDISP=0.# systematic dispersion due to spiral arm streaming (km/s)"
   ]
  },
  {
   "cell_type": "code",
   "execution_count": 26,
   "metadata": {},
   "outputs": [],
   "source": [
    "# Flags\n",
    "flagPROPERMOTIONS=0\t \t\t\t# proper motions not supported in current version - please keep at 0\n",
    "flagHITERMINAL=0\t\t\t\t# whether to use HI terminal velocities\n",
    "flagFich89tab2=0\t\t\t\t# whether to use Fich+ '89, ApJ 342, 272 (1989) (Table 2)\n",
    "flagMalhotra95=0\t\t\t\t# whether to use Malhotra '95, ApJ 448, 138 (1995)\n",
    "flagMcClureGriffithsDickey07=0\t\t\t# whether to use McClure-Griffiths & Dickey '07, ApJ 671, 427 (2007)\n",
    "flagHITHICKNESS=0\t\t\t\t# whether to use the HI thickness method\n",
    "flagHonmaSofue97=0\t\t\t\t# whether to use Honma & Sofue '97, PASJ 49, 453 (1997)\n",
    "flagCOTERMINAL=0\t\t\t\t# whether to use CO terminal velocities\n",
    "flagBurtonGordon78=0\t\t\t\t# whether to use Burton & Gordon '78, A&A 63, 7 (1978)\n",
    "flagClemens85=0\t\t\t\t\t# whether to use Clemens '85, ApJ 295, 422 (1985)\n",
    "flagKnapp85=0\t\t\t\t\t# whether to use Knapp+ '85, AJ 90, 2 (1985)\n",
    "flagLuna06=0\t\t\t\t\t# whether to use Luna+ '06, ApJ 641, 938 (2006)\n",
    "flagHIIREGIONS=1\t\t\t\t# whether to use HII regions\n",
    "flagBlitz79=0\t\t\t\t\t# whether to use Blitz '79, ApJL 231, L115 (1979)\n",
    "flagFich89tab1=0\t\t\t\t# whether to use Fich+ '89, ApJ 342, 272 (1989) (Table 1)\t\n",
    "flagTurbideMoffat93=0\t\t\t\t# whether to use Turbide & Moffat '93, AJ 105, 5 (1993)\n",
    "flagBrandBlitz93=0\t\t\t\t# whether to use Brand & Blitz '93, A&A 275, 67 (1993)\n",
    "flagHou09tabA1=1\t\t\t\t# whether to use Hou+ '09, A&A 499, 473 (2009) (Table A1)\n",
    "flagGMC=1\t\t\t\t\t# whether to use giant molecular clouds\n",
    "flagHou09tabA2=1\t\t\t\t# whether to use Hou+ '09, A&A 499, 473 (2009) (Table A2)\n",
    "##\n",
    "flagOPENCLUSTERS=1\t\t\t\t# whether to use open clusters\n",
    "flagFrinchaboyMajewski08=1\t\t\t# whether to use Frinchaboy & Majewski '08, AJ 136, 118 (2008)\n",
    "flagPLANETARYNEBULAE=0\t\t\t\t# whether to use planetary nebulae\n",
    "flagDurand98=0\t\t\t\t\t# whether to use Durand+ '98, A&AS 132, 13 (1998)\n",
    "flagCEPHEIDS=0\t\t\t\t\t# whether to use classical cepheids\n",
    "flagPont94=0\t\t\t\t\t# whether to use Pont+ '94, A&A 285, 415 (1994)\n",
    "flagPont97=0\t\t\t\t\t# whether to use Pont+ '97, A&A 318, 416 (1997)\n",
    "flagCSTARS=0\t\t\t\t\t# whether to use carbon stars\n",
    "flagDemersBattinelli07=0\t\t\t# whether to use Demers & Battinelli '07, A&A 473, 143 (2007)\n",
    "flagBattinelli12=0\t\t\t\t# whether to use Battinelli+ '12, Ap 56, 68 (2013)\n",
    "###\n",
    "flagMASERS=1\t\t\t\t\t# whether to use masers\n",
    "flagReid14=1\t\t\t\t\t# whether to use Reid+ '14, ApJ 783, 130 (2014)\n",
    "flagHonma12=0\t\t\t\t\t# whether to use Honma+ '12, PASJ 64, 136 (2012)\n",
    "flagStepanishchevBobylev11=0\t\t\t# whether to use Stepanishchev & Bobylev '11, AstL 37, 4 (2011)\n",
    "flagXu13=0\t\t\t\t\t# whether to use Xu+ '13, ApJ 769, 15 (2013)\n",
    "flagBobylevBajkova13=0\t\t\t\t# whether to use Bobylev & Bajkova '13, AstL 39, 809 (2013)\n",
    "flagastropy=0\t\t\t\t \t# whether to use astropy for equatorial-to-galactic conversions"
   ]
  },
  {
   "cell_type": "code",
   "execution_count": 27,
   "metadata": {},
   "outputs": [],
   "source": [
    "inputpars=(R0,V0,UsunINUSE,VsunINUSE,WsunINUSE,SYSTDISP, flagPROPERMOTIONS,flagHITERMINAL,flagFich89tab2,flagMalhotra95,flagMcClureGriffithsDickey07, flagHITHICKNESS,flagHonmaSofue97,flagCOTERMINAL,flagBurtonGordon78,flagClemens85,flagKnapp85,flagLuna06, flagHIIREGIONS,flagBlitz79,flagFich89tab1,flagTurbideMoffat93,flagBrandBlitz93,flagHou09tabA1, flagGMC,flagHou09tabA2,flagOPENCLUSTERS,flagFrinchaboyMajewski08,flagPLANETARYNEBULAE,flagDurand98,flagCEPHEIDS,flagPont94,flagPont97, flagCSTARS,flagDemersBattinelli07,flagBattinelli12, flagMASERS,flagReid14,flagHonma12,flagStepanishchevBobylev11,flagXu13,flagBobylevBajkova13,flagastropy)"
   ]
  },
  {
   "cell_type": "code",
   "execution_count": 28,
   "metadata": {},
   "outputs": [
    {
     "name": "stdout",
     "output_type": "stream",
     "text": [
      "checking validity of input parameters...\n",
      "printing input parameters...\n",
      " R0=  8.0  kpc\n",
      " V0=  220.0  km/s\n",
      " (Usun,Vsun,Wsun) = ( 11.1 , 12.24 , 7.25 ) km/s\n",
      " systematic dispersion =  0.0  km/s\n",
      " use HI terminal velocities?            0\n",
      " use HI thickness method?               0\n",
      " use CO terminal velocities?            0\n",
      " use HII regions?                       1\n",
      "  use Blitz 79?                           0\n",
      "  use Fich+ 89 (Table 1)?                 0\n",
      "  use Turbide & Moffat 93?                0\n",
      "  use Brand & Blitz 93?                   0\n",
      "  use Hou+ 09 (Table A1)?                 1\n",
      " use giant molecular clouds?            1\n",
      "  use Hou+ 09 (Table A2)?                 1\n",
      " use open clusters?                     1\n",
      "  use Frinchaboy & Majewski 08?           1\n",
      " use planetary nebulae?                 0\n",
      " use cepheids?                          0\n",
      " use C stars?                           0\n",
      " use masers?                            1\n",
      "  use Stepanishchev & Bobylev 11?         0\n",
      "  use Honma+ 12?                          0\n",
      "  use Xu+ 13?                             0\n",
      "  use Bobylev & Bajkova 13?               0\n",
      "  use Reid+ 14?                           1\n",
      " use astropy?                           0\n"
     ]
    }
   ],
   "source": [
    "galkin.readparsFile.CheckAndPrintParameters(inputpars)"
   ]
  },
  {
   "cell_type": "code",
   "execution_count": 30,
   "metadata": {},
   "outputs": [
    {
     "name": "stdout",
     "output_type": "stream",
     "text": [
      "processing HII regions...\n",
      " processing Hou+ 09 (Table A1)...\n",
      "  selected  316  out of the total sample of  815  HII regions\n",
      "processing giant molecular clouds...\n",
      " processing Hou+ 09 (Table A2)...\n",
      "  selected  30  out of the total sample of  963  giant molecular clouds\n",
      "processing open clusters...\n",
      " processing Frinchaboy & Majewski 08...\n",
      "  selected  60  out of the total sample of  71  open clusters\n",
      "processing masers...\n",
      " processing Reid+ 14...\n",
      "  selected  80  out of the total sample of  103  masers\n"
     ]
    }
   ],
   "source": [
    "vecout=galkin.processdata.ProcessData(inputpars)\n",
    "totallistvc=vecout[0]"
   ]
  },
  {
   "cell_type": "code",
   "execution_count": 34,
   "metadata": {},
   "outputs": [
    {
     "name": "stderr",
     "output_type": "stream",
     "text": [
      "/Users/atalia/miniconda2/lib/python2.7/site-packages/ipykernel_launcher.py:5: RuntimeWarning: divide by zero encountered in double_scalars\n",
      "  \"\"\"\n",
      "/Users/atalia/miniconda2/lib/python2.7/site-packages/ipykernel_launcher.py:5: RuntimeWarning: invalid value encountered in double_scalars\n",
      "  \"\"\"\n",
      "/Users/atalia/miniconda2/lib/python2.7/site-packages/ipykernel_launcher.py:2: RuntimeWarning: divide by zero encountered in divide\n",
      "  \n",
      "/Users/atalia/miniconda2/lib/python2.7/site-packages/ipykernel_launcher.py:2: RuntimeWarning: invalid value encountered in subtract\n",
      "  \n",
      "/Users/atalia/miniconda2/lib/python2.7/site-packages/ipykernel_launcher.py:2: RuntimeWarning: divide by zero encountered in double_scalars\n",
      "  \n"
     ]
    },
    {
     "data": {
      "text/plain": [
       "Text(0,0.5,'$v_c$ [km/s]')"
      ]
     },
     "execution_count": 34,
     "metadata": {},
     "output_type": "execute_result"
    },
    {
     "data": {
      "image/png": "[encoded data removed]",
      "text/plain": [
       "<Figure size 432x288 with 1 Axes>"
      ]
     },
     "metadata": {},
     "output_type": "display_data"
    }
   ],
   "source": [
    "vecRp    =[row[0] for row in totallistvc]    # galactocentric distance [kpc]\n",
    "vecerrRp =[row[1] for row in totallistvc]    # error in galactocentric distance [kpc]\n",
    "vecvRp   =[row[2] for row in totallistvc]    # rotation velocity [km/s]\n",
    "vecerrvRp=[row[3] for row in totallistvc]    # error in rotation velocity [km/s]\n",
    "fig, ax1 = plt.subplots()\n",
    "fig.canvas.set_window_title('rotation curve measurements')\n",
    "fig.patch.set_facecolor('white') # setting background to white\n",
    "ax1.errorbar(vecRp, vecvRp, xerr=vecerrRp, yerr=vecerrvRp, fmt='r.')\n",
    "ax1.axis([0., max(vecRp)+0.1*(max(vecRp)-0.), min(0.,min(vecvRp)-0.1*(max(vecvRp)-min(vecvRp))) , max(vecvRp)+0.1*(max(vecvRp)-min(vecvRp))])\n",
    "plt.plot(R,Vc2_tot(R))#,label='Total')\n",
    "ax1.set_xlabel('$R$ [kpc]')\n",
    "ax1.set_ylabel('$v_c$ [km/s]')"
   ]
  },
  {
   "cell_type": "code",
   "execution_count": 35,
   "metadata": {},
   "outputs": [
    {
     "data": {
      "image/png": "[encoded data removed]",
      "text/plain": [
       "<Figure size 432x288 with 1 Axes>"
      ]
     },
     "metadata": {},
     "output_type": "display_data"
    }
   ],
   "source": [
    "galkin.plots.PlotRotationCurve(totallistvc)"
   ]
  },
  {
   "cell_type": "code",
   "execution_count": null,
   "metadata": {},
   "outputs": [],
   "source": []
  },
  {
   "cell_type": "code",
   "execution_count": 36,
   "metadata": {},
   "outputs": [],
   "source": [
    "def Vc_total(R,q_b=0.6,alpha_b=1.8,r_b=1.9,a_b=a_b,q_h=0.8,alpha_h=-2.,a_h=a_h_I,beta_h=2.96,R_d=2.0,R_m=4.):\n",
    "    def Vc2_b(R):\n",
    "        def I_b(x,R):\n",
    "            e = np.sqrt(1. - q_b**2.)\n",
    "            n = x**(2.-alpha_b)*np.exp(-(R**2.*x**2.)/r_b**2.)\n",
    "            d = np.sqrt(1.-x**2.*e**2.)\n",
    "            t = R**2.*(R/a_b)**(-alpha_b)\n",
    "            return (t*n)/d\n",
    "        Integral_b = []\n",
    "        for i in range (0,len(R)):\n",
    "            result = integrate.quad(I_b,0,1,args=(R[i]))[0]\n",
    "            Integral_b.append(result)\n",
    "        return 4.*np.pi*G*q_b*rho_b_I*np.array(Integral_b)\n",
    "    def Vc2_DM(R):\n",
    "        def I_h(x,R):\n",
    "            e = np.sqrt(1.- q_h**2.)\n",
    "            n = x**(2.-alpha_h)*(1.+ (x*R)/(a_h))**(alpha_h-beta_h)\n",
    "            d = np.sqrt(1-x**2.*e**2)\n",
    "            t = R**2.*(R/a_h)**(-alpha_h)\n",
    "            result = (t*n)/d\n",
    "            return result\n",
    "        Integral_DM = []\n",
    "        for i in range (0,len(l)):\n",
    "            result = integrate.quad(I_h,0,1,args=(l[i]))[0]\n",
    "            Integral_DM.append(result)\n",
    "        return 4.*np.pi*G*q_h*rho_h_I*np.array(Integral_DM)\n",
    "    def Vc2_SD(R):\n",
    "        result = (R_d/R) - np.exp(-R/R_d) - (np.exp(-R/R_d)*R_d/R)\n",
    "        return 2.*np.pi*G*Sigma_d_SD*R_d_I*result\n",
    "    def Vc2_ISM (R):\n",
    "        def M_g_ISM(u,R):\n",
    "            return R*u*np.exp(-((R*u)/(2.*R_d))-(R_m/(R*u)))\n",
    "        Integral_M_g = []\n",
    "        for i in range (0,len(l)):\n",
    "            result = integrate.quad(M_g_ISM,0,1,args=(l[i]))[0]\n",
    "            Integral_M_g.append(result)\n",
    "        return 2.*np.pi*Sigma_g_ISM*G*np.array(Integral_M_g)\n",
    "    suma = Vc2_b + Vc2_DM + Vc2_SD + Vc2_ISM\n",
    "    return np.sqrt(suma)"
   ]
  },
  {
   "cell_type": "code",
   "execution_count": 38,
   "metadata": {},
   "outputs": [
    {
     "ename": "TypeError",
     "evalue": "unsupported operand type(s) for +: 'function' and 'function'",
     "output_type": "error",
     "traceback": [
      "\u001b[0;31m---------------------------------------------------------------------------\u001b[0m",
      "\u001b[0;31mTypeError\u001b[0m                                 Traceback (most recent call last)",
      "\u001b[0;32m<ipython-input-38-bc3d12590c35>\u001b[0m in \u001b[0;36m<module>\u001b[0;34m()\u001b[0m\n\u001b[0;32m----> 1\u001b[0;31m \u001b[0mplt\u001b[0m\u001b[0;34m.\u001b[0m\u001b[0mplot\u001b[0m\u001b[0;34m(\u001b[0m\u001b[0mR\u001b[0m\u001b[0;34m,\u001b[0m\u001b[0mVc_total\u001b[0m\u001b[0;34m(\u001b[0m\u001b[0mR\u001b[0m\u001b[0;34m)\u001b[0m\u001b[0;34m)\u001b[0m\u001b[0;34m\u001b[0m\u001b[0m\n\u001b[0m",
      "\u001b[0;32m<ipython-input-36-b640c5904b58>\u001b[0m in \u001b[0;36mVc_total\u001b[0;34m(R, q_b, alpha_b, r_b, a_b, q_h, alpha_h, a_h, beta_h, R_d, R_m)\u001b[0m\n\u001b[1;32m     36\u001b[0m             \u001b[0mIntegral_M_g\u001b[0m\u001b[0;34m.\u001b[0m\u001b[0mappend\u001b[0m\u001b[0;34m(\u001b[0m\u001b[0mresult\u001b[0m\u001b[0;34m)\u001b[0m\u001b[0;34m\u001b[0m\u001b[0m\n\u001b[1;32m     37\u001b[0m         \u001b[0;32mreturn\u001b[0m \u001b[0;36m2.\u001b[0m\u001b[0;34m*\u001b[0m\u001b[0mnp\u001b[0m\u001b[0;34m.\u001b[0m\u001b[0mpi\u001b[0m\u001b[0;34m*\u001b[0m\u001b[0mSigma_g_ISM\u001b[0m\u001b[0;34m*\u001b[0m\u001b[0mG\u001b[0m\u001b[0;34m*\u001b[0m\u001b[0mnp\u001b[0m\u001b[0;34m.\u001b[0m\u001b[0marray\u001b[0m\u001b[0;34m(\u001b[0m\u001b[0mIntegral_M_g\u001b[0m\u001b[0;34m)\u001b[0m\u001b[0;34m\u001b[0m\u001b[0m\n\u001b[0;32m---> 38\u001b[0;31m     \u001b[0msuma\u001b[0m \u001b[0;34m=\u001b[0m \u001b[0mVc2_b\u001b[0m \u001b[0;34m+\u001b[0m \u001b[0mVc2_DM\u001b[0m \u001b[0;34m+\u001b[0m \u001b[0mVc2_SD\u001b[0m \u001b[0;34m+\u001b[0m \u001b[0mVc2_ISM\u001b[0m\u001b[0;34m\u001b[0m\u001b[0m\n\u001b[0m\u001b[1;32m     39\u001b[0m     \u001b[0;32mreturn\u001b[0m \u001b[0mnp\u001b[0m\u001b[0;34m.\u001b[0m\u001b[0msqrt\u001b[0m\u001b[0;34m(\u001b[0m\u001b[0msuma\u001b[0m\u001b[0;34m)\u001b[0m\u001b[0;34m\u001b[0m\u001b[0m\n",
      "\u001b[0;31mTypeError\u001b[0m: unsupported operand type(s) for +: 'function' and 'function'"
     ]
    }
   ],
   "source": [
    "plt.plot(R,Vc_total(R))"
   ]
  },
  {
   "cell_type": "code",
   "execution_count": null,
   "metadata": {},
   "outputs": [],
   "source": []
  },
  {
   "cell_type": "code",
   "execution_count": 43,
   "metadata": {},
   "outputs": [],
   "source": [
    "def funcion_prueba(R,q_b=0.6,alpha_b=1.8,r_b=1.9,a_b=a_b):\n",
    "    def Vc_b(R):\n",
    "        def I_b(x,R):\n",
    "            e = np.sqrt(1. - q_b**2.)\n",
    "            n = x**(2.-alpha_b)*np.exp(-(R**2.*x**2.)/r_b**2.)\n",
    "            d = np.sqrt(1.-x**2.*e**2.)\n",
    "            t = R**2.*(R/a_b)**(-alpha_b)\n",
    "            return (t*n)/d\n",
    "        Integral_b = []\n",
    "        for i in range (0,len(R)):\n",
    "            result = integrate.quad(I_b,0,1,args=(R[i]))[0]\n",
    "            Integral_b.append(result)\n",
    "        return np.array(Integral_b)\n",
    "    return Vc_b(R)"
   ]
  },
  {
   "cell_type": "code",
   "execution_count": 44,
   "metadata": {},
   "outputs": [
    {
     "name": "stderr",
     "output_type": "stream",
     "text": [
      "/Users/atalia/miniconda2/lib/python2.7/site-packages/ipykernel_launcher.py:7: RuntimeWarning: divide by zero encountered in double_scalars\n",
      "  import sys\n",
      "/Users/atalia/miniconda2/lib/python2.7/site-packages/ipykernel_launcher.py:7: RuntimeWarning: invalid value encountered in double_scalars\n",
      "  import sys\n"
     ]
    },
    {
     "name": "stdout",
     "output_type": "stream",
     "text": [
      "[       nan 0.6729298  0.76685782 0.82072704 0.85355043 0.8719694\n",
      " 0.87935554 0.8778615  0.86909549 0.85438621 0.83489521 0.811664\n",
      " 0.78563175 0.75763968 0.72843048 0.69864699 0.66883221 0.63943164\n",
      " 0.61079815 0.583199   0.5568247  0.53179896 0.50818909 0.48601638\n",
      " 0.46526595 0.44589571 0.42784422 0.41103738 0.39539383 0.3808293\n",
      " 0.36725979 0.3546039  0.34278442 0.33172924 0.32137186 0.31165148\n",
      " 0.30251294 0.29390639 0.28578698 0.27811435 0.2708523  0.26396829\n",
      " 0.25743308 0.25122034 0.24530634 0.23966962 0.23429078 0.22915218\n",
      " 0.2242378  0.21953303 0.21502452 0.21070005 0.20654841 0.20255931\n",
      " 0.19872324 0.19503146 0.19147588 0.18804901 0.1847439  0.18155412\n",
      " 0.17847366 0.17549695 0.17261878 0.1698343  0.16713895 0.1645285\n",
      " 0.16199897 0.15954661 0.15716793 0.15485962 0.15261859 0.15044192\n",
      " 0.14832686 0.1462708  0.14427131 0.14232606 0.14043287 0.13858965\n",
      " 0.13679446 0.13504541 0.13334075 0.1316788  0.13005796 0.12847673\n",
      " 0.12693366 0.12542738 0.12395658 0.12252002 0.12111652 0.11974493\n",
      " 0.11840418 0.11709324 0.11581112 0.11455687 0.1133296  0.11212843\n",
      " 0.11095255 0.10980116 0.10867349 0.10756883]\n"
     ]
    }
   ],
   "source": [
    "print funcion_prueba(R)"
   ]
  },
  {
   "cell_type": "code",
   "execution_count": null,
   "metadata": {},
   "outputs": [],
   "source": []
  }
 ],
 "metadata": {
  "kernelspec": {
   "display_name": "Python 2",
   "language": "python",
   "name": "python2"
  },
  "language_info": {
   "codemirror_mode": {
    "name": "ipython",
    "version": 2
   },
   "file_extension": ".py",
   "mimetype": "text/x-python",
   "name": "python",
   "nbconvert_exporter": "python",
   "pygments_lexer": "ipython2",
   "version": "2.7.15"
  }
 },
 "nbformat": 4,
 "nbformat_minor": 2
}
