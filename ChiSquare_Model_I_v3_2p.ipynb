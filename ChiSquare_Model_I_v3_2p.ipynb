{
 "cells": [
  {
   "cell_type": "code",
   "execution_count": 1,
   "metadata": {},
   "outputs": [
    {
     "name": "stdout",
     "output_type": "stream",
     "text": [
      "Populating the interactive namespace from numpy and matplotlib\n"
     ]
    }
   ],
   "source": [
    "import numpy as np\n",
    "import matplotlib.pyplot as plt\n",
    "from scipy import integrate\n",
    "import galkin\n",
    "import galkin.processdata   # routines to process kinematic data\n",
    "import galkin.readparsFile  # routines to read and check input parameters\n",
    "%pylab inline"
   ]
  },
  {
   "cell_type": "code",
   "execution_count": 2,
   "metadata": {},
   "outputs": [],
   "source": [
    "#Constants\n",
    "G = 4.302e-6#kpc/SM(km/s)^2\n",
    "q_b = 0.6\n",
    "r_b = 1.9#kpc\n",
    "a_b = 1.#kpc\n",
    "q_h = 0.8\n",
    "alpha_b = 1.8\n",
    "R_m = 4.#kpc\n",
    "#parameters\n",
    "rho_b_I = 0.427e9#sM/kpc^3\n",
    "a_h_I = 3.83#kpc\n",
    "rho_h_I = 0.711e9#SM/kpc^3\n",
    "alpha_h_I = -2.\n",
    "beta_h_I = 2.96\n",
    "R_d_I = 2.0#kpc\n",
    "Sigma_d_SD_I = (1905.0e6)*0.75#SM/kpc^2\n",
    "Sigma_g_ISM_I = (1905.0e6)*0.25#SM/kpc^2\n",
    "params = np.array([alpha_h_I,beta_h_I])"
   ]
  },
  {
   "cell_type": "code",
   "execution_count": 3,
   "metadata": {},
   "outputs": [],
   "source": [
    "def Vc_Model_I(R,parameters,rho_b=rho_b_I,rho_h=rho_h_I,a_h=a_h_I,R_d=R_d_I,Sigma_d_SD=Sigma_d_SD_I,Sigma_g_ISM=Sigma_g_ISM_I):\n",
    "    alpha_h,beta_h = parameters\n",
    "    def Vc_b(R):\n",
    "        def I_b(x,R):\n",
    "            e = np.sqrt(1. - q_b**2.)\n",
    "            n = x**(2.-alpha_b)*np.exp(-(R**2.*x**2.)/r_b**2.)\n",
    "            d = np.sqrt(1.-x**2.*e**2.)\n",
    "            t = R**2.*(R/a_b)**(-alpha_b)\n",
    "            return (t*n)/d\n",
    "        Integral_b = []\n",
    "        for i in range (0,len(R)):\n",
    "            result = integrate.quad(I_b,0,1,args=(R[i]))[0]\n",
    "            Integral_b.append(result)\n",
    "        return np.array(Integral_b)\n",
    "    def Vc_DM(R):\n",
    "        def I_h(x,R):\n",
    "            e = np.sqrt(1.- q_h**2.)\n",
    "            n = x**(2.-alpha_h)*(1.+ (x*R)/(a_h))**(alpha_h-beta_h)\n",
    "            d = np.sqrt(1-x**2.*e**2)\n",
    "            t = R**2.*(R/a_h)**(-alpha_h)\n",
    "            result = (t*n)/d\n",
    "            return result\n",
    "        Integral_DM = []\n",
    "        for i in range (0,len(R)):\n",
    "            result = integrate.quad(I_h,0,1,args=(R[i]))[0]\n",
    "            Integral_DM.append(result)\n",
    "        return np.array(Integral_DM)\n",
    "    def V2_c_SD(R):\n",
    "        result = (R_d/R) - np.exp(-R/R_d) - (np.exp(-R/R_d)*R_d/R)\n",
    "        return result\n",
    "    def Vc_ISM(R):\n",
    "        def M_g_ISM(u,R):\n",
    "            return R*u*np.exp(-((R*u)/(2.*R_d))-(R_m/(R*u)))\n",
    "        Integral_M_g = []\n",
    "        for i in range (0,len(R)):\n",
    "            result = integrate.quad(M_g_ISM,0,1,args=(R[i]))[0]\n",
    "            Integral_M_g.append(result)\n",
    "        return np.array(Integral_M_g)\n",
    "    suma = 4.*np.pi*G*q_b*rho_b*Vc_b(R) + 4.*np.pi*G*q_h*rho_h*Vc_DM(R) + 2.*np.pi*G*Sigma_d_SD*R_d*V2_c_SD(R) + 2.*np.pi*Sigma_g_ISM*G*Vc_ISM(R)\n",
    "    return np.sqrt(suma)"
   ]
  },
  {
   "cell_type": "code",
   "execution_count": 4,
   "metadata": {},
   "outputs": [],
   "source": [
    "R = np.linspace(0.,15.,100)"
   ]
  },
  {
   "cell_type": "code",
   "execution_count": 5,
   "metadata": {},
   "outputs": [
    {
     "name": "stderr",
     "output_type": "stream",
     "text": [
      "/Users/atalia/miniconda2/lib/python2.7/site-packages/ipykernel_launcher.py:8: RuntimeWarning: divide by zero encountered in double_scalars\n",
      "  \n",
      "/Users/atalia/miniconda2/lib/python2.7/site-packages/ipykernel_launcher.py:8: RuntimeWarning: invalid value encountered in double_scalars\n",
      "  \n",
      "/Users/atalia/miniconda2/lib/python2.7/site-packages/scipy/integrate/quadpack.py:385: IntegrationWarning: The occurrence of roundoff error is detected, which prevents \n",
      "  the requested tolerance from being achieved.  The error may be \n",
      "  underestimated.\n",
      "  warnings.warn(msg, IntegrationWarning)\n",
      "/Users/atalia/miniconda2/lib/python2.7/site-packages/ipykernel_launcher.py:29: RuntimeWarning: divide by zero encountered in divide\n",
      "/Users/atalia/miniconda2/lib/python2.7/site-packages/ipykernel_launcher.py:29: RuntimeWarning: invalid value encountered in subtract\n",
      "/Users/atalia/miniconda2/lib/python2.7/site-packages/ipykernel_launcher.py:33: RuntimeWarning: divide by zero encountered in double_scalars\n"
     ]
    },
    {
     "data": {
      "image/png": "[encoded data removed]",
      "text/plain": [
       "<Figure size 432x288 with 1 Axes>"
      ]
     },
     "metadata": {
      "needs_background": "light"
     },
     "output_type": "display_data"
    }
   ],
   "source": [
    "plt.plot(R,Vc_Model_I(R,params))\n",
    "plt.xlabel(r'$R/kpc$')\n",
    "plt.ylabel(r'$V_{c}/km s^{-1}$')\n",
    "plt.show()"
   ]
  },
  {
   "cell_type": "code",
   "execution_count": 6,
   "metadata": {},
   "outputs": [],
   "source": [
    "#10.3, 15.3, 7.7from the paper\n",
    "# Galactic parameters\n",
    "R0=8.0# Galactocentric distance (kpc)\n",
    "V0=220.# local circular velocity (km/s)\n",
    "UsunINUSE=10.3#11.10# solar motion in the U-direction (km/s), e.g. from Schoenrich+ '10, MNRAS 403, 1829 (2010)\n",
    "VsunINUSE=15.3#12.24# solar motion in the V-direction (km/s), e.g. from Schoenrich+ '10, MNRAS 403, 1829 (2010)\n",
    "WsunINUSE=07.7#07.25# solar motion in the W-direction (km/s), e.g. from Schoenrich+ '10, MNRAS 403, 1829 (2010)\n",
    "SYSTDISP=0.# systematic dispersion due to spiral arm streaming (km/s)"
   ]
  },
  {
   "cell_type": "code",
   "execution_count": 7,
   "metadata": {},
   "outputs": [],
   "source": [
    "# Flags\n",
    "flagPROPERMOTIONS=0\t \t\t\t# proper motions not supported in current version - please keep at 0\n",
    "flagHITERMINAL=0\t\t\t\t# whether to use HI terminal velocities\n",
    "flagFich89tab2=0\t\t\t\t# whether to use Fich+ '89, ApJ 342, 272 (1989) (Table 2)\n",
    "flagMalhotra95=0\t\t\t\t# whether to use Malhotra '95, ApJ 448, 138 (1995)\n",
    "flagMcClureGriffithsDickey07=0\t\t\t# whether to use McClure-Griffiths & Dickey '07, ApJ 671, 427 (2007)\n",
    "flagHITHICKNESS=0\t\t\t\t# whether to use the HI thickness method\n",
    "flagHonmaSofue97=0\t\t\t\t# whether to use Honma & Sofue '97, PASJ 49, 453 (1997)\n",
    "flagCOTERMINAL=0\t\t\t\t# whether to use CO terminal velocities\n",
    "flagBurtonGordon78=0\t\t\t\t# whether to use Burton & Gordon '78, A&A 63, 7 (1978)\n",
    "flagClemens85=0\t\t\t\t\t# whether to use Clemens '85, ApJ 295, 422 (1985)\n",
    "flagKnapp85=0\t\t\t\t\t# whether to use Knapp+ '85, AJ 90, 2 (1985)\n",
    "flagLuna06=0\t\t\t\t\t# whether to use Luna+ '06, ApJ 641, 938 (2006)\n",
    "flagHIIREGIONS=1\t\t\t\t# whether to use HII regions\n",
    "flagBlitz79=0\t\t\t\t\t# whether to use Blitz '79, ApJL 231, L115 (1979)\n",
    "flagFich89tab1=0\t\t\t\t# whether to use Fich+ '89, ApJ 342, 272 (1989) (Table 1)\t\n",
    "flagTurbideMoffat93=0\t\t\t\t# whether to use Turbide & Moffat '93, AJ 105, 5 (1993)\n",
    "flagBrandBlitz93=0\t\t\t\t# whether to use Brand & Blitz '93, A&A 275, 67 (1993)\n",
    "flagHou09tabA1=1\t\t\t\t# whether to use Hou+ '09, A&A 499, 473 (2009) (Table A1)\n",
    "flagGMC=0\t\t\t\t\t# whether to use giant molecular clouds\n",
    "flagHou09tabA2=0\t\t\t\t# whether to use Hou+ '09, A&A 499, 473 (2009) (Table A2)\n",
    "##\n",
    "flagOPENCLUSTERS=0\t\t\t\t# whether to use open clusters\n",
    "flagFrinchaboyMajewski08=0\t\t\t# whether to use Frinchaboy & Majewski '08, AJ 136, 118 (2008)\n",
    "flagPLANETARYNEBULAE=0\t\t\t\t# whether to use planetary nebulae\n",
    "flagDurand98=0\t\t\t\t\t# whether to use Durand+ '98, A&AS 132, 13 (1998)\n",
    "flagCEPHEIDS=1\t\t\t\t\t# whether to use classical cepheids\n",
    "flagPont94=1\t\t\t\t\t# whether to use Pont+ '94, A&A 285, 415 (1994)\n",
    "flagPont97=0\t\t\t\t\t# whether to use Pont+ '97, A&A 318, 416 (1997)\n",
    "flagCSTARS=0\t\t\t\t\t# whether to use carbon stars\n",
    "flagDemersBattinelli07=0\t\t\t# whether to use Demers & Battinelli '07, A&A 473, 143 (2007)\n",
    "flagBattinelli12=0\t\t\t\t# whether to use Battinelli+ '12, Ap 56, 68 (2013)\n",
    "###\n",
    "flagMASERS=0\t\t\t\t\t# whether to use masers\n",
    "flagReid14=0\t\t\t\t\t# whether to use Reid+ '14, ApJ 783, 130 (2014)\n",
    "flagHonma12=0\t\t\t\t\t# whether to use Honma+ '12, PASJ 64, 136 (2012)\n",
    "flagStepanishchevBobylev11=0\t\t\t# whether to use Stepanishchev & Bobylev '11, AstL 37, 4 (2011)\n",
    "flagXu13=0\t\t\t\t\t# whether to use Xu+ '13, ApJ 769, 15 (2013)\n",
    "flagBobylevBajkova13=0\t\t\t\t# whether to use Bobylev & Bajkova '13, AstL 39, 809 (2013)\n",
    "##\n",
    "flagastropy=0\t\t\t\t \t# whether to use astropy for equatorial-to-galactic conversions"
   ]
  },
  {
   "cell_type": "code",
   "execution_count": 8,
   "metadata": {},
   "outputs": [],
   "source": [
    "inputpars=(R0,V0,UsunINUSE,VsunINUSE,WsunINUSE,SYSTDISP, flagPROPERMOTIONS,flagHITERMINAL,flagFich89tab2,flagMalhotra95,flagMcClureGriffithsDickey07, flagHITHICKNESS,flagHonmaSofue97,flagCOTERMINAL,flagBurtonGordon78,flagClemens85,flagKnapp85,flagLuna06, flagHIIREGIONS,flagBlitz79,flagFich89tab1,flagTurbideMoffat93,flagBrandBlitz93,flagHou09tabA1, flagGMC,flagHou09tabA2,flagOPENCLUSTERS,flagFrinchaboyMajewski08,flagPLANETARYNEBULAE,flagDurand98,flagCEPHEIDS,flagPont94,flagPont97, flagCSTARS,flagDemersBattinelli07,flagBattinelli12, flagMASERS,flagReid14,flagHonma12,flagStepanishchevBobylev11,flagXu13,flagBobylevBajkova13,flagastropy)"
   ]
  },
  {
   "cell_type": "code",
   "execution_count": 9,
   "metadata": {},
   "outputs": [
    {
     "name": "stdout",
     "output_type": "stream",
     "text": [
      "checking validity of input parameters...\n",
      "printing input parameters...\n",
      " R0=  8.0  kpc\n",
      " V0=  220.0  km/s\n",
      " (Usun,Vsun,Wsun) = ( 10.3 , 15.3 , 7.7 ) km/s\n",
      " systematic dispersion =  0.0  km/s\n",
      " use HI terminal velocities?            0\n",
      " use HI thickness method?               0\n",
      " use CO terminal velocities?            0\n",
      " use HII regions?                       1\n",
      "  use Blitz 79?                           0\n",
      "  use Fich+ 89 (Table 1)?                 0\n",
      "  use Turbide & Moffat 93?                0\n",
      "  use Brand & Blitz 93?                   0\n",
      "  use Hou+ 09 (Table A1)?                 1\n",
      " use giant molecular clouds?            0\n",
      " use open clusters?                     0\n",
      " use planetary nebulae?                 0\n",
      " use cepheids?                          1\n",
      "  use Pont+ 94?                           1\n",
      "  use Pont+ 97?                           0\n",
      " use C stars?                           0\n",
      " use masers?                            0\n",
      " use astropy?                           0\n"
     ]
    }
   ],
   "source": [
    "galkin.readparsFile.CheckAndPrintParameters(inputpars)"
   ]
  },
  {
   "cell_type": "code",
   "execution_count": 10,
   "metadata": {},
   "outputs": [
    {
     "name": "stdout",
     "output_type": "stream",
     "text": [
      "processing HII regions...\n",
      " processing Hou+ 09 (Table A1)...\n",
      "  selected  316  out of the total sample of  815  HII regions\n",
      "processing classical cepheids...\n",
      " processing Pont+ 94...\n",
      "  selected  245  out of the total sample of  278  cepheids\n"
     ]
    }
   ],
   "source": [
    "vecout=galkin.processdata.ProcessData(inputpars)\n",
    "totallistvc=vecout[0]"
   ]
  },
  {
   "cell_type": "code",
   "execution_count": 11,
   "metadata": {},
   "outputs": [],
   "source": [
    "vecRp    = np.array([row[0] for row in totallistvc])# galactocentric distance [kpc]\n",
    "vecerrRp = np.array([row[1] for row in totallistvc])# error in galactocentric distance [kpc]\n",
    "vecvRp   = np.array([row[2] for row in totallistvc])# rotation velocity [km/s]\n",
    "vecerrvRp= np.array([row[3] for row in totallistvc])# error in rotation velocity [km/s]"
   ]
  },
  {
   "cell_type": "code",
   "execution_count": 12,
   "metadata": {},
   "outputs": [
    {
     "name": "stdout",
     "output_type": "stream",
     "text": [
      "128.218523307317 386.01829276368164 3.4805916598031352 17.55446098248422\n"
     ]
    }
   ],
   "source": [
    "print min(vecvRp),max(vecvRp),min(vecRp),max(vecRp)"
   ]
  },
  {
   "cell_type": "code",
   "execution_count": 13,
   "metadata": {},
   "outputs": [
    {
     "data": {
      "image/png": "[encoded data removed]",
      "text/plain": [
       "<Figure size 432x288 with 1 Axes>"
      ]
     },
     "metadata": {
      "needs_background": "light"
     },
     "output_type": "display_data"
    }
   ],
   "source": [
    "plt.errorbar(vecRp, vecvRp, xerr=vecerrRp, yerr=vecerrvRp, fmt='.')\n",
    "plt.plot(vecRp,Vc_Model_I(vecRp,params))\n",
    "plt.xlabel(r'$R/kpc$')\n",
    "plt.ylabel(r'$V_{c}/km s^{-1}$')\n",
    "plt.show()"
   ]
  },
  {
   "cell_type": "code",
   "execution_count": 15,
   "metadata": {},
   "outputs": [
    {
     "name": "stderr",
     "output_type": "stream",
     "text": [
      "/Users/atalia/miniconda2/lib/python2.7/site-packages/ipykernel_launcher.py:8: RuntimeWarning: divide by zero encountered in double_scalars\n",
      "  \n",
      "/Users/atalia/miniconda2/lib/python2.7/site-packages/ipykernel_launcher.py:8: RuntimeWarning: invalid value encountered in double_scalars\n",
      "  \n",
      "/Users/atalia/miniconda2/lib/python2.7/site-packages/ipykernel_launcher.py:29: RuntimeWarning: divide by zero encountered in divide\n",
      "/Users/atalia/miniconda2/lib/python2.7/site-packages/ipykernel_launcher.py:29: RuntimeWarning: invalid value encountered in subtract\n",
      "/Users/atalia/miniconda2/lib/python2.7/site-packages/ipykernel_launcher.py:33: RuntimeWarning: divide by zero encountered in double_scalars\n"
     ]
    },
    {
     "data": {
      "image/png": "[encoded data removed]",
      "text/plain": [
       "<Figure size 432x288 with 1 Axes>"
      ]
     },
     "metadata": {
      "needs_background": "light"
     },
     "output_type": "display_data"
    }
   ],
   "source": [
    "fig, ax1 = plt.subplots()\n",
    "ax1.errorbar(vecRp, vecvRp, xerr=vecerrRp, yerr=vecerrvRp, fmt='.')\n",
    "ax1.axis([0., max(vecRp)+0.1*(max(vecRp)-0.), min(0.,min(vecvRp)-0.1*(max(vecvRp)-min(vecvRp))) , max(vecvRp)+0.1*(max(vecvRp)-min(vecvRp))])\n",
    "ax1.set_xlabel('$R$ [kpc]')\n",
    "ax1.set_ylabel('$v_c$ [km/s]')\n",
    "plt.plot(R,Vc_Model_I(R,params))\n",
    "plt.hlines(230, 0., 18.)\n",
    "plt.hlines(220,0,18)\n",
    "plt.vlines(8,0,400)\n",
    "plt.show()"
   ]
  },
  {
   "cell_type": "code",
   "execution_count": 16,
   "metadata": {},
   "outputs": [
    {
     "name": "stderr",
     "output_type": "stream",
     "text": [
      "/Users/atalia/miniconda2/lib/python2.7/site-packages/ipykernel_launcher.py:8: RuntimeWarning: divide by zero encountered in double_scalars\n",
      "  \n",
      "/Users/atalia/miniconda2/lib/python2.7/site-packages/ipykernel_launcher.py:8: RuntimeWarning: invalid value encountered in double_scalars\n",
      "  \n",
      "/Users/atalia/miniconda2/lib/python2.7/site-packages/ipykernel_launcher.py:29: RuntimeWarning: divide by zero encountered in divide\n",
      "/Users/atalia/miniconda2/lib/python2.7/site-packages/ipykernel_launcher.py:29: RuntimeWarning: invalid value encountered in subtract\n",
      "/Users/atalia/miniconda2/lib/python2.7/site-packages/ipykernel_launcher.py:33: RuntimeWarning: divide by zero encountered in double_scalars\n"
     ]
    },
    {
     "data": {
      "text/plain": [
       "[<matplotlib.lines.Line2D at 0x118907610>]"
      ]
     },
     "execution_count": 16,
     "metadata": {},
     "output_type": "execute_result"
    },
    {
     "data": {
      "image/png": "[encoded data removed]",
      "text/plain": [
       "<Figure size 432x288 with 1 Axes>"
      ]
     },
     "metadata": {
      "needs_background": "light"
     },
     "output_type": "display_data"
    }
   ],
   "source": [
    "plt.plot(vecRp,vecvRp,'.')\n",
    "plt.plot(R,Vc_Model_I(R,params))"
   ]
  },
  {
   "cell_type": "code",
   "execution_count": 15,
   "metadata": {},
   "outputs": [],
   "source": [
    "def Xi2(parameters):\n",
    "    alpha_h,beta_h = parameters\n",
    "    model = Vc_Model_I(vecRp,parameters)\n",
    "    xi = np.sum((vecvRp-model)**2./(vecerrvRp)**2.)\n",
    "    return xi"
   ]
  },
  {
   "cell_type": "code",
   "execution_count": 16,
   "metadata": {},
   "outputs": [
    {
     "name": "stdout",
     "output_type": "stream",
     "text": [
      "7142.2492346595245\n"
     ]
    }
   ],
   "source": [
    "print Xi2(params)"
   ]
  },
  {
   "cell_type": "code",
   "execution_count": 17,
   "metadata": {},
   "outputs": [],
   "source": [
    "from scipy.optimize import minimize"
   ]
  },
  {
   "cell_type": "code",
   "execution_count": 18,
   "metadata": {},
   "outputs": [
    {
     "name": "stdout",
     "output_type": "stream",
     "text": [
      "[-2.    2.96]\n"
     ]
    }
   ],
   "source": [
    "alpha_h_II =1.63 \n",
    "beta_h_II = 2.17\n",
    "print params"
   ]
  },
  {
   "cell_type": "code",
   "execution_count": 19,
   "metadata": {},
   "outputs": [],
   "source": [
    "x0 = np.array([-3.0,1.0])"
   ]
  },
  {
   "cell_type": "code",
   "execution_count": 20,
   "metadata": {},
   "outputs": [],
   "source": [
    "LS = minimize(Xi2,x0,method='L-BFGS-B',bounds=((-3.,3.),(1.,4.),))"
   ]
  },
  {
   "cell_type": "code",
   "execution_count": 21,
   "metadata": {},
   "outputs": [
    {
     "name": "stdout",
     "output_type": "stream",
     "text": [
      "      fun: 2016.064295343203\n",
      " hess_inv: <2x2 LbfgsInvHessProduct with dtype=float64>\n",
      "      jac: array([ 0.01755325, -0.02246452])\n",
      "  message: 'CONVERGENCE: REL_REDUCTION_OF_F_<=_FACTR*EPSMCH'\n",
      "     nfev: 66\n",
      "      nit: 16\n",
      "   status: 0\n",
      "  success: True\n",
      "        x: array([-0.3297626 ,  3.72998096])\n"
     ]
    }
   ],
   "source": [
    "print LS"
   ]
  },
  {
   "cell_type": "code",
   "execution_count": 23,
   "metadata": {},
   "outputs": [],
   "source": [
    "#L2 = minimize(Xi2,x0, method='TNC',bounds=((-3.,3.),(1.,4.),))"
   ]
  },
  {
   "cell_type": "code",
   "execution_count": 24,
   "metadata": {},
   "outputs": [],
   "source": [
    "#print L2"
   ]
  },
  {
   "cell_type": "code",
   "execution_count": 26,
   "metadata": {},
   "outputs": [
    {
     "data": {
      "text/plain": [
       "[<matplotlib.lines.Line2D at 0x1123a2290>]"
      ]
     },
     "execution_count": 26,
     "metadata": {},
     "output_type": "execute_result"
    },
    {
     "data": {
      "image/png": "[encoded data removed]",
      "text/plain": [
       "<Figure size 432x288 with 1 Axes>"
      ]
     },
     "metadata": {
      "needs_background": "light"
     },
     "output_type": "display_data"
    }
   ],
   "source": [
    "plt.plot(vecRp,Vc_Model_I(vecRp,LS.x),'.')\n",
    "plt.plot(vecRp,Vc_Model_I(vecRp,params),'.')"
   ]
  },
  {
   "cell_type": "markdown",
   "metadata": {},
   "source": [
    "# $\\rho_{h}$ y $\\rho_{b}$"
   ]
  },
  {
   "cell_type": "code",
   "execution_count": 27,
   "metadata": {},
   "outputs": [],
   "source": [
    "def Vc_Model_I_v2(R,parameters,alpha_h=alpha_h_I,beta_h=beta_h_I,a_h=a_h_I,R_d=R_d_I,Sigma_d_SD=Sigma_d_SD_I,Sigma_g_ISM=Sigma_g_ISM_I):\n",
    "    rho_b,rho_h = parameters\n",
    "    def Vc_b(R):\n",
    "        def I_b(x,R):\n",
    "            e = np.sqrt(1. - q_b**2.)\n",
    "            n = x**(2.-alpha_b)*np.exp(-(R**2.*x**2.)/r_b**2.)\n",
    "            d = np.sqrt(1.-x**2.*e**2.)\n",
    "            t = R**2.*(R/a_b)**(-alpha_b)\n",
    "            return (t*n)/d\n",
    "        Integral_b = []\n",
    "        for i in range (0,len(R)):\n",
    "            result = integrate.quad(I_b,0,1,args=(R[i]))[0]\n",
    "            Integral_b.append(result)\n",
    "        return np.array(Integral_b)\n",
    "    def Vc_DM(R):\n",
    "        def I_h(x,R):\n",
    "            e = np.sqrt(1.- q_h**2.)\n",
    "            n = x**(2.-alpha_h)*(1.+ (x*R)/(a_h))**(alpha_h-beta_h)\n",
    "            d = np.sqrt(1-x**2.*e**2)\n",
    "            t = R**2.*(R/a_h)**(-alpha_h)\n",
    "            result = (t*n)/d\n",
    "            return result\n",
    "        Integral_DM = []\n",
    "        for i in range (0,len(R)):\n",
    "            result = integrate.quad(I_h,0,1,args=(R[i]))[0]\n",
    "            Integral_DM.append(result)\n",
    "        return np.array(Integral_DM)\n",
    "    def V2_c_SD(R):\n",
    "        result = (R_d/R) - np.exp(-R/R_d) - (np.exp(-R/R_d)*R_d/R)\n",
    "        return result\n",
    "    def Vc_ISM(R):\n",
    "        def M_g_ISM(u,R):\n",
    "            return R*u*np.exp(-((R*u)/(2.*R_d))-(R_m/(R*u)))\n",
    "        Integral_M_g = []\n",
    "        for i in range (0,len(R)):\n",
    "            result = integrate.quad(M_g_ISM,0,1,args=(R[i]))[0]\n",
    "            Integral_M_g.append(result)\n",
    "        return np.array(Integral_M_g)\n",
    "    suma = 4.*np.pi*G*q_b*rho_b*Vc_b(R) + 4.*np.pi*G*q_h*rho_h*Vc_DM(R) + 2.*np.pi*G*Sigma_d_SD*R_d*V2_c_SD(R) + 2.*np.pi*Sigma_g_ISM*G*Vc_ISM(R)\n",
    "    return np.sqrt(suma)"
   ]
  },
  {
   "cell_type": "code",
   "execution_count": 28,
   "metadata": {},
   "outputs": [],
   "source": [
    "params_v1 = np.array([rho_b_I,rho_h_I])"
   ]
  },
  {
   "cell_type": "code",
   "execution_count": 57,
   "metadata": {},
   "outputs": [],
   "source": [
    "def Xi2_v1(parameters):\n",
    "    rho_b,rho_h = np.exp(parameters)\n",
    "    model = Vc_Model_I_v2(vecRp,np.exp(parameters))\n",
    "    xi = np.sum((vecvRp-model)**2./(vecerrvRp)**2.)\n",
    "    return xi"
   ]
  },
  {
   "cell_type": "code",
   "execution_count": null,
   "metadata": {},
   "outputs": [],
   "source": []
  },
  {
   "cell_type": "code",
   "execution_count": 54,
   "metadata": {},
   "outputs": [
    {
     "name": "stdout",
     "output_type": "stream",
     "text": [
      "19.8722945711929 20.382182987767514\n"
     ]
    }
   ],
   "source": [
    "y,h=np.log(params_v1)\n",
    "print y,h"
   ]
  },
  {
   "cell_type": "code",
   "execution_count": 58,
   "metadata": {},
   "outputs": [
    {
     "name": "stdout",
     "output_type": "stream",
     "text": [
      "7142.24923465953\n"
     ]
    }
   ],
   "source": [
    "print Xi2_v1(np.log(params_v1))"
   ]
  },
  {
   "cell_type": "code",
   "execution_count": 50,
   "metadata": {},
   "outputs": [
    {
     "name": "stdout",
     "output_type": "stream",
     "text": [
      "[4.27e+08 7.11e+08] [19.87229457 20.38218299]\n"
     ]
    }
   ],
   "source": [
    "print params_v1,np.log(params_v1)"
   ]
  },
  {
   "cell_type": "code",
   "execution_count": 59,
   "metadata": {},
   "outputs": [],
   "source": [
    "LS_v1 = minimize(Xi2,x0,method='L-BFGS-B',bounds=((np.log(1.0e8),np.log(30.0e8)),(np.log(1.0e8),np.log(20.0e8)),))"
   ]
  },
  {
   "cell_type": "code",
   "execution_count": 60,
   "metadata": {},
   "outputs": [
    {
     "name": "stdout",
     "output_type": "stream",
     "text": [
      "      fun: 2.3228855146984913e+133\n",
      " hess_inv: <2x2 LbfgsInvHessProduct with dtype=float64>\n",
      "      jac: array([-2.02484616e+141,  1.03268367e+142])\n",
      "  message: 'CONVERGENCE: REL_REDUCTION_OF_F_<=_FACTR*EPSMCH'\n",
      "     nfev: 9\n",
      "      nit: 1\n",
      "   status: 0\n",
      "  success: True\n",
      "        x: array([18.42068074, 18.42068074])\n"
     ]
    }
   ],
   "source": [
    "print LS_v1"
   ]
  },
  {
   "cell_type": "code",
   "execution_count": 61,
   "metadata": {},
   "outputs": [
    {
     "name": "stdout",
     "output_type": "stream",
     "text": [
      "[1.e+08 1.e+08]\n"
     ]
    }
   ],
   "source": [
    "print np.exp(LS_v1.x)"
   ]
  },
  {
   "cell_type": "code",
   "execution_count": null,
   "metadata": {},
   "outputs": [],
   "source": []
  },
  {
   "cell_type": "markdown",
   "metadata": {},
   "source": [
    "# $R_{d}$  y $a_{h}$"
   ]
  },
  {
   "cell_type": "code",
   "execution_count": 63,
   "metadata": {},
   "outputs": [],
   "source": [
    "def Vc_Model_I_v3(R,parameters,alpha_h=alpha_h_I,beta_h=beta_h_I,rho_h=rho_h_I,rho_b=rho_b_I,Sigma_d_SD=Sigma_d_SD_I,Sigma_g_ISM=Sigma_g_ISM_I):\n",
    "    a_h,R_d = parameters\n",
    "    def Vc_b(R):\n",
    "        def I_b(x,R):\n",
    "            e = np.sqrt(1. - q_b**2.)\n",
    "            n = x**(2.-alpha_b)*np.exp(-(R**2.*x**2.)/r_b**2.)\n",
    "            d = np.sqrt(1.-x**2.*e**2.)\n",
    "            t = R**2.*(R/a_b)**(-alpha_b)\n",
    "            return (t*n)/d\n",
    "        Integral_b = []\n",
    "        for i in range (0,len(R)):\n",
    "            result = integrate.quad(I_b,0,1,args=(R[i]))[0]\n",
    "            Integral_b.append(result)\n",
    "        return np.array(Integral_b)\n",
    "    def Vc_DM(R):\n",
    "        def I_h(x,R):\n",
    "            e = np.sqrt(1.- q_h**2.)\n",
    "            n = x**(2.-alpha_h)*(1.+ (x*R)/(a_h))**(alpha_h-beta_h)\n",
    "            d = np.sqrt(1-x**2.*e**2)\n",
    "            t = R**2.*(R/a_h)**(-alpha_h)\n",
    "            result = (t*n)/d\n",
    "            return result\n",
    "        Integral_DM = []\n",
    "        for i in range (0,len(R)):\n",
    "            result = integrate.quad(I_h,0,1,args=(R[i]))[0]\n",
    "            Integral_DM.append(result)\n",
    "        return np.array(Integral_DM)\n",
    "    def V2_c_SD(R):\n",
    "        result = (R_d/R) - np.exp(-R/R_d) - (np.exp(-R/R_d)*R_d/R)\n",
    "        return result\n",
    "    def Vc_ISM(R):\n",
    "        def M_g_ISM(u,R):\n",
    "            return R*u*np.exp(-((R*u)/(2.*R_d))-(R_m/(R*u)))\n",
    "        Integral_M_g = []\n",
    "        for i in range (0,len(R)):\n",
    "            result = integrate.quad(M_g_ISM,0,1,args=(R[i]))[0]\n",
    "            Integral_M_g.append(result)\n",
    "        return np.array(Integral_M_g)\n",
    "    suma = 4.*np.pi*G*q_b*rho_b*Vc_b(R) + 4.*np.pi*G*q_h*rho_h*Vc_DM(R) + 2.*np.pi*G*Sigma_d_SD*R_d*V2_c_SD(R) + 2.*np.pi*Sigma_g_ISM*G*Vc_ISM(R)\n",
    "    return np.sqrt(suma)"
   ]
  },
  {
   "cell_type": "code",
   "execution_count": 64,
   "metadata": {},
   "outputs": [],
   "source": [
    "params_v3 = np.array([a_h_I,R_d_I])"
   ]
  },
  {
   "cell_type": "code",
   "execution_count": 66,
   "metadata": {},
   "outputs": [
    {
     "name": "stderr",
     "output_type": "stream",
     "text": [
      "/Users/atalia/miniconda2/lib/python2.7/site-packages/ipykernel_launcher.py:8: RuntimeWarning: divide by zero encountered in double_scalars\n",
      "  \n",
      "/Users/atalia/miniconda2/lib/python2.7/site-packages/ipykernel_launcher.py:8: RuntimeWarning: invalid value encountered in double_scalars\n",
      "  \n",
      "/Users/atalia/miniconda2/lib/python2.7/site-packages/ipykernel_launcher.py:29: RuntimeWarning: divide by zero encountered in divide\n",
      "/Users/atalia/miniconda2/lib/python2.7/site-packages/ipykernel_launcher.py:29: RuntimeWarning: invalid value encountered in subtract\n",
      "/Users/atalia/miniconda2/lib/python2.7/site-packages/ipykernel_launcher.py:33: RuntimeWarning: divide by zero encountered in double_scalars\n"
     ]
    },
    {
     "data": {
      "image/png": "[encoded data removed]",
      "text/plain": [
       "<Figure size 432x288 with 1 Axes>"
      ]
     },
     "metadata": {
      "needs_background": "light"
     },
     "output_type": "display_data"
    }
   ],
   "source": [
    "plt.plot(R,Vc_Model_I_v3(R,params_v3))\n",
    "plt.xlabel(r'$R/kpc$')\n",
    "plt.ylabel(r'$V_{c}/km s^{-1}$')\n",
    "plt.show()"
   ]
  },
  {
   "cell_type": "code",
   "execution_count": 67,
   "metadata": {},
   "outputs": [],
   "source": [
    "def Xi2_v3(parameters):\n",
    "    a_h,R_d = parameters\n",
    "    model = Vc_Model_I_v3(vecRp,parameters)\n",
    "    xi = np.sum((vecvRp-model)**2./(vecerrvRp)**2.)\n",
    "    return xi"
   ]
  },
  {
   "cell_type": "code",
   "execution_count": 68,
   "metadata": {},
   "outputs": [
    {
     "name": "stdout",
     "output_type": "stream",
     "text": [
      "7142.2492346595245\n"
     ]
    }
   ],
   "source": [
    "print Xi2_v3(params_v3)"
   ]
  },
  {
   "cell_type": "code",
   "execution_count": 72,
   "metadata": {},
   "outputs": [
    {
     "name": "stderr",
     "output_type": "stream",
     "text": [
      "/Users/atalia/miniconda2/lib/python2.7/site-packages/ipykernel_launcher.py:40: RuntimeWarning: invalid value encountered in sqrt\n"
     ]
    }
   ],
   "source": [
    "LS_v3 = minimize(Xi2,x0,method='L-BFGS-B',bounds=((0.1,9.),(1.,9.),))"
   ]
  },
  {
   "cell_type": "code",
   "execution_count": 73,
   "metadata": {},
   "outputs": [
    {
     "name": "stdout",
     "output_type": "stream",
     "text": [
      "      fun: 2156.532541554548\n",
      " hess_inv: <2x2 LbfgsInvHessProduct with dtype=float64>\n",
      "      jac: array([ 6.78341985e+02, -1.81898940e-04])\n",
      "  message: 'CONVERGENCE: REL_REDUCTION_OF_F_<=_FACTR*EPSMCH'\n",
      "     nfev: 123\n",
      "      nit: 28\n",
      "   status: 0\n",
      "  success: True\n",
      "        x: array([0.1       , 4.14235183])\n"
     ]
    }
   ],
   "source": [
    "print LS_v3"
   ]
  },
  {
   "cell_type": "code",
   "execution_count": null,
   "metadata": {},
   "outputs": [],
   "source": []
  },
  {
   "cell_type": "markdown",
   "metadata": {},
   "source": [
    "# $R_{d}$ y $\\alpha_{h}$"
   ]
  },
  {
   "cell_type": "code",
   "execution_count": null,
   "metadata": {},
   "outputs": [],
   "source": [
    "def Vc_Model_I_v4(R,parameters,a_h=a_h_I,beta_h=beta_h_I,rho_h=rho_h_I,rho_b=rho_b_I,Sigma_d_SD=Sigma_d_SD_I,Sigma_g_ISM=Sigma_g_ISM_I):\n",
    "    R_d,alpha_h = parameters\n",
    "    def Vc_b(R):\n",
    "        def I_b(x,R):\n",
    "            e = np.sqrt(1. - q_b**2.)\n",
    "            n = x**(2.-alpha_b)*np.exp(-(R**2.*x**2.)/r_b**2.)\n",
    "            d = np.sqrt(1.-x**2.*e**2.)\n",
    "            t = R**2.*(R/a_b)**(-alpha_b)\n",
    "            return (t*n)/d\n",
    "        Integral_b = []\n",
    "        for i in range (0,len(R)):\n",
    "            result = integrate.quad(I_b,0,1,args=(R[i]))[0]\n",
    "            Integral_b.append(result)\n",
    "        return np.array(Integral_b)\n",
    "    def Vc_DM(R):\n",
    "        def I_h(x,R):\n",
    "            e = np.sqrt(1.- q_h**2.)\n",
    "            n = x**(2.-alpha_h)*(1.+ (x*R)/(a_h))**(alpha_h-beta_h)\n",
    "            d = np.sqrt(1-x**2.*e**2)\n",
    "            t = R**2.*(R/a_h)**(-alpha_h)\n",
    "            result = (t*n)/d\n",
    "            return result\n",
    "        Integral_DM = []\n",
    "        for i in range (0,len(R)):\n",
    "            result = integrate.quad(I_h,0,1,args=(R[i]))[0]\n",
    "            Integral_DM.append(result)\n",
    "        return np.array(Integral_DM)\n",
    "    def V2_c_SD(R):\n",
    "        result = (R_d/R) - np.exp(-R/R_d) - (np.exp(-R/R_d)*R_d/R)\n",
    "        return result\n",
    "    def Vc_ISM(R):\n",
    "        def M_g_ISM(u,R):\n",
    "            return R*u*np.exp(-((R*u)/(2.*R_d))-(R_m/(R*u)))\n",
    "        Integral_M_g = []\n",
    "        for i in range (0,len(R)):\n",
    "            result = integrate.quad(M_g_ISM,0,1,args=(R[i]))[0]\n",
    "            Integral_M_g.append(result)\n",
    "        return np.array(Integral_M_g)\n",
    "    suma = 4.*np.pi*G*q_b*rho_b*Vc_b(R) + 4.*np.pi*G*q_h*rho_h*Vc_DM(R) + 2.*np.pi*G*Sigma_d_SD*R_d*V2_c_SD(R) + 2.*np.pi*Sigma_g_ISM*G*Vc_ISM(R)\n",
    "    return np.sqrt(suma)"
   ]
  },
  {
   "cell_type": "code",
   "execution_count": null,
   "metadata": {},
   "outputs": [],
   "source": []
  },
  {
   "cell_type": "code",
   "execution_count": null,
   "metadata": {},
   "outputs": [],
   "source": [
    "#Grid\n",
    "R_d_test = np.linspace(1.,4.,10)\n",
    "Sigma_d_test = np.linspace(0.1e9,3.0e9,10)"
   ]
  },
  {
   "cell_type": "code",
   "execution_count": null,
   "metadata": {},
   "outputs": [],
   "source": [
    "#g=np.meshgrid(R_d_test,Sigma_d_test)\n",
    "#np.shape(g)"
   ]
  },
  {
   "cell_type": "code",
   "execution_count": null,
   "metadata": {},
   "outputs": [],
   "source": [
    "#matrix = []\n",
    "#for i in range(len(R_d_test)):\n",
    "#    row=[]\n",
    "#    for j in range(len(Sigma_d_test)):\n",
    "#        row.append(Sigma_d_test[j])\n",
    "#        matrix.append(row)\n",
    "#print np.shape(matrix)"
   ]
  },
  {
   "cell_type": "code",
   "execution_count": null,
   "metadata": {},
   "outputs": [],
   "source": [
    "def Vc_Model_I_grid(R,parameters,rho_b=rho_b_I,alpha_h=alpha_h_I,beta_h=beta_h_I,rho_h=rho_h_I,a_h=a_h_I,Sigma_g_ISM=Sigma_g_ISM_I):\n",
    "    R_d,Sigma_d_SD = parameters\n",
    "    def Vc_b(R):\n",
    "        def I_b(x,R):\n",
    "            e = np.sqrt(1. - q_b**2.)\n",
    "            n = x**(2.-alpha_b)*np.exp(-(R**2.*x**2.)/r_b**2.)\n",
    "            d = np.sqrt(1.-x**2.*e**2.)\n",
    "            t = R**2.*(R/a_b)**(-alpha_b)\n",
    "            return (t*n)/d\n",
    "        Integral_b = []\n",
    "        for i in range (0,len(R)):\n",
    "            result = integrate.quad(I_b,0,1,args=(R[i]))[0]\n",
    "            Integral_b.append(result)\n",
    "        return np.array(Integral_b)\n",
    "    def Vc_DM(R):\n",
    "        def I_h(x,R):\n",
    "            e = np.sqrt(1.- q_h**2.)\n",
    "            n = x**(2.-alpha_h)*(1.+ (x*R)/(a_h))**(alpha_h-beta_h)\n",
    "            d = np.sqrt(1-x**2.*e**2)\n",
    "            t = R**2.*(R/a_h)**(-alpha_h)\n",
    "            result = (t*n)/d\n",
    "            return result\n",
    "        Integral_DM = []\n",
    "        for i in range (0,len(R)):\n",
    "            result = integrate.quad(I_h,0,1,args=(R[i]))[0]\n",
    "            Integral_DM.append(result)\n",
    "        return np.array(Integral_DM)\n",
    "    def V2_c_SD(R):\n",
    "        result = (R_d/R) - np.exp(-R/R_d) - (np.exp(-R/R_d)*R_d/R)\n",
    "        return result\n",
    "    def Vc_ISM(R):\n",
    "        def M_g_ISM(u,R):\n",
    "            return R*u*np.exp(-((R*u)/(2.*R_d))-(R_m/(R*u)))\n",
    "        Integral_M_g = []\n",
    "        for i in range (0,len(R)):\n",
    "            result = integrate.quad(M_g_ISM,0,1,args=(R[i]))[0]\n",
    "            Integral_M_g.append(result)\n",
    "        return np.array(Integral_M_g)\n",
    "    suma = 4.*np.pi*G*q_b*rho_b*Vc_b(R) + 4.*np.pi*G*q_h*rho_h*Vc_DM(R) + 2.*np.pi*G*Sigma_d_SD*R_d*V2_c_SD(R) + 2.*np.pi*Sigma_g_ISM*G*Vc_ISM(R)\n",
    "    return np.sqrt(suma)"
   ]
  },
  {
   "cell_type": "code",
   "execution_count": null,
   "metadata": {},
   "outputs": [],
   "source": [
    "def Xi2_grid(parameters):\n",
    "    R_d,Sigma_d_SD = parameters\n",
    "    model = Vc_Model_I_grid(vecRp,parameters)\n",
    "    xi = np.sum((vecvRp-model)**2./(vecerrvRp)**2.)\n",
    "    return xi"
   ]
  },
  {
   "cell_type": "code",
   "execution_count": null,
   "metadata": {},
   "outputs": [],
   "source": [
    "Xi_grid = []\n",
    "for i in range(len(R_d_test)):\n",
    "    for j in range(len(Sigma_d_test)):\n",
    "        param=np.array([R_d_test[i],Sigma_d_test[j]])\n",
    "        Xi_grid.append(Xi2_grid(param))\n",
    "print Xi_grid"
   ]
  },
  {
   "cell_type": "code",
   "execution_count": null,
   "metadata": {},
   "outputs": [],
   "source": [
    "min(Xi_grid),max(Xi_grid)"
   ]
  },
  {
   "cell_type": "code",
   "execution_count": null,
   "metadata": {},
   "outputs": [],
   "source": [
    "#np.std(Xi_grid)"
   ]
  },
  {
   "cell_type": "code",
   "execution_count": null,
   "metadata": {},
   "outputs": [],
   "source": [
    "Xi_grid.index(min(Xi_grid))"
   ]
  },
  {
   "cell_type": "code",
   "execution_count": null,
   "metadata": {},
   "outputs": [],
   "source": []
  }
 ],
 "metadata": {
  "kernelspec": {
   "display_name": "Python 2",
   "language": "python",
   "name": "python2"
  },
  "language_info": {
   "codemirror_mode": {
    "name": "ipython",
    "version": 2
   },
   "file_extension": ".py",
   "mimetype": "text/x-python",
   "name": "python",
   "nbconvert_exporter": "python",
   "pygments_lexer": "ipython2",
   "version": "2.7.15"
  }
 },
 "nbformat": 4,
 "nbformat_minor": 2
}
