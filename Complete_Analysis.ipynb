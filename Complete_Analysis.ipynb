{
 "cells": [
  {
   "cell_type": "code",
   "execution_count": 1,
   "metadata": {},
   "outputs": [
    {
     "name": "stdout",
     "output_type": "stream",
     "text": [
      "Populating the interactive namespace from numpy and matplotlib\n"
     ]
    }
   ],
   "source": [
    "import numpy as np\n",
    "import matplotlib.pyplot as plt\n",
    "from scipy import integrate\n",
    "from scipy.special import kn\n",
    "from scipy.optimize import minimize\n",
    "import galkin\n",
    "import galkin.processdata   # routines to process kinematic data\n",
    "import galkin.readparsFile  # routines to read and check input parameters\n",
    "%pylab inline"
   ]
  },
  {
   "cell_type": "code",
   "execution_count": 2,
   "metadata": {},
   "outputs": [],
   "source": [
    "#10.3, 15.3, 7.7from the paper\n",
    "# Galactic parameters\n",
    "R0=8.0# Galactocentric distance (kpc)\n",
    "V0=230.# local circular velocity (km/s)\n",
    "UsunINUSE=11.10# solar motion in the U-direction (km/s), e.g. from Schoenrich+ '10, MNRAS 403, 1829 (2010)\n",
    "VsunINUSE=12.24# solar motion in the V-direction (km/s), e.g. from Schoenrich+ '10, MNRAS 403, 1829 (2010)\n",
    "WsunINUSE=07.25# solar motion in the W-direction (km/s), e.g. from Schoenrich+ '10, MNRAS 403, 1829 (2010)\n",
    "SYSTDISP=0.# systematic dispersion due to spiral arm streaming (km/s)"
   ]
  },
  {
   "cell_type": "code",
   "execution_count": 3,
   "metadata": {},
   "outputs": [],
   "source": [
    "# Flags\n",
    "flagPROPERMOTIONS=0\t \t\t\t# proper motions not supported in current version - please keep at 0\n",
    "flagHITERMINAL=0\t\t\t\t# whether to use HI terminal velocities\n",
    "flagFich89tab2=0\t\t\t\t# whether to use Fich+ '89, ApJ 342, 272 (1989) (Table 2)\n",
    "flagMalhotra95=0\t\t\t\t# whether to use Malhotra '95, ApJ 448, 138 (1995)\n",
    "flagMcClureGriffithsDickey07=0\t\t\t# whether to use McClure-Griffiths & Dickey '07, ApJ 671, 427 (2007)\n",
    "flagHITHICKNESS=0\t\t\t\t# whether to use the HI thickness method\n",
    "flagHonmaSofue97=0\t\t\t\t# whether to use Honma & Sofue '97, PASJ 49, 453 (1997)\n",
    "flagCOTERMINAL=1\t\t\t\t# whether to use CO terminal velocities\n",
    "flagBurtonGordon78=0\t\t\t\t# whether to use Burton & Gordon '78, A&A 63, 7 (1978)\n",
    "flagClemens85=0\t\t\t\t\t# whether to use Clemens '85, ApJ 295, 422 (1985)\n",
    "flagKnapp85=1\t\t\t\t\t# whether to use Knapp+ '85, AJ 90, 2 (1985)\n",
    "flagLuna06=0\t\t\t\t\t# whether to use Luna+ '06, ApJ 641, 938 (2006)\n",
    "flagHIIREGIONS=1\t\t\t\t# whether to use HII regions\n",
    "flagBlitz79=0\t\t\t\t\t# whether to use Blitz '79, ApJL 231, L115 (1979)\n",
    "flagFich89tab1=0\t\t\t\t# whether to use Fich+ '89, ApJ 342, 272 (1989) (Table 1)\t\n",
    "flagTurbideMoffat93=0\t\t\t\t# whether to use Turbide & Moffat '93, AJ 105, 5 (1993)\n",
    "flagBrandBlitz93=0\t\t\t\t# whether to use Brand & Blitz '93, A&A 275, 67 (1993)\n",
    "flagHou09tabA1=1\t\t\t\t# whether to use Hou+ '09, A&A 499, 473 (2009) (Table A1)\n",
    "flagGMC=0\t\t\t\t\t# whether to use giant molecular clouds\n",
    "flagHou09tabA2=0\t\t\t\t# whether to use Hou+ '09, A&A 499, 473 (2009) (Table A2)\n",
    "##\n",
    "flagOPENCLUSTERS=0\t\t\t\t# whether to use open clusters\n",
    "flagFrinchaboyMajewski08=0\t\t\t# whether to use Frinchaboy & Majewski '08, AJ 136, 118 (2008)\n",
    "flagPLANETARYNEBULAE=0\t\t\t\t# whether to use planetary nebulae\n",
    "flagDurand98=0\t\t\t\t\t# whether to use Durand+ '98, A&AS 132, 13 (1998)\n",
    "flagCEPHEIDS=1\t\t\t\t\t# whether to use classical cepheids\n",
    "flagPont94=1\t\t\t\t\t# whether to use Pont+ '94, A&A 285, 415 (1994)\n",
    "flagPont97=0\t\t\t\t\t# whether to use Pont+ '97, A&A 318, 416 (1997)\n",
    "flagCSTARS=0\t\t\t\t\t# whether to use carbon stars\n",
    "flagDemersBattinelli07=0\t\t\t# whether to use Demers & Battinelli '07, A&A 473, 143 (2007)\n",
    "flagBattinelli12=0\t\t\t\t# whether to use Battinelli+ '12, Ap 56, 68 (2013)\n",
    "###\n",
    "flagMASERS=0\t\t\t\t\t# whether to use masers\n",
    "flagReid14=0\t\t\t\t\t# whether to use Reid+ '14, ApJ 783, 130 (2014)\n",
    "flagHonma12=0\t\t\t\t\t# whether to use Honma+ '12, PASJ 64, 136 (2012)\n",
    "flagStepanishchevBobylev11=0\t\t\t# whether to use Stepanishchev & Bobylev '11, AstL 37, 4 (2011)\n",
    "flagXu13=0\t\t\t\t\t# whether to use Xu+ '13, ApJ 769, 15 (2013)\n",
    "flagBobylevBajkova13=0\t\t\t\t# whether to use Bobylev & Bajkova '13, AstL 39, 809 (2013)\n",
    "##\n",
    "flagastropy=0\t\t\t\t \t# whether to use astropy for equatorial-to-galactic conversions"
   ]
  },
  {
   "cell_type": "code",
   "execution_count": 4,
   "metadata": {},
   "outputs": [],
   "source": [
    "inputpars=(R0,V0,UsunINUSE,VsunINUSE,WsunINUSE,SYSTDISP, flagPROPERMOTIONS,flagHITERMINAL,flagFich89tab2,flagMalhotra95,flagMcClureGriffithsDickey07, flagHITHICKNESS,flagHonmaSofue97,flagCOTERMINAL,flagBurtonGordon78,flagClemens85,flagKnapp85,flagLuna06, flagHIIREGIONS,flagBlitz79,flagFich89tab1,flagTurbideMoffat93,flagBrandBlitz93,flagHou09tabA1, flagGMC,flagHou09tabA2,flagOPENCLUSTERS,flagFrinchaboyMajewski08,flagPLANETARYNEBULAE,flagDurand98,flagCEPHEIDS,flagPont94,flagPont97, flagCSTARS,flagDemersBattinelli07,flagBattinelli12, flagMASERS,flagReid14,flagHonma12,flagStepanishchevBobylev11,flagXu13,flagBobylevBajkova13,flagastropy)"
   ]
  },
  {
   "cell_type": "code",
   "execution_count": 5,
   "metadata": {},
   "outputs": [
    {
     "name": "stdout",
     "output_type": "stream",
     "text": [
      "checking validity of input parameters...\n",
      "printing input parameters...\n",
      " R0=  8.0  kpc\n",
      " V0=  230.0  km/s\n",
      " (Usun,Vsun,Wsun) = ( 11.1 , 12.24 , 7.25 ) km/s\n",
      " systematic dispersion =  0.0  km/s\n",
      " use HI terminal velocities?            0\n",
      " use HI thickness method?               0\n",
      " use CO terminal velocities?            1\n",
      "  use Burton & Gordon 78?                 0\n",
      "  use Clemens 85?                         0\n",
      "  use Knapp+ 85?                          1\n",
      "  use Luna+ 06?                           0\n",
      " use HII regions?                       1\n",
      "  use Blitz 79?                           0\n",
      "  use Fich+ 89 (Table 1)?                 0\n",
      "  use Turbide & Moffat 93?                0\n",
      "  use Brand & Blitz 93?                   0\n",
      "  use Hou+ 09 (Table A1)?                 1\n",
      " use giant molecular clouds?            0\n",
      " use open clusters?                     0\n",
      " use planetary nebulae?                 0\n",
      " use cepheids?                          1\n",
      "  use Pont+ 94?                           1\n",
      "  use Pont+ 97?                           0\n",
      " use C stars?                           0\n",
      " use masers?                            0\n",
      " use astropy?                           0\n"
     ]
    }
   ],
   "source": [
    "galkin.readparsFile.CheckAndPrintParameters(inputpars)"
   ]
  },
  {
   "cell_type": "code",
   "execution_count": 6,
   "metadata": {},
   "outputs": [
    {
     "name": "stdout",
     "output_type": "stream",
     "text": [
      "processing CO terminal velocities...\n",
      " processing Knapp+ 85...\n",
      "  selected  37  CO terminal velocities\n",
      "processing HII regions...\n",
      " processing Hou+ 09 (Table A1)...\n",
      "  selected  316  out of the total sample of  815  HII regions\n",
      "processing classical cepheids...\n",
      " processing Pont+ 94...\n",
      "  selected  245  out of the total sample of  278  cepheids\n"
     ]
    }
   ],
   "source": [
    "vecout=galkin.processdata.ProcessData(inputpars)\n",
    "totallistvc=vecout[0]"
   ]
  },
  {
   "cell_type": "code",
   "execution_count": 7,
   "metadata": {},
   "outputs": [],
   "source": [
    "vecRp    = np.array([row[0] for row in totallistvc])# galactocentric distance [kpc]\n",
    "vecerrRp = np.array([row[1] for row in totallistvc])# error in galactocentric distance [kpc]\n",
    "vecvRp   = np.array([row[2] for row in totallistvc])# rotation velocity [km/s]\n",
    "vecerrvRp= np.array([row[3] for row in totallistvc])# error in rotation velocity [km/s]"
   ]
  },
  {
   "cell_type": "code",
   "execution_count": 8,
   "metadata": {},
   "outputs": [],
   "source": [
    "rho_soliton = 2.42e9#SM*kpc−3\n",
    "m_axion = 2.44e-22#eV\n",
    "#Constants\n",
    "G = 4.302e-6#kpc/SM(km/s)^2\n",
    "q_b = 0.6\n",
    "r_b = 1.9#kpc\n",
    "a_b = 1.#kpc\n",
    "q_h = 0.8\n",
    "alpha_b = 1.8\n",
    "R_m = 4.#kpc\n",
    "#parameters model I\n",
    "rho_b_I = 0.427e9#sM/kpc^3\n",
    "a_h_I = 3.83#kpc\n",
    "rho_h_I = 0.711e9#SM/kpc^3\n",
    "alpha_h_I = -2.\n",
    "beta_h_I = 2.96\n",
    "R_d_I = 2.0#kpc\n",
    "R_d_II = 3.2#kpc\n",
    "Sigma_d_SD_I = (1905.0e6)*0.75#SM/kpc^2\n",
    "Sigma_g_ISM_I = (1905.0e6)*0.25#SM/kpc^2\n",
    "#parameters model II\n",
    "rho_b_II = 0.3e9#sM/kpc^3\n",
    "a_h_II = 1.9#kpc\n",
    "rho_h_II = 0.266e9#SM/kpc^3\n",
    "alpha_h_II = 1.63\n",
    "beta_h_II = 2.17\n",
    "R_d_II = 3.2#kpc\n",
    "Sigma_d_SD_II = (536.0e6)*0.75#SM/kpc^2\n",
    "Sigma_g_ISM_II = (536.0e6)*0.25#SM/kpc^2"
   ]
  },
  {
   "cell_type": "code",
   "execution_count": 9,
   "metadata": {},
   "outputs": [],
   "source": [
    "def Vc2_b(R,rho_b,q_b=q_b,alpha_b=alpha_b,r_b=r_b,a_b=a_b):\n",
    "    def I_b(x,R):\n",
    "        e = np.sqrt(1. - q_b**2.)\n",
    "        n = x**(2.-alpha_b)*np.exp(-(R**2.*x**2.)/r_b**2.)\n",
    "        d = np.sqrt(1.-x**2.*e**2.)\n",
    "        t = R**2.*(R/a_b)**(-alpha_b)\n",
    "        return (t*n)/d\n",
    "    Rx = R.reshape(-1, 1)\n",
    "    yp = np.linspace(0.,1.,100).reshape(1,-1)#integration limits\n",
    "    dx = yp[0,1] - yp[0,0]\n",
    "    fun = I_b(yp,Rx)\n",
    "    res_int = integrate.simps(fun,dx=dx)\n",
    "    return 4.*np.pi*G*q_b*rho_b*res_int"
   ]
  },
  {
   "cell_type": "code",
   "execution_count": 10,
   "metadata": {},
   "outputs": [],
   "source": [
    "Vc2_b_I = Vc2_b(vecRp,rho_b=rho_b_I)\n",
    "Vc2_b_II = Vc2_b(vecRp,rho_b=rho_b_II)"
   ]
  },
  {
   "cell_type": "code",
   "execution_count": 11,
   "metadata": {},
   "outputs": [],
   "source": [
    " def Vc2_DM(R,a_h,rho_h,alpha_h,beta_h,q_h=q_h):\n",
    "    def I_h(x,R):\n",
    "        e = np.sqrt(1.- q_h**2.)\n",
    "        n = x**(2.-alpha_h)*(1.+ (x*R)/(a_h))**(alpha_h-beta_h)\n",
    "        d = np.sqrt(1-x**2.*e**2)\n",
    "        t = R**2.*(R/a_h)**(-alpha_h)\n",
    "        result = (t*n)/d\n",
    "        return result\n",
    "    Rx = R.reshape(-1, 1)\n",
    "    yp = np.linspace(0.,1.,100).reshape(1,-1)#integration limits\n",
    "    dx = yp[0,1] - yp[0,0]\n",
    "    fun = I_h(yp,Rx)\n",
    "    res_int = integrate.simps(fun,dx=dx)\n",
    "    return 4.*np.pi*G*q_h*rho_h*res_int"
   ]
  },
  {
   "cell_type": "code",
   "execution_count": 12,
   "metadata": {},
   "outputs": [],
   "source": [
    "Vc2_DM_I = Vc2_DM(vecRp,a_h_I,rho_h_I,alpha_h_I,beta_h_I)\n",
    "Vc2_DM_II = Vc2_DM(vecRp,a_h_II,rho_h_II,alpha_h_II,beta_h_II)"
   ]
  },
  {
   "cell_type": "code",
   "execution_count": 13,
   "metadata": {},
   "outputs": [],
   "source": [
    "def Vc2_SD_simps(R,R_d,Sigma_d_SD,z=0.,alpha_0=0.5,z1=1.,z0=0.3):\n",
    "    def I_SD(zp,a,R):\n",
    "        d = np.sqrt((a+R)**2. + (z-zp)**2.) + np.sqrt((a-R)**2. + (z-zp)**2.)\n",
    "        u = (2.*a)/d\n",
    "        t2 = u/np.sqrt(1-u**2.)\n",
    "        t1 = (a+R)/(np.sqrt((a+R)**2. + (z-zp)**2.)) - (a-R)/(np.sqrt((a-R)**2. + (z-zp)**2.))\n",
    "        g = -a*kn(0,a/R_d)*t2*t1/d\n",
    "        f = (alpha_0*np.exp(-abs(zp)/z0))/(2.*z0) + np.exp(-abs(zp)/z1)/(2.*z1) - (alpha_0*np.exp(-abs(zp)/z1))/(2.*z1)\n",
    "        return R*f*g\n",
    "    Integral_SD_sims = []\n",
    "    a_lims = np.linspace(0.1, 15.0,len(R))\n",
    "    zp_lims = np.linspace(-15.0,15.0,len(R))\n",
    "    fun_zp = np.zeros(len(R))\n",
    "    for k in range(0,len(R)):\n",
    "        for i in range(0,len(R)):\n",
    "            fun_zp[i] = integrate.simps(I_SD(zp_lims[i],a_lims,R[k]),a_lims)\n",
    "        result = integrate.simps(fun_zp,zp_lims)\n",
    "        Integral_SD_sims.append(result)\n",
    "    return -4.*G*Sigma_d_SD*np.array(Integral_SD_sims)/R_d"
   ]
  },
  {
   "cell_type": "code",
   "execution_count": 14,
   "metadata": {},
   "outputs": [],
   "source": [
    "Vc2_SD_I=Vc2_SD_simps(vecRp,R_d_I,Sigma_d_SD_I)\n",
    "Vc2_SD_II=Vc2_SD_simps(vecRp,R_d_II,Sigma_d_SD_II)"
   ]
  },
  {
   "cell_type": "code",
   "execution_count": 15,
   "metadata": {},
   "outputs": [],
   "source": [
    "def Vc2_ISM(R,R_d,Sigma_g_ISM,R_m=R_m):\n",
    "    def M_g_ISM(u,R):\n",
    "        return R*u*np.exp(-((R*u)/(2.*R_d))-(R_m/(R*u)))\n",
    "    Integral_M_g = []\n",
    "    for i in range (0,len(R)):\n",
    "        result = integrate.quad(M_g_ISM,0,1,args=(R[i]))[0]\n",
    "        Integral_M_g.append(result)\n",
    "    return 2.*np.pi*Sigma_g_ISM*G*np.array(Integral_M_g)"
   ]
  },
  {
   "cell_type": "code",
   "execution_count": 16,
   "metadata": {},
   "outputs": [],
   "source": [
    "Vc2_ISM_I=Vc2_ISM(vecRp,R_d_I,Sigma_g_ISM_I)\n",
    "Vc2_ISM_II=Vc2_ISM(vecRp,R_d_II,Sigma_g_ISM_II)"
   ]
  },
  {
   "cell_type": "code",
   "execution_count": 17,
   "metadata": {},
   "outputs": [],
   "source": [
    "Vc_tot_I = np.sqrt(Vc2_b_I + Vc2_DM_I + Vc2_SD_I + Vc2_ISM_I)\n",
    "Vc_tot_II = np.sqrt(Vc2_b_II + Vc2_DM_II + Vc2_SD_II + Vc2_ISM_II)"
   ]
  },
  {
   "cell_type": "markdown",
   "metadata": {},
   "source": [
    "# Un solo parámetro del modelo"
   ]
  },
  {
   "cell_type": "markdown",
   "metadata": {},
   "source": [
    "$\\rho_{b}$"
   ]
  },
  {
   "cell_type": "code",
   "execution_count": 18,
   "metadata": {},
   "outputs": [],
   "source": [
    "def Vc_tot_rho_b_I(R,param):\n",
    "    rho_b = param\n",
    "    suma = Vc2_b(R,rho_b) + Vc2_DM_I + Vc2_SD_I + Vc2_ISM_I\n",
    "    return np.sqrt(suma)"
   ]
  },
  {
   "cell_type": "code",
   "execution_count": 19,
   "metadata": {},
   "outputs": [],
   "source": [
    "def Vc_tot_rho_b_II(R,param):\n",
    "    rho_b = param\n",
    "    suma = Vc2_b(R,rho_b) + Vc2_DM_II + Vc2_SD_II + Vc2_ISM_II\n",
    "    return np.sqrt(suma)"
   ]
  },
  {
   "cell_type": "code",
   "execution_count": 20,
   "metadata": {},
   "outputs": [],
   "source": [
    "#def Vc_tot_rho_b_I(R,param,params):\n",
    "#    rho_b = param\n",
    "#    a_h,rho_h,alpha_h,beta_h,R_d,Sigma_d_SD,Sigma_g_ISM = params \n",
    "#    suma = Vc2_b(R,rho_b) + Vc2_DM(R,a_h,rho_h,alpha_h,beta_h) + Vc2_SD_simps(R,R_d,Sigma_d_SD) + Vc2_ISM(R,R_d,Sigma_g_ISM)\n",
    "#    return np.sqrt(suma)"
   ]
  },
  {
   "cell_type": "code",
   "execution_count": 25,
   "metadata": {},
   "outputs": [],
   "source": [
    "def Xi2_rho_b_I(parameters):\n",
    "    rho_b = np.exp(parameters)\n",
    "    model = Vc_tot_rho_b_I(vecRp,rho_b)\n",
    "    xi = np.sum((vecvRp-model)**2./(vecerrvRp)**2.)\n",
    "    return xi"
   ]
  },
  {
   "cell_type": "code",
   "execution_count": 26,
   "metadata": {},
   "outputs": [],
   "source": [
    "def Xi2_rho_b_II(parameters):\n",
    "    rho_b = np.exp(parameters)\n",
    "    model = Vc_tot_rho_b_II(vecRp,rho_b)\n",
    "    xi = np.sum((vecvRp-model)**2./(vecerrvRp)**2.)\n",
    "    return xi"
   ]
  },
  {
   "cell_type": "code",
   "execution_count": 27,
   "metadata": {},
   "outputs": [
    {
     "name": "stdout",
     "output_type": "stream",
     "text": [
      "      fun: 2330.5099908761063\n",
      " hess_inv: <1x1 LbfgsInvHessProduct with dtype=float64>\n",
      "      jac: array([0.0003638])\n",
      "  message: 'CONVERGENCE: REL_REDUCTION_OF_F_<=_FACTR*EPSMCH'\n",
      "     nfev: 14\n",
      "      nit: 3\n",
      "   status: 0\n",
      "  success: True\n",
      "        x: array([20.98647195])\n"
     ]
    }
   ],
   "source": [
    "x0_rho_b = np.array(np.log(1.0e8))\n",
    "LS_rho_b_I = minimize(Xi2_rho_b_I,x0_rho_b,method='L-BFGS-B',bounds=((np.log(1.0e8),np.log(30.0e8)),))\n",
    "print LS_rho_b_I"
   ]
  },
  {
   "cell_type": "code",
   "execution_count": 28,
   "metadata": {},
   "outputs": [
    {
     "name": "stdout",
     "output_type": "stream",
     "text": [
      "      fun: 2681.270120762674\n",
      " hess_inv: <1x1 LbfgsInvHessProduct with dtype=float64>\n",
      "      jac: array([-0.0001819])\n",
      "  message: 'CONVERGENCE: REL_REDUCTION_OF_F_<=_FACTR*EPSMCH'\n",
      "     nfev: 18\n",
      "      nit: 5\n",
      "   status: 0\n",
      "  success: True\n",
      "        x: array([20.7099686])\n"
     ]
    }
   ],
   "source": [
    "LS_rho_b_II = minimize(Xi2_rho_b_II,x0_rho_b,method='L-BFGS-B',bounds=((np.log(1.0e8),np.log(30.0e8)),))\n",
    "print LS_rho_b_II"
   ]
  },
  {
   "cell_type": "code",
   "execution_count": 29,
   "metadata": {},
   "outputs": [
    {
     "name": "stdout",
     "output_type": "stream",
     "text": [
      "[1.30109486e+09] [9.86790777e+08]\n"
     ]
    }
   ],
   "source": [
    "print np.exp(LS_rho_b_I.x),np.exp(LS_rho_b_II.x)"
   ]
  },
  {
   "cell_type": "code",
   "execution_count": 30,
   "metadata": {},
   "outputs": [
    {
     "data": {
      "image/png": "[encoded data removed]",
      "text/plain": [
       "<Figure size 432x288 with 1 Axes>"
      ]
     },
     "metadata": {
      "needs_background": "light"
     },
     "output_type": "display_data"
    }
   ],
   "source": [
    "plt.plot(vecRp,Vc_tot_rho_b_I(vecRp,np.asscalar(np.exp(LS_rho_b_I.x))),'.',label='Ajuste')\n",
    "plt.plot(vecRp,Vc_tot_I,'.',label='original')\n",
    "plt.xlabel(r'$R/kpc$')\n",
    "plt.ylabel(r'$V_{c}/km s^{-1}$')\n",
    "plt.title('Modelo I')\n",
    "plt.legend(loc='lower right', prop={'size':10})\n",
    "plt.savefig('Fit_rho_b_I.pdf')"
   ]
  },
  {
   "cell_type": "code",
   "execution_count": 31,
   "metadata": {},
   "outputs": [
    {
     "data": {
      "image/png": "[encoded data removed]",
      "text/plain": [
       "<Figure size 432x288 with 1 Axes>"
      ]
     },
     "metadata": {
      "needs_background": "light"
     },
     "output_type": "display_data"
    }
   ],
   "source": [
    "plt.plot(vecRp,Vc_tot_rho_b_II(vecRp,np.asscalar(np.exp(LS_rho_b_II.x))),'.',label='Ajuste')\n",
    "plt.plot(vecRp,Vc_tot_II,'.',label='original')\n",
    "plt.xlabel(r'$R/kpc$')\n",
    "plt.ylabel(r'$V_{c}/km s^{-1}$')\n",
    "plt.title('Modelo II')\n",
    "plt.legend(loc='lower right', prop={'size':10})\n",
    "plt.savefig('Fit_rho_b_II.pdf')"
   ]
  },
  {
   "cell_type": "markdown",
   "metadata": {},
   "source": [
    "$a_{h}$"
   ]
  },
  {
   "cell_type": "code",
   "execution_count": 32,
   "metadata": {},
   "outputs": [],
   "source": [
    "def Vc_tot_a_h_I(R,param):\n",
    "    a_h = param\n",
    "    suma = Vc2_b_I + Vc2_DM(R,a_h,rho_h_I,alpha_h_I,beta_h_I) + Vc2_SD_I + Vc2_ISM_I\n",
    "    return np.sqrt(suma)"
   ]
  },
  {
   "cell_type": "code",
   "execution_count": 33,
   "metadata": {},
   "outputs": [],
   "source": [
    "def Vc_tot_a_h_II(R,param):\n",
    "    a_h = param\n",
    "    suma = Vc2_b_II + Vc2_DM(R,a_h,rho_h_II,alpha_h_II,beta_h_II) + Vc2_SD_II + Vc2_ISM_II\n",
    "    return np.sqrt(suma)"
   ]
  },
  {
   "cell_type": "code",
   "execution_count": 34,
   "metadata": {},
   "outputs": [],
   "source": [
    "def Xi2_a_hI(parameters):\n",
    "    a_h = parameters\n",
    "    model = Vc_tot_a_h_I(vecRp,a_h)\n",
    "    xi = np.sum((vecvRp-model)**2./(vecerrvRp)**2.)\n",
    "    return xi"
   ]
  },
  {
   "cell_type": "code",
   "execution_count": 35,
   "metadata": {},
   "outputs": [],
   "source": [
    "def Xi2_a_hII(parameters):\n",
    "    a_h = parameters\n",
    "    model = Vc_tot_a_h_II(vecRp,a_h)\n",
    "    xi = np.sum((vecvRp-model)**2./(vecerrvRp)**2.)\n",
    "    return xi"
   ]
  },
  {
   "cell_type": "code",
   "execution_count": 36,
   "metadata": {},
   "outputs": [
    {
     "name": "stdout",
     "output_type": "stream",
     "text": [
      "      fun: 4656.750683819073\n",
      " hess_inv: <1x1 LbfgsInvHessProduct with dtype=float64>\n",
      "      jac: array([0.])\n",
      "  message: 'CONVERGENCE: NORM_OF_PROJECTED_GRADIENT_<=_PGTOL'\n",
      "     nfev: 18\n",
      "      nit: 5\n",
      "   status: 0\n",
      "  success: True\n",
      "        x: array([5.71212142])\n"
     ]
    }
   ],
   "source": [
    "x0_a_h = np.array(1.0)\n",
    "LS_a_h_I = minimize(Xi2_a_hI,x0_a_h,method='L-BFGS-B',bounds=((1.0,9.),))\n",
    "print LS_a_h_I"
   ]
  },
  {
   "cell_type": "code",
   "execution_count": 37,
   "metadata": {},
   "outputs": [
    {
     "name": "stdout",
     "output_type": "stream",
     "text": [
      "      fun: 2266.942281435001\n",
      " hess_inv: <1x1 LbfgsInvHessProduct with dtype=float64>\n",
      "      jac: array([-4.54747351e-05])\n",
      "  message: 'CONVERGENCE: REL_REDUCTION_OF_F_<=_FACTR*EPSMCH'\n",
      "     nfev: 16\n",
      "      nit: 6\n",
      "   status: 0\n",
      "  success: True\n",
      "        x: array([2.0898071])\n"
     ]
    }
   ],
   "source": [
    "LS_a_h_II = minimize(Xi2_a_hII,x0_a_h,method='L-BFGS-B',bounds=((1.0,9.),))\n",
    "print LS_a_h_II"
   ]
  },
  {
   "cell_type": "code",
   "execution_count": 38,
   "metadata": {},
   "outputs": [
    {
     "data": {
      "image/png": "[encoded data removed]",
      "text/plain": [
       "<Figure size 432x288 with 1 Axes>"
      ]
     },
     "metadata": {
      "needs_background": "light"
     },
     "output_type": "display_data"
    }
   ],
   "source": [
    "plt.plot(vecRp,Vc_tot_a_h_I(vecRp,np.asscalar(LS_a_h_I.x)),'.',label='Ajuste')\n",
    "plt.plot(vecRp,Vc_tot_I,'.',label='original')\n",
    "plt.xlabel(r'$R/kpc$')\n",
    "plt.ylabel(r'$V_{c}/km s^{-1}$')\n",
    "plt.title('Modelo I')\n",
    "plt.legend(loc='lower right', prop={'size':10})\n",
    "plt.savefig('Fit_a_h_I.pdf')"
   ]
  },
  {
   "cell_type": "code",
   "execution_count": 39,
   "metadata": {},
   "outputs": [
    {
     "data": {
      "image/png": "[encoded data removed]",
      "text/plain": [
       "<Figure size 432x288 with 1 Axes>"
      ]
     },
     "metadata": {
      "needs_background": "light"
     },
     "output_type": "display_data"
    }
   ],
   "source": [
    "plt.plot(vecRp,Vc_tot_a_h_II(vecRp,np.asscalar(LS_a_h_II.x)),'.',label='Ajuste')\n",
    "plt.plot(vecRp,Vc_tot_I,'.',label='original')\n",
    "plt.xlabel(r'$R/kpc$')\n",
    "plt.ylabel(r'$V_{c}/km s^{-1}$')\n",
    "plt.title('Modelo II')\n",
    "plt.legend(loc='lower right', prop={'size':10})\n",
    "plt.savefig('Fit_a_h_II.pdf')"
   ]
  },
  {
   "cell_type": "markdown",
   "metadata": {},
   "source": [
    "$\\rho_{h}$"
   ]
  },
  {
   "cell_type": "code",
   "execution_count": 49,
   "metadata": {},
   "outputs": [],
   "source": [
    "def Vc_tot_rho_h_I(R,param):\n",
    "    rho_h = param\n",
    "    suma = Vc2_b_I + Vc2_DM(R,a_h_I,rho_h,alpha_h_I,beta_h_I) + Vc2_SD_I + Vc2_ISM_I\n",
    "    return np.sqrt(suma)"
   ]
  },
  {
   "cell_type": "code",
   "execution_count": 56,
   "metadata": {},
   "outputs": [],
   "source": [
    "def Vc_tot_rho_h_II(R,param):\n",
    "    rho_h = param\n",
    "    suma = Vc2_b_II + Vc2_DM(R,a_h_II,rho_h,alpha_h_II,beta_h_II) + Vc2_SD_II + Vc2_ISM_II\n",
    "    return np.sqrt(suma)"
   ]
  },
  {
   "cell_type": "code",
   "execution_count": 57,
   "metadata": {},
   "outputs": [],
   "source": [
    "def Xi2_rho_h_I(parameters):\n",
    "    rho_h = np.exp(parameters)\n",
    "    model = Vc_tot_rho_h_I(vecRp,rho_h)\n",
    "    xi = np.sum((vecvRp-model)**2./(vecerrvRp)**2.)\n",
    "    return xi"
   ]
  },
  {
   "cell_type": "code",
   "execution_count": 58,
   "metadata": {},
   "outputs": [],
   "source": [
    "def Xi2_rho_h_II(parameters):\n",
    "    rho_h = np.exp(parameters)\n",
    "    model = Vc_tot_rho_h_II(vecRp,rho_h)\n",
    "    xi = np.sum((vecvRp-model)**2./(vecerrvRp)**2.)\n",
    "    return xi"
   ]
  },
  {
   "cell_type": "code",
   "execution_count": 59,
   "metadata": {},
   "outputs": [
    {
     "name": "stdout",
     "output_type": "stream",
     "text": [
      "      fun: 3481.3481004159257\n",
      " hess_inv: <1x1 LbfgsInvHessProduct with dtype=float64>\n",
      "      jac: array([-0.00163709])\n",
      "  message: 'CONVERGENCE: REL_REDUCTION_OF_F_<=_FACTR*EPSMCH'\n",
      "     nfev: 16\n",
      "      nit: 3\n",
      "   status: 0\n",
      "  success: True\n",
      "        x: array([20.74110992])\n"
     ]
    }
   ],
   "source": [
    "x0_rho_h = np.array(np.log(1.0e8))\n",
    "LS_rho_h_I = minimize(Xi2_rho_h_I,x0_rho_h,method='L-BFGS-B',bounds=((np.log(1.0e8),np.log(20.0e8)),))\n",
    "print LS_rho_h_I"
   ]
  },
  {
   "cell_type": "code",
   "execution_count": 60,
   "metadata": {},
   "outputs": [
    {
     "name": "stdout",
     "output_type": "stream",
     "text": [
      "      fun: 2262.254355845996\n",
      " hess_inv: <1x1 LbfgsInvHessProduct with dtype=float64>\n",
      "      jac: array([-0.00040927])\n",
      "  message: 'CONVERGENCE: REL_REDUCTION_OF_F_<=_FACTR*EPSMCH'\n",
      "     nfev: 16\n",
      "      nit: 5\n",
      "   status: 0\n",
      "  success: True\n",
      "        x: array([19.58533238])\n"
     ]
    }
   ],
   "source": [
    "LS_rho_h_II = minimize(Xi2_rho_h_II,x0_rho_h,method='L-BFGS-B',bounds=((np.log(1.0e8),np.log(20.0e8)),))\n",
    "print LS_rho_h_II"
   ]
  },
  {
   "cell_type": "code",
   "execution_count": 61,
   "metadata": {},
   "outputs": [
    {
     "name": "stdout",
     "output_type": "stream",
     "text": [
      "[1.01800424e+09] [3.20480626e+08]\n"
     ]
    }
   ],
   "source": [
    "print np.exp(LS_rho_h_I.x),np.exp(LS_rho_h_II.x)"
   ]
  },
  {
   "cell_type": "code",
   "execution_count": 62,
   "metadata": {},
   "outputs": [
    {
     "data": {
      "image/png": "[encoded data removed]",
      "text/plain": [
       "<Figure size 432x288 with 1 Axes>"
      ]
     },
     "metadata": {
      "needs_background": "light"
     },
     "output_type": "display_data"
    }
   ],
   "source": [
    "plt.plot(vecRp,Vc_tot_rho_h_I(vecRp,np.asscalar(np.exp(LS_rho_h_I.x))),'.',label='Ajuste')\n",
    "plt.plot(vecRp,Vc_tot_I,'.',label='original')\n",
    "plt.xlabel(r'$R/kpc$')\n",
    "plt.ylabel(r'$V_{c}/km s^{-1}$')\n",
    "plt.title('Modelo I')\n",
    "plt.legend(loc='lower right', prop={'size':10})\n",
    "plt.savefig('Fit_rho_h_I.pdf')"
   ]
  },
  {
   "cell_type": "code",
   "execution_count": 63,
   "metadata": {},
   "outputs": [
    {
     "data": {
      "image/png": "[encoded data removed]",
      "text/plain": [
       "<Figure size 432x288 with 1 Axes>"
      ]
     },
     "metadata": {
      "needs_background": "light"
     },
     "output_type": "display_data"
    }
   ],
   "source": [
    "plt.plot(vecRp,Vc_tot_rho_h_II(vecRp,np.asscalar(np.exp(LS_rho_h_II.x))),'.',label='Ajuste')\n",
    "plt.plot(vecRp,Vc_tot_II,'.',label='original')\n",
    "plt.xlabel(r'$R/kpc$')\n",
    "plt.ylabel(r'$V_{c}/km s^{-1}$')\n",
    "plt.title('Modelo II')\n",
    "plt.legend(loc='lower right', prop={'size':10})\n",
    "plt.savefig('Fit_rho_h_II.pdf')"
   ]
  },
  {
   "cell_type": "markdown",
   "metadata": {},
   "source": [
    "$\\alpha_{h}$"
   ]
  },
  {
   "cell_type": "code",
   "execution_count": 64,
   "metadata": {},
   "outputs": [],
   "source": [
    "def Vc_tot_alpha_h_I(R,param):\n",
    "    alpha_h = param\n",
    "    suma = Vc2_b_I + Vc2_DM(R,a_h_I,rho_h_I,alpha_h,beta_h_I) + Vc2_SD_I + Vc2_ISM_I\n",
    "    return np.sqrt(suma)"
   ]
  },
  {
   "cell_type": "code",
   "execution_count": 65,
   "metadata": {},
   "outputs": [],
   "source": [
    "def Vc_tot_alpha_h_II(R,param):\n",
    "    alpha_h = param\n",
    "    suma = Vc2_b_II + Vc2_DM(R,a_h_II,rho_h_II,alpha_h,beta_h_II) + Vc2_SD_II + Vc2_ISM_II\n",
    "    return np.sqrt(suma)"
   ]
  },
  {
   "cell_type": "code",
   "execution_count": 66,
   "metadata": {},
   "outputs": [],
   "source": [
    "def Xi2_alpha_h_I(parameters):\n",
    "    alpha_h = parameters\n",
    "    model = Vc_tot_alpha_h_I(vecRp,alpha_h)\n",
    "    xi = np.sum((vecvRp-model)**2./(vecerrvRp)**2.)\n",
    "    return xi"
   ]
  },
  {
   "cell_type": "code",
   "execution_count": 75,
   "metadata": {},
   "outputs": [],
   "source": [
    "def Xi2_alpha_h_II(parameters):\n",
    "    alpha_h = parameters\n",
    "    model = Vc_tot_alpha_h_II(vecRp,alpha_h)\n",
    "    xi = np.sum((vecvRp-model)**2./(vecerrvRp)**2.)\n",
    "    return xi"
   ]
  },
  {
   "cell_type": "code",
   "execution_count": 70,
   "metadata": {},
   "outputs": [
    {
     "name": "stdout",
     "output_type": "stream",
     "text": [
      "     fun: 3051.261701021752\n",
      "     jac: array([-9.09494702e-05])\n",
      " message: 'Converged (|f_n-f_(n-1)| ~= 0)'\n",
      "    nfev: 18\n",
      "     nit: 6\n",
      "  status: 1\n",
      " success: True\n",
      "       x: array([-1.34313742])\n"
     ]
    }
   ],
   "source": [
    "x0_alpha_h = np.array(-3.)\n",
    "LS_alpha_h_I = minimize(Xi2_alpha_h_I,x0_alpha_h,method='TNC',bounds=((-3.,3.),))\n",
    "print LS_alpha_h_I"
   ]
  },
  {
   "cell_type": "code",
   "execution_count": 76,
   "metadata": {},
   "outputs": [
    {
     "name": "stderr",
     "output_type": "stream",
     "text": [
      "/Users/atalia/miniconda2/lib/python2.7/site-packages/ipykernel_launcher.py:4: RuntimeWarning: divide by zero encountered in power\n",
      "  after removing the cwd from sys.path.\n"
     ]
    },
    {
     "name": "stdout",
     "output_type": "stream",
     "text": [
      "     fun: 123549.78104984072\n",
      "     jac: array([-15441.71391288])\n",
      " message: 'Linear search failed'\n",
      "    nfev: 66\n",
      "     nit: 0\n",
      "  status: 4\n",
      " success: False\n",
      "       x: array([-3.])\n"
     ]
    }
   ],
   "source": [
    "x0_alpha_h_II = np.array(-10.)\n",
    "LS_alpha_h_II = minimize(Xi2_alpha_h_II,x0_alpha_h,method='TNC',bounds=((-3.,3.),))\n",
    "print LS_alpha_h_II"
   ]
  },
  {
   "cell_type": "code",
   "execution_count": 77,
   "metadata": {},
   "outputs": [
    {
     "data": {
      "image/png": "[encoded data removed]",
      "text/plain": [
       "<Figure size 432x288 with 1 Axes>"
      ]
     },
     "metadata": {
      "needs_background": "light"
     },
     "output_type": "display_data"
    }
   ],
   "source": [
    "plt.plot(vecRp,Vc_tot_alpha_h_I(vecRp,np.asscalar(LS_alpha_h_I.x)),'.',label='Ajuste')\n",
    "plt.plot(vecRp,Vc_tot_I,'.',label='original')\n",
    "plt.xlabel(r'$R/kpc$')\n",
    "plt.ylabel(r'$V_{c}/km s^{-1}$')\n",
    "plt.title('Modelo I')\n",
    "plt.legend(loc='lower right', prop={'size':10})\n",
    "plt.savefig('Fit_alpha_h_I.pdf')"
   ]
  },
  {
   "cell_type": "code",
   "execution_count": 78,
   "metadata": {},
   "outputs": [
    {
     "data": {
      "image/png": "[encoded data removed]",
      "text/plain": [
       "<Figure size 432x288 with 1 Axes>"
      ]
     },
     "metadata": {
      "needs_background": "light"
     },
     "output_type": "display_data"
    }
   ],
   "source": [
    "plt.plot(vecRp,Vc_tot_alpha_h_II(vecRp,np.asscalar(LS_alpha_h_II.x)),'.',label='Ajuste')\n",
    "plt.plot(vecRp,Vc_tot_II,'.',label='original')\n",
    "plt.xlabel(r'$R/kpc$')\n",
    "plt.ylabel(r'$V_{c}/km s^{-1}$')\n",
    "plt.title('Modelo II')\n",
    "plt.legend(loc='lower right', prop={'size':10})\n",
    "plt.savefig('Fit_alpha_h_II.pdf')"
   ]
  },
  {
   "cell_type": "markdown",
   "metadata": {},
   "source": [
    "$\\beta_{h}$"
   ]
  },
  {
   "cell_type": "code",
   "execution_count": 79,
   "metadata": {},
   "outputs": [],
   "source": [
    "def Vc_tot_beta_h_I(R,param):\n",
    "    beta_h = param\n",
    "    suma = Vc2_b_I + Vc2_DM(R,a_h_I,rho_h_I,alpha_h_I,beta_h) + Vc2_SD_I + Vc2_ISM_I\n",
    "    return np.sqrt(suma)"
   ]
  },
  {
   "cell_type": "code",
   "execution_count": 80,
   "metadata": {},
   "outputs": [],
   "source": [
    "def Vc_tot_beta_h_II(R,param):\n",
    "    beta_h = param\n",
    "    suma = Vc2_b_II + Vc2_DM(R,a_h_II,rho_h_II,alpha_h_II,beta_h) + Vc2_SD_II + Vc2_ISM_II\n",
    "    return np.sqrt(suma)"
   ]
  },
  {
   "cell_type": "code",
   "execution_count": 84,
   "metadata": {},
   "outputs": [],
   "source": [
    "def Xi2_beta_h_I(parameters):\n",
    "    beta_h = parameters\n",
    "    model = Vc_tot_beta_h_I(vecRp,beta_h)\n",
    "    xi = np.sum((vecvRp-model)**2./(vecerrvRp)**2.)\n",
    "    return xi"
   ]
  },
  {
   "cell_type": "code",
   "execution_count": 88,
   "metadata": {},
   "outputs": [],
   "source": [
    "def Xi2_beta_h_II(parameters):\n",
    "    beta_h = parameters\n",
    "    model = Vc_tot_beta_h_II(vecRp,beta_h)\n",
    "    xi = np.sum((vecvRp-model)**2./(vecerrvRp)**2.)\n",
    "    return xi"
   ]
  },
  {
   "cell_type": "code",
   "execution_count": 86,
   "metadata": {},
   "outputs": [
    {
     "name": "stdout",
     "output_type": "stream",
     "text": [
      "      fun: 3882.201546383615\n",
      " hess_inv: <1x1 LbfgsInvHessProduct with dtype=float64>\n",
      "      jac: array([0.0003638])\n",
      "  message: 'CONVERGENCE: REL_REDUCTION_OF_F_<=_FACTR*EPSMCH'\n",
      "     nfev: 18\n",
      "      nit: 7\n",
      "   status: 0\n",
      "  success: True\n",
      "        x: array([2.58140777])\n"
     ]
    }
   ],
   "source": [
    "x0_beta_h = np.array(1.)\n",
    "LS_beta_h_I = minimize(Xi2_beta_h_I,x0_beta_h,method='L-BFGS-B',bounds=((1.,3.),))\n",
    "print LS_beta_h_I"
   ]
  },
  {
   "cell_type": "code",
   "execution_count": 89,
   "metadata": {},
   "outputs": [
    {
     "name": "stdout",
     "output_type": "stream",
     "text": [
      "      fun: 2367.086155154032\n",
      " hess_inv: <1x1 LbfgsInvHessProduct with dtype=float64>\n",
      "      jac: array([0.])\n",
      "  message: 'CONVERGENCE: NORM_OF_PROJECTED_GRADIENT_<=_PGTOL'\n",
      "     nfev: 24\n",
      "      nit: 8\n",
      "   status: 0\n",
      "  success: True\n",
      "        x: array([1.99731338])\n"
     ]
    }
   ],
   "source": [
    "LS_beta_h_II = minimize(Xi2_beta_h_II,x0_beta_h,method='L-BFGS-B',bounds=((1.,3.),))\n",
    "print LS_beta_h_II"
   ]
  },
  {
   "cell_type": "code",
   "execution_count": 90,
   "metadata": {},
   "outputs": [
    {
     "data": {
      "image/png": "[encoded data removed]",
      "text/plain": [
       "<Figure size 432x288 with 1 Axes>"
      ]
     },
     "metadata": {
      "needs_background": "light"
     },
     "output_type": "display_data"
    }
   ],
   "source": [
    "plt.plot(vecRp,Vc_tot_beta_h_I(vecRp,np.asscalar(LS_beta_h_I.x)),'.',label='Ajuste')\n",
    "plt.plot(vecRp,Vc_tot_I,'.',label='original')\n",
    "plt.xlabel(r'$R/kpc$')\n",
    "plt.ylabel(r'$V_{c}/km s^{-1}$')\n",
    "plt.title('Modelo I')\n",
    "plt.legend(loc='lower right', prop={'size':10})\n",
    "plt.savefig('Fit_beta_h_I.pdf')"
   ]
  },
  {
   "cell_type": "code",
   "execution_count": 91,
   "metadata": {},
   "outputs": [
    {
     "data": {
      "image/png": "[encoded data removed]",
      "text/plain": [
       "<Figure size 432x288 with 1 Axes>"
      ]
     },
     "metadata": {
      "needs_background": "light"
     },
     "output_type": "display_data"
    }
   ],
   "source": [
    "plt.plot(vecRp,Vc_tot_beta_h_II(vecRp,np.asscalar(LS_beta_h_II.x)),'.',label='Ajuste')\n",
    "plt.plot(vecRp,Vc_tot_II,'.',label='original')\n",
    "plt.xlabel(r'$R/kpc$')\n",
    "plt.ylabel(r'$V_{c}/km s^{-1}$')\n",
    "plt.title('Modelo II')\n",
    "plt.legend(loc='lower right', prop={'size':10})\n",
    "plt.savefig('Fit_beta_h_II.pdf')"
   ]
  },
  {
   "cell_type": "markdown",
   "metadata": {},
   "source": [
    "$R_{d}$"
   ]
  },
  {
   "cell_type": "code",
   "execution_count": 92,
   "metadata": {},
   "outputs": [],
   "source": [
    "def Vc_tot_R_d_I(R,param):\n",
    "    R_d = param\n",
    "    suma = Vc2_b_I + Vc2_DM_I + Vc2_SD_simps(R,R_d,Sigma_d_SD_I) + Vc2_ISM(R,R_d,Sigma_g_ISM_I)\n",
    "    return np.sqrt(suma)"
   ]
  },
  {
   "cell_type": "code",
   "execution_count": 93,
   "metadata": {},
   "outputs": [],
   "source": [
    "def Vc_tot_R_d_II(R,param):\n",
    "    R_d = param\n",
    "    suma = Vc2_b_II + Vc2_DM_II + Vc2_SD_simps(R,R_d,Sigma_d_SD_II) + Vc2_ISM(R,R_d,Sigma_g_ISM_II)\n",
    "    return np.sqrt(suma)"
   ]
  },
  {
   "cell_type": "code",
   "execution_count": 94,
   "metadata": {},
   "outputs": [],
   "source": [
    "def Xi2_R_d_I(parameters):\n",
    "    R_d = parameters\n",
    "    model = Vc_tot_R_d_I(vecRp,R_d)\n",
    "    xi = np.sum((vecvRp-model)**2./(vecerrvRp)**2.)\n",
    "    return xi"
   ]
  },
  {
   "cell_type": "code",
   "execution_count": 95,
   "metadata": {},
   "outputs": [],
   "source": [
    "def Xi2_R_d_II(parameters):\n",
    "    R_d = parameters\n",
    "    model = Vc_tot_R_d_II(vecRp,R_d)\n",
    "    xi = np.sum((vecvRp-model)**2./(vecerrvRp)**2.)\n",
    "    return xi"
   ]
  },
  {
   "cell_type": "code",
   "execution_count": 96,
   "metadata": {},
   "outputs": [
    {
     "name": "stdout",
     "output_type": "stream",
     "text": [
      "      fun: 3179.35755550916\n",
      " hess_inv: <1x1 LbfgsInvHessProduct with dtype=float64>\n",
      "      jac: array([4.54747351e-05])\n",
      "  message: 'CONVERGENCE: REL_REDUCTION_OF_F_<=_FACTR*EPSMCH'\n",
      "     nfev: 22\n",
      "      nit: 8\n",
      "   status: 0\n",
      "  success: True\n",
      "        x: array([2.32916685])\n"
     ]
    }
   ],
   "source": [
    "x0_R_d = np.array(1.0)\n",
    "LS_R_d_I = minimize(Xi2_R_d_I,x0_R_d,method='L-BFGS-B',bounds=((1.0,4.),))\n",
    "print LS_R_d_I"
   ]
  },
  {
   "cell_type": "code",
   "execution_count": 101,
   "metadata": {},
   "outputs": [
    {
     "name": "stdout",
     "output_type": "stream",
     "text": [
      "      fun: 2712.3996983165016\n",
      " hess_inv: <1x1 LbfgsInvHessProduct with dtype=float64>\n",
      "      jac: array([0.])\n",
      "  message: 'CONVERGENCE: NORM_OF_PROJECTED_GRADIENT_<=_PGTOL'\n",
      "     nfev: 22\n",
      "      nit: 6\n",
      "   status: 0\n",
      "  success: True\n",
      "        x: array([4.77344661])\n"
     ]
    }
   ],
   "source": [
    "LS_R_d_II = minimize(Xi2_R_d_II,x0_R_d,method='L-BFGS-B',bounds=((1.0,7.),))\n",
    "print LS_R_d_II"
   ]
  },
  {
   "cell_type": "code",
   "execution_count": 102,
   "metadata": {},
   "outputs": [
    {
     "data": {
      "image/png": "[encoded data removed]",
      "text/plain": [
       "<Figure size 432x288 with 1 Axes>"
      ]
     },
     "metadata": {
      "needs_background": "light"
     },
     "output_type": "display_data"
    }
   ],
   "source": [
    "plt.plot(vecRp,Vc_tot_R_d_I(vecRp,np.asscalar(LS_R_d_I.x)),'.',label='Ajuste')\n",
    "plt.plot(vecRp,Vc_tot_I,'.',label='original')\n",
    "plt.xlabel(r'$R/kpc$')\n",
    "plt.ylabel(r'$V_{c}/km s^{-1}$')\n",
    "plt.title('Modelo I')\n",
    "plt.legend(loc='lower right', prop={'size':10})\n",
    "plt.savefig('Fit_R_d_I.pdf')"
   ]
  },
  {
   "cell_type": "code",
   "execution_count": 104,
   "metadata": {},
   "outputs": [
    {
     "data": {
      "image/png": "[encoded data removed]",
      "text/plain": [
       "<Figure size 432x288 with 1 Axes>"
      ]
     },
     "metadata": {
      "needs_background": "light"
     },
     "output_type": "display_data"
    }
   ],
   "source": [
    "plt.plot(vecRp,Vc_tot_R_d_II(vecRp,np.asscalar(LS_R_d_II.x)),'.',label='Ajuste')\n",
    "plt.plot(vecRp,Vc_tot_II,'.',label='original')\n",
    "plt.xlabel(r'$R/kpc$')\n",
    "plt.ylabel(r'$V_{c}/km s^{-1}$')\n",
    "plt.title('Modelo II')\n",
    "plt.legend(loc='lower right', prop={'size':10})\n",
    "plt.savefig('Fit_R_d_II.pdf')"
   ]
  },
  {
   "cell_type": "markdown",
   "metadata": {},
   "source": [
    "$\\Sigma_{d}$"
   ]
  },
  {
   "cell_type": "code",
   "execution_count": 110,
   "metadata": {},
   "outputs": [],
   "source": [
    "def Vc_tot_Sigma_d_I(R,param):\n",
    "    Sigma_d_SD = param\n",
    "    suma = Vc2_b_I + Vc2_DM_I + Vc2_SD_simps(R,R_d_I,Sigma_d_SD) + Vc2_ISM_I\n",
    "    return np.sqrt(suma)"
   ]
  },
  {
   "cell_type": "code",
   "execution_count": 111,
   "metadata": {},
   "outputs": [],
   "source": [
    "def Vc_tot_Sigma_d_II(R,param):\n",
    "    Sigma_d_SD = param\n",
    "    suma = Vc2_b_II + Vc2_DM_II + Vc2_SD_simps(R,R_d_II,Sigma_d_SD) + Vc2_ISM_II\n",
    "    return np.sqrt(suma)"
   ]
  },
  {
   "cell_type": "code",
   "execution_count": 112,
   "metadata": {},
   "outputs": [],
   "source": [
    "def Xi2_Sigma_d_I(parameters):\n",
    "    Sigma_d_SD = np.exp(parameters)\n",
    "    model = Vc_tot_Sigma_d_I(vecRp,Sigma_d_SD)\n",
    "    xi = np.sum((vecvRp-model)**2./(vecerrvRp)**2.)\n",
    "    return xi"
   ]
  },
  {
   "cell_type": "code",
   "execution_count": 113,
   "metadata": {},
   "outputs": [],
   "source": [
    "def Xi2_Sigma_d_II(parameters):\n",
    "    Sigma_d_SD = np.exp(parameters)\n",
    "    model = Vc_tot_Sigma_d_II(vecRp,Sigma_d_SD)\n",
    "    xi = np.sum((vecvRp-model)**2./(vecerrvRp)**2.)\n",
    "    return xi"
   ]
  },
  {
   "cell_type": "code",
   "execution_count": 115,
   "metadata": {},
   "outputs": [
    {
     "name": "stdout",
     "output_type": "stream",
     "text": [
      "      fun: 2570.7514262513205\n",
      " hess_inv: <1x1 LbfgsInvHessProduct with dtype=float64>\n",
      "      jac: array([-0.00013642])\n",
      "  message: 'CONVERGENCE: REL_REDUCTION_OF_F_<=_FACTR*EPSMCH'\n",
      "     nfev: 22\n",
      "      nit: 5\n",
      "   status: 0\n",
      "  success: True\n",
      "        x: array([21.36789835])\n"
     ]
    }
   ],
   "source": [
    "x0_Sigma_d = np.array(np.log(0.15e9))\n",
    "LS_Sigma_d_I = minimize(Xi2_Sigma_d_I,x0_Sigma_d,method='L-BFGS-B',bounds=((np.log(0.15e9),np.log(3.0e9)),))\n",
    "print LS_Sigma_d_I"
   ]
  },
  {
   "cell_type": "code",
   "execution_count": 116,
   "metadata": {},
   "outputs": [
    {
     "name": "stdout",
     "output_type": "stream",
     "text": [
      "      fun: 2265.154336768537\n",
      " hess_inv: <1x1 LbfgsInvHessProduct with dtype=float64>\n",
      "      jac: array([-0.00077307])\n",
      "  message: 'CONVERGENCE: REL_REDUCTION_OF_F_<=_FACTR*EPSMCH'\n",
      "     nfev: 20\n",
      "      nit: 5\n",
      "   status: 0\n",
      "  success: True\n",
      "        x: array([20.23855419])\n"
     ]
    }
   ],
   "source": [
    "LS_Sigma_d_II = minimize(Xi2_Sigma_d_II,x0_Sigma_d,method='L-BFGS-B',bounds=((np.log(0.15e9),np.log(3.0e9)),))\n",
    "print LS_Sigma_d_II"
   ]
  },
  {
   "cell_type": "code",
   "execution_count": 117,
   "metadata": {},
   "outputs": [
    {
     "name": "stdout",
     "output_type": "stream",
     "text": [
      "[1.90528673e+09] [6.15874762e+08]\n"
     ]
    }
   ],
   "source": [
    "print np.exp(LS_Sigma_d_I.x),np.exp(LS_Sigma_d_II.x)"
   ]
  },
  {
   "cell_type": "code",
   "execution_count": 118,
   "metadata": {},
   "outputs": [
    {
     "data": {
      "image/png": "[encoded data removed]",
      "text/plain": [
       "<Figure size 432x288 with 1 Axes>"
      ]
     },
     "metadata": {
      "needs_background": "light"
     },
     "output_type": "display_data"
    }
   ],
   "source": [
    "plt.plot(vecRp,Vc_tot_Sigma_d_I(vecRp,np.asscalar(np.exp(LS_Sigma_d_I.x))),'.',label='Ajuste')\n",
    "plt.plot(vecRp,Vc_tot_I,'.',label='Original')\n",
    "plt.xlabel(r'$R/kpc$')\n",
    "plt.ylabel(r'$V_{c}/km s^{-1}$')\n",
    "plt.title('Modelo I')\n",
    "plt.legend(loc='lower right', prop={'size':10})\n",
    "plt.savefig('Fit_Sigma_d_I.pdf')"
   ]
  },
  {
   "cell_type": "code",
   "execution_count": 119,
   "metadata": {},
   "outputs": [
    {
     "data": {
      "image/png": "[encoded data removed]",
      "text/plain": [
       "<Figure size 432x288 with 1 Axes>"
      ]
     },
     "metadata": {
      "needs_background": "light"
     },
     "output_type": "display_data"
    }
   ],
   "source": [
    "plt.plot(vecRp,Vc_tot_Sigma_d_II(vecRp,np.asscalar(np.exp(LS_Sigma_d_II.x))),'.',label='Ajuste')\n",
    "plt.plot(vecRp,Vc_tot_II,'.',label='Original')\n",
    "plt.xlabel(r'$R/kpc$')\n",
    "plt.ylabel(r'$V_{c}/km s^{-1}$')\n",
    "plt.title('Modelo II')\n",
    "plt.legend(loc='lower right', prop={'size':10})\n",
    "plt.savefig('Fit_Sigma_d_II.pdf')"
   ]
  },
  {
   "cell_type": "markdown",
   "metadata": {},
   "source": [
    "$\\Sigma_{g}$"
   ]
  },
  {
   "cell_type": "code",
   "execution_count": 120,
   "metadata": {},
   "outputs": [],
   "source": [
    "def Vc_tot_Sigma_g_I(R,param):\n",
    "    Sigma_g_ISM = param\n",
    "    suma = Vc2_b_I + Vc2_DM_I + Vc2_SD_I + Vc2_ISM(R,R_d_I,Sigma_g_ISM)\n",
    "    return np.sqrt(suma)"
   ]
  },
  {
   "cell_type": "code",
   "execution_count": 121,
   "metadata": {},
   "outputs": [],
   "source": [
    "def Vc_tot_Sigma_g_II(R,param):\n",
    "    Sigma_g_ISM = param\n",
    "    suma = Vc2_b_II + Vc2_DM_II + Vc2_SD_II + Vc2_ISM(R,R_d_II,Sigma_g_ISM)\n",
    "    return np.sqrt(suma)"
   ]
  },
  {
   "cell_type": "code",
   "execution_count": 122,
   "metadata": {},
   "outputs": [],
   "source": [
    "def Xi2_Sigma_g_I(parameters):\n",
    "    Sigma_g_ISM = np.exp(parameters)\n",
    "    model = Vc_tot_Sigma_g_I(vecRp,Sigma_g_ISM)\n",
    "    xi = np.sum((vecvRp-model)**2./(vecerrvRp)**2.)\n",
    "    return xi"
   ]
  },
  {
   "cell_type": "code",
   "execution_count": 123,
   "metadata": {},
   "outputs": [],
   "source": [
    "def Xi2_Sigma_g_II(parameters):\n",
    "    Sigma_g_ISM = np.exp(parameters)\n",
    "    model = Vc_tot_Sigma_g_II(vecRp,Sigma_g_ISM)\n",
    "    xi = np.sum((vecvRp-model)**2./(vecerrvRp)**2.)\n",
    "    return xi"
   ]
  },
  {
   "cell_type": "code",
   "execution_count": 124,
   "metadata": {},
   "outputs": [
    {
     "name": "stdout",
     "output_type": "stream",
     "text": [
      "      fun: 3226.1629486152788\n",
      " hess_inv: <1x1 LbfgsInvHessProduct with dtype=float64>\n",
      "      jac: array([0.])\n",
      "  message: 'CONVERGENCE: NORM_OF_PROJECTED_GRADIENT_<=_PGTOL'\n",
      "     nfev: 20\n",
      "      nit: 5\n",
      "   status: 0\n",
      "  success: True\n",
      "        x: array([20.83104254])\n"
     ]
    }
   ],
   "source": [
    "x0_Sigma_g = np.array(np.log(1.0e8))\n",
    "LS_Sigma_g_I = minimize(Xi2_Sigma_g_I,x0_Sigma_g,method='L-BFGS-B',bounds=((np.log(1.0e8),np.log(20.0e8)),))\n",
    "print LS_Sigma_g_I"
   ]
  },
  {
   "cell_type": "code",
   "execution_count": 125,
   "metadata": {},
   "outputs": [
    {
     "name": "stdout",
     "output_type": "stream",
     "text": [
      "      fun: 2486.0039212887727\n",
      " hess_inv: <1x1 LbfgsInvHessProduct with dtype=float64>\n",
      "      jac: array([0.])\n",
      "  message: 'CONVERGENCE: NORM_OF_PROJECTED_GRADIENT_<=_PGTOL'\n",
      "     nfev: 20\n",
      "      nit: 5\n",
      "   status: 0\n",
      "  success: True\n",
      "        x: array([19.97104902])\n"
     ]
    }
   ],
   "source": [
    "LS_Sigma_g_II = minimize(Xi2_Sigma_g_II,x0_Sigma_g,method='L-BFGS-B',bounds=((np.log(1.0e8),np.log(20.0e8)),))\n",
    "print LS_Sigma_g_II"
   ]
  },
  {
   "cell_type": "code",
   "execution_count": 126,
   "metadata": {},
   "outputs": [
    {
     "name": "stdout",
     "output_type": "stream",
     "text": [
      "[1.113799e+09] [4.71320564e+08]\n"
     ]
    }
   ],
   "source": [
    "print np.exp(LS_Sigma_g_I.x),np.exp(LS_Sigma_g_II.x)"
   ]
  },
  {
   "cell_type": "code",
   "execution_count": 127,
   "metadata": {},
   "outputs": [
    {
     "data": {
      "image/png": "[encoded data removed]",
      "text/plain": [
       "<Figure size 432x288 with 1 Axes>"
      ]
     },
     "metadata": {
      "needs_background": "light"
     },
     "output_type": "display_data"
    }
   ],
   "source": [
    "plt.plot(vecRp,Vc_tot_Sigma_g_I(vecRp,np.asscalar(np.exp(LS_Sigma_g_I.x))),'.',label='Ajuste')\n",
    "plt.plot(vecRp,Vc_tot_I,'.',label='Original')\n",
    "plt.xlabel(r'$R/kpc$')\n",
    "plt.ylabel(r'$V_{c}/km s^{-1}$')\n",
    "plt.title('Modelo I')\n",
    "plt.legend(loc='lower right', prop={'size':10})\n",
    "plt.savefig('Fit_Sigma_g_I.pdf')"
   ]
  },
  {
   "cell_type": "code",
   "execution_count": 128,
   "metadata": {},
   "outputs": [
    {
     "data": {
      "image/png": "[encoded data removed]",
      "text/plain": [
       "<Figure size 432x288 with 1 Axes>"
      ]
     },
     "metadata": {
      "needs_background": "light"
     },
     "output_type": "display_data"
    }
   ],
   "source": [
    "plt.plot(vecRp,Vc_tot_Sigma_g_II(vecRp,np.asscalar(np.exp(LS_Sigma_g_II.x))),'.',label='Ajuste')\n",
    "plt.plot(vecRp,Vc_tot_II,'.',label='Original')\n",
    "plt.xlabel(r'$R/kpc$')\n",
    "plt.ylabel(r'$V_{c}/km s^{-1}$')\n",
    "plt.title('Modelo II')\n",
    "plt.legend(loc='lower right', prop={'size':10})\n",
    "plt.savefig('Fit_Sigma_g_II.pdf')"
   ]
  },
  {
   "cell_type": "markdown",
   "metadata": {},
   "source": [
    "# Dos parámetros"
   ]
  },
  {
   "cell_type": "markdown",
   "metadata": {},
   "source": [
    "$a_{h}$ y $\\rho_{h}$"
   ]
  },
  {
   "cell_type": "code",
   "execution_count": 129,
   "metadata": {},
   "outputs": [],
   "source": [
    "def Vc_tot_a_h_rho_h_I(R,params):\n",
    "    a_h,rho_h = params\n",
    "    suma = Vc2_b_I + Vc2_DM(R,a_h,rho_h,alpha_h_I,beta_h_I) + Vc2_SD_I + Vc2_ISM_I\n",
    "    return np.sqrt(suma)"
   ]
  },
  {
   "cell_type": "code",
   "execution_count": 130,
   "metadata": {},
   "outputs": [],
   "source": [
    "def Vc_tot_a_h_rho_h_II(R,params):\n",
    "    a_h,rho_h = params\n",
    "    suma = Vc2_b_II + Vc2_DM(R,a_h,rho_h,alpha_h_II,beta_h_II) +Vc2_SD_II + Vc2_ISM_II\n",
    "    return np.sqrt(suma)"
   ]
  },
  {
   "cell_type": "code",
   "execution_count": 131,
   "metadata": {},
   "outputs": [],
   "source": [
    "def Xi2_a_h_rho_h_I(parameters):\n",
    "    a_h,rho_h = parameters\n",
    "    par = a_h,np.exp(rho_h)\n",
    "    model = Vc_tot_a_h_rho_h_I(vecRp,par)\n",
    "    xi = np.sum((vecvRp-model)**2./(vecerrvRp)**2.)\n",
    "    return xi"
   ]
  },
  {
   "cell_type": "code",
   "execution_count": 132,
   "metadata": {},
   "outputs": [],
   "source": [
    "def Xi2_a_h_rho_h_II(parameters):\n",
    "    a_h,rho_h = parameters\n",
    "    par = a_h,np.exp(rho_h)\n",
    "    model = Vc_tot_a_h_rho_h_II(vecRp,par)\n",
    "    xi = np.sum((vecvRp-model)**2./(vecerrvRp)**2.)\n",
    "    return xi"
   ]
  },
  {
   "cell_type": "code",
   "execution_count": 138,
   "metadata": {},
   "outputs": [
    {
     "name": "stdout",
     "output_type": "stream",
     "text": [
      "      fun: 2520.0713647512684\n",
      " hess_inv: <2x2 LbfgsInvHessProduct with dtype=float64>\n",
      "      jac: array([-9.09494702e-05, -4.54747351e-05])\n",
      "  message: 'CONVERGENCE: REL_REDUCTION_OF_F_<=_FACTR*EPSMCH'\n",
      "     nfev: 105\n",
      "      nit: 24\n",
      "   status: 0\n",
      "  success: True\n",
      "        x: array([ 1.32637895, 22.1557697 ])\n"
     ]
    }
   ],
   "source": [
    "x0_a_h_rho_h = np.array([1.0,np.log(1.0e8)])\n",
    "LS_a_h_rho_h_I = minimize(Xi2_a_h_rho_h_I,x0_a_h_rho_h,method='L-BFGS-B',bounds=((1.,9.),(np.log(0.1e8),np.log(300.0e8)),))\n",
    "print LS_a_h_rho_h_I"
   ]
  },
  {
   "cell_type": "code",
   "execution_count": 139,
   "metadata": {},
   "outputs": [
    {
     "name": "stdout",
     "output_type": "stream",
     "text": [
      "[1.32637895e+00 4.18917520e+09]\n"
     ]
    }
   ],
   "source": [
    "pars_a_h_rho_h_I_min = np.array([LS_a_h_rho_h_I.x[0],np.exp(LS_a_h_rho_h_I.x[1])])\n",
    "print pars_a_h_rho_h_I_min"
   ]
  },
  {
   "cell_type": "code",
   "execution_count": 140,
   "metadata": {},
   "outputs": [
    {
     "name": "stdout",
     "output_type": "stream",
     "text": [
      "      fun: 2257.7286794271035\n",
      " hess_inv: <2x2 LbfgsInvHessProduct with dtype=float64>\n",
      "      jac: array([-0.29581315, -0.22937456])\n",
      "  message: 'CONVERGENCE: REL_REDUCTION_OF_F_<=_FACTR*EPSMCH'\n",
      "     nfev: 135\n",
      "      nit: 30\n",
      "   status: 0\n",
      "  success: True\n",
      "        x: array([ 1.51448883, 20.03241529])\n"
     ]
    }
   ],
   "source": [
    "LS_a_h_rho_h_II = minimize(Xi2_a_h_rho_h_II,x0_a_h_rho_h,method='L-BFGS-B',bounds=((1.,9.),(np.log(0.1e8),np.log(20.0e8)),))\n",
    "print LS_a_h_rho_h_II"
   ]
  },
  {
   "cell_type": "code",
   "execution_count": 141,
   "metadata": {},
   "outputs": [
    {
     "name": "stdout",
     "output_type": "stream",
     "text": [
      "[1.51448883e+00 5.01149638e+08]\n"
     ]
    }
   ],
   "source": [
    "pars_a_h_rho_h_II_min = np.array([LS_a_h_rho_h_II.x[0],np.exp(LS_a_h_rho_h_II.x[1])])\n",
    "print pars_a_h_rho_h_II_min"
   ]
  },
  {
   "cell_type": "code",
   "execution_count": 142,
   "metadata": {},
   "outputs": [
    {
     "data": {
      "image/png": "[encoded data removed]",
      "text/plain": [
       "<Figure size 432x288 with 1 Axes>"
      ]
     },
     "metadata": {
      "needs_background": "light"
     },
     "output_type": "display_data"
    }
   ],
   "source": [
    "plt.plot(vecRp,Vc_tot_a_h_rho_h_I(vecRp,pars_a_h_rho_h_I_min),'.',label='Ajuste')\n",
    "plt.plot(vecRp,Vc_tot_I,'.',label='Original')\n",
    "plt.xlabel(r'$R/kpc$')\n",
    "plt.ylabel(r'$V_{c}/km s^{-1}$')\n",
    "plt.title('Modelo I')\n",
    "plt.legend(loc='lower right', prop={'size':10})\n",
    "plt.savefig('Fit_a_h_rho_h_I.pdf')"
   ]
  },
  {
   "cell_type": "code",
   "execution_count": 143,
   "metadata": {},
   "outputs": [
    {
     "data": {
      "image/png": "[encoded data removed]",
      "text/plain": [
       "<Figure size 432x288 with 1 Axes>"
      ]
     },
     "metadata": {
      "needs_background": "light"
     },
     "output_type": "display_data"
    }
   ],
   "source": [
    "plt.plot(vecRp,Vc_tot_a_h_rho_h_II(vecRp,pars_a_h_rho_h_II_min),'.',label='Ajuste')\n",
    "plt.plot(vecRp,Vc_tot_II,'.',label='Original')\n",
    "plt.xlabel(r'$R/kpc$')\n",
    "plt.ylabel(r'$V_{c}/km s^{-1}$')\n",
    "plt.title('Modelo II')\n",
    "plt.legend(loc='lower right', prop={'size':10})\n",
    "plt.savefig('Fit_a_h_rho_h_II.pdf')"
   ]
  },
  {
   "cell_type": "markdown",
   "metadata": {},
   "source": [
    "# Tres parámetros, bulbo y halo de materia oscura"
   ]
  },
  {
   "cell_type": "markdown",
   "metadata": {},
   "source": [
    "$a_{h}$, $\\rho_{h}$ y $\\rho_{b}$"
   ]
  },
  {
   "cell_type": "markdown",
   "metadata": {},
   "source": [
    "Modelo I"
   ]
  },
  {
   "cell_type": "code",
   "execution_count": 150,
   "metadata": {},
   "outputs": [],
   "source": [
    "def Vc_tot_a_h_rho_h_rho_b_I(R,params,parameters):\n",
    "    a_h,rho_h,rho_b = params\n",
    "    alpha_h,beta_h= parameters\n",
    "    suma = Vc2_b(R,rho_b) + Vc2_DM(R,a_h,rho_h,alpha_h,beta_h) + Vc2_SD_I + Vc2_ISM_I\n",
    "    return np.sqrt(suma)"
   ]
  },
  {
   "cell_type": "code",
   "execution_count": 151,
   "metadata": {},
   "outputs": [],
   "source": [
    "par_wo_a_h_rho_h_rho_b_I = np.array([alpha_h_I,beta_h_I])\n",
    "par_wo_a_h_rho_h_rho_b_II = np.array([alpha_h_II,beta_h_II])\n",
    "par_wo_a_h_rho_h_rho_b_NFW = np.array([1.,3.])"
   ]
  },
  {
   "cell_type": "code",
   "execution_count": 152,
   "metadata": {},
   "outputs": [],
   "source": [
    "def Xi2_a_rho_h_rho_b_I(parameters):\n",
    "    a_h,rho_h,rho_b = parameters\n",
    "    par = a_h,np.exp(rho_h),np.exp(rho_b)\n",
    "    model = Vc_tot_a_h_rho_h_rho_b_I(vecRp,par,par_wo_a_h_rho_h_rho_b_I)\n",
    "    xi = np.sum((vecvRp-model)**2./(vecerrvRp)**2.)\n",
    "    return xi"
   ]
  },
  {
   "cell_type": "code",
   "execution_count": 153,
   "metadata": {},
   "outputs": [
    {
     "name": "stdout",
     "output_type": "stream",
     "text": [
      "      fun: 2205.3938880068736\n",
      " hess_inv: <3x3 LbfgsInvHessProduct with dtype=float64>\n",
      "      jac: array([0.00000000e+00, 0.00000000e+00, 4.54747351e-05])\n",
      "  message: 'CONVERGENCE: REL_REDUCTION_OF_F_<=_FACTR*EPSMCH'\n",
      "     nfev: 144\n",
      "      nit: 27\n",
      "   status: 0\n",
      "  success: True\n",
      "        x: array([ 2.62194958, 20.94276355, 20.71227158])\n"
     ]
    }
   ],
   "source": [
    "x0_a_rho_h_rho_b = np.array([0.01,np.log(1.0e8),np.log(1.0e8)])\n",
    "LS_a_rho_h_rho_b_I = minimize(Xi2_a_rho_h_rho_b_I,x0_a_rho_h_rho_b,method='L-BFGS-B',bounds=((1.,9.),(np.log(0.1e8),np.log(20.0e8)),(np.log(1.0e8),np.log(30.0e8)),))\n",
    "print LS_a_rho_h_rho_b_I"
   ]
  },
  {
   "cell_type": "code",
   "execution_count": 154,
   "metadata": {},
   "outputs": [
    {
     "name": "stdout",
     "output_type": "stream",
     "text": [
      "[2.62194958e+00 1.24545100e+09 9.89065955e+08]\n"
     ]
    }
   ],
   "source": [
    "pars_a_rho_h_rho_b_min_I = np.array([LS_a_rho_h_rho_b_I.x[0],np.exp(LS_a_rho_h_rho_b_I.x[1]),np.exp(LS_a_rho_h_rho_b_I.x[2])])\n",
    "print pars_a_rho_h_rho_b_min_I"
   ]
  },
  {
   "cell_type": "code",
   "execution_count": 155,
   "metadata": {},
   "outputs": [
    {
     "data": {
      "image/png": "[encoded data removed]",
      "text/plain": [
       "<Figure size 432x288 with 1 Axes>"
      ]
     },
     "metadata": {
      "needs_background": "light"
     },
     "output_type": "display_data"
    }
   ],
   "source": [
    "plt.plot(vecRp,np.sqrt(Vc2_b(vecRp,np.asscalar(np.exp(LS_a_rho_h_rho_b_I.x[2])))),'.',label='Bulge')\n",
    "plt.plot(vecRp,np.sqrt(Vc2_DM(vecRp,np.asscalar(LS_a_rho_h_rho_b_I.x[0]),np.asscalar(np.exp(LS_a_rho_h_rho_b_I.x[1])),alpha_h_I,beta_h_I)),'.',label='DM Halo')\n",
    "plt.plot(vecRp,np.sqrt(Vc2_SD_I),'.',label='Stelar Disk')\n",
    "plt.plot(vecRp,np.sqrt(Vc2_ISM_I),'.',label='ISM')\n",
    "plt.plot(vecRp,Vc_tot_a_h_rho_h_rho_b_I(vecRp,pars_a_rho_h_rho_b_min_I,par_wo_a_h_rho_h_rho_b_I),'.',label='Total')\n",
    "plt.xlabel('R/kpc')\n",
    "plt.ylabel(r'$V_{c}(R)/kms^{-1}$')\n",
    "plt.legend(loc='lower right', prop={'size':10})\n",
    "plt.hlines(230,0,17)\n",
    "plt.vlines(8,0,240)\n",
    "plt.savefig('Fit_rho_b_rho_h_a_h_I_v2.pdf')"
   ]
  },
  {
   "cell_type": "markdown",
   "metadata": {},
   "source": [
    "Modelo II"
   ]
  },
  {
   "cell_type": "code",
   "execution_count": 156,
   "metadata": {},
   "outputs": [],
   "source": [
    "def Vc_tot_a_h_rho_h_rho_b_II(R,params,parameters):\n",
    "    a_h,rho_h,rho_b = params\n",
    "    alpha_h,beta_h= parameters\n",
    "    suma = Vc2_b(R,rho_b) + Vc2_DM(R,a_h,rho_h,alpha_h,beta_h) + Vc2_SD_II + Vc2_ISM_II\n",
    "    return np.sqrt(suma)"
   ]
  },
  {
   "cell_type": "code",
   "execution_count": 157,
   "metadata": {},
   "outputs": [],
   "source": [
    "def Xi2_a_rho_h_rho_b_II(parameters):\n",
    "    a_h,rho_h,rho_b = parameters\n",
    "    par = a_h,np.exp(rho_h),np.exp(rho_b)\n",
    "    model = Vc_tot_a_h_rho_h_rho_b_II(vecRp,par,par_wo_a_h_rho_h_rho_b_II)\n",
    "    xi = np.sum((vecvRp-model)**2./(vecerrvRp)**2.)\n",
    "    return xi"
   ]
  },
  {
   "cell_type": "code",
   "execution_count": 158,
   "metadata": {},
   "outputs": [],
   "source": [
    "x0_a_rho_h_rho_b_II = np.array([0.01,np.log(1.0e8),np.log(1.0e8)])"
   ]
  },
  {
   "cell_type": "code",
   "execution_count": 159,
   "metadata": {},
   "outputs": [
    {
     "name": "stdout",
     "output_type": "stream",
     "text": [
      "      fun: 2246.5087437860802\n",
      " hess_inv: <3x3 LbfgsInvHessProduct with dtype=float64>\n",
      "      jac: array([2.37907443e+01, 1.71894499e-02, 4.09272616e-04])\n",
      "  message: 'CONVERGENCE: REL_REDUCTION_OF_F_<=_FACTR*EPSMCH'\n",
      "     nfev: 348\n",
      "      nit: 61\n",
      "   status: 0\n",
      "  success: True\n",
      "        x: array([ 1.        , 20.90012374, 18.65825116])\n"
     ]
    }
   ],
   "source": [
    "LS_a_rho_h_rho_b_II = minimize(Xi2_a_rho_h_rho_b_II,x0_a_rho_h_rho_b_II,method='L-BFGS-B',bounds=((1.,9.),(np.log(0.1e8),np.log(20.0e8)),(np.log(1.0e8),np.log(30.0e8)),))\n",
    "print LS_a_rho_h_rho_b_II"
   ]
  },
  {
   "cell_type": "code",
   "execution_count": 160,
   "metadata": {},
   "outputs": [
    {
     "name": "stdout",
     "output_type": "stream",
     "text": [
      "[1.00000000e+00 1.19346149e+09 1.26816429e+08]\n"
     ]
    }
   ],
   "source": [
    "pars_a_rho_h_rho_b_min_II = np.array([LS_a_rho_h_rho_b_II.x[0],np.exp(LS_a_rho_h_rho_b_II.x[1]),np.exp(LS_a_rho_h_rho_b_II.x[2])])\n",
    "print pars_a_rho_h_rho_b_min_II"
   ]
  },
  {
   "cell_type": "code",
   "execution_count": 162,
   "metadata": {},
   "outputs": [
    {
     "data": {
      "image/png": "[encoded data removed]",
      "text/plain": [
       "<Figure size 432x288 with 1 Axes>"
      ]
     },
     "metadata": {
      "needs_background": "light"
     },
     "output_type": "display_data"
    }
   ],
   "source": [
    "plt.plot(vecRp,np.sqrt(Vc2_b(vecRp,np.asscalar(np.exp(LS_a_rho_h_rho_b_II.x[2])))),'.',label='Bulge')\n",
    "plt.plot(vecRp,np.sqrt(Vc2_DM(vecRp,np.asscalar(LS_a_rho_h_rho_b_II.x[0]),np.asscalar(np.exp(LS_a_rho_h_rho_b_II.x[1])),alpha_h_II,beta_h_II)),'.',label='DM Halo')\n",
    "plt.plot(vecRp,np.sqrt(Vc2_SD_II),'.',label='Stelar Disk')\n",
    "plt.plot(vecRp,np.sqrt(Vc2_ISM_II),'.',label='ISM')\n",
    "plt.plot(vecRp,Vc_tot_a_h_rho_h_rho_b_II(vecRp,pars_a_rho_h_rho_b_min_II,par_wo_a_h_rho_h_rho_b_II),'.',label='Total')\n",
    "plt.xlabel('R/kpc')\n",
    "plt.ylabel(r'$V_{c}(R)/kms^{-1}$')\n",
    "plt.legend(loc='lower right', prop={'size':10})\n",
    "plt.hlines(230,0,17)\n",
    "plt.vlines(8,0,240)\n",
    "plt.savefig('Fit_rho_b_rho_h_a_h_II_v2.pdf')"
   ]
  },
  {
   "cell_type": "markdown",
   "metadata": {},
   "source": [
    "NFW I"
   ]
  },
  {
   "cell_type": "code",
   "execution_count": 163,
   "metadata": {},
   "outputs": [],
   "source": [
    "def Vc_tot_a_h_rho_h_rho_b_NFWI(R,params,parameters):\n",
    "    a_h,rho_h,rho_b = params\n",
    "    alpha_h,beta_h= parameters\n",
    "    suma = Vc2_b(R,rho_b) + Vc2_DM(R,a_h,rho_h,alpha_h,beta_h) + Vc2_SD_I + Vc2_ISM_I\n",
    "    return np.sqrt(suma)"
   ]
  },
  {
   "cell_type": "code",
   "execution_count": 164,
   "metadata": {},
   "outputs": [],
   "source": [
    "def Xi2_a_rho_h_rho_b_NFWI(parameters):\n",
    "    a_h,rho_h,rho_b = parameters\n",
    "    par = a_h,np.exp(rho_h),np.exp(rho_b)\n",
    "    model = Vc_tot_a_h_rho_h_rho_b_NFWI(vecRp,par,par_wo_a_h_rho_h_rho_b_NFW)\n",
    "    xi = np.sum((vecvRp-model)**2./(vecerrvRp)**2.)\n",
    "    return xi"
   ]
  },
  {
   "cell_type": "code",
   "execution_count": 184,
   "metadata": {},
   "outputs": [
    {
     "name": "stdout",
     "output_type": "stream",
     "text": [
      "      fun: 2684.55947039445\n",
      " hess_inv: <3x3 LbfgsInvHessProduct with dtype=float64>\n",
      "      jac: array([ 0.01678018,  0.02401066, -0.00873115])\n",
      "  message: 'CONVERGENCE: REL_REDUCTION_OF_F_<=_FACTR*EPSMCH'\n",
      "     nfev: 148\n",
      "      nit: 24\n",
      "   status: 0\n",
      "  success: True\n",
      "        x: array([ 3.05331675, 19.43317098,  9.4500881 ])\n"
     ]
    }
   ],
   "source": [
    "x0_a_rho_h_rho_b_NFWI = np.array([1.,np.log(0.1e8),np.log(0.0001e8)])\n",
    "LS_a_rho_h_rho_b_NFWI = minimize(Xi2_a_rho_h_rho_b_NFWI,x0_a_rho_h_rho_b_NFWI,method='L-BFGS-B',bounds=((1.,9.),(np.log(0.1e8),np.log(20.0e8)),(np.log(0.0001e8),np.log(30.0e8)),))\n",
    "print LS_a_rho_h_rho_b_NFWI"
   ]
  },
  {
   "cell_type": "code",
   "execution_count": 185,
   "metadata": {},
   "outputs": [
    {
     "name": "stdout",
     "output_type": "stream",
     "text": [
      "[3.05331675e+00 2.75244672e+08 1.27092848e+04]\n"
     ]
    }
   ],
   "source": [
    "pars_a_rho_h_rho_b_min_NFWI = np.array([LS_a_rho_h_rho_b_NFWI.x[0],np.exp(LS_a_rho_h_rho_b_NFWI.x[1]),np.exp(LS_a_rho_h_rho_b_NFWI.x[2])])\n",
    "print pars_a_rho_h_rho_b_min_NFWI"
   ]
  },
  {
   "cell_type": "code",
   "execution_count": 186,
   "metadata": {},
   "outputs": [
    {
     "data": {
      "image/png": "[encoded data removed]",
      "text/plain": [
       "<Figure size 432x288 with 1 Axes>"
      ]
     },
     "metadata": {
      "needs_background": "light"
     },
     "output_type": "display_data"
    }
   ],
   "source": [
    "plt.plot(vecRp,np.sqrt(Vc2_b(vecRp,np.asscalar(np.exp(LS_a_rho_h_rho_b_NFWI.x[2])))),'.',label='Bulge')\n",
    "plt.plot(vecRp,np.sqrt(Vc2_DM(vecRp,np.asscalar(LS_a_rho_h_rho_b_NFWI.x[0]),np.asscalar(np.exp(LS_a_rho_h_rho_b_NFWI.x[1])),1.,3.)),'.',label='DM Halo')\n",
    "plt.plot(vecRp,np.sqrt(Vc2_SD_I),'.',label='Stelar Disk')\n",
    "plt.plot(vecRp,np.sqrt(Vc2_ISM_I),'.',label='ISM')\n",
    "plt.plot(vecRp,Vc_tot_a_h_rho_h_rho_b_NFWI(vecRp,pars_a_rho_h_rho_b_min_NFWI,par_wo_a_h_rho_h_rho_b_NFW),'.',label='Total')\n",
    "plt.xlabel('R/kpc')\n",
    "plt.ylabel(r'$V_{c}(R)/kms^{-1}$')\n",
    "plt.legend(loc='lower right', prop={'size':10})\n",
    "plt.hlines(230,0,17)\n",
    "plt.vlines(8,0,240)\n",
    "plt.savefig('Fit_rho_b_rho_h_a_h_NFWI_v2.pdf')"
   ]
  },
  {
   "cell_type": "markdown",
   "metadata": {},
   "source": [
    "NFW II"
   ]
  },
  {
   "cell_type": "code",
   "execution_count": 169,
   "metadata": {},
   "outputs": [],
   "source": [
    "def Vc_tot_a_h_rho_h_rho_b_NFWII(R,params,parameters):\n",
    "    a_h,rho_h,rho_b = params\n",
    "    alpha_h,beta_h= parameters\n",
    "    suma = Vc2_b(R,rho_b) + Vc2_DM(R,a_h,rho_h,alpha_h,beta_h) + Vc2_SD_II + Vc2_ISM_II\n",
    "    return np.sqrt(suma)"
   ]
  },
  {
   "cell_type": "code",
   "execution_count": 170,
   "metadata": {},
   "outputs": [],
   "source": [
    "def Xi2_a_rho_h_rho_b_NFWII(parameters):\n",
    "    a_h,rho_h,rho_b = parameters\n",
    "    par = a_h,np.exp(rho_h),np.exp(rho_b)\n",
    "    model = Vc_tot_a_h_rho_h_rho_b_NFWII(vecRp,par,par_wo_a_h_rho_h_rho_b_NFW)\n",
    "    xi = np.sum((vecvRp-model)**2./(vecerrvRp)**2.)\n",
    "    return xi"
   ]
  },
  {
   "cell_type": "code",
   "execution_count": 171,
   "metadata": {},
   "outputs": [
    {
     "name": "stdout",
     "output_type": "stream",
     "text": [
      "      fun: 2268.4462559502604\n",
      " hess_inv: <3x3 LbfgsInvHessProduct with dtype=float64>\n",
      "      jac: array([-0.00113687, -0.00222826, -0.00059117])\n",
      "  message: 'CONVERGENCE: REL_REDUCTION_OF_F_<=_FACTR*EPSMCH'\n",
      "     nfev: 204\n",
      "      nit: 41\n",
      "   status: 0\n",
      "  success: True\n",
      "        x: array([ 4.48867096, 18.92340689, 20.41992984])\n"
     ]
    }
   ],
   "source": [
    "x0_a_rho_h_rho_b_NFWII = np.array([0.01,np.log(1.0e8),np.log(1.0e8)])\n",
    "LS_a_rho_h_rho_b_NFWII = minimize(Xi2_a_rho_h_rho_b_NFWII,x0_a_rho_h_rho_b_NFWII,method='L-BFGS-B',bounds=((1.,15.),(np.log(0.1e8),np.log(20.0e8)),(np.log(1.0e8),np.log(30.0e8)),))\n",
    "print LS_a_rho_h_rho_b_NFWII"
   ]
  },
  {
   "cell_type": "code",
   "execution_count": 172,
   "metadata": {},
   "outputs": [
    {
     "name": "stdout",
     "output_type": "stream",
     "text": [
      "[4.48867096e+00 1.65322206e+08 7.38350975e+08]\n"
     ]
    }
   ],
   "source": [
    "pars_a_rho_h_rho_b_min_NFWII = np.array([LS_a_rho_h_rho_b_NFWII.x[0],np.exp(LS_a_rho_h_rho_b_NFWII.x[1]),np.exp(LS_a_rho_h_rho_b_NFWII.x[2])])\n",
    "print pars_a_rho_h_rho_b_min_NFWII"
   ]
  },
  {
   "cell_type": "code",
   "execution_count": 174,
   "metadata": {},
   "outputs": [
    {
     "data": {
      "image/png": "[encoded data removed]",
      "text/plain": [
       "<Figure size 432x288 with 1 Axes>"
      ]
     },
     "metadata": {
      "needs_background": "light"
     },
     "output_type": "display_data"
    }
   ],
   "source": [
    "plt.plot(vecRp,np.sqrt(Vc2_b(vecRp,np.asscalar(np.exp(LS_a_rho_h_rho_b_NFWII.x[2])))),'.',label='Bulge')\n",
    "plt.plot(vecRp,np.sqrt(Vc2_DM(vecRp,np.asscalar(LS_a_rho_h_rho_b_NFWII.x[0]),np.asscalar(np.exp(LS_a_rho_h_rho_b_NFWII.x[1])),1.,3.)),'.',label='DM Halo')\n",
    "plt.plot(vecRp,np.sqrt(Vc2_SD_II),'.',label='Stelar Disk')\n",
    "plt.plot(vecRp,np.sqrt(Vc2_ISM_II),'.',label='ISM')\n",
    "plt.plot(vecRp,Vc_tot_a_h_rho_h_rho_b_NFWII(vecRp,pars_a_rho_h_rho_b_min_NFWII,par_wo_a_h_rho_h_rho_b_NFW),'.',label='Total')\n",
    "plt.xlabel('R/kpc')\n",
    "plt.ylabel(r'$V_{c}(R)/kms^{-1}$')\n",
    "plt.legend(loc='lower right', prop={'size':10})\n",
    "plt.hlines(230,0,17)\n",
    "plt.vlines(8,0,240)\n",
    "plt.savefig('Fit_rho_b_rho_h_a_h_NFWII_v2.pdf')"
   ]
  },
  {
   "cell_type": "markdown",
   "metadata": {},
   "source": [
    "# Ajuste del perfil de materia oscura de campo escalar"
   ]
  },
  {
   "cell_type": "code",
   "execution_count": 187,
   "metadata": {},
   "outputs": [],
   "source": [
    "def M_minor(r,rho_sol,m_a):\n",
    "    rsol = ((rho_sol/2.42e9)*(m_a/1.0e-22)**2.)**(-0.25)\n",
    "    n = 3465.*r**13.*rsol + 23100.*r**11.*rsol**3. + 65373.*r**9.*rsol**5. + 101376.*r**7.*rsol**7. + 92323.*r**5.*rsol**9. + 48580.*r**3.*rsol**11. + 3465.*(r**2.+rsol**2.)**7.*np.arctan(r/rsol) - 3465.*r*rsol**13.\n",
    "    d = (r**2. +rsol**2.)**7.\n",
    "    const = 4.*np.pi*rho_sol*rsol**3./215040.\n",
    "    return const*n/d"
   ]
  },
  {
   "cell_type": "code",
   "execution_count": 188,
   "metadata": {},
   "outputs": [],
   "source": [
    "def M_mayor(r,rho_sol,m_a,eps,r_s):\n",
    "    rsol = ((rho_sol/2.42e9)*(m_a/1.0e-22)**2.)**(-0.25)\n",
    "    r_eps = rsol*np.sqrt(eps**(-1./8.) - 1.)\n",
    "    delta_NFW = eps*r_eps*(r_s + r_eps)**2./r_s**3.\n",
    "    t1 = np.log(r + r_s) + r_s/(r+r_s) -np.log(r_s +r_eps) - r_s/(r_s+r_eps)#- np.log(r_s) - 1.\n",
    "    constant = 4.*np.pi*rho_sol*delta_NFW*r_s**3.\n",
    "    n2 = 3465.*r_eps**13.*rsol + 23100.*r_eps**11.*rsol**3. + 65373.*r_eps**9.*rsol**5. + 101376.*r_eps**7.*rsol**7. + 92323.*r_eps**5.*rsol**9. + 48580.*r_eps**3.*rsol**11. + 3465.*(r_eps**2.+rsol**2.)**7.*np.arctan(r_eps/rsol) - 3465.*r_eps*rsol**13.\n",
    "    d2 = (r_eps**2. +rsol**2.)**7.\n",
    "    const2 = 4.*np.pi*rho_sol*rsol**3./215040.\n",
    "    return constant*t1 + const2*n2/d2"
   ]
  },
  {
   "cell_type": "code",
   "execution_count": 189,
   "metadata": {},
   "outputs": [],
   "source": [
    "def vc2_DM_axion(r,rho_sol,m_a,eps,r_s):\n",
    "    rsol = ((rho_sol/(2.42e9))*(m_a/1.0e-22)**2.)**(-0.25)\n",
    "    r_eps = rsol*np.sqrt(eps**(-1./8.) - 1.)\n",
    "    result = []\n",
    "    for i in range(0,len(r)):\n",
    "        if r[i]<r_eps:\n",
    "            result.append(G*M_minor(r[i],rho_sol,m_a)/r[i])\n",
    "        else:\n",
    "            result.append(G*M_mayor(r[i],rho_sol,m_a,eps,r_s)/r[i])\n",
    "    return np.array(result)"
   ]
  },
  {
   "cell_type": "code",
   "execution_count": 190,
   "metadata": {},
   "outputs": [],
   "source": [
    "def Vc_tot_rho_sol_m_a_eps_r_s_I(r,params):\n",
    "    rho_sol,m_a,eps,r_s = params\n",
    "    suma = Vc2_b_I + vc2_DM_axion(r,rho_sol,m_a,eps,r_s) + Vc2_SD_I + Vc2_ISM_I\n",
    "    return np.sqrt(suma)"
   ]
  },
  {
   "cell_type": "code",
   "execution_count": 191,
   "metadata": {},
   "outputs": [],
   "source": [
    "def Xi2_rho_sol_m_a_r_s_epsI(parameters):\n",
    "    rho_sol,m_a,eps,r_s = parameters\n",
    "    par = np.exp(rho_sol),np.exp(m_a),eps,r_s\n",
    "    model = Vc_tot_rho_sol_m_a_eps_r_s_I(vecRp,par)\n",
    "    xi = np.sum((vecvRp-model)**2./(vecerrvRp)**2.)\n",
    "    return xi"
   ]
  },
  {
   "cell_type": "code",
   "execution_count": 194,
   "metadata": {},
   "outputs": [
    {
     "name": "stdout",
     "output_type": "stream",
     "text": [
      "     fun: 2391.0231310333215\n",
      "     jac: array([ -38.07563189,   29.76398719, -696.15148277,  -26.49835551])\n",
      " message: 'Max. number of function evaluations reached'\n",
      "    nfev: 100\n",
      "     nit: 17\n",
      "  status: 3\n",
      " success: False\n",
      "       x: array([ 24.87120166, -48.33696668,   0.05521332,   6.28756009])\n"
     ]
    }
   ],
   "source": [
    "x0_rho_sol_m_a_r_s_epsI = np.array([np.log(1.0e10),np.log(1.0e-21),0.001,5.0])\n",
    "LS_rho_sol_m_a_r_s_epsI_TNC = minimize(Xi2_rho_sol_m_a_r_s_epsI,x0_rho_sol_m_a_r_s_epsI,method='TNC',bounds=((np.log(1.0e10),np.log(9.0e11)),(np.log(1.0e-21),np.log(1.0e-20)),(0.001,0.1),(5.0,10.0),))\n",
    "print LS_rho_sol_m_a_r_s_epsI_TNC"
   ]
  },
  {
   "cell_type": "code",
   "execution_count": 195,
   "metadata": {},
   "outputs": [
    {
     "name": "stdout",
     "output_type": "stream",
     "text": [
      "[6.33031963e+10 1.01747113e-21 5.52133212e-02 6.28756009e+00]\n"
     ]
    }
   ],
   "source": [
    "pars_rho_sol_m_a_r_s_epsI_min = np.array([np.exp(LS_rho_sol_m_a_r_s_epsI_TNC.x[0]),np.exp(LS_rho_sol_m_a_r_s_epsI_TNC.x[1]),LS_rho_sol_m_a_r_s_epsI_TNC.x[2],LS_rho_sol_m_a_r_s_epsI_TNC.x[3]])\n",
    "print pars_rho_sol_m_a_r_s_epsI_min"
   ]
  },
  {
   "cell_type": "code",
   "execution_count": 197,
   "metadata": {},
   "outputs": [
    {
     "data": {
      "image/png": "[encoded data removed]",
      "text/plain": [
       "<Figure size 432x288 with 1 Axes>"
      ]
     },
     "metadata": {
      "needs_background": "light"
     },
     "output_type": "display_data"
    }
   ],
   "source": [
    "plt.plot(vecRp,Vc_tot_rho_sol_m_a_eps_r_s_I(vecRp,pars_rho_sol_m_a_r_s_epsI_min),'.', label='total')\n",
    "plt.plot(vecRp,np.sqrt(Vc2_b_I),'.',label='Bulge')\n",
    "plt.plot(vecRp,np.sqrt(Vc2_SD_I),'.',label='Stelar Disk')\n",
    "plt.plot(vecRp,np.sqrt(Vc2_ISM_I),'.',label='ISM')\n",
    "plt.plot(vecRp,np.sqrt(vc2_DM_axion(vecRp,rho_sol=np.asscalar(np.exp(LS_rho_sol_m_a_r_s_epsI_TNC.x[0])),m_a=np.asscalar(np.exp(LS_rho_sol_m_a_r_s_epsI_TNC.x[1])),eps=np.asscalar(LS_rho_sol_m_a_r_s_epsI_TNC.x[2]),r_s=np.asscalar(LS_rho_sol_m_a_r_s_epsI_TNC.x[3]))),'.',label='DM Halo')\n",
    "plt.xlabel('R')\n",
    "plt.ylabel(r'$V_{c}(R)$')\n",
    "plt.legend(loc='lower right', prop={'size':10})\n",
    "plt.hlines(230,0,17)\n",
    "plt.vlines(8,0,240)\n",
    "plt.savefig('Fit_DMSF_I_TNC_v2.pdf')"
   ]
  },
  {
   "cell_type": "markdown",
   "metadata": {},
   "source": [
    "Modelo II"
   ]
  },
  {
   "cell_type": "code",
   "execution_count": 199,
   "metadata": {},
   "outputs": [],
   "source": [
    "def Vc_tot_rho_sol_m_a_eps_r_s_II(r,params):\n",
    "    rho_sol,m_a,eps,r_s = params\n",
    "    suma = Vc2_b_II + vc2_DM_axion(r,rho_sol,m_a,eps,r_s) + Vc2_SD_II + Vc2_ISM_II\n",
    "    return np.sqrt(suma)"
   ]
  },
  {
   "cell_type": "code",
   "execution_count": 200,
   "metadata": {},
   "outputs": [],
   "source": [
    "def Xi2_rho_sol_m_a_r_s_epsII(parameters):\n",
    "    rho_sol,m_a,eps,r_s = parameters\n",
    "    par = np.exp(rho_sol),np.exp(m_a),eps,r_s\n",
    "    model = Vc_tot_rho_sol_m_a_eps_r_s_II(vecRp,par)\n",
    "    xi = np.sum((vecvRp-model)**2./(vecerrvRp)**2.)\n",
    "    return xi"
   ]
  },
  {
   "cell_type": "code",
   "execution_count": 201,
   "metadata": {},
   "outputs": [
    {
     "name": "stdout",
     "output_type": "stream",
     "text": [
      "      fun: 2320.981891789851\n",
      " hess_inv: <4x4 LbfgsInvHessProduct with dtype=float64>\n",
      "      jac: array([ -208.78387659,   195.9455858 , -2090.57398024,  -266.53142413])\n",
      "  message: 'CONVERGENCE: REL_REDUCTION_OF_F_<=_FACTR*EPSMCH'\n",
      "     nfev: 250\n",
      "      nit: 36\n",
      "   status: 0\n",
      "  success: True\n",
      "        x: array([ 24.41973857, -50.6088541 ,   0.0947956 ,   2.32400873])\n"
     ]
    }
   ],
   "source": [
    "x0_rho_sol_m_a_r_s_epsII = np.array([np.log(1.0e10),np.log(1.0e-22),0.0000000000001,2.])\n",
    "LS_rho_sol_m_a_r_s_epsII = minimize(Xi2_rho_sol_m_a_r_s_epsII,x0_rho_sol_m_a_r_s_epsII,method='L-BFGS-B',bounds=((np.log(1.0e10),np.log(9.0e13)),(np.log(1.0e-22),np.log(1.0e-20)),(0.0000000000001,0.1),(2.0,5.0),))\n",
    "print LS_rho_sol_m_a_r_s_epsII"
   ]
  },
  {
   "cell_type": "code",
   "execution_count": 202,
   "metadata": {},
   "outputs": [
    {
     "name": "stdout",
     "output_type": "stream",
     "text": [
      "[4.03048872e+10 1.04918948e-22 9.47955966e-02 2.32400873e+00]\n"
     ]
    }
   ],
   "source": [
    "pars_rho_sol_m_a_r_s_epsII_min = np.array([np.exp(LS_rho_sol_m_a_r_s_epsII.x[0]),np.exp(LS_rho_sol_m_a_r_s_epsII.x[1]),LS_rho_sol_m_a_r_s_epsII.x[2],LS_rho_sol_m_a_r_s_epsII.x[3]])\n",
    "print pars_rho_sol_m_a_r_s_epsII_min"
   ]
  },
  {
   "cell_type": "code",
   "execution_count": 203,
   "metadata": {},
   "outputs": [
    {
     "data": {
      "image/png": "[encoded data removed]",
      "text/plain": [
       "<Figure size 432x288 with 1 Axes>"
      ]
     },
     "metadata": {
      "needs_background": "light"
     },
     "output_type": "display_data"
    }
   ],
   "source": [
    "plt.plot(vecRp,Vc_tot_rho_sol_m_a_eps_r_s_II(vecRp,pars_rho_sol_m_a_r_s_epsII_min),'.', label='total')\n",
    "plt.plot(vecRp,np.sqrt(Vc2_b_II),'.',label='Bulge')\n",
    "plt.plot(vecRp,np.sqrt(Vc2_SD_II),'.',label='Stelar Disk')\n",
    "plt.plot(vecRp,np.sqrt(Vc2_ISM_II),'.',label='ISM')\n",
    "plt.plot(vecRp,np.sqrt(vc2_DM_axion(vecRp,rho_sol=np.asscalar(np.exp(LS_rho_sol_m_a_r_s_epsII.x[0])),m_a=np.asscalar(np.exp(LS_rho_sol_m_a_r_s_epsII.x[1])),eps=np.asscalar(LS_rho_sol_m_a_r_s_epsII.x[2]),r_s=np.asscalar(LS_rho_sol_m_a_r_s_epsII.x[3]))),'.',label='DM Halo')\n",
    "plt.xlabel('R')\n",
    "plt.ylabel(r'$V_{c}(R)$')\n",
    "plt.legend(loc='lower right', prop={'size':10})\n",
    "plt.hlines(230,0,17)\n",
    "plt.vlines(8,0,240)\n",
    "plt.savefig('Fit_DMSF_II_BFGS_v2.pdf')"
   ]
  },
  {
   "cell_type": "code",
   "execution_count": null,
   "metadata": {},
   "outputs": [],
   "source": []
  },
  {
   "cell_type": "code",
   "execution_count": null,
   "metadata": {},
   "outputs": [],
   "source": []
  },
  {
   "cell_type": "code",
   "execution_count": null,
   "metadata": {},
   "outputs": [],
   "source": []
  },
  {
   "cell_type": "code",
   "execution_count": null,
   "metadata": {},
   "outputs": [],
   "source": []
  }
 ],
 "metadata": {
  "kernelspec": {
   "display_name": "Python 2",
   "language": "python",
   "name": "python2"
  },
  "language_info": {
   "codemirror_mode": {
    "name": "ipython",
    "version": 2
   },
   "file_extension": ".py",
   "mimetype": "text/x-python",
   "name": "python",
   "nbconvert_exporter": "python",
   "pygments_lexer": "ipython2",
   "version": "2.7.15"
  }
 },
 "nbformat": 4,
 "nbformat_minor": 2
}
