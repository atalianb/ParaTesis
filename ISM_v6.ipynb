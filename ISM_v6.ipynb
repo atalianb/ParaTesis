{
 "cells": [
  {
   "cell_type": "code",
   "execution_count": 1,
   "metadata": {},
   "outputs": [
    {
     "name": "stdout",
     "output_type": "stream",
     "text": [
      "Populating the interactive namespace from numpy and matplotlib\n"
     ]
    }
   ],
   "source": [
    "import numpy as np\n",
    "import matplotlib.pyplot as plt\n",
    "from scipy import integrate\n",
    "%pylab inline"
   ]
  },
  {
   "cell_type": "markdown",
   "metadata": {},
   "source": [
    "$$\\begin{equation}\n",
    "v_{c}^{2} = \\frac{G\\pi\\Sigma_{g}R^{2}}{R_{d}}\\int_{0}^{\\pi/2}(\\cos2u + 1)du\\int_{0}^{\\infty} d\\beta exp(-\\frac{R\\cos u \\cosh\\beta}{2R_{d}} -\\frac{R_{m}}{R\\cos u \\cosh\\beta})(\\frac{2R_{m}R_{d}}{R^{2}\\cos^{2}u\\cosh^{2}\\beta} -1)\n",
    "\\end{equation}$$\n",
    "$$\\begin{equation}\n",
    "\\frac{v_{c}^{2}R_{d}}{G\\pi\\Sigma_{g}} = R^{2}\\int_{0}^{\\pi/2}(\\cos2u + 1)du\\int_{0}^{\\infty} d\\beta exp(-\\frac{R\\cos u \\cosh\\beta}{2R_{d}} -\\frac{R_{m}}{R\\cos u \\cosh\\beta})(\\frac{2R_{m}R_{d}}{R^{2}\\cos^{2}u\\cosh^{2}\\beta} -1)\n",
    "\\end{equation}$$"
   ]
  },
  {
   "cell_type": "markdown",
   "metadata": {},
   "source": [
    "$$\\begin{equation}\n",
    "v_{c}^{2} = \\frac{4\\pi G\\Sigma_{g}R^{2}}{2R_{d}}\\int_{0}^{1}ds\\frac{s^{2}}{\\sqrt{1-s^{2}}}\\int_{1}^{\\infty}dh \\frac{e^{-\\frac{Rsh}{2R_{d}}-\\frac{R_{m}}{Rsh}}}{\\sqrt{h^{2}-1}}\\left( \\frac{2R_{d}R_{m}}{R^{2}s^{2}h^{2}} - 1 \\right)\n",
    "\\end{equation}$$"
   ]
  },
  {
   "cell_type": "code",
   "execution_count": 2,
   "metadata": {},
   "outputs": [],
   "source": [
    "#Constants\n",
    "G = 4.302e-6#kpc/SM(km/s)^2\n",
    "q_b = 0.6\n",
    "r_b = 1.9#kpc\n",
    "a_b = 1.#kpc\n",
    "q_h = 0.8\n",
    "alpha_b = 1.8\n",
    "R_m = 4.#kpc\n",
    "#parameters model I\n",
    "rho_b_I = 0.427e9#sM/kpc^3\n",
    "a_h_I = 3.83#kpc\n",
    "rho_h_I = 0.711e9#SM/kpc^3\n",
    "alpha_h_I = -2.\n",
    "beta_h_I = 2.96\n",
    "R_d_I = 2.0#kpc\n",
    "R_d_II = 3.2#kpc\n",
    "Sigma_d_SD_I = (1905.0e6)*0.75#SM/kpc^2\n",
    "Sigma_g_ISM_I = (1905.0e6)*0.25#SM/kpc^2\n",
    "#parameters model II\n",
    "rho_b_II = 0.3e9#sM/kpc^3\n",
    "a_h_II = 1.9#kpc\n",
    "rho_h_II = 0.266e9#SM/kpc^3\n",
    "alpha_h_II = 1.63\n",
    "beta_h_II = 2.17\n",
    "R_d_II = 3.2#kpc\n",
    "Sigma_d_SD_II = (536.0e6)*0.75#SM/kpc^2\n",
    "Sigma_g_ISM_II = (536.0e6)*0.25#SM/kpc^2"
   ]
  },
  {
   "cell_type": "code",
   "execution_count": 3,
   "metadata": {},
   "outputs": [],
   "source": [
    "R = np.linspace(0.1,15.,100)"
   ]
  },
  {
   "cell_type": "code",
   "execution_count": null,
   "metadata": {},
   "outputs": [],
   "source": [
    "def vc2_ISM(R,R_d,Sigma_g_ISM,R_m=R_m):\n",
    "    def Int_ISM(h,s,R):\n",
    "        t1 = 1./np.sqrt(1.-s**2.)\n",
    "        t2 = 1./np.sqrt(h**2. - 1.)\n",
    "        t3 = np.exp(-(R*s*h)/(2.*R_d) - (R_m)/(R*s*h))\n",
    "        t4 = (2.*R_m*R_d)/(R**2.*h**2.) - s**2.\n",
    "        res = R**2.*t1*t2*t3*t4\n",
    "        return res\n",
    "    Integral_ISM = []\n",
    "    for i in range(0,len(R)):\n",
    "        integrando = lambda h,s: Int_ISM(h,s,R[i])\n",
    "        result = integrate.dblquad(integrando,0.1,1.,lambda s: 1., lambda s: np.inf)[0]\n",
    "        Integral_ISM.append(result)\n",
    "    return -4.*np.pi*G*Sigma_g_ISM*np.array(Integral_ISM)/(2.*R_d)"
   ]
  },
  {
   "cell_type": "code",
   "execution_count": 5,
   "metadata": {},
   "outputs": [],
   "source": [
    "def vc2_ISM_I(h,s,R,R_d=R_d_I,R_m=R_m):\n",
    "    t1 = 1./np.sqrt(1.-s**2.)\n",
    "    t2 = 1./np.sqrt(h**2. - 1.)\n",
    "    t3 = np.exp(-(R*s*h)/(2.*R_d) - (R_m)/(R*s*h))\n",
    "    t4 = (2.*R_m*R_d)/(R**2.*h**2.) - s**2.\n",
    "    res = R**2.*t1*t2*t3*t4\n",
    "    return res"
   ]
  },
  {
   "cell_type": "code",
   "execution_count": 6,
   "metadata": {},
   "outputs": [
    {
     "name": "stderr",
     "output_type": "stream",
     "text": [
      "/Users/atalia/miniconda2/lib/python2.7/site-packages/scipy/integrate/quadpack.py:385: IntegrationWarning: The integral is probably divergent, or slowly convergent.\n",
      "  warnings.warn(msg, IntegrationWarning)\n"
     ]
    },
    {
     "name": "stdout",
     "output_type": "stream",
     "text": [
      "[0.0022032922812955306, 0.014082320851371932, 0.03759504295288965, 0.07607010383984217, 0.1322864178826217, 0.2045662548687354, 0.2871030572873858, 0.3725246893188333, 0.4539091357015693, 0.5257231390165441, 0.5840311653359817, 0.6263506403320434, 0.6513831532663833, 0.6587340993593556, 0.6486662415630994, 0.6218998553105853, 0.5794579135771909, 0.5225496892703804, 0.45248517242422914, 0.3706133594436808, 0.2782786433294339, 0.17679073222902164, 0.06740457134346749, -0.04869240645733982, -0.17038770462218866, -0.29664735909821843, -0.4265168140065935, -0.5591198954342682, -0.6936564886405715, -0.8293993565092674, -0.9656904271748801, -1.1019367747073936, -1.2376064832220892, -1.3722244792592369, -1.505368449369367, -1.6366648807158253, -1.7657852678881782, -1.892442507975462, -2.0163874974109692, -2.137405937047053, -2.255315336829234, -2.369962232219721, -2.4812195884166663, -2.588984396036149, -2.6931754431149404, -2.79373125811154, -2.890608207427051, -2.983778744270783, -3.073229795371481, -3.158961276465404, -3.2409847282480633, -3.319322063776937, -3.3940044193053116, -3.4650710996645646, -3.532568615702786, -3.596549798108589, -3.6570729930059764, -3.714201320817645, -3.768002005826919, -3.8185457718580333, -3.865906228886677, -3.9101594728920324, -3.9513835138669924, -3.9896579154682463, -4.02506339691225, -4.05768149451603, -4.0875942490667505, -4.114883926979926, -4.139632767822134, -4.1619227594375285, -4.181835435629327, -4.199451696222797, -4.214851647114813, -4.2281144583759165, -4.239318240496439, -4.248539933078399, -4.255855211591084, -4.261338404126418, -4.265062420819931, -4.2670986947224145, -4.267517131132376, -4.266386067587938, -4.263772240260704, -4.259740759140378, -4.25435508876004, -4.247677037408724, -4.239766747247288, -4.230682694833347, -4.220481692354501, -4.209218894381947, -4.196947807921514, -4.183720305775252, -4.169586642674786, -4.154595474073426, -4.138793877128035, -4.122227373639397, -4.104939954783383, -4.086974107263726, -4.068370840784363, -4.049169716650281]\n"
     ]
    }
   ],
   "source": [
    "Integ = []\n",
    "for i in range (0,len(R)):\n",
    "    integrando = lambda h,s: vc2_ISM_I(h,s,R[i])\n",
    "    result = integrate.dblquad(integrando,0.1,1.,lambda s: 1., lambda s: np.inf)[0]\n",
    "    Integ.append(result)\n",
    "print Integ"
   ]
  },
  {
   "cell_type": "code",
   "execution_count": 7,
   "metadata": {},
   "outputs": [
    {
     "data": {
      "text/plain": [
       "[<matplotlib.lines.Line2D at 0x117601d10>]"
      ]
     },
     "execution_count": 7,
     "metadata": {},
     "output_type": "execute_result"
    },
    {
     "data": {
      "image/png": "[encoded data removed]",
      "text/plain": [
       "<Figure size 432x288 with 1 Axes>"
      ]
     },
     "metadata": {
      "needs_background": "light"
     },
     "output_type": "display_data"
    }
   ],
   "source": [
    "integ_array = np.array(Integ)\n",
    "C_integ_I = -2.*np.pi*G*Sigma_g_ISM_I/R_d_I\n",
    "plt.plot(R,C_integ_I*integ_array)"
   ]
  },
  {
   "cell_type": "code",
   "execution_count": 8,
   "metadata": {},
   "outputs": [
    {
     "name": "stderr",
     "output_type": "stream",
     "text": [
      "/Users/atalia/miniconda2/lib/python2.7/site-packages/ipykernel_launcher.py:1: RuntimeWarning: invalid value encountered in sqrt\n",
      "  \"\"\"Entry point for launching an IPython kernel.\n"
     ]
    },
    {
     "data": {
      "text/plain": [
       "(0.0, 15.0)"
      ]
     },
     "execution_count": 8,
     "metadata": {},
     "output_type": "execute_result"
    },
    {
     "data": {
      "image/png": "[encoded data removed]",
      "text/plain": [
       "<Figure size 432x288 with 1 Axes>"
      ]
     },
     "metadata": {
      "needs_background": "light"
     },
     "output_type": "display_data"
    }
   ],
   "source": [
    "plt.plot(R,np.sqrt(C_integ_I*integ_array))\n",
    "plt.xlim(0.,15.)"
   ]
  },
  {
   "cell_type": "code",
   "execution_count": 11,
   "metadata": {},
   "outputs": [
    {
     "data": {
      "text/plain": [
       "<matplotlib.legend.Legend at 0x117720e50>"
      ]
     },
     "execution_count": 11,
     "metadata": {},
     "output_type": "execute_result"
    },
    {
     "data": {
      "image/png": "[encoded data removed]",
      "text/plain": [
       "<Figure size 432x288 with 1 Axes>"
      ]
     },
     "metadata": {
      "needs_background": "light"
     },
     "output_type": "display_data"
    }
   ],
   "source": [
    "plt.plot(R,vc2_ISM(R,R_d=R_d_I,Sigma_g_ISM=Sigma_g_ISM_I,R_m=R_m),label='model I')\n",
    "plt.plot(R,vc2_ISM(R,R_d=R_d_II,Sigma_g_ISM=Sigma_g_ISM_II,R_m=R_m),label='model II')\n",
    "plt.xlabel(r'$R/kpc$')\n",
    "plt.ylabel(r'$V_{c}^{2}/km s^{-1}$')\n",
    "#plt.title(r'$V_{c}^{2}$)\n",
    "plt.legend(loc='upper right', prop={'size':10})\n",
    "#plt.savefig('Model_II.pdf')"
   ]
  },
  {
   "cell_type": "code",
   "execution_count": 12,
   "metadata": {},
   "outputs": [
    {
     "name": "stderr",
     "output_type": "stream",
     "text": [
      "/Users/atalia/miniconda2/lib/python2.7/site-packages/ipykernel_launcher.py:1: RuntimeWarning: invalid value encountered in sqrt\n",
      "  \"\"\"Entry point for launching an IPython kernel.\n",
      "/Users/atalia/miniconda2/lib/python2.7/site-packages/ipykernel_launcher.py:2: RuntimeWarning: invalid value encountered in sqrt\n",
      "  \n"
     ]
    },
    {
     "data": {
      "text/plain": [
       "(0.0, 15.0)"
      ]
     },
     "execution_count": 12,
     "metadata": {},
     "output_type": "execute_result"
    },
    {
     "data": {
      "image/png": "[encoded data removed]",
      "text/plain": [
       "<Figure size 432x288 with 1 Axes>"
      ]
     },
     "metadata": {
      "needs_background": "light"
     },
     "output_type": "display_data"
    }
   ],
   "source": [
    "plt.plot(R,np.sqrt(vc2_ISM(R,R_d=R_d_I,Sigma_g_ISM=Sigma_g_ISM_I,R_m=R_m)),label='model I')\n",
    "plt.plot(R,np.sqrt(vc2_ISM(R,R_d=R_d_II,Sigma_g_ISM=Sigma_g_ISM_II,R_m=R_m)),label='model II')\n",
    "plt.xlabel(r'$R/kpc$')\n",
    "plt.ylabel(r'$V_{c}/km s^{-1}$')\n",
    "plt.title('ISM')\n",
    "plt.legend(loc='upper right', prop={'size':10})\n",
    "plt.xlim(0.,15.)\n",
    "#plt.savefig('Model_II.pdf')"
   ]
  },
  {
   "cell_type": "code",
   "execution_count": null,
   "metadata": {},
   "outputs": [],
   "source": []
  },
  {
   "cell_type": "code",
   "execution_count": null,
   "metadata": {},
   "outputs": [],
   "source": []
  },
  {
   "cell_type": "code",
   "execution_count": null,
   "metadata": {},
   "outputs": [],
   "source": []
  },
  {
   "cell_type": "markdown",
   "metadata": {},
   "source": [
    "# Y finalmente comparando con el modelo aproximado"
   ]
  },
  {
   "cell_type": "code",
   "execution_count": null,
   "metadata": {},
   "outputs": [],
   "source": [
    "def M_g_I(u,R,R_d=2.,R_m=4.):\n",
    "    return u*np.exp(-((R*u)/(2.*R_d))-(R_m/(R*u)))"
   ]
  },
  {
   "cell_type": "code",
   "execution_count": null,
   "metadata": {},
   "outputs": [],
   "source": [
    "def V_c_g_I(l):\n",
    "    Integral_M_g = []\n",
    "    for i in range (0,len(l)):\n",
    "        result = integrate.quad(M_g_I,0,1,args=(l[i]))[0]\n",
    "        Integral_M_g.append(result)\n",
    "    Integral = np.array(Integral_M_g)\n",
    "    V = l*Integral\n",
    "    return V"
   ]
  },
  {
   "cell_type": "code",
   "execution_count": null,
   "metadata": {},
   "outputs": [],
   "source": [
    "def vc2_ISM_ap(R,R_d,Sigma_g_ISM,R_m=R_m):\n",
    "    def Int_ISM(h,s,R):\n",
    "        t1 = 1./np.sqrt(1.-s**2.)\n",
    "        t2 = 1./np.sqrt(h**2. - 1.)\n",
    "        t3 = np.exp(-(R*s*h)/(2.*R_d) - (R_m)/(R*s*h))#t4 = (2.*R_m*R_d)/(R**2.*h**2.) - s**2.\n",
    "        res = R**2.*t1*t2*t3#*t4\n",
    "        return res\n",
    "    Integral_ISM = []\n",
    "    for i in range(0,len(R)):\n",
    "        integrando = lambda h,s: Int_ISM(h,s,R[i])\n",
    "        result = integrate.dblquad(integrando,0.1,1.,lambda s: 1., lambda s: np.inf)[0]\n",
    "        Integral_ISM.append(result)\n",
    "    return 4.*np.pi*G*Sigma_g_ISM*np.array(Integral_ISM)/(2.*R_d)"
   ]
  },
  {
   "cell_type": "code",
   "execution_count": null,
   "metadata": {},
   "outputs": [],
   "source": [
    "plt.plot(R,vc2_ISM_ap(R,R_d=R_d_I,Sigma_g_ISM=Sigma_g_ISM_I))"
   ]
  },
  {
   "cell_type": "code",
   "execution_count": null,
   "metadata": {},
   "outputs": [],
   "source": [
    "Vc_I = np.sqrt(G*2.*np.pi*Sigma_g_ISM_I*V_c_g_I(R))\n",
    "plt.plot(R,Vc_I,label='aprox')\n",
    "plt.plot(R,np.sqrt(vc2_ISM_ap(R,R_d=R_d_I,Sigma_g_ISM=Sigma_g_ISM_I)),label='exact without t4')\n",
    "plt.xlabel(r'$R/kpc$')\n",
    "plt.ylabel(r'$V_{c}/km s^{-1}$')\n",
    "plt.title('ISM model I')\n",
    "plt.legend(loc='upper right', prop={'size':10})"
   ]
  },
  {
   "cell_type": "code",
   "execution_count": null,
   "metadata": {},
   "outputs": [],
   "source": [
    "def vc2_v4_ISM_II(h,s,R,R_d=R_d_II,R_m=R_m):\n",
    "    t1 = s**2./np.sqrt(1.-s**2.)\n",
    "    t2 = 1./np.sqrt(h**2. - 1.)\n",
    "    t3 = np.exp(-(R*s*h)/(2.*R_d) - (R_m)/(R*s*h))\n",
    "    t4 = (2.*R_m*R_d)/(R**2.*s**2.*h**2.) - 1.\n",
    "    res = R**2.*t1*t2*t3*t4\n",
    "    return res"
   ]
  },
  {
   "cell_type": "code",
   "execution_count": null,
   "metadata": {},
   "outputs": [],
   "source": [
    "Integ = []\n",
    "for i in range (0,len(R)):\n",
    "    integrando = lambda h,s: vc2_v4_ISM_II(h,s,R[i])\n",
    "    result = integrate.dblquad(integrando,0.1,1.,lambda s: 1., lambda s: np.inf)[0]\n",
    "    Integ.append(result)\n",
    "print Integ"
   ]
  },
  {
   "cell_type": "code",
   "execution_count": null,
   "metadata": {},
   "outputs": [],
   "source": [
    "integ_array_II = np.array(Integ)\n",
    "C_integ_II = -2.*np.pi*G*Sigma_g_ISM_II/R_d_II\n",
    "plt.plot(R,C_integ_II*integ_array_II)"
   ]
  },
  {
   "cell_type": "code",
   "execution_count": null,
   "metadata": {},
   "outputs": [],
   "source": [
    "plt.plot(R,np.sqrt(C_integ_II*integ_array_II))\n",
    "plt.xlim(0,15)"
   ]
  },
  {
   "cell_type": "code",
   "execution_count": null,
   "metadata": {},
   "outputs": [],
   "source": [
    "def M_g_II(u,R,R_d=3.2,R_m=4.):\n",
    "    return u*np.exp(-((R*u)/(2.*R_d))-(R_m/(R*u)))"
   ]
  },
  {
   "cell_type": "code",
   "execution_count": null,
   "metadata": {},
   "outputs": [],
   "source": [
    "def V_c_g_II(l):\n",
    "    Integral_M_g = []\n",
    "    for i in range (0,len(l)):\n",
    "        result = integrate.quad(M_g_II,0,1,args=(l[i]))[0]\n",
    "        Integral_M_g.append(result)\n",
    "    Integral = np.array(Integral_M_g)\n",
    "    V = l*Integral\n",
    "    return V"
   ]
  },
  {
   "cell_type": "code",
   "execution_count": null,
   "metadata": {},
   "outputs": [],
   "source": [
    "Vc_II = np.sqrt(G*2.*np.pi*Sigma_g_ISM_II*V_c_g_II(R))\n",
    "plt.plot(R,Vc_II)\n",
    "plt.plot(R,np.sqrt(C_integ_II*integ_array_II))"
   ]
  },
  {
   "cell_type": "code",
   "execution_count": null,
   "metadata": {},
   "outputs": [],
   "source": []
  }
 ],
 "metadata": {
  "kernelspec": {
   "display_name": "Python 2",
   "language": "python",
   "name": "python2"
  },
  "language_info": {
   "codemirror_mode": {
    "name": "ipython",
    "version": 2
   },
   "file_extension": ".py",
   "mimetype": "text/x-python",
   "name": "python",
   "nbconvert_exporter": "python",
   "pygments_lexer": "ipython2",
   "version": "2.7.15"
  }
 },
 "nbformat": 4,
 "nbformat_minor": 2
}
