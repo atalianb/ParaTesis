{
 "cells": [
  {
   "cell_type": "code",
   "execution_count": 1,
   "metadata": {},
   "outputs": [
    {
     "name": "stdout",
     "output_type": "stream",
     "text": [
      "Populating the interactive namespace from numpy and matplotlib\n"
     ]
    },
    {
     "name": "stderr",
     "output_type": "stream",
     "text": [
      "/home/atarockz/miniconda2/lib/python2.7/site-packages/IPython/core/magics/pylab.py:161: UserWarning: pylab import has clobbered these variables: ['bar', 'e', 'pi', 'find']\n",
      "`%matplotlib` prevents importing * from pylab and numpy\n",
      "  \"\\n`%matplotlib` prevents importing * from pylab and numpy\"\n"
     ]
    }
   ],
   "source": [
    "import numpy as np\n",
    "import matplotlib.pyplot as plt\n",
    "from scipy.constants import *\n",
    "import math as mt\n",
    "%pylab inline"
   ]
  },
  {
   "cell_type": "code",
   "execution_count": 2,
   "metadata": {},
   "outputs": [
    {
     "name": "stdout",
     "output_type": "stream",
     "text": [
      "3.14159265359 6.67408e-11\n"
     ]
    }
   ],
   "source": [
    "print pi, G"
   ]
  },
  {
   "cell_type": "code",
   "execution_count": 3,
   "metadata": {},
   "outputs": [
    {
     "name": "stdout",
     "output_type": "stream",
     "text": [
      "8.38689627899e-10\n"
     ]
    }
   ],
   "source": [
    "# c= r_200/a donde 6<c<16 para el valor medio con forme el halo aunmenta de 3x10^11M_sol a 3x10^15M_sol\n",
    "# r_200 es 200*rho_c donde rho_c = 3*H^2(t)/8piG\n",
    "#parámetros\n",
    "rho_0 = 1.\n",
    "a = 1.\n",
    "C = 4.*pi*G*rho_0*a**2.\n",
    "print C"
   ]
  },
  {
   "cell_type": "code",
   "execution_count": 4,
   "metadata": {},
   "outputs": [],
   "source": [
    "def Vc_Jaffe(r):\n",
    "    f = 1./(1. + r/a)\n",
    "    Vc = np.sqrt(C*f)\n",
    "    return Vc"
   ]
  },
  {
   "cell_type": "code",
   "execution_count": 5,
   "metadata": {},
   "outputs": [],
   "source": [
    "def Vc_Hernquist(r):\n",
    "    f = (a*r)/(2.*(1. + r/a)**2.)\n",
    "    Vc = np.sqrt(C*f)\n",
    "    return Vc"
   ]
  },
  {
   "cell_type": "code",
   "execution_count": 6,
   "metadata": {},
   "outputs": [],
   "source": [
    "def Vc_NFW(r):\n",
    "    f = 1./r*np.log(1. + r/a) - 1./(1. + r/a)\n",
    "    Vc = np.sqrt(C*f)\n",
    "    return Vc"
   ]
  },
  {
   "cell_type": "code",
   "execution_count": 7,
   "metadata": {},
   "outputs": [],
   "source": [
    "r = np.linspace(0.,100.,1000)"
   ]
  },
  {
   "cell_type": "code",
   "execution_count": 8,
   "metadata": {},
   "outputs": [],
   "source": [
    "y = Vc_Jaffe(r)/np.sqrt(C)\n",
    "x = r/a"
   ]
  },
  {
   "cell_type": "code",
   "execution_count": 9,
   "metadata": {},
   "outputs": [],
   "source": [
    "#plt.plot(x,y,'.')\n",
    "#plt.show()"
   ]
  },
  {
   "cell_type": "code",
   "execution_count": 10,
   "metadata": {},
   "outputs": [],
   "source": [
    "y_1 = Vc_Hernquist(r)/np.sqrt(C)\n",
    "#plt.plot(x,y_1,'.')\n",
    "#plt.show()"
   ]
  },
  {
   "cell_type": "code",
   "execution_count": 11,
   "metadata": {},
   "outputs": [
    {
     "name": "stderr",
     "output_type": "stream",
     "text": [
      "/home/atarockz/miniconda2/lib/python2.7/site-packages/ipykernel_launcher.py:2: RuntimeWarning: divide by zero encountered in divide\n",
      "  \n",
      "/home/atarockz/miniconda2/lib/python2.7/site-packages/ipykernel_launcher.py:2: RuntimeWarning: invalid value encountered in multiply\n",
      "  \n"
     ]
    }
   ],
   "source": [
    "y_2 = Vc_NFW(r)/np.sqrt(C)\n",
    "#plt.plot(x,y_2,'.')\n",
    "#plt.show()"
   ]
  },
  {
   "cell_type": "code",
   "execution_count": 12,
   "metadata": {},
   "outputs": [
    {
     "data": {
      "image/png": "[encoded data removed]",
      "text/plain": [
       "<Figure size 432x288 with 1 Axes>"
      ]
     },
     "metadata": {},
     "output_type": "display_data"
    }
   ],
   "source": [
    "plt.plot(x,y,label='Jaffe model')\n",
    "plt.plot(x,y_1, label='Hernquist model')\n",
    "plt.plot(x,y_2, label='NFW model')\n",
    "plt.xlabel(r'$r/a$')\n",
    "plt.ylabel(r'$V_{c}/\\sqrt{4\\pi G\\rho_{0}a^{2}}$')\n",
    "plt.legend(loc='upper right', prop={'size':10})\n",
    "#plt.xlim(0.,10.)\n",
    "plt.show()"
   ]
  },
  {
   "cell_type": "markdown",
   "metadata": {},
   "source": [
    "Perfil de densidad $\\rho_{DM}(r) = \\rho_{0} \\frac{r}{r_{DM}}^{-\\gamma_{DM}} (1 + (\\frac{r}{r_{DM}})^{\\alpha_{DM}})^{(\\gamma_{DM} - \\beta_{DM})/\\alpha_{DM}}$"
   ]
  },
  {
   "cell_type": "markdown",
   "metadata": {},
   "source": [
    "donde $M(r) = 4\\pi \\int_{0}^{r} \\rho(r') r'^{2} dr'$"
   ]
  },
  {
   "cell_type": "markdown",
   "metadata": {},
   "source": [
    "entonces $M(r) = 4\\pi \\int_{0}^{r} \\rho_{0} \\frac{r'}{r_{DM}}^{-\\gamma_{DM}} (1 + (\\frac{r'}{r_{DM}})^{\\alpha_{DM}})^{(\\gamma_{DM} - \\beta_{DM})/\\alpha_{DM}} r'^{2} dr'$"
   ]
  },
  {
   "cell_type": "markdown",
   "metadata": {},
   "source": [
    "$M(r) = 4\\pi \\rho_{0} \\frac{r^{3}(\\frac{r}{r_{DM}})^{\\gamma} 2F_{1}(\\frac{\\beta - \\gamma}{\\alpha};\\frac{\\gamma + 3}{\\alpha};\\frac{\\alpha + \\gamma + 3}{\\alpha};-\\frac{r}{r_{DM}}^{\\alpha})}{\\gamma + 3}\\mid_{0}^{r}$"
   ]
  },
  {
   "cell_type": "markdown",
   "metadata": {},
   "source": [
    "donde $2F_{1} = \\sum_{n=0}^{\\infty} \\frac{(\\frac{\\beta - \\gamma}{\\alpha})_{n} (\\frac{\\gamma + 3}{\\alpha})_{n}}{(\\frac{\\alpha + \\gamma + 3}{\\alpha})_{n}}\\frac{(-(\\frac{r}{r_{DM}})^{\\alpha})^{n}}{n!}$"
   ]
  },
  {
   "cell_type": "code",
   "execution_count": 13,
   "metadata": {},
   "outputs": [],
   "source": [
    "alpha = 1.\n",
    "beta = 3.\n",
    "gamma = 0.\n",
    "gamma_1 = 1.\n",
    "r_DM = 1.#r_DM/kpc\n",
    "rho_0 = 0.064"
   ]
  },
  {
   "cell_type": "code",
   "execution_count": 14,
   "metadata": {},
   "outputs": [],
   "source": [
    "r = np.linspace(0.,100.,1000)"
   ]
  },
  {
   "cell_type": "code",
   "execution_count": 15,
   "metadata": {},
   "outputs": [],
   "source": [
    "a = (beta-gamma)/alpha\n",
    "b = (gamma +3.)/alpha\n",
    "c = (alpha + gamma + 3.)/alpha"
   ]
  },
  {
   "cell_type": "code",
   "execution_count": 16,
   "metadata": {},
   "outputs": [],
   "source": [
    "#n=0\n",
    "M_0 = (4.*pi*rho_0*(r**3)*((r/r_DM)**gamma)*(a*b)/c)/(gamma + 3.)"
   ]
  },
  {
   "cell_type": "code",
   "execution_count": 17,
   "metadata": {},
   "outputs": [
    {
     "name": "stderr",
     "output_type": "stream",
     "text": [
      "/home/atarockz/miniconda2/lib/python2.7/site-packages/ipykernel_launcher.py:6: RuntimeWarning: divide by zero encountered in log\n",
      "  \n"
     ]
    }
   ],
   "source": [
    "n = 3\n",
    "for i in range(n):\n",
    "    f = (-(r/r_DM)**alpha)**i/mt.factorial(i)\n",
    "    f += f\n",
    "M = M_0*f\n",
    "logM = np.log(M)"
   ]
  },
  {
   "cell_type": "code",
   "execution_count": 18,
   "metadata": {},
   "outputs": [
    {
     "data": {
      "image/png": "[encoded data removed]",
      "text/plain": [
       "<Figure size 432x288 with 1 Axes>"
      ]
     },
     "metadata": {},
     "output_type": "display_data"
    }
   ],
   "source": [
    "plt.plot(r,logM)\n",
    "plt.show()"
   ]
  },
  {
   "cell_type": "code",
   "execution_count": 19,
   "metadata": {},
   "outputs": [
    {
     "name": "stderr",
     "output_type": "stream",
     "text": [
      "/home/atarockz/miniconda2/lib/python2.7/site-packages/ipykernel_launcher.py:1: RuntimeWarning: invalid value encountered in divide\n",
      "  \"\"\"Entry point for launching an IPython kernel.\n"
     ]
    },
    {
     "data": {
      "image/png": "[encoded data removed]",
      "text/plain": [
       "<Figure size 432x288 with 1 Axes>"
      ]
     },
     "metadata": {},
     "output_type": "display_data"
    }
   ],
   "source": [
    "V_c = G*M/r\n",
    "plt.plot(V_c, r)\n",
    "plt.show()"
   ]
  },
  {
   "cell_type": "code",
   "execution_count": null,
   "metadata": {},
   "outputs": [],
   "source": [
    "def funcion(r,rho,r_dm,alpha=1,bea1"
   ]
  }
 ],
 "metadata": {
  "kernelspec": {
   "display_name": "Python 2",
   "language": "python",
   "name": "python2"
  },
  "language_info": {
   "codemirror_mode": {
    "name": "ipython",
    "version": 2
   },
   "file_extension": ".py",
   "mimetype": "text/x-python",
   "name": "python",
   "nbconvert_exporter": "python",
   "pygments_lexer": "ipython2",
   "version": "2.7.15"
  }
 },
 "nbformat": 4,
 "nbformat_minor": 2
}
