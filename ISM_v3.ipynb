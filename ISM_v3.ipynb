{
 "cells": [
  {
   "cell_type": "code",
   "execution_count": 1,
   "metadata": {},
   "outputs": [
    {
     "name": "stdout",
     "output_type": "stream",
     "text": [
      "Populating the interactive namespace from numpy and matplotlib\n"
     ]
    }
   ],
   "source": [
    "import numpy as np\n",
    "import matplotlib.pyplot as plt\n",
    "from scipy import integrate\n",
    "%pylab inline"
   ]
  },
  {
   "cell_type": "code",
   "execution_count": 2,
   "metadata": {},
   "outputs": [],
   "source": [
    "def func(u,beta,y,R_m=4.0e03,R_d=2.0e03):\n",
    "    exp = np.exp(-y*np.cos(u)*np.cosh(beta) - R_m/(2.*R_d*y*np.cos(u)*np.cosh(beta)))\n",
    "    t1 = R_m/(2.*R_d*y**2.*np.cos(u)**2.*np.cosh(beta)**2.) -1.\n",
    "    t2 = np.cos(2.*u) + 1.\n",
    "    f = t1*t2*exp\n",
    "    return f\n",
    "def func_II(u,beta,y,R_m=4.0e03,R_d=3.2e03):\n",
    "    exp = np.exp(-y*np.cos(u)*np.cosh(beta) - R_m/(2.*R_d*y*np.cos(u)*np.cosh(beta)))\n",
    "    t1 = R_m/(2.*R_d*y**2.*np.cos(u)**2.*np.cosh(beta)**2.) -1.\n",
    "    t2 = np.cos(2.*u) + 1.\n",
    "    f = t1*t2*exp\n",
    "    return f"
   ]
  },
  {
   "cell_type": "code",
   "execution_count": 3,
   "metadata": {},
   "outputs": [],
   "source": [
    "y = np.linspace(0.1,15.,100)"
   ]
  },
  {
   "cell_type": "code",
   "execution_count": 4,
   "metadata": {
    "scrolled": true
   },
   "outputs": [],
   "source": [
    "def Vc_ad_ISM_I(l):\n",
    "    Integral_ISM = []\n",
    "    for i in range (0,len(l)):\n",
    "        integrando = lambda beta,u: func(u,beta,l[i])\n",
    "        result = integrate.dblquad(integrando,0,np.inf,lambda u: 0, lambda u: np.pi/2.)[0]\n",
    "        Integral_ISM.append(result)\n",
    "    return np.sqrt(l**2.*Integral_ISM)\n",
    "def Vc_ad_ISM_II(l):\n",
    "    Integral_ISM = []\n",
    "    for i in range (0,len(l)):\n",
    "        integrando = lambda beta,u: func_II(u,beta,l[i])\n",
    "        result = integrate.dblquad(integrando,0,np.inf,lambda u: 0, lambda u: np.pi/2.)[0]\n",
    "        Integral_ISM.append(result)\n",
    "    return np.sqrt(l**2.*Integral_ISM)"
   ]
  },
  {
   "cell_type": "code",
   "execution_count": 5,
   "metadata": {},
   "outputs": [
    {
     "name": "stderr",
     "output_type": "stream",
     "text": [
      "/Users/atalia/miniconda2/lib/python2.7/site-packages/ipykernel_launcher.py:2: RuntimeWarning: overflow encountered in exp\n",
      "  \n",
      "/Users/atalia/miniconda2/lib/python2.7/site-packages/scipy/integrate/quadpack.py:385: IntegrationWarning: The maximum number of subdivisions (50) has been achieved.\n",
      "  If increasing the limit yields no improvement it is advised to analyze \n",
      "  the integrand in order to determine the difficulties.  If the position of a \n",
      "  local difficulty can be determined (singularity, discontinuity) one will \n",
      "  probably gain from splitting up the interval and calling the integrator \n",
      "  on the subranges.  Perhaps a special-purpose integrator should be used.\n",
      "  warnings.warn(msg, IntegrationWarning)\n",
      "/Users/atalia/miniconda2/lib/python2.7/site-packages/scipy/integrate/quadpack.py:385: IntegrationWarning: The integral is probably divergent, or slowly convergent.\n",
      "  warnings.warn(msg, IntegrationWarning)\n"
     ]
    },
    {
     "name": "stdout",
     "output_type": "stream",
     "text": [
      "[1.3065668419876967e+141, 3.825823645282012e+55, inf, inf, inf, inf, inf, 3.8349398336454126e+101, 2.776726014820055e+89, 6.42528965028961e+79, 9.397429839444156e+71, 2.9942366642947424e+65, 1.0026518993482148e+60, 2.1068689595534173e+55, 1.909107842285271e+51, 5.641314235560103e+47, 4.395829985544611e+44, 7.663644203942236e+41, 2.6270504306370824e+39, 1.5975089177207032e+37, 1.5860078593063086e+35, 2.402419686258799e+33, 5.251114132837511e+31, 1.5811733972846362e+30, 6.308993366921904e+28, 3.2280940203609784e+27, 2.0597986821548882e+26, 1.6004107706278602e+25, 1.4833571921719577e+24, 1.6111941536153293e+23, 2.019404553684829e+22, 2.8814042656520033e+21, 4.6252982423905586e+20, 8.265897812242142e+19, 1.629438294583238e+19, 3.5141139894508196e+18, 8.230848546913549e+17, 2.0800888502037443e+17, 5.638696357692918e+16, 1.6309571522701346e+16, 5009632172737688.0, 1627042837935950.2, 556579518918675.9, 199825330042910.12, -142691936.1622643, -201143855.47422034, -283730911.7810591, -2118558314.079848, -2946449919.5672975, -2109906131472.2883, -5715398508.151471, -7970828560.316442, -6008683922280.666, -8525210299217.849, -12101127424737.492, -30401861265.438488, -42567864437.04612, -59645166153.07191, -1938137127025.9338, -2542067642088.463, -3341633774610.3867, -4402918236140.532, -5815313158963.647, -453100882102.79236, -637450342545.168, -897313549690.4337, -1263811789955.3665, -24312303103654.355, -2511057768293.785, -3542272761057.0093, -4999492377958.693, -7059657077887.294, -9973565847077.184, -14303418805262.49, -20235493208210.89, -28640817950007.66, -40555589058432.42, -112778176364783.44, -81422985396767.19, -115443827498279.97, -163747031092495.3, -232354890439134.34, -329839464409355.94, -8100089392282.902, -11425536936708.125, -16124221080694.172, -22766277692403.984, -32159747235546.207, -45450322782367.03, -64263111371131.02, -90904181982153.9, -128647223740471.97, -182141408668824.22, -257991923257093.66, -365586573665195.06, -518273199976300.3, -735037389144359.1, -1042893926467921.0, -1480296834690940.8, -2102003550403134.2]\n"
     ]
    }
   ],
   "source": [
    "res = []\n",
    "for i in range (0,len(y)):\n",
    "    integrando = lambda beta,u: func(u,beta,y[i])\n",
    "    result = integrate.dblquad(integrando,0.1,np.inf,lambda u: 0, lambda u: np.pi/2.)[0]\n",
    "    res.append(result)\n",
    "print res"
   ]
  },
  {
   "cell_type": "code",
   "execution_count": 5,
   "metadata": {},
   "outputs": [],
   "source": [
    "G = 4.302e-3\n",
    "Sigma_g_I = 1905.*0.25\n",
    "Sigma_g_II = 536.*0.25\n",
    "R_d_I = 2.0e03\n",
    "R_d_II = 3.2e03\n",
    "C_I = 4.*G*Sigma_g_I*R_d_I/np.pi\n",
    "C_II = 4.*G*Sigma_g_II*R_d_II/np.pi"
   ]
  },
  {
   "cell_type": "code",
   "execution_count": 7,
   "metadata": {},
   "outputs": [
    {
     "name": "stderr",
     "output_type": "stream",
     "text": [
      "/Users/atalia/miniconda2/lib/python2.7/site-packages/scipy/integrate/quadpack.py:385: IntegrationWarning: The algorithm does not converge.  Roundoff error is detected\n",
      "  in the extrapolation table.  It is assumed that the requested tolerance\n",
      "  cannot be achieved, and that the returned result (if full_output = 1) is \n",
      "  the best which can be obtained.\n",
      "  warnings.warn(msg, IntegrationWarning)\n",
      "/Users/atalia/miniconda2/lib/python2.7/site-packages/ipykernel_launcher.py:7: RuntimeWarning: invalid value encountered in sqrt\n",
      "  import sys\n",
      "/Users/atalia/miniconda2/lib/python2.7/site-packages/ipykernel_launcher.py:8: RuntimeWarning: overflow encountered in exp\n",
      "  \n",
      "/Users/atalia/miniconda2/lib/python2.7/site-packages/ipykernel_launcher.py:14: RuntimeWarning: invalid value encountered in sqrt\n",
      "  \n"
     ]
    },
    {
     "data": {
      "image/png": "[encoded data removed]",
      "text/plain": [
       "<Figure size 432x288 with 1 Axes>"
      ]
     },
     "metadata": {
      "needs_background": "light"
     },
     "output_type": "display_data"
    }
   ],
   "source": [
    "plt.plot(y,np.sqrt(C_I)*Vc_ad_ISM_I(y),label='model I')\n",
    "plt.plot(y,np.sqrt(C_II)*Vc_ad_ISM_II(y),label='model II')\n",
    "xlim(0.,12.)\n",
    "plt.xlabel(r'$y$')\n",
    "plt.ylabel(r'$V_{c}/km s^{-1}$')\n",
    "plt.legend(loc='upper right', prop={'size':10})\n",
    "plt.show()"
   ]
  },
  {
   "cell_type": "code",
   "execution_count": 8,
   "metadata": {},
   "outputs": [
    {
     "name": "stderr",
     "output_type": "stream",
     "text": [
      "/Users/atalia/miniconda2/lib/python2.7/site-packages/ipykernel_launcher.py:7: RuntimeWarning: invalid value encountered in sqrt\n",
      "  import sys\n",
      "/Users/atalia/miniconda2/lib/python2.7/site-packages/ipykernel_launcher.py:8: RuntimeWarning: overflow encountered in exp\n",
      "  \n",
      "/Users/atalia/miniconda2/lib/python2.7/site-packages/ipykernel_launcher.py:14: RuntimeWarning: invalid value encountered in sqrt\n",
      "  \n"
     ]
    },
    {
     "data": {
      "image/png": "[encoded data removed]",
      "text/plain": [
       "<Figure size 432x288 with 1 Axes>"
      ]
     },
     "metadata": {
      "needs_background": "light"
     },
     "output_type": "display_data"
    }
   ],
   "source": [
    "R_I = 2.*R_d_I*y\n",
    "R_II = 2.*R_d_II*y\n",
    "plt.plot(R_I,np.sqrt(C_I)*Vc_ad_ISM_I(y),label='model I')\n",
    "plt.plot(R_II,np.sqrt(C_II)*Vc_ad_ISM_II(y),label='model II')\n",
    "xlim(0.,12.)\n",
    "plt.xlabel(r'$R$')\n",
    "plt.ylabel(r'$V_{c}/km s^{-1}$')\n",
    "plt.legend(loc='upper right', prop={'size':10})\n",
    "plt.show()"
   ]
  },
  {
   "cell_type": "code",
   "execution_count": 9,
   "metadata": {},
   "outputs": [
    {
     "name": "stdout",
     "output_type": "stream",
     "text": [
      "[1.03731859e+22 3.07825686e+08 1.38831591e+05 4.31831002e+03\n",
      " 6.10783000e+02 1.84239467e+02 1.52398548e+19 3.53490570e+16\n",
      " 3.33891145e+14 4.36460305e+31 3.49381175e+28 9.51697724e+25\n",
      " 6.59915942e+23 9.48688894e+21 2.43547335e+20 9.99088677e+18\n",
      " 6.01882085e+17 4.98814488e+16 1.73318454e+06 7.51472140e+05\n",
      " 1.21080525e+14 1.78387995e+05 9.56693411e+04 5.41007831e+04\n",
      " 3.20373219e+04 1.97285181e+04 1.25106671e+04 8.00007938e+03\n",
      " 4.81860408e+03 1.44019473e+03            nan            nan\n",
      "            nan            nan            nan            nan\n",
      "            nan            nan            nan            nan\n",
      "            nan            nan            nan            nan\n",
      "            nan            nan            nan            nan\n",
      "            nan            nan            nan            nan\n",
      "            nan            nan            nan            nan\n",
      "            nan            nan            nan            nan\n",
      "            nan            nan            nan            nan\n",
      "            nan            nan            nan            nan\n",
      "            nan            nan            nan            nan\n",
      "            nan            nan            nan            nan\n",
      "            nan            nan            nan            nan\n",
      "            nan            nan            nan            nan\n",
      "            nan            nan            nan            nan\n",
      "            nan            nan            nan            nan\n",
      "            nan            nan            nan            nan\n",
      "            nan            nan            nan            nan]\n"
     ]
    },
    {
     "name": "stderr",
     "output_type": "stream",
     "text": [
      "/Users/atalia/miniconda2/lib/python2.7/site-packages/ipykernel_launcher.py:7: RuntimeWarning: invalid value encountered in sqrt\n",
      "  import sys\n"
     ]
    }
   ],
   "source": [
    "print Vc_ad_ISM_I(y)"
   ]
  },
  {
   "cell_type": "code",
   "execution_count": 10,
   "metadata": {},
   "outputs": [
    {
     "name": "stdout",
     "output_type": "stream",
     "text": [
      "[1.0760298519456072e+46, 1.509999274456434e+18, 119857710500.01424, 61307377.52916923, 756963.017513087, 46703.65127119391, 2.3085195236274448e+38, 9.390610942568921e+32, 6.555830373746569e+28, 9.003988006287407e+62, 4.738289558513987e+56, 2.9387923891191656e+51, 1.1986815726062153e+47, 2.1279551716658102e+43, 1.2176830763831744e+40, 1.7958777100729598e+37, 5.7589032564602065e+34, 3.520276189777072e+32, 380678213875.6237, 64470481995.80022, 1.5156523795414653e+27, 2993192081.148205, 786599803.348051, 230734680.42696694, 74484878.06358589, 26086964.699079316, 9718387.09979194, 3691841.1532548633, 1247537.8613490453, 104056.27755144733, -573745.8224659753, -1125309.665120107, -1715242.0591849089, -2450900.1102723363, -3431130.6755161076, -4771664.355680544, -6623998.91450171, -9195053.392085323, -12771828.64482844, -17754725.523491643, -24703732.21088073, -34403021.99917273, -47951596.85108189, -66891196.90511763, -93383095.91657805, -130463879.5188284, -182397411.23592597, -255175111.52040765, -357219585.362288, -500376145.86881304, -1280510601.894396, -1638107368.145294, -2373564676.9303412, -3248899785.476409, -45779108435.14661, -169473100104.31158, -91352125025.60022, -129148510475.98747, -7614757637487.743, -10063261274221.342, -366247899741.9763, -17606918038157.02, -735703280426.8855, -1043480630892.4382, -1480705261901.4373, -55055205018982.67, -2985506665591.827, -4242791245515.725, -6030965040873.945, -8574442654069.681, -12200251328216.598, -17362223388397.45, -24717193531559.703, -35200241814139.086, -50146475804670.5, -71462674321270.86, -101879582024453.31, -145279224343995.38, -207214821232160.88, -295663228932424.06, -421987255733830.06, -373904197319991.6, -523091445778570.9, -743324085388225.8, -1066524141959907.8, -1516766939763157.0, -2157649128934402.2, -3070110009122796.0, -4369539217808208.5, -6220473896978786.0, -8857579468857331.0, -1.2615605916251626e+16, -1.7972166847074148e+16, -2.5608840788086956e+16, -3.649845706010127e+16, -5.20298084934613e+16, -7.418586857938515e+16, -1.0579850915082123e+17, -1.5091261523182506e+17, -2.134806495123915e+17]\n"
     ]
    }
   ],
   "source": [
    "Integral_ISM = []\n",
    "for i in range (0,len(y)):\n",
    "    integrando = lambda beta,u: func(u,beta,y[i])\n",
    "    result = integrate.dblquad(integrando,0,np.inf,lambda u: 0, lambda u: np.pi/2.)[0]\n",
    "    Integral_ISM.append(result)\n",
    "print Integral_ISM"
   ]
  },
  {
   "cell_type": "code",
   "execution_count": 11,
   "metadata": {},
   "outputs": [],
   "source": [
    "def inte_R_I(u,beta,R,R_m=4.0e03,R_d=2.0e03):\n",
    "    exp = np.exp(-R*np.cos(u)*np.cosh(beta)/(2.*R_d) - R_m/(R*np.cos(u)*np.cosh(beta)))\n",
    "    t1 = (2.*R_m*R_d)/(R**2.*np.cos(u)**2.*np.cosh(beta)**2.) - 1.\n",
    "    t2 = np.cos(2.*u) + 1.\n",
    "    return t2*t1*exp\n",
    "def inte_R_II(u,beta,R,R_m=4.0e03,R_d=3.2e03):\n",
    "    exp = np.exp(-R*np.cos(u)*np.cosh(beta)/(2.*R_d) - R_m/(R*np.cos(u)*np.cosh(beta)))\n",
    "    t1 = (2.*R_m*R_d)/(R**2.*np.cos(u)**2.*np.cosh(beta)**2.) - 1.\n",
    "    t2 = np.cos(2.*u) + 1.\n",
    "    return t2*t1*exp"
   ]
  },
  {
   "cell_type": "code",
   "execution_count": 8,
   "metadata": {},
   "outputs": [],
   "source": [
    "R = np.linspace(0.1,15.,100)"
   ]
  },
  {
   "cell_type": "code",
   "execution_count": 13,
   "metadata": {},
   "outputs": [
    {
     "name": "stderr",
     "output_type": "stream",
     "text": [
      "/Users/atalia/miniconda2/lib/python2.7/site-packages/ipykernel_launcher.py:2: RuntimeWarning: overflow encountered in exp\n",
      "  \n",
      "/Users/atalia/miniconda2/lib/python2.7/site-packages/ipykernel_launcher.py:5: RuntimeWarning: overflow encountered in double_scalars\n",
      "  \"\"\"\n"
     ]
    },
    {
     "name": "stdout",
     "output_type": "stream",
     "text": [
      "[inf, inf, inf, inf, inf, inf, inf, inf, inf, inf, inf, inf, inf, inf, inf, inf, inf, inf, inf, inf, inf, inf, inf, inf, inf, inf, inf, inf, inf, inf, inf, inf, inf, inf, inf, inf, inf, inf, inf, inf, inf, inf, inf, inf, inf, inf, inf, inf, inf, inf, inf, inf, inf, inf, inf, inf, inf, inf, inf, inf, inf, inf, inf, inf, inf, inf, inf, inf, inf, inf, inf, inf, inf, inf, inf, inf, inf, inf, inf, inf, inf, inf, inf, inf, inf, inf, inf, inf, inf, inf, inf, inf, inf, inf, inf, inf, inf, inf, inf, inf]\n"
     ]
    }
   ],
   "source": [
    "#no creo que esté bien esto\n",
    "integral_ISM_R = []\n",
    "for i in range (0,len(R)):\n",
    "    integrand = lambda beta,u: inte_R_I(u,beta,R[i])\n",
    "    resultado = integrate.dblquad(integrand,0,np.inf,lambda u: 0, lambda u: np.pi/2.)[0]\n",
    "    integral_ISM_R.append(resultado)\n",
    "print integral_ISM_R"
   ]
  },
  {
   "cell_type": "code",
   "execution_count": 14,
   "metadata": {},
   "outputs": [],
   "source": [
    "def func_R_I(u,beta,R,R_m=4.0e03,R_d=2.0e03):\n",
    "    exp1 = np.exp(-(R*np.cos(u)*np.cosh(beta))/(2.*R_d))\n",
    "    exp2 = np.exp(-R_m/(R*np.cos(u)*np.cosh(beta)))\n",
    "    t1 = (2.*R_m*R_d)/(R**2.*np.cos(u)**2.*np.cosh(beta)**2.) - 1.\n",
    "    t2 = np.cos(2.*u) + 1.\n",
    "    return exp1*t1*t2*exp2"
   ]
  },
  {
   "cell_type": "code",
   "execution_count": 22,
   "metadata": {},
   "outputs": [
    {
     "name": "stderr",
     "output_type": "stream",
     "text": [
      "/Users/atalia/miniconda2/lib/python2.7/site-packages/ipykernel_launcher.py:3: RuntimeWarning: overflow encountered in exp\n",
      "  This is separate from the ipykernel package so we can avoid doing imports until\n",
      "/Users/atalia/miniconda2/lib/python2.7/site-packages/ipykernel_launcher.py:6: RuntimeWarning: overflow encountered in double_scalars\n",
      "  \n"
     ]
    },
    {
     "name": "stdout",
     "output_type": "stream",
     "text": [
      "[inf, inf, inf, inf, inf, inf, inf, inf, inf, inf, inf, inf, inf, inf, inf, inf, inf, inf, inf, inf, inf, inf, inf, inf, inf, inf, inf, inf, inf, inf, inf, inf, inf, inf, inf, inf, inf, inf, inf, inf, inf, inf, inf, inf, inf, inf, inf, inf, inf, inf, inf, inf, inf, inf, inf, inf, inf, inf, inf, inf, inf, inf, inf, inf, inf, inf, inf, inf, inf, inf, inf, inf, inf, inf, inf, inf, inf, inf, inf, inf, inf, inf, inf, inf, inf, inf, inf, inf, inf, inf, inf, inf, inf, inf, inf, inf, inf, inf, inf, inf]\n"
     ]
    }
   ],
   "source": [
    "fun = []\n",
    "t = np.pi/2.-0.1\n",
    "for i in range (0,len(R)):\n",
    "    integ = lambda beta,u: func_R_I(u,beta,R[i])\n",
    "    resul = integrate.dblquad(integ,0.1,np.inf,lambda u: 0.1, lambda u: t)[0]\n",
    "    fun.append(resul)\n",
    "print fun"
   ]
  },
  {
   "cell_type": "code",
   "execution_count": 10,
   "metadata": {},
   "outputs": [],
   "source": [
    "def function(u,beta,y,R_m=4.0e03,R_d=2.0e03):\n",
    "    exponencial = np.exp(-y*np.cos(u)*np.cosh(beta)-R_m/(2.*y*R_d*np.cos(u)*np.cosh(beta)))\n",
    "    t1 = R_m/(2.*y**2.*R_d*np.cos(u)**2.*np.cosh(beta)**2.) - 1.\n",
    "    t2 = np.cos(2.*u) + 1.\n",
    "    return t2*t1*exponencial"
   ]
  },
  {
   "cell_type": "code",
   "execution_count": 11,
   "metadata": {},
   "outputs": [
    {
     "name": "stderr",
     "output_type": "stream",
     "text": [
      "/Users/atalia/miniconda2/lib/python2.7/site-packages/scipy/integrate/quadpack.py:385: IntegrationWarning: The maximum number of subdivisions (50) has been achieved.\n",
      "  If increasing the limit yields no improvement it is advised to analyze \n",
      "  the integrand in order to determine the difficulties.  If the position of a \n",
      "  local difficulty can be determined (singularity, discontinuity) one will \n",
      "  probably gain from splitting up the interval and calling the integrator \n",
      "  on the subranges.  Perhaps a special-purpose integrator should be used.\n",
      "  warnings.warn(msg, IntegrationWarning)\n",
      "/Users/atalia/miniconda2/lib/python2.7/site-packages/scipy/integrate/quadpack.py:385: IntegrationWarning: The algorithm does not converge.  Roundoff error is detected\n",
      "  in the extrapolation table.  It is assumed that the requested tolerance\n",
      "  cannot be achieved, and that the returned result (if full_output = 1) is \n",
      "  the best which can be obtained.\n",
      "  warnings.warn(msg, IntegrationWarning)\n"
     ]
    },
    {
     "name": "stdout",
     "output_type": "stream",
     "text": [
      "[1.0760298519456072e+46, 1.509999274456434e+18, 119857710500.01424, 61307377.52916923, 756963.017513087, 46703.65127119391, 2.3085195236274448e+38, 9.390610942568921e+32, 6.555830373746569e+28, 9.003988006287407e+62, 4.738289558513987e+56, 2.9387923891191656e+51, 1.1986815726062153e+47, 2.1279551716658102e+43, 1.2176830763831744e+40, 1.7958777100729598e+37, 5.7589032564602065e+34, 3.520276189777072e+32, 380678213875.6237, 64470481995.80022, 1.5156523795414653e+27, 2993192081.148205, 786599803.348051, 230734680.42696694, 74484878.06358589, 26086964.699079316, 9718387.09979194, 3691841.1532548633, 1247537.8613490453, 104056.27755144733, -573745.8224659753, -1125309.665120107, -1715242.0591849089, -2450900.1102723363, -3431130.6755161076, -4771664.355680544, -6623998.91450171, -9195053.392085323, -12771828.64482844, -17754725.523491643, -24703732.21088073, -34403021.99917273, -47951596.85108189, -66891196.90511763, -93383095.91657805, -130463879.5188284, -182397411.23592597, -255175111.52040765, -357219585.362288, -500376145.86881304, -1280510601.894396, -1638107368.145294, -2373564676.9303412, -3248899785.476409, -45779108435.14661, -169473100104.31158, -91352125025.60022, -129148510475.98747, -7614757637487.743, -10063261274221.342, -366247899741.9763, -17606918038157.02, -735703280426.8855, -1043480630892.4382, -1480705261901.4373, -55055205018982.67, -2985506665591.827, -4242791245515.725, -6030965040873.945, -8574442654069.681, -12200251328216.598, -17362223388397.45, -24717193531559.703, -35200241814139.086, -50146475804670.5, -71462674321270.86, -101879582024453.31, -145279224343995.38, -207214821232160.88, -295663228932424.06, -421987255733830.06, -373904197319991.6, -523091445778570.9, -743324085388225.8, -1066524141959907.8, -1516766939763157.0, -2157649128934402.2, -3070110009122796.0, -4369539217808208.5, -6220473896978786.0, -8857579468857331.0, -1.2615605916251626e+16, -1.7972166847074148e+16, -2.5608840788086956e+16, -3.649845706010127e+16, -5.20298084934613e+16, -7.418586857938515e+16, -1.0579850915082123e+17, -1.5091261523182506e+17, -2.134806495123915e+17]\n"
     ]
    }
   ],
   "source": [
    "fu = []\n",
    "for i in range(0,len(R)):\n",
    "    integrando = lambda beta,u: function(u,beta,R[i])\n",
    "    result = integrate.dblquad(integrando,0,np.inf,lambda u: 0, lambda u: np.pi/2.)[0]\n",
    "    fu.append(result)\n",
    "print fu"
   ]
  },
  {
   "cell_type": "code",
   "execution_count": 8,
   "metadata": {},
   "outputs": [],
   "source": [
    "def asterisco(x,l,R,R_m=4.0e03,R_d=2.0e03):\n",
    "    exponencial = np.exp(-(R*x*l)/(2.*R_d)-(R_m)/(R*x*l))\n",
    "    den = np.sqrt(1.-x**2.)*np.sqrt(l**2. - 1.)\n",
    "    t = R_m/(R**2.*x**2.*l**2) - 1./(2.*R_d)\n",
    "    return exponencial*t/den"
   ]
  },
  {
   "cell_type": "code",
   "execution_count": 9,
   "metadata": {},
   "outputs": [],
   "source": [
    "R = np.linspace(0.1,15.,100)"
   ]
  },
  {
   "cell_type": "code",
   "execution_count": 10,
   "metadata": {},
   "outputs": [
    {
     "name": "stderr",
     "output_type": "stream",
     "text": [
      "/Users/atalia/miniconda2/lib/python2.7/site-packages/ipykernel_launcher.py:3: RuntimeWarning: invalid value encountered in sqrt\n",
      "  This is separate from the ipykernel package so we can avoid doing imports until\n",
      "/Users/atalia/miniconda2/lib/python2.7/site-packages/scipy/integrate/quadpack.py:385: IntegrationWarning: The occurrence of roundoff error is detected, which prevents \n",
      "  the requested tolerance from being achieved.  The error may be \n",
      "  underestimated.\n",
      "  warnings.warn(msg, IntegrationWarning)\n"
     ]
    },
    {
     "name": "stdout",
     "output_type": "stream",
     "text": [
      "[nan, nan, nan, nan, nan, nan, nan, nan, nan, nan, nan, nan, nan, nan, nan, nan, nan, nan, nan, nan, nan, nan, nan, nan, nan, nan, nan, nan, nan, nan, nan, nan, nan, nan, nan, nan, nan, nan, nan, nan, nan, nan, nan, nan, nan, nan, nan, nan, nan, nan, nan, nan, nan, nan, nan, nan, nan, nan, nan, nan, nan, nan, nan, nan, nan, nan, nan, nan, nan, nan, nan, nan, nan, nan, nan, nan, nan, nan, nan, nan, nan, nan, nan, nan, nan, nan, nan, nan, nan, nan, nan, nan, nan, nan, nan, nan, nan, nan, nan, nan]\n"
     ]
    }
   ],
   "source": [
    "f = []\n",
    "for i in range(0,len(R)):\n",
    "    integrando = lambda l,x: asterisco(x,l,R[i])\n",
    "    result = integrate.dblquad(integrando,1,np.inf,lambda x: 0, lambda x: 1)[0]\n",
    "    f.append(result)\n",
    "print f"
   ]
  },
  {
   "cell_type": "code",
   "execution_count": null,
   "metadata": {},
   "outputs": [],
   "source": []
  }
 ],
 "metadata": {
  "kernelspec": {
   "display_name": "Python 2",
   "language": "python",
   "name": "python2"
  },
  "language_info": {
   "codemirror_mode": {
    "name": "ipython",
    "version": 2
   },
   "file_extension": ".py",
   "mimetype": "text/x-python",
   "name": "python",
   "nbconvert_exporter": "python",
   "pygments_lexer": "ipython2",
   "version": "2.7.15"
  }
 },
 "nbformat": 4,
 "nbformat_minor": 2
}
