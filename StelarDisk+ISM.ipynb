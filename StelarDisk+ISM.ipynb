{
 "cells": [
  {
   "cell_type": "code",
   "execution_count": 1,
   "metadata": {},
   "outputs": [
    {
     "name": "stdout",
     "output_type": "stream",
     "text": [
      "Populating the interactive namespace from numpy and matplotlib\n"
     ]
    }
   ],
   "source": [
    "import numpy as np\n",
    "import matplotlib.pyplot as plt\n",
    "from scipy import integrate\n",
    "from scipy.special import kn\n",
    "%pylab inline"
   ]
  },
  {
   "cell_type": "code",
   "execution_count": 2,
   "metadata": {},
   "outputs": [],
   "source": [
    "#for the stelar disk\n",
    "def I_d_I(x,z,R,R_d=2.0e03,z_p=0.,z_0=0.3e03,z_1=1.0e03,alpha_1=0.5):\n",
    "    E = np.exp(-abs(z)/z_0) - alpha_1*np.exp(-abs(z)/z_0) + (alpha_1*z_0/z_1)*np.exp(-abs(z)/z_1)\n",
    "    d = np.sqrt((z-z_p)**2. + (R_d*x+R)**2.) + np.sqrt((z-z_p)**2. + (R_d*x - R)**2.)\n",
    "    den_1 = d*np.sqrt(d**2. -4.*R_d**2.* x**2.)*np.sqrt(((z-z_p)/(R_d*x +R))**2.+1.)\n",
    "    num = R*E*x**2.*kn(0,x)\n",
    "    t1 = num/den_1\n",
    "    den_2 = d*np.sqrt(d**2. -4.*R_d**2.* x**2.)*np.sqrt(((z-z_p)/(R_d*x -R))**2.+1.)\n",
    "    t2 = num/den_2\n",
    "    return t1-t2"
   ]
  },
  {
   "cell_type": "code",
   "execution_count": 3,
   "metadata": {},
   "outputs": [],
   "source": [
    "def Vc_ad_d_I(l):\n",
    "    Integral_d = []\n",
    "    for i in range (0,len(l)):\n",
    "        integrando = lambda z,x: I_d_I(x,z,l[i])\n",
    "        result = integrate.dblquad(integrando,0,np.inf,lambda x: 0.1, lambda x: 10)[0]\n",
    "        Integral_d.append(result)\n",
    "    return np.array(Integral_d)"
   ]
  },
  {
   "cell_type": "code",
   "execution_count": 9,
   "metadata": {},
   "outputs": [
    {
     "name": "stdout",
     "output_type": "stream",
     "text": [
      "5.736e-05\n"
     ]
    },
    {
     "data": {
      "text/plain": [
       "572.5490372011816"
      ]
     },
     "execution_count": 9,
     "metadata": {},
     "output_type": "execute_result"
    }
   ],
   "source": [
    "G = 4.302e-3\n",
    "z_0 = 0.3e03\n",
    "r_b2_I = 4.0e06\n",
    "r_b2_II = 10.24e06\n",
    "Sigma_d_I = 1905.*0.75\n",
    "Sigma_d_II = 536.*0.75\n",
    "C_d = 4.*G/z_0\n",
    "print C\n",
    "np.sqrt(C_d*r_b2_I*Sigma_d_I)"
   ]
  },
  {
   "cell_type": "code",
   "execution_count": 5,
   "metadata": {},
   "outputs": [],
   "source": [
    "#for the interstelar medium\n",
    "def func(u,beta,y,R_m=4.0e03,R_d=2.0e03):\n",
    "    exp = np.exp(-y*np.cos(u)*np.cosh(beta) - R_m/(2.*R_d*y*np.cos(u)*np.cosh(beta)))\n",
    "    t1 = R_m/(2.*R_d*y**2.*np.cos(u)**2.*np.cosh(beta)**2.) -1.\n",
    "    t2 = np.cos(2.*u) + 1.\n",
    "    f = t1*t2*exp\n",
    "    return f"
   ]
  },
  {
   "cell_type": "code",
   "execution_count": 6,
   "metadata": {},
   "outputs": [],
   "source": [
    "def Vc_ad_ISM_I(l):\n",
    "    Integral_ISM = []\n",
    "    for i in range (0,len(l)):\n",
    "        integrando = lambda beta,u: func(u,beta,l[i])\n",
    "        result = integrate.dblquad(integrando,0,np.inf,lambda u: 0, lambda u: np.pi/2.)[0]\n",
    "        Integral_ISM.append(result)\n",
    "    return np.array(l**2.*Integral_ISM)"
   ]
  },
  {
   "cell_type": "code",
   "execution_count": 7,
   "metadata": {},
   "outputs": [],
   "source": [
    "Sigma_g_I = 1905.*0.25\n",
    "Sigma_g_II = 536.*0.25\n",
    "R_d_I = 2.0e03\n",
    "R_d_II = 3.2e03\n",
    "C_ISM_I = 4.*G*Sigma_g_I*R_d_I/np.pi\n",
    "C_ISM_II = 4.*G*Sigma_g_II*R_d_II/np.pi"
   ]
  },
  {
   "cell_type": "code",
   "execution_count": 11,
   "metadata": {},
   "outputs": [],
   "source": [
    "R = np.linspace(0.1,15.,100)\n",
    "y = np.linspace(0.1,15.,100)"
   ]
  },
  {
   "cell_type": "code",
   "execution_count": 12,
   "metadata": {},
   "outputs": [
    {
     "name": "stderr",
     "output_type": "stream",
     "text": [
      "/Users/atalia/miniconda2/lib/python2.7/site-packages/scipy/integrate/quadpack.py:385: IntegrationWarning: The integral is probably divergent, or slowly convergent.\n",
      "  warnings.warn(msg, IntegrationWarning)\n",
      "/Users/atalia/miniconda2/lib/python2.7/site-packages/scipy/integrate/quadpack.py:385: IntegrationWarning: The maximum number of subdivisions (50) has been achieved.\n",
      "  If increasing the limit yields no improvement it is advised to analyze \n",
      "  the integrand in order to determine the difficulties.  If the position of a \n",
      "  local difficulty can be determined (singularity, discontinuity) one will \n",
      "  probably gain from splitting up the interval and calling the integrator \n",
      "  on the subranges.  Perhaps a special-purpose integrator should be used.\n",
      "  warnings.warn(msg, IntegrationWarning)\n",
      "/Users/atalia/miniconda2/lib/python2.7/site-packages/scipy/integrate/quadpack.py:385: IntegrationWarning: The algorithm does not converge.  Roundoff error is detected\n",
      "  in the extrapolation table.  It is assumed that the requested tolerance\n",
      "  cannot be achieved, and that the returned result (if full_output = 1) is \n",
      "  the best which can be obtained.\n",
      "  warnings.warn(msg, IntegrationWarning)\n"
     ]
    },
    {
     "name": "stdout",
     "output_type": "stream",
     "text": [
      "[ 5.61396666e+47  4.94373542e+20  1.00559270e+14  9.72911069e+10\n",
      "  1.94634306e+09  1.77096855e+08  1.21173365e+42  6.51930314e+36\n",
      "  5.81641402e+32  9.93882427e+66  6.36860790e+60  4.72545433e+55\n",
      "  2.27207545e+51  4.69562214e+47  3.09465523e+44  5.20779144e+41\n",
      "  1.89002845e+39  1.29814626e+37  1.56723860e+16  2.94626141e+15\n",
      "  7.64881406e+31  1.66026250e+14  4.77519460e+13  1.52704773e+13\n",
      "  5.35498080e+12  2.03064702e+12  8.16594487e+11  3.33913595e+11\n",
      "  1.21140119e+11  1.08215120e+10 -6.37583357e+10 -1.33340796e+11\n",
      " -2.16283421e+11 -3.28258354e+11 -4.87251327e+11 -7.17278986e+11\n",
      " -1.05234411e+12 -1.54157515e+12 -2.25644085e+12 -3.30114077e+12\n",
      " -4.82769245e+12 -7.05789397e+12 -1.03153179e+13 -1.50720458e+13\n",
      " -2.20160553e+13 -3.21509654e+13 -4.69394773e+13 -6.85132815e+13\n",
      " -9.99784023e+13 -1.45859647e+14 -3.88451810e+14 -5.16741447e+14\n",
      " -7.78006984e+14 -1.10575015e+15 -1.61668209e+16 -6.20588832e+16\n",
      " -3.46646926e+16 -5.07519879e+16 -3.09708729e+18 -4.23367377e+18\n",
      " -1.59290925e+17 -7.91225791e+18 -3.41422808e+17 -4.99833952e+17\n",
      " -7.31723794e+17 -2.80547493e+19 -1.56802880e+18 -2.29572662e+18\n",
      " -3.36045512e+18 -4.91785508e+18 -7.19976214e+18 -1.05380509e+19\n",
      " -1.54237704e+19 -2.25740230e+19 -3.30381390e+19 -4.83515550e+19\n",
      " -7.07656708e+19 -1.03560820e+20 -1.51539297e+20 -2.21755231e+20\n",
      " -3.24497328e+20 -2.94695743e+20 -4.22437653e+20 -6.14904357e+20\n",
      " -9.03483697e+20 -1.31542946e+21 -1.91518285e+21 -2.78835725e+21\n",
      " -4.05958974e+21 -5.91032698e+21 -8.60471679e+21 -1.25272992e+22\n",
      " -1.82378740e+22 -2.65513716e+22 -3.86541214e+22 -5.62731020e+22\n",
      " -8.19223170e+22 -1.19261438e+23 -1.73617869e+23 -2.50603160e+23]\n"
     ]
    }
   ],
   "source": [
    "Vc_SD_ISM = C_d*r_b2_I*Sigma_d_I*Vc_ad_d_I(R) + C_ISM_I*Vc_ad_ISM_I(y)\n",
    "print Vc_SD_ISM"
   ]
  },
  {
   "cell_type": "code",
   "execution_count": 13,
   "metadata": {},
   "outputs": [
    {
     "data": {
      "text/plain": [
       "[<matplotlib.lines.Line2D at 0x11b50cd10>]"
      ]
     },
     "execution_count": 13,
     "metadata": {},
     "output_type": "execute_result"
    },
    {
     "data": {
      "image/png": "[encoded data removed]",
      "text/plain": [
       "<Figure size 432x288 with 1 Axes>"
      ]
     },
     "metadata": {
      "needs_background": "light"
     },
     "output_type": "display_data"
    }
   ],
   "source": [
    "plt.plot(R,Vc_SD_ISM)"
   ]
  },
  {
   "cell_type": "code",
   "execution_count": null,
   "metadata": {},
   "outputs": [],
   "source": []
  }
 ],
 "metadata": {
  "kernelspec": {
   "display_name": "Python 2",
   "language": "python",
   "name": "python2"
  },
  "language_info": {
   "codemirror_mode": {
    "name": "ipython",
    "version": 2
   },
   "file_extension": ".py",
   "mimetype": "text/x-python",
   "name": "python",
   "nbconvert_exporter": "python",
   "pygments_lexer": "ipython2",
   "version": "2.7.15"
  }
 },
 "nbformat": 4,
 "nbformat_minor": 2
}
