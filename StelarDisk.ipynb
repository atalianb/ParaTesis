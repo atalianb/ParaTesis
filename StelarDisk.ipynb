{
 "cells": [
  {
   "cell_type": "code",
   "execution_count": 1,
   "metadata": {},
   "outputs": [
    {
     "name": "stdout",
     "output_type": "stream",
     "text": [
      "Populating the interactive namespace from numpy and matplotlib\n"
     ]
    }
   ],
   "source": [
    "import numpy as np\n",
    "import matplotlib.pyplot as plt\n",
    "%pylab inline"
   ]
  },
  {
   "cell_type": "markdown",
   "metadata": {},
   "source": [
    "El disco estelar tiene la siguiente densidad\n",
    "$$\\begin{equation}\n",
    "\\rho_{d}(R,z) = \\Sigma_{d} e^{-R/R_{d}} (\\frac{\\alpha_{0}}{2z_{0}} e^{-|z|/z_{0}} + \\frac{\\alpha_{1}}{2z_{1}} e^{-|z|/z_{1}})\n",
    "\\end{equation}$$"
   ]
  },
  {
   "cell_type": "markdown",
   "metadata": {},
   "source": [
    "donde $\\alpha_{0} + \\alpha_{1} = 1$, $\\Sigma_{d}$ es la densidad superficial central, $R_{d}$ es la longitud de escala del disco, y $z_{0} = 0.3kpc$ y $z_{1} = 1kpc$"
   ]
  },
  {
   "cell_type": "markdown",
   "metadata": {},
   "source": [
    "$$\\begin{equation}\n",
    "\\frac{2\\rho_{d}z_{0}}{\\Sigma_{d}}  = e^{R/R_{d}} (e^{-|z|/z_{0}} - \\alpha_{1} e^{-|z|/z_{0}} + \\frac{\\alpha_{1}z_{0}}{z_{1}}e^{-|z|/z_{1}})\n",
    "\\end{equation}$$"
   ]
  },
  {
   "cell_type": "code",
   "execution_count": 2,
   "metadata": {},
   "outputs": [],
   "source": [
    "alpha_0 = 0.5\n",
    "def densidad_d(R,z,R_d=2000.,z_0=0.3e03,z_1=1000.,alpha_1=1.-alpha_0):\n",
    "    return np.exp(R/R_d)*(np.exp(-abs(z)/z_0) -alpha_1*np.exp(-abs(z)/z_0) + ((alpha_1*z_0)/z_1)*np.exp(-abs(z)/z_1))"
   ]
  },
  {
   "cell_type": "code",
   "execution_count": 3,
   "metadata": {},
   "outputs": [],
   "source": [
    "R = np.linspace(0.,15.,100)\n",
    "z = np.linspace(0.,15.,100)"
   ]
  },
  {
   "cell_type": "code",
   "execution_count": 4,
   "metadata": {},
   "outputs": [],
   "source": [
    "U_d=(2.*0.3e03)"
   ]
  },
  {
   "cell_type": "code",
   "execution_count": 5,
   "metadata": {},
   "outputs": [
    {
     "data": {
      "image/png": "[encoded data removed]",
      "text/plain": [
       "<Figure size 432x288 with 1 Axes>"
      ]
     },
     "metadata": {
      "needs_background": "light"
     },
     "output_type": "display_data"
    }
   ],
   "source": [
    "plt.plot(R, densidad_d(R,z)/2.,label='model I')\n",
    "plt.plot(R, densidad_d(R,z,R_d=3.2e03)/2.,label='model II')\n",
    "plt.xlabel(r'$R$')\n",
    "plt.ylabel(r'$\\rho_{d}z_{0}/\\Sigma_{d}$')\n",
    "plt.legend(loc='upper right', prop={'size':10})\n",
    "#ylim(0.,0.05)\n",
    "plt.show()"
   ]
  },
  {
   "cell_type": "markdown",
   "metadata": {},
   "source": [
    "Después de hacer cambio de variables, el potencial para esta componente queda de la siguiente forma \n",
    "$$\\begin{equation}\n",
    "\\frac{-\\Phi2z_{0}}{4G\\Sigma_{d}R_{d}} = E\\int_{0}^{\\infty} dx x K_{0}(x) \\sin^{-1}(\\frac{2R_{d}x}{\\sqrt{(z-z')^{2} + (R_{d}x + R)^{2}} + \\sqrt{(z-z')^{2} + (R_{d}x - R)^{2}}})\n",
    "\\end{equation}$$\n",
    "donde $K_{0}(x)$ es una función modificada de Bessel y $E = \\int_{0}^{\\infty} dz (e^{-|z|/z_0} - \\alpha_{1}e^{-|z|/z_{0}} + \\frac{\\alpha_{1}z_{0}}{z_{1}} e^{-|z|/z_{1}})$"
   ]
  },
  {
   "cell_type": "markdown",
   "metadata": {},
   "source": [
    "donde sabemos que la velocidad circular está dada por \n",
    "$$\\begin{equation}\n",
    "v_{c}^{2} = R\\frac{\\partial \\Phi}{\\partial R}\n",
    "\\end{equation}$$\n",
    "donde notamos que el único termino que depende de R es el $\\sin^{-1}$ por lo que la velocidad circular queda de la siguiente forma \n",
    "$$\\begin{equation}\n",
    "\\frac{v_{c}^{2}z_{0}}{4G\\Sigma_{d}R_{d}} = R E \\int_{0}^{\\infty} dx x^{2}K_{0}(x) \\frac{(\\frac{(z-z')^{2}}{(R_{d}x + R)^{2}} + 1)^{-1/2} - (\\frac{(z-z')^{2}}{(R_{d}x-R)^{2}} + 1)^{-1/2}}{d\\sqrt{d^{2} - 4R_{d}^{2}x^{2}}}\n",
    "\\end{equation}$$\n",
    "donde $d = (\\sqrt{(z-z')^{2} + (R_{d}x+R)^{2}} + \\sqrt{(z-z')^{2} + (R_{d}x-R)^{2}})$ y $E$ es la integral descrita anteriormente."
   ]
  },
  {
   "cell_type": "code",
   "execution_count": 6,
   "metadata": {},
   "outputs": [],
   "source": [
    "from scipy.special import kn"
   ]
  },
  {
   "cell_type": "code",
   "execution_count": 8,
   "metadata": {},
   "outputs": [],
   "source": [
    "def prueba(x,z,R,R_d=2.0e03,z_p=0.,z_0=0.3e03,z_1=1.0e03,alpha_1=0.5):\n",
    "    E = np.exp(-abs(z)/z_0) - alpha_1*np.exp(-abs(z)/z_0) + (alpha_1*z_0/z_1)*np.exp(-abs(z)/z_1)\n",
    "    num = R*E*x**2.*kn(0,x)\n",
    "    d = np.sqrt((z-z_p)**2. + (R_d*x+R)**2.) + np.sqrt((z-z_p)**2. + (R_d*x - R)**2.)\n",
    "    den = d*np.sqrt(d**2. -4.*R_d**2.* x**2.)*np.sqrt(((z-z_p)/(R_d*x +R))**2.+1.)\n",
    "    return num/den"
   ]
  },
  {
   "cell_type": "code",
   "execution_count": 9,
   "metadata": {},
   "outputs": [],
   "source": [
    "def prueba_1(x,z,R,R_d=2.0e03,z_p=0.,z_0=0.3e03,z_1=1.0e03,alpha_1=0.5):\n",
    "    E = np.exp(-abs(z)/z_0) - alpha_1*np.exp(-abs(z)/z_0) + (alpha_1*z_0/z_1)*np.exp(-abs(z)/z_1)\n",
    "    num = R*E*x**2.*kn(0,x)\n",
    "    d = np.sqrt((z-z_p)**2. + (R_d*x+R)**2.) + np.sqrt((z-z_p)**2. + (R_d*x - R)**2.)\n",
    "    den = d*np.sqrt(d**2. -4.*R_d**2.* x**2.)*np.sqrt(((z-z_p)/(R_d*x -R))**2.+1.)\n",
    "    return -num/den"
   ]
  },
  {
   "cell_type": "code",
   "execution_count": 18,
   "metadata": {},
   "outputs": [],
   "source": [
    "def I_d_I(x,z,R,R_d=2.0e03,z_p=0.,z_0=0.3e03,z_1=1.0e03,alpha_1=0.5):\n",
    "    E = np.exp(-abs(z)/z_0) - alpha_1*np.exp(-abs(z)/z_0) + (alpha_1*z_0/z_1)*np.exp(-abs(z)/z_1)\n",
    "    d = np.sqrt((z-z_p)**2. + (R_d*x+R)**2.) + np.sqrt((z-z_p)**2. + (R_d*x - R)**2.)\n",
    "    den_1 = d*np.sqrt(d**2. -4.*R_d**2.* x**2.)*np.sqrt(((z-z_p)/(R_d*x +R))**2.+1.)\n",
    "    num = R*E*x**2.*kn(0,x)\n",
    "    t1 = num/den_1\n",
    "    den_2 = d*np.sqrt(d**2. -4.*R_d**2.* x**2.)*np.sqrt(((z-z_p)/(R_d*x -R))**2.+1.)\n",
    "    t2 = num/den_2\n",
    "    return t1-t2\n",
    "def I_d_II(x,z,R,R_d=3.2e03,z_p=0.,z_0=0.3e03,z_1=1.0e03,alpha_1=0.5):\n",
    "    E = np.exp(-abs(z)/z_0) - alpha_1*np.exp(-abs(z)/z_0) + (alpha_1*z_0/z_1)*np.exp(-abs(z)/z_1)\n",
    "    d = np.sqrt((z-z_p)**2. + (R_d*x+R)**2.) + np.sqrt((z-z_p)**2. + (R_d*x - R)**2.)\n",
    "    den_1 = d*np.sqrt(d**2. -4.*R_d**2.* x**2.)*np.sqrt(((z-z_p)/(R_d*x +R))**2.+1.)\n",
    "    num = R*E*x**2.*kn(0,x)\n",
    "    t1 = num/den_1\n",
    "    den_2 = d*np.sqrt(d**2. -4.*R_d**2.* x**2.)*np.sqrt(((z-z_p)/(R_d*x -R))**2.+1.)\n",
    "    t2 = num/den_2\n",
    "    return t1-t2"
   ]
  },
  {
   "cell_type": "code",
   "execution_count": 13,
   "metadata": {},
   "outputs": [
    {
     "name": "stdout",
     "output_type": "stream",
     "text": [
      "[-3.719209227616302e-05, -9.316807005509046e-05, -0.00014914393716269607, -0.0002051196639565905, -0.00026109522143804914, -0.0003170705580490169, -0.00037304561563727794, -0.00042902072659546664, -0.0004849957592405062, -0.000540970522847283, -0.0005969450476243686, -0.0006529192923344423, -0.0007088904468768768, -0.0007648661279878386, -0.0008208392840800764, -0.000876811967066235, -0.0009327846040638415, -0.0009887561578106644, -0.0010447270605620695, -0.0011006979260102592, -0.001156669494580964, -0.001212639533531603, -0.0012686089770946802, -0.0013245777749943458, -0.001380546025295808, -0.0014365150961899748, -0.001492482090470131, -0.001548452368103157, -0.0016044248123391275, -0.001660392054037981, -0.0017163449014063958, -0.0017723105645975506, -0.0018282768195779983, -0.0018842420240448357, -0.0019402045368378616, -0.0019961707362995233, -0.002052128439279242, -0.002108089443874638, -0.0021640499775353868, -0.002220004103765681, -0.0022759630315500683, -0.0023319210428994286, -0.0023878784324377574, -0.0024438348772871997, -0.002499790467447023, -0.002555745904508136, -0.0026117004181893362, -0.0026676533476763646, -0.002723606295412903, -0.0027795555886151865, -0.0028355059394257628, -0.002891455755308529, -0.002947409423323432, -0.0030033524959332913, -0.0030592995268060204, -0.003115245699511984, -0.0031711911782061532, -0.0032271349864017164, -0.0032830785530383153, -0.0033390205435566553, -0.0033949624478044433, -0.0034509028749606005, -0.0035068423185916596, -0.003562776240637554, -0.00361871551416597, -0.0036746554615069795, -0.00373059004553949, -0.003786524613824694, -0.0038424579840576484, -0.0038984174684237346, -0.003954321534852103, -0.0040102519145474, -0.004066180537647613, -0.004122108895382246, -0.004178035510262631, -0.004233961486238865, -0.004290072026002409, -0.0043458094471332635, -0.004401734613804125, -0.004457652851392221, -0.00451357319893969, -0.00456949194001482, -0.004625409646963463, -0.004681323717447309, -0.004737241696823528, -0.004793155577716354, -0.004849068407860384, -0.0049049798849136435, -0.0049608896763191175, -0.00501679956805637, -0.005072707367632247, -0.005128614035316762, -0.005184519825317075, -0.005240423476096162, -0.005296326317911667, -0.005352227216314483, -0.005408138753576656, -0.005464032024480145, -0.0055199243901519635, -0.005575821088020258]\n"
     ]
    }
   ],
   "source": [
    "p = []\n",
    "for i in range (0,len(R)):\n",
    "    integrando = lambda z,x: prueba_1(x,z,R[i])\n",
    "    result = integrate.dblquad(integrando,0,np.inf,lambda x: 0.1, lambda x: 10)[0]\n",
    "    p.append(result)\n",
    "print p"
   ]
  },
  {
   "cell_type": "code",
   "execution_count": 10,
   "metadata": {},
   "outputs": [],
   "source": [
    "R = np.linspace(0.1,15.,100)"
   ]
  },
  {
   "cell_type": "code",
   "execution_count": 11,
   "metadata": {},
   "outputs": [],
   "source": [
    "from scipy import integrate"
   ]
  },
  {
   "cell_type": "code",
   "execution_count": 19,
   "metadata": {},
   "outputs": [],
   "source": [
    "def Vc_ad_d_I(l):\n",
    "    Integral_d = []\n",
    "    for i in range (0,len(l)):\n",
    "        integrando = lambda z,x: I_d_I(x,z,l[i])\n",
    "        result = integrate.dblquad(integrando,0,np.inf,lambda x: 0.1, lambda x: 10)[0]\n",
    "        Integral_d.append(result)\n",
    "    return np.sqrt(Integral_d)\n",
    "def Vc_ad_d_II(l):\n",
    "    Integral_d = []\n",
    "    for i in range (0,len(l)):\n",
    "        integrando = lambda z,x: I_d_II(x,z,l[i])\n",
    "        result = integrate.dblquad(integrando,0,np.inf,lambda x: 0.1, lambda x: 10)[0]\n",
    "        Integral_d.append(result)\n",
    "    return np.sqrt(Integral_d)"
   ]
  },
  {
   "cell_type": "code",
   "execution_count": 23,
   "metadata": {},
   "outputs": [
    {
     "name": "stdout",
     "output_type": "stream",
     "text": [
      "5.736e-05\n"
     ]
    }
   ],
   "source": [
    "G = 4.302e-3\n",
    "z_0 = 0.3e03\n",
    "r_b2_I = 4.0e06\n",
    "r_b2_II = 10.24e06\n",
    "Sigma_d_I = 1905.*0.75\n",
    "Sigma_d_II = 536.*0.75\n",
    "C = 4.*G/z_0\n",
    "print C"
   ]
  },
  {
   "cell_type": "code",
   "execution_count": 24,
   "metadata": {},
   "outputs": [
    {
     "data": {
      "image/png": "[encoded data removed]",
      "text/plain": [
       "<Figure size 432x288 with 1 Axes>"
      ]
     },
     "metadata": {
      "needs_background": "light"
     },
     "output_type": "display_data"
    }
   ],
   "source": [
    "plt.plot(R,np.sqrt(C*r_b2_I*Sigma_d_I)*Vc_ad_d_I(R),label='model I')\n",
    "plt.plot(R,np.sqrt(C*r_b2_II*Sigma_d_II)*Vc_ad_d_II(R),label='model II')\n",
    "xlim(0.,12.)\n",
    "plt.xlabel(r'$R$')\n",
    "plt.ylabel(r'$V_{c}/km s^{-1}$')\n",
    "plt.legend(loc='upper right', prop={'size':10})\n",
    "plt.show()"
   ]
  },
  {
   "cell_type": "code",
   "execution_count": null,
   "metadata": {},
   "outputs": [],
   "source": []
  }
 ],
 "metadata": {
  "kernelspec": {
   "display_name": "Python 2",
   "language": "python",
   "name": "python2"
  },
  "language_info": {
   "codemirror_mode": {
    "name": "ipython",
    "version": 2
   },
   "file_extension": ".py",
   "mimetype": "text/x-python",
   "name": "python",
   "nbconvert_exporter": "python",
   "pygments_lexer": "ipython2",
   "version": "2.7.15"
  }
 },
 "nbformat": 4,
 "nbformat_minor": 2
}
