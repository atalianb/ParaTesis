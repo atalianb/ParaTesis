{
 "cells": [
  {
   "cell_type": "code",
   "execution_count": 1,
   "metadata": {},
   "outputs": [
    {
     "name": "stdout",
     "output_type": "stream",
     "text": [
      "Populating the interactive namespace from numpy and matplotlib\n"
     ]
    }
   ],
   "source": [
    "import numpy as np\n",
    "import matplotlib.pyplot as plt\n",
    "from scipy import integrate\n",
    "from scipy.special import kn\n",
    "%pylab inline"
   ]
  },
  {
   "cell_type": "markdown",
   "metadata": {},
   "source": [
    "$$\\begin{equation}\n",
    "v_{c}^{2} = R\\frac{\\partial\\Phi}{\\partial R} = \\frac{4GR_{d}^{2}\\Sigma_{d}R}{z_{0}}\\int_{-\\infty}^{\\infty}dz' \\left(e^{-|z'|/z_{0}} - \\alpha_{1}e^{-|z'|/z_{0}} + \\frac{\\alpha_{1}z_{0}}{z_{1}}e^{-|z'|/z_{1}}\\right) \\int_{0}^{\\infty} dx \\frac{x^{2}K_{0}(x)}{\\sqrt{1 - \\left( \\frac{2R_{d}x}{\\sqrt{(z-z')^{2} + (R_{d}x + R)^{2}} + \\sqrt{(z-z')^{2} + (R_{d}x - R)^{2}}} \\right)^{2}}}\\frac{\\left( \\frac{R_{d}x-R}{\\sqrt{(z-z')^2 + (R_{d}x-R)^2}} - \\frac{R_{d}x+R}{\\sqrt{(z-z')^2 + (R_{d}x+R)^2}} \\right)}{\\left( \\sqrt{(z-z')^{2} + (R_{d}x + R)^{2}} + \\sqrt{(z-z')^{2} + (R_{d}x - R)^{2}} \\right)^{2}}\n",
    "\\end{equation}$$"
   ]
  },
  {
   "cell_type": "code",
   "execution_count": 4,
   "metadata": {},
   "outputs": [],
   "source": [
    "#Constants\n",
    "G = 4.302e-6#kpc/SM(km/s)^2\n",
    "R_d_I = 2.0#kpc\n",
    "R_d_II = 3.2#kpc\n",
    "Sigma_I_SD = (1905.0e6)*0.75\n",
    "Sigma_II_SD = (536.0e6)*0.75\n",
    "z_0 = 0.3#kpc\n",
    "z_1 = 1.#kpc"
   ]
  },
  {
   "cell_type": "code",
   "execution_count": 5,
   "metadata": {},
   "outputs": [],
   "source": [
    "R = np.linspace(0.1,15.,100)\n",
    "z_p = np.linspace(-15.,15.,100)"
   ]
  },
  {
   "cell_type": "code",
   "execution_count": 6,
   "metadata": {},
   "outputs": [],
   "source": [
    "def V_c_d(x,z,R,z_p,z_0=0.3,z_1=1.,alpha_1=1.,R_d=R_d_I):\n",
    "    E = np.exp(-abs(z)/z_0) - alpha_1*np.exp(-abs(z)/z_0) + (alpha_1*z_0*np.exp(-abs(z)/z_1))/z_1\n",
    "    n1 = x**2.*kn(0,x)\n",
    "    d1 = np.sqrt(1. - ((2.*R_d*x)/(np.sqrt((z_p-z)**2. + (R_d*x+R)**2.) + np.sqrt((z_p-z)**2. + (R_d*x-R)**2.)))**2.)\n",
    "    t1 = n1/d1\n",
    "    n2 = (R_d*x-R)/(np.sqrt((z_p-z)**2. + (R_d*x-R)**2.)) - (R_d*x+R)/(np.sqrt((z_p-z)**2. + (R_d*x+R)**2.))\n",
    "    d2 = (np.sqrt((z_p-z)**2. + (R_d*x+R)**2.) + np.sqrt((z_p -z)**2. + (R_d*x-R)**2.))**2.\n",
    "    t2 = n2/d2\n",
    "    return 2.*R*E*t1*t2"
   ]
  },
  {
   "cell_type": "code",
   "execution_count": null,
   "metadata": {},
   "outputs": [
    {
     "name": "stderr",
     "output_type": "stream",
     "text": [
      "/Users/atalia/miniconda2/lib/python2.7/site-packages/scipy/integrate/quadpack.py:385: IntegrationWarning: The integral is probably divergent, or slowly convergent.\n",
      "  warnings.warn(msg, IntegrationWarning)\n"
     ]
    }
   ],
   "source": [
    "Integral_d = []\n",
    "for i in range (0,len(R)):\n",
    "    integrando = lambda x,z: V_c_d(z,x,R[i],z_p[i])\n",
    "    result = integrate.dblquad(integrando,0,np.inf,lambda z: -1.0e3, lambda z: 1.0e3)[0]\n",
    "    Integral_d.append(result)\n",
    "print Integral_d"
   ]
  },
  {
   "cell_type": "code",
   "execution_count": 11,
   "metadata": {},
   "outputs": [
    {
     "data": {
      "text/plain": [
       "[<matplotlib.lines.Line2D at 0x116543790>]"
      ]
     },
     "execution_count": 11,
     "metadata": {},
     "output_type": "execute_result"
    },
    {
     "data": {
      "image/png": "[encoded data removed]",
      "text/plain": [
       "<Figure size 432x288 with 1 Axes>"
      ]
     },
     "metadata": {
      "needs_background": "light"
     },
     "output_type": "display_data"
    }
   ],
   "source": [
    "vel = np.array(Integral_d)\n",
    "plt.plot(R,vel)"
   ]
  },
  {
   "cell_type": "code",
   "execution_count": null,
   "metadata": {},
   "outputs": [],
   "source": []
  },
  {
   "cell_type": "code",
   "execution_count": 19,
   "metadata": {},
   "outputs": [
    {
     "name": "stderr",
     "output_type": "stream",
     "text": [
      "/Users/atalia/miniconda2/lib/python2.7/site-packages/ipykernel_launcher.py:3: RuntimeWarning: invalid value encountered in double_scalars\n",
      "  This is separate from the ipykernel package so we can avoid doing imports until\n",
      "/Users/atalia/miniconda2/lib/python2.7/site-packages/scipy/integrate/quadpack.py:385: IntegrationWarning: The algorithm does not converge.  Roundoff error is detected\n",
      "  in the extrapolation table.  It is assumed that the requested tolerance\n",
      "  cannot be achieved, and that the returned result (if full_output = 1) is \n",
      "  the best which can be obtained.\n",
      "  warnings.warn(msg, IntegrationWarning)\n"
     ]
    },
    {
     "name": "stdout",
     "output_type": "stream",
     "text": [
      "[nan, nan, nan, nan, nan, nan, nan, nan, nan, nan, nan, nan, nan, nan, nan, nan, nan, nan, nan, nan, nan, nan, nan, nan, nan, nan, nan, nan, nan, nan, nan, nan, nan, nan, nan, nan, nan, nan, nan, nan, nan, nan, nan, nan, nan, nan, nan, nan, nan, nan, nan, nan, nan, nan, nan, nan, nan, nan, nan, nan, nan, nan, nan, nan, nan, nan, nan, nan, nan, nan, nan, nan, nan, nan, nan, nan, nan, nan, nan, nan, nan, nan, nan, nan, nan, nan, nan, nan, nan, nan, nan, nan, nan, nan, nan, nan, nan, nan, nan, nan]\n"
     ]
    }
   ],
   "source": [
    "Integral_d = []\n",
    "for i in range (0,len(R)):\n",
    "    integrando = lambda z,x: V_c_d(x,z,R[i],z_p[i])\n",
    "    result = integrate.dblquad(integrando,-10000.,10000.,lambda x: 0, lambda x: 10000.)[0]\n",
    "    Integral_d.append(result)\n",
    "print Integral_d"
   ]
  },
  {
   "cell_type": "code",
   "execution_count": null,
   "metadata": {},
   "outputs": [],
   "source": []
  }
 ],
 "metadata": {
  "kernelspec": {
   "display_name": "Python 2",
   "language": "python",
   "name": "python2"
  },
  "language_info": {
   "codemirror_mode": {
    "name": "ipython",
    "version": 2
   },
   "file_extension": ".py",
   "mimetype": "text/x-python",
   "name": "python",
   "nbconvert_exporter": "python",
   "pygments_lexer": "ipython2",
   "version": "2.7.15"
  }
 },
 "nbformat": 4,
 "nbformat_minor": 2
}
