{
 "cells": [
  {
   "cell_type": "code",
   "execution_count": 1,
   "metadata": {},
   "outputs": [
    {
     "name": "stdout",
     "output_type": "stream",
     "text": [
      "Populating the interactive namespace from numpy and matplotlib\n"
     ]
    }
   ],
   "source": [
    "import numpy as np\n",
    "import matplotlib.pyplot as plt\n",
    "from scipy import integrate\n",
    "from scipy.special import kn\n",
    "from scipy.optimize import minimize\n",
    "import galkin\n",
    "import galkin.processdata   # routines to process kinematic data\n",
    "import galkin.readparsFile  # routines to read and check input parameters\n",
    "%pylab inline"
   ]
  },
  {
   "cell_type": "code",
   "execution_count": 2,
   "metadata": {},
   "outputs": [],
   "source": [
    "#10.3, 15.3, 7.7from the paper\n",
    "# Galactic parameters\n",
    "R0=8.0# Galactocentric distance (kpc)\n",
    "V0=230.# local circular velocity (km/s)\n",
    "UsunINUSE=11.10# solar motion in the U-direction (km/s), e.g. from Schoenrich+ '10, MNRAS 403, 1829 (2010)\n",
    "VsunINUSE=12.24# solar motion in the V-direction (km/s), e.g. from Schoenrich+ '10, MNRAS 403, 1829 (2010)\n",
    "WsunINUSE=07.25# solar motion in the W-direction (km/s), e.g. from Schoenrich+ '10, MNRAS 403, 1829 (2010)\n",
    "SYSTDISP=0.# systematic dispersion due to spiral arm streaming (km/s)"
   ]
  },
  {
   "cell_type": "code",
   "execution_count": 3,
   "metadata": {},
   "outputs": [],
   "source": [
    "# Flags\n",
    "flagPROPERMOTIONS=0\t \t\t\t# proper motions not supported in current version - please keep at 0\n",
    "flagHITERMINAL=0\t\t\t\t# whether to use HI terminal velocities\n",
    "flagFich89tab2=0\t\t\t\t# whether to use Fich+ '89, ApJ 342, 272 (1989) (Table 2)\n",
    "flagMalhotra95=0\t\t\t\t# whether to use Malhotra '95, ApJ 448, 138 (1995)\n",
    "flagMcClureGriffithsDickey07=0\t\t\t# whether to use McClure-Griffiths & Dickey '07, ApJ 671, 427 (2007)\n",
    "flagHITHICKNESS=0\t\t\t\t# whether to use the HI thickness method\n",
    "flagHonmaSofue97=0\t\t\t\t# whether to use Honma & Sofue '97, PASJ 49, 453 (1997)\n",
    "flagCOTERMINAL=1\t\t\t\t# whether to use CO terminal velocities\n",
    "flagBurtonGordon78=0\t\t\t\t# whether to use Burton & Gordon '78, A&A 63, 7 (1978)\n",
    "flagClemens85=0\t\t\t\t\t# whether to use Clemens '85, ApJ 295, 422 (1985)\n",
    "flagKnapp85=1\t\t\t\t\t# whether to use Knapp+ '85, AJ 90, 2 (1985)\n",
    "flagLuna06=0\t\t\t\t\t# whether to use Luna+ '06, ApJ 641, 938 (2006)\n",
    "flagHIIREGIONS=1\t\t\t\t# whether to use HII regions\n",
    "flagBlitz79=0\t\t\t\t\t# whether to use Blitz '79, ApJL 231, L115 (1979)\n",
    "flagFich89tab1=0\t\t\t\t# whether to use Fich+ '89, ApJ 342, 272 (1989) (Table 1)\t\n",
    "flagTurbideMoffat93=0\t\t\t\t# whether to use Turbide & Moffat '93, AJ 105, 5 (1993)\n",
    "flagBrandBlitz93=0\t\t\t\t# whether to use Brand & Blitz '93, A&A 275, 67 (1993)\n",
    "flagHou09tabA1=1\t\t\t\t# whether to use Hou+ '09, A&A 499, 473 (2009) (Table A1)\n",
    "flagGMC=0\t\t\t\t\t# whether to use giant molecular clouds\n",
    "flagHou09tabA2=0\t\t\t\t# whether to use Hou+ '09, A&A 499, 473 (2009) (Table A2)\n",
    "##\n",
    "flagOPENCLUSTERS=0\t\t\t\t# whether to use open clusters\n",
    "flagFrinchaboyMajewski08=0\t\t\t# whether to use Frinchaboy & Majewski '08, AJ 136, 118 (2008)\n",
    "flagPLANETARYNEBULAE=0\t\t\t\t# whether to use planetary nebulae\n",
    "flagDurand98=0\t\t\t\t\t# whether to use Durand+ '98, A&AS 132, 13 (1998)\n",
    "flagCEPHEIDS=1\t\t\t\t\t# whether to use classical cepheids\n",
    "flagPont94=1\t\t\t\t\t# whether to use Pont+ '94, A&A 285, 415 (1994)\n",
    "flagPont97=0\t\t\t\t\t# whether to use Pont+ '97, A&A 318, 416 (1997)\n",
    "flagCSTARS=0\t\t\t\t\t# whether to use carbon stars\n",
    "flagDemersBattinelli07=0\t\t\t# whether to use Demers & Battinelli '07, A&A 473, 143 (2007)\n",
    "flagBattinelli12=0\t\t\t\t# whether to use Battinelli+ '12, Ap 56, 68 (2013)\n",
    "###\n",
    "flagMASERS=0\t\t\t\t\t# whether to use masers\n",
    "flagReid14=0\t\t\t\t\t# whether to use Reid+ '14, ApJ 783, 130 (2014)\n",
    "flagHonma12=0\t\t\t\t\t# whether to use Honma+ '12, PASJ 64, 136 (2012)\n",
    "flagStepanishchevBobylev11=0\t\t\t# whether to use Stepanishchev & Bobylev '11, AstL 37, 4 (2011)\n",
    "flagXu13=0\t\t\t\t\t# whether to use Xu+ '13, ApJ 769, 15 (2013)\n",
    "flagBobylevBajkova13=0\t\t\t\t# whether to use Bobylev & Bajkova '13, AstL 39, 809 (2013)\n",
    "##\n",
    "flagastropy=0\t\t\t\t \t# whether to use astropy for equatorial-to-galactic conversions"
   ]
  },
  {
   "cell_type": "code",
   "execution_count": 4,
   "metadata": {},
   "outputs": [],
   "source": [
    "inputpars=(R0,V0,UsunINUSE,VsunINUSE,WsunINUSE,SYSTDISP, flagPROPERMOTIONS,flagHITERMINAL,flagFich89tab2,flagMalhotra95,flagMcClureGriffithsDickey07, flagHITHICKNESS,flagHonmaSofue97,flagCOTERMINAL,flagBurtonGordon78,flagClemens85,flagKnapp85,flagLuna06, flagHIIREGIONS,flagBlitz79,flagFich89tab1,flagTurbideMoffat93,flagBrandBlitz93,flagHou09tabA1, flagGMC,flagHou09tabA2,flagOPENCLUSTERS,flagFrinchaboyMajewski08,flagPLANETARYNEBULAE,flagDurand98,flagCEPHEIDS,flagPont94,flagPont97, flagCSTARS,flagDemersBattinelli07,flagBattinelli12, flagMASERS,flagReid14,flagHonma12,flagStepanishchevBobylev11,flagXu13,flagBobylevBajkova13,flagastropy)"
   ]
  },
  {
   "cell_type": "code",
   "execution_count": 5,
   "metadata": {},
   "outputs": [
    {
     "name": "stdout",
     "output_type": "stream",
     "text": [
      "checking validity of input parameters...\n",
      "printing input parameters...\n",
      " R0=  8.0  kpc\n",
      " V0=  230.0  km/s\n",
      " (Usun,Vsun,Wsun) = ( 11.1 , 12.24 , 7.25 ) km/s\n",
      " systematic dispersion =  0.0  km/s\n",
      " use HI terminal velocities?            0\n",
      " use HI thickness method?               0\n",
      " use CO terminal velocities?            1\n",
      "  use Burton & Gordon 78?                 0\n",
      "  use Clemens 85?                         0\n",
      "  use Knapp+ 85?                          1\n",
      "  use Luna+ 06?                           0\n",
      " use HII regions?                       1\n",
      "  use Blitz 79?                           0\n",
      "  use Fich+ 89 (Table 1)?                 0\n",
      "  use Turbide & Moffat 93?                0\n",
      "  use Brand & Blitz 93?                   0\n",
      "  use Hou+ 09 (Table A1)?                 1\n",
      " use giant molecular clouds?            0\n",
      " use open clusters?                     0\n",
      " use planetary nebulae?                 0\n",
      " use cepheids?                          1\n",
      "  use Pont+ 94?                           1\n",
      "  use Pont+ 97?                           0\n",
      " use C stars?                           0\n",
      " use masers?                            0\n",
      " use astropy?                           0\n"
     ]
    }
   ],
   "source": [
    "galkin.readparsFile.CheckAndPrintParameters(inputpars)"
   ]
  },
  {
   "cell_type": "code",
   "execution_count": 6,
   "metadata": {},
   "outputs": [
    {
     "name": "stdout",
     "output_type": "stream",
     "text": [
      "processing CO terminal velocities...\n",
      " processing Knapp+ 85...\n",
      "  selected  37  CO terminal velocities\n",
      "processing HII regions...\n",
      " processing Hou+ 09 (Table A1)...\n",
      "  selected  316  out of the total sample of  815  HII regions\n",
      "processing classical cepheids...\n",
      " processing Pont+ 94...\n",
      "  selected  245  out of the total sample of  278  cepheids\n"
     ]
    }
   ],
   "source": [
    "vecout=galkin.processdata.ProcessData(inputpars)\n",
    "totallistvc=vecout[0]"
   ]
  },
  {
   "cell_type": "code",
   "execution_count": 7,
   "metadata": {},
   "outputs": [],
   "source": [
    "vecRp    = np.array([row[0] for row in totallistvc])# galactocentric distance [kpc]\n",
    "vecerrRp = np.array([row[1] for row in totallistvc])# error in galactocentric distance [kpc]\n",
    "vecvRp   = np.array([row[2] for row in totallistvc])# rotation velocity [km/s]\n",
    "vecerrvRp= np.array([row[3] for row in totallistvc])# error in rotation velocity [km/s]"
   ]
  },
  {
   "cell_type": "code",
   "execution_count": 8,
   "metadata": {},
   "outputs": [],
   "source": [
    "#Constants\n",
    "G = 4.302e-6#kpc/SM(km/s)^2\n",
    "q_b = 0.6\n",
    "r_b = 1.9#kpc\n",
    "a_b = 1.#kpc\n",
    "q_h = 0.8\n",
    "alpha_b = 1.8\n",
    "R_m = 4.#kpc\n",
    "#parameters model I\n",
    "rho_b_I = 0.427e9#sM/kpc^3\n",
    "a_h_I = 3.83#kpc\n",
    "rho_h_I = 0.711e9#SM/kpc^3\n",
    "alpha_h_I = -2.\n",
    "beta_h_I = 2.96\n",
    "R_d_I = 2.0#kpc\n",
    "R_d_II = 3.2#kpc\n",
    "Sigma_d_SD_I = (1905.0e6)*0.75#SM/kpc^2\n",
    "Sigma_g_ISM_I = (1905.0e6)*0.25#SM/kpc^2\n",
    "#parameters model II\n",
    "rho_b_II = 0.3e9#sM/kpc^3\n",
    "a_h_II = 1.9#kpc\n",
    "rho_h_II = 0.266e9#SM/kpc^3\n",
    "alpha_h_II = 1.63\n",
    "beta_h_II = 2.17\n",
    "R_d_II = 3.2#kpc\n",
    "Sigma_d_SD_II = (536.0e6)*0.75#SM/kpc^2\n",
    "Sigma_g_ISM_II = (536.0e6)*0.25#SM/kpc^2"
   ]
  },
  {
   "cell_type": "code",
   "execution_count": 9,
   "metadata": {},
   "outputs": [],
   "source": [
    "R = np.linspace(0.1,15.,100)"
   ]
  },
  {
   "cell_type": "code",
   "execution_count": 10,
   "metadata": {},
   "outputs": [],
   "source": [
    "def Vc2_b(R,rho_b,q_b=q_b,alpha_b=alpha_b,r_b=r_b,a_b=a_b):\n",
    "    def I_b(x,R):\n",
    "        e = np.sqrt(1. - q_b**2.)\n",
    "        n = x**(2.-alpha_b)*np.exp(-(R**2.*x**2.)/r_b**2.)\n",
    "        d = np.sqrt(1.-x**2.*e**2.)\n",
    "        t = R**2.*(R/a_b)**(-alpha_b)\n",
    "        return (t*n)/d\n",
    "    Rx = R.reshape(-1, 1)\n",
    "    yp = np.linspace(0.,1.,100).reshape(1,-1)#integration limits\n",
    "    dx = yp[0,1] - yp[0,0]\n",
    "    fun = I_b(yp,Rx)\n",
    "    res_int = integrate.simps(fun,dx=dx)\n",
    "    return 4.*np.pi*G*q_b*rho_b*res_int"
   ]
  },
  {
   "cell_type": "code",
   "execution_count": 11,
   "metadata": {},
   "outputs": [],
   "source": [
    " def Vc2_DM(R,a_h,rho_h,alpha_h,beta_h,q_h=q_h):\n",
    "    def I_h(x,R):\n",
    "        e = np.sqrt(1.- q_h**2.)\n",
    "        n = x**(2.-alpha_h)*(1.+ (x*R)/(a_h))**(alpha_h-beta_h)\n",
    "        d = np.sqrt(1-x**2.*e**2)\n",
    "        t = R**2.*(R/a_h)**(-alpha_h)\n",
    "        result = (t*n)/d\n",
    "        return result\n",
    "    Integral_DM = []\n",
    "    for i in range (0,len(R)):\n",
    "        result = integrate.quad(I_h,0,1,args=(R[i]))[0]\n",
    "        Integral_DM.append(result)\n",
    "    return 4.*np.pi*G*q_h*rho_h*np.array(Integral_DM)"
   ]
  },
  {
   "cell_type": "code",
   "execution_count": 12,
   "metadata": {},
   "outputs": [],
   "source": [
    "def Vc2_SD_simps(R,R_d,Sigma_d_SD,z=0.,alpha_0=0.5,z1=1.,z0=0.3):\n",
    "    def I_SD(zp,a,R):\n",
    "        d = np.sqrt((a+R)**2. + (z-zp)**2.) + np.sqrt((a-R)**2. + (z-zp)**2.)\n",
    "        u = (2.*a)/d\n",
    "        t2 = u/np.sqrt(1-u**2.)\n",
    "        t1 = (a+R)/(np.sqrt((a+R)**2. + (z-zp)**2.)) - (a-R)/(np.sqrt((a-R)**2. + (z-zp)**2.))\n",
    "        g = -a*kn(0,a/R_d)*t2*t1/d\n",
    "        f = (alpha_0*np.exp(-abs(zp)/z0))/(2.*z0) + np.exp(-abs(zp)/z1)/(2.*z1) - (alpha_0*np.exp(-abs(zp)/z1))/(2.*z1)\n",
    "        return R*f*g\n",
    "    Integral_SD_sims = []\n",
    "    a_lims = np.linspace(0.1, 15.0,len(R))\n",
    "    zp_lims = np.linspace(-15.0,15.0,len(R))\n",
    "    fun_zp = np.zeros(len(R))\n",
    "    for k in range(0,len(R)):\n",
    "        for i in range(0,len(R)):\n",
    "            fun_zp[i] = integrate.simps(I_SD(zp_lims[i],a_lims,R[k]),a_lims)\n",
    "        result = integrate.simps(fun_zp,zp_lims)\n",
    "        Integral_SD_sims.append(result)\n",
    "    return -4.*G*Sigma_d_SD*np.array(Integral_SD_sims)/R_d"
   ]
  },
  {
   "cell_type": "code",
   "execution_count": 13,
   "metadata": {},
   "outputs": [],
   "source": [
    "def Vc2_ISM(R,R_d,Sigma_g_ISM,R_m=R_m):\n",
    "    def M_g_ISM(u,R):\n",
    "        return R*u*np.exp(-((R*u)/(2.*R_d))-(R_m/(R*u)))\n",
    "    Integral_M_g = []\n",
    "    for i in range (0,len(R)):\n",
    "        result = integrate.quad(M_g_ISM,0,1,args=(R[i]))[0]\n",
    "        Integral_M_g.append(result)\n",
    "    return 2.*np.pi*Sigma_g_ISM*G*np.array(Integral_M_g)"
   ]
  },
  {
   "cell_type": "code",
   "execution_count": 14,
   "metadata": {},
   "outputs": [],
   "source": [
    "ISM_M_I=Vc2_ISM(vecRp,R_d_I,Sigma_g_ISM_I)\n",
    "ISM_M_II=Vc2_ISM(vecRp,R_d_II,Sigma_g_ISM_II)"
   ]
  },
  {
   "cell_type": "code",
   "execution_count": 15,
   "metadata": {},
   "outputs": [
    {
     "ename": "KeyboardInterrupt",
     "evalue": "",
     "output_type": "error",
     "traceback": [
      "\u001b[0;31m---------------------------------------------------------------------------\u001b[0m",
      "\u001b[0;31mKeyboardInterrupt\u001b[0m                         Traceback (most recent call last)",
      "\u001b[0;32m<ipython-input-15-c7662db6654a>\u001b[0m in \u001b[0;36m<module>\u001b[0;34m()\u001b[0m\n\u001b[0;32m----> 1\u001b[0;31m \u001b[0mSD_M_I\u001b[0m\u001b[0;34m=\u001b[0m\u001b[0mVc2_SD_simps\u001b[0m\u001b[0;34m(\u001b[0m\u001b[0mvecRp\u001b[0m\u001b[0;34m,\u001b[0m\u001b[0mR_d_I\u001b[0m\u001b[0;34m,\u001b[0m\u001b[0mSigma_d_SD_I\u001b[0m\u001b[0;34m)\u001b[0m\u001b[0;34m\u001b[0m\u001b[0m\n\u001b[0m\u001b[1;32m      2\u001b[0m \u001b[0mSD_M_II\u001b[0m\u001b[0;34m=\u001b[0m\u001b[0mVc2_SD_simps\u001b[0m\u001b[0;34m(\u001b[0m\u001b[0mvecRp\u001b[0m\u001b[0;34m,\u001b[0m\u001b[0mR_d_II\u001b[0m\u001b[0;34m,\u001b[0m\u001b[0mSigma_d_SD_II\u001b[0m\u001b[0;34m)\u001b[0m\u001b[0;34m\u001b[0m\u001b[0m\n",
      "\u001b[0;32m<ipython-input-12-cb084100f2d6>\u001b[0m in \u001b[0;36mVc2_SD_simps\u001b[0;34m(R, R_d, Sigma_d_SD, z, alpha_0, z1, z0)\u001b[0m\n\u001b[1;32m     14\u001b[0m     \u001b[0;32mfor\u001b[0m \u001b[0mk\u001b[0m \u001b[0;32min\u001b[0m \u001b[0mrange\u001b[0m\u001b[0;34m(\u001b[0m\u001b[0;36m0\u001b[0m\u001b[0;34m,\u001b[0m\u001b[0mlen\u001b[0m\u001b[0;34m(\u001b[0m\u001b[0mR\u001b[0m\u001b[0;34m)\u001b[0m\u001b[0;34m)\u001b[0m\u001b[0;34m:\u001b[0m\u001b[0;34m\u001b[0m\u001b[0m\n\u001b[1;32m     15\u001b[0m         \u001b[0;32mfor\u001b[0m \u001b[0mi\u001b[0m \u001b[0;32min\u001b[0m \u001b[0mrange\u001b[0m\u001b[0;34m(\u001b[0m\u001b[0;36m0\u001b[0m\u001b[0;34m,\u001b[0m\u001b[0mlen\u001b[0m\u001b[0;34m(\u001b[0m\u001b[0mR\u001b[0m\u001b[0;34m)\u001b[0m\u001b[0;34m)\u001b[0m\u001b[0;34m:\u001b[0m\u001b[0;34m\u001b[0m\u001b[0m\n\u001b[0;32m---> 16\u001b[0;31m             \u001b[0mfun_zp\u001b[0m\u001b[0;34m[\u001b[0m\u001b[0mi\u001b[0m\u001b[0;34m]\u001b[0m \u001b[0;34m=\u001b[0m \u001b[0mintegrate\u001b[0m\u001b[0;34m.\u001b[0m\u001b[0msimps\u001b[0m\u001b[0;34m(\u001b[0m\u001b[0mI_SD\u001b[0m\u001b[0;34m(\u001b[0m\u001b[0mzp_lims\u001b[0m\u001b[0;34m[\u001b[0m\u001b[0mi\u001b[0m\u001b[0;34m]\u001b[0m\u001b[0;34m,\u001b[0m\u001b[0ma_lims\u001b[0m\u001b[0;34m,\u001b[0m\u001b[0mR\u001b[0m\u001b[0;34m[\u001b[0m\u001b[0mk\u001b[0m\u001b[0;34m]\u001b[0m\u001b[0;34m)\u001b[0m\u001b[0;34m,\u001b[0m\u001b[0ma_lims\u001b[0m\u001b[0;34m)\u001b[0m\u001b[0;34m\u001b[0m\u001b[0m\n\u001b[0m\u001b[1;32m     17\u001b[0m         \u001b[0mresult\u001b[0m \u001b[0;34m=\u001b[0m \u001b[0mintegrate\u001b[0m\u001b[0;34m.\u001b[0m\u001b[0msimps\u001b[0m\u001b[0;34m(\u001b[0m\u001b[0mfun_zp\u001b[0m\u001b[0;34m,\u001b[0m\u001b[0mzp_lims\u001b[0m\u001b[0;34m)\u001b[0m\u001b[0;34m\u001b[0m\u001b[0m\n\u001b[1;32m     18\u001b[0m         \u001b[0mIntegral_SD_sims\u001b[0m\u001b[0;34m.\u001b[0m\u001b[0mappend\u001b[0m\u001b[0;34m(\u001b[0m\u001b[0mresult\u001b[0m\u001b[0;34m)\u001b[0m\u001b[0;34m\u001b[0m\u001b[0m\n",
      "\u001b[0;32m/Users/atalia/miniconda2/lib/python2.7/site-packages/scipy/integrate/quadrature.pyc\u001b[0m in \u001b[0;36msimps\u001b[0;34m(y, x, dx, axis, even)\u001b[0m\n\u001b[1;32m    445\u001b[0m                 \u001b[0mfirst_dx\u001b[0m \u001b[0;34m=\u001b[0m \u001b[0mx\u001b[0m\u001b[0;34m[\u001b[0m\u001b[0mtuple\u001b[0m\u001b[0;34m(\u001b[0m\u001b[0mslice2\u001b[0m\u001b[0;34m)\u001b[0m\u001b[0;34m]\u001b[0m \u001b[0;34m-\u001b[0m \u001b[0mx\u001b[0m\u001b[0;34m[\u001b[0m\u001b[0mtuple\u001b[0m\u001b[0;34m(\u001b[0m\u001b[0mslice1\u001b[0m\u001b[0;34m)\u001b[0m\u001b[0;34m]\u001b[0m\u001b[0;34m\u001b[0m\u001b[0m\n\u001b[1;32m    446\u001b[0m             \u001b[0mval\u001b[0m \u001b[0;34m+=\u001b[0m \u001b[0;36m0.5\u001b[0m\u001b[0;34m*\u001b[0m\u001b[0mfirst_dx\u001b[0m\u001b[0;34m*\u001b[0m\u001b[0;34m(\u001b[0m\u001b[0my\u001b[0m\u001b[0;34m[\u001b[0m\u001b[0mslice2\u001b[0m\u001b[0;34m]\u001b[0m\u001b[0;34m+\u001b[0m\u001b[0my\u001b[0m\u001b[0;34m[\u001b[0m\u001b[0mslice1\u001b[0m\u001b[0;34m]\u001b[0m\u001b[0;34m)\u001b[0m\u001b[0;34m\u001b[0m\u001b[0m\n\u001b[0;32m--> 447\u001b[0;31m             \u001b[0mresult\u001b[0m \u001b[0;34m+=\u001b[0m \u001b[0m_basic_simps\u001b[0m\u001b[0;34m(\u001b[0m\u001b[0my\u001b[0m\u001b[0;34m,\u001b[0m \u001b[0;36m1\u001b[0m\u001b[0;34m,\u001b[0m \u001b[0mN\u001b[0m\u001b[0;34m-\u001b[0m\u001b[0;36m2\u001b[0m\u001b[0;34m,\u001b[0m \u001b[0mx\u001b[0m\u001b[0;34m,\u001b[0m \u001b[0mdx\u001b[0m\u001b[0;34m,\u001b[0m \u001b[0maxis\u001b[0m\u001b[0;34m)\u001b[0m\u001b[0;34m\u001b[0m\u001b[0m\n\u001b[0m\u001b[1;32m    448\u001b[0m         \u001b[0;32mif\u001b[0m \u001b[0meven\u001b[0m \u001b[0;34m==\u001b[0m \u001b[0;34m'avg'\u001b[0m\u001b[0;34m:\u001b[0m\u001b[0;34m\u001b[0m\u001b[0m\n\u001b[1;32m    449\u001b[0m             \u001b[0mval\u001b[0m \u001b[0;34m/=\u001b[0m \u001b[0;36m2.0\u001b[0m\u001b[0;34m\u001b[0m\u001b[0m\n",
      "\u001b[0;32m/Users/atalia/miniconda2/lib/python2.7/site-packages/scipy/integrate/quadrature.pyc\u001b[0m in \u001b[0;36m_basic_simps\u001b[0;34m(y, start, stop, x, dx, axis)\u001b[0m\n\u001b[1;32m    327\u001b[0m         tmp = hsum/6.0 * (y[slice0]*(2-1.0/h0divh1) +\n\u001b[1;32m    328\u001b[0m                           \u001b[0my\u001b[0m\u001b[0;34m[\u001b[0m\u001b[0mslice1\u001b[0m\u001b[0;34m]\u001b[0m\u001b[0;34m*\u001b[0m\u001b[0mhsum\u001b[0m\u001b[0;34m*\u001b[0m\u001b[0mhsum\u001b[0m\u001b[0;34m/\u001b[0m\u001b[0mhprod\u001b[0m \u001b[0;34m+\u001b[0m\u001b[0;34m\u001b[0m\u001b[0m\n\u001b[0;32m--> 329\u001b[0;31m                           y[slice2]*(2-h0divh1))\n\u001b[0m\u001b[1;32m    330\u001b[0m         \u001b[0mresult\u001b[0m \u001b[0;34m=\u001b[0m \u001b[0mnp\u001b[0m\u001b[0;34m.\u001b[0m\u001b[0msum\u001b[0m\u001b[0;34m(\u001b[0m\u001b[0mtmp\u001b[0m\u001b[0;34m,\u001b[0m \u001b[0maxis\u001b[0m\u001b[0;34m=\u001b[0m\u001b[0maxis\u001b[0m\u001b[0;34m)\u001b[0m\u001b[0;34m\u001b[0m\u001b[0m\n\u001b[1;32m    331\u001b[0m     \u001b[0;32mreturn\u001b[0m \u001b[0mresult\u001b[0m\u001b[0;34m\u001b[0m\u001b[0m\n",
      "\u001b[0;31mKeyboardInterrupt\u001b[0m: "
     ]
    }
   ],
   "source": [
    "SD_M_I=Vc2_SD_simps(vecRp,R_d_I,Sigma_d_SD_I)\n",
    "SD_M_II=Vc2_SD_simps(vecRp,R_d_II,Sigma_d_SD_II)"
   ]
  },
  {
   "cell_type": "code",
   "execution_count": null,
   "metadata": {},
   "outputs": [],
   "source": [
    "plt.plot(vecRp,np.sqrt(SD_M_I),'.',label='Model I')\n",
    "plt.plot(vecRp,np.sqrt(SD_M_II),'.',label='Model II')\n",
    "plt.xlabel('R/kpc')\n",
    "plt.ylabel(r'$V_{c}(R)/kms^{-1}$')\n",
    "plt.legend(loc='upper right', prop={'size':10})"
   ]
  },
  {
   "cell_type": "markdown",
   "metadata": {},
   "source": [
    "# Model I"
   ]
  },
  {
   "cell_type": "code",
   "execution_count": 24,
   "metadata": {},
   "outputs": [],
   "source": [
    "def Vc_tot_a_h_rho_h_rho_b_I(R,params,parameters):\n",
    "    a_h,rho_h,rho_b = params\n",
    "    alpha_h,beta_h= parameters\n",
    "    suma = Vc2_b(R,rho_b) + Vc2_DM(R,a_h,rho_h,alpha_h,beta_h) + SD_M_I + ISM_M_I\n",
    "    return np.sqrt(suma)"
   ]
  },
  {
   "cell_type": "code",
   "execution_count": 25,
   "metadata": {},
   "outputs": [],
   "source": [
    "par_wo_a_h_rho_h_rho_b_I = np.array([alpha_h_I,beta_h_I])\n",
    "par_wo_a_h_rho_h_rho_b_II = np.array([alpha_h_II,beta_h_II])\n",
    "par_wo_a_h_rho_h_rho_b_NFW = np.array([1.,3.])"
   ]
  },
  {
   "cell_type": "code",
   "execution_count": 29,
   "metadata": {},
   "outputs": [],
   "source": [
    "def Xi2_a_rho_h_rho_b_I(parameters):\n",
    "    a_h,rho_h,rho_b = parameters\n",
    "    par = a_h,np.exp(rho_h),np.exp(rho_b)\n",
    "    model = Vc_tot_a_h_rho_h_rho_b_I(vecRp,par,par_wo_a_h_rho_h_rho_b_I)\n",
    "    xi = np.sum((vecvRp-model)**2./(vecerrvRp)**2.)\n",
    "    return xi"
   ]
  },
  {
   "cell_type": "code",
   "execution_count": 76,
   "metadata": {},
   "outputs": [],
   "source": [
    "x0_a_rho_h_rho_b = np.array([0.01,np.log(1.0e8),np.log(1.0e8)])"
   ]
  },
  {
   "cell_type": "code",
   "execution_count": 77,
   "metadata": {},
   "outputs": [],
   "source": [
    "LS_a_rho_h_rho_b_I = minimize(Xi2_a_rho_h_rho_b_I,x0_a_rho_h_rho_b,method='L-BFGS-B',bounds=((1.,9.),(np.log(0.1e8),np.log(20.0e8)),(np.log(1.0e8),np.log(30.0e8)),))"
   ]
  },
  {
   "cell_type": "code",
   "execution_count": 78,
   "metadata": {},
   "outputs": [
    {
     "name": "stdout",
     "output_type": "stream",
     "text": [
      "      fun: 2205.39387808218\n",
      " hess_inv: <3x3 LbfgsInvHessProduct with dtype=float64>\n",
      "      jac: array([0.00000000e+00, 0.00000000e+00, 9.09494702e-05])\n",
      "  message: 'CONVERGENCE: REL_REDUCTION_OF_F_<=_FACTR*EPSMCH'\n",
      "     nfev: 144\n",
      "      nit: 27\n",
      "   status: 0\n",
      "  success: True\n",
      "        x: array([ 2.62194928, 20.94276376, 20.71227159])\n"
     ]
    }
   ],
   "source": [
    "print LS_a_rho_h_rho_b_I"
   ]
  },
  {
   "cell_type": "code",
   "execution_count": 79,
   "metadata": {},
   "outputs": [
    {
     "name": "stdout",
     "output_type": "stream",
     "text": [
      "[2.62194928e+00 1.24545126e+09 9.89065968e+08]\n"
     ]
    }
   ],
   "source": [
    "pars_a_rho_h_rho_b_min_I = np.array([LS_a_rho_h_rho_b_I.x[0],np.exp(LS_a_rho_h_rho_b_I.x[1]),np.exp(LS_a_rho_h_rho_b_I.x[2])])\n",
    "print pars_a_rho_h_rho_b_min_I"
   ]
  },
  {
   "cell_type": "code",
   "execution_count": 80,
   "metadata": {},
   "outputs": [
    {
     "data": {
      "image/png": "[encoded data removed]",
      "text/plain": [
       "<Figure size 432x288 with 1 Axes>"
      ]
     },
     "metadata": {
      "needs_background": "light"
     },
     "output_type": "display_data"
    }
   ],
   "source": [
    "plt.plot(vecRp,np.sqrt(Vc2_b(vecRp,np.asscalar(np.exp(LS_a_rho_h_rho_b_I.x[2])))),'.',label='Bulge')\n",
    "plt.plot(vecRp,np.sqrt(Vc2_DM(vecRp,np.asscalar(LS_a_rho_h_rho_b_I.x[0]),np.asscalar(np.exp(LS_a_rho_h_rho_b_I.x[1])),alpha_h_I,beta_h_I)),'.',label='DM Halo')\n",
    "plt.plot(vecRp,np.sqrt(SD_M_I),'.',label='Stelar Disk')\n",
    "plt.plot(vecRp,np.sqrt(ISM_M_I),'.',label='ISM')\n",
    "plt.plot(vecRp,Vc_tot_a_h_rho_h_rho_b_I(vecRp,pars_a_rho_h_rho_b_min_I,par_wo_a_h_rho_h_rho_b_I),'.',label='Total')\n",
    "plt.xlabel('R/kpc')\n",
    "plt.ylabel(r'$V_{c}(R)/kms^{-1}$')\n",
    "plt.legend(loc='lower right', prop={'size':10})\n",
    "plt.hlines(230,0,17)\n",
    "plt.vlines(8,0,240)\n",
    "plt.savefig('Fit_rho_b_rho_h_a_h_I.pdf')"
   ]
  },
  {
   "cell_type": "code",
   "execution_count": 36,
   "metadata": {},
   "outputs": [
    {
     "data": {
      "text/plain": [
       "[<matplotlib.lines.Line2D at 0x1184df810>]"
      ]
     },
     "execution_count": 36,
     "metadata": {},
     "output_type": "execute_result"
    },
    {
     "data": {
      "image/png": "[encoded data removed]",
      "text/plain": [
       "<Figure size 432x288 with 1 Axes>"
      ]
     },
     "metadata": {
      "needs_background": "light"
     },
     "output_type": "display_data"
    }
   ],
   "source": [
    "plt.plot(vecRp,np.sqrt(Vc2_b(vecRp,np.asscalar(np.exp(LS_a_rho_h_rho_b_I.x[2])))),'.',label='Bulge')"
   ]
  },
  {
   "cell_type": "markdown",
   "metadata": {},
   "source": [
    "# Model II"
   ]
  },
  {
   "cell_type": "code",
   "execution_count": 39,
   "metadata": {},
   "outputs": [],
   "source": [
    "def Vc_tot_a_h_rho_h_rho_b_II(R,params,parameters):\n",
    "    a_h,rho_h,rho_b = params\n",
    "    alpha_h,beta_h= parameters\n",
    "    suma = Vc2_b(R,rho_b) + Vc2_DM(R,a_h,rho_h,alpha_h,beta_h) + SD_M_II + ISM_M_II\n",
    "    return np.sqrt(suma)"
   ]
  },
  {
   "cell_type": "code",
   "execution_count": 40,
   "metadata": {},
   "outputs": [],
   "source": [
    "def Xi2_a_rho_h_rho_b_II(parameters):\n",
    "    a_h,rho_h,rho_b = parameters\n",
    "    par = a_h,np.exp(rho_h),np.exp(rho_b)\n",
    "    model = Vc_tot_a_h_rho_h_rho_b_II(vecRp,par,par_wo_a_h_rho_h_rho_b_II)\n",
    "    xi = np.sum((vecvRp-model)**2./(vecerrvRp)**2.)\n",
    "    return xi"
   ]
  },
  {
   "cell_type": "code",
   "execution_count": 70,
   "metadata": {},
   "outputs": [],
   "source": [
    "x0_a_rho_h_rho_b_II = np.array([0.01,np.log(1.0e8),np.log(1.0e8)])"
   ]
  },
  {
   "cell_type": "code",
   "execution_count": 71,
   "metadata": {},
   "outputs": [],
   "source": [
    "LS_a_rho_h_rho_b_II = minimize(Xi2_a_rho_h_rho_b_II,x0_a_rho_h_rho_b_II,method='L-BFGS-B',bounds=((1.,9.),(np.log(0.1e8),np.log(20.0e8)),(np.log(1.0e8),np.log(30.0e8)),))"
   ]
  },
  {
   "cell_type": "code",
   "execution_count": 72,
   "metadata": {},
   "outputs": [
    {
     "name": "stdout",
     "output_type": "stream",
     "text": [
      "      fun: 2247.0695434896716\n",
      " hess_inv: <3x3 LbfgsInvHessProduct with dtype=float64>\n",
      "      jac: array([33.97508408, -0.99953468, -4.12405825])\n",
      "  message: 'CONVERGENCE: REL_REDUCTION_OF_F_<=_FACTR*EPSMCH'\n",
      "     nfev: 292\n",
      "      nit: 52\n",
      "   status: 0\n",
      "  success: True\n",
      "        x: array([ 1.00144961, 20.90071771, 18.47492551])\n"
     ]
    }
   ],
   "source": [
    "print LS_a_rho_h_rho_b_II"
   ]
  },
  {
   "cell_type": "code",
   "execution_count": 73,
   "metadata": {},
   "outputs": [
    {
     "name": "stdout",
     "output_type": "stream",
     "text": [
      "[1.00144961e+00 1.19417058e+09 1.05574298e+08]\n"
     ]
    }
   ],
   "source": [
    "pars_a_rho_h_rho_b_min_II = np.array([LS_a_rho_h_rho_b_II.x[0],np.exp(LS_a_rho_h_rho_b_II.x[1]),np.exp(LS_a_rho_h_rho_b_II.x[2])])\n",
    "print pars_a_rho_h_rho_b_min_II"
   ]
  },
  {
   "cell_type": "code",
   "execution_count": 75,
   "metadata": {},
   "outputs": [
    {
     "data": {
      "image/png": "[encoded data removed]",
      "text/plain": [
       "<Figure size 432x288 with 1 Axes>"
      ]
     },
     "metadata": {
      "needs_background": "light"
     },
     "output_type": "display_data"
    }
   ],
   "source": [
    "plt.plot(vecRp,np.sqrt(Vc2_b(vecRp,np.asscalar(np.exp(LS_a_rho_h_rho_b_II.x[2])))),'.',label='Bulge')\n",
    "plt.plot(vecRp,np.sqrt(Vc2_DM(vecRp,np.asscalar(LS_a_rho_h_rho_b_II.x[0]),np.asscalar(np.exp(LS_a_rho_h_rho_b_II.x[1])),alpha_h_II,beta_h_II)),'.',label='DM Halo')\n",
    "plt.plot(vecRp,np.sqrt(SD_M_II),'.',label='Stelar Disk')\n",
    "plt.plot(vecRp,np.sqrt(ISM_M_II),'.',label='ISM')\n",
    "plt.plot(vecRp,Vc_tot_a_h_rho_h_rho_b_II(vecRp,pars_a_rho_h_rho_b_min_II,par_wo_a_h_rho_h_rho_b_II),'.',label='Total')\n",
    "plt.xlabel('R/kpc')\n",
    "plt.ylabel(r'$V_{c}(R)/kms^{-1}$')\n",
    "plt.legend(loc='lower right', prop={'size':10})\n",
    "plt.hlines(230,0,17)\n",
    "plt.vlines(8,0,240)\n",
    "plt.savefig('Fit_rho_b_rho_h_a_h_II.pdf')"
   ]
  },
  {
   "cell_type": "markdown",
   "metadata": {},
   "source": [
    "# NFW I"
   ]
  },
  {
   "cell_type": "code",
   "execution_count": 48,
   "metadata": {},
   "outputs": [],
   "source": [
    "def Vc_tot_a_h_rho_h_rho_b_NFWI(R,params,parameters):\n",
    "    a_h,rho_h,rho_b = params\n",
    "    alpha_h,beta_h= parameters\n",
    "    suma = Vc2_b(R,rho_b) + Vc2_DM(R,a_h,rho_h,alpha_h,beta_h) + SD_M_I + ISM_M_I\n",
    "    return np.sqrt(suma)"
   ]
  },
  {
   "cell_type": "code",
   "execution_count": 49,
   "metadata": {},
   "outputs": [],
   "source": [
    "def Xi2_a_rho_h_rho_b_NFWI(parameters):\n",
    "    a_h,rho_h,rho_b = parameters\n",
    "    par = a_h,np.exp(rho_h),np.exp(rho_b)\n",
    "    model = Vc_tot_a_h_rho_h_rho_b_NFWI(vecRp,par,par_wo_a_h_rho_h_rho_b_NFW)\n",
    "    xi = np.sum((vecvRp-model)**2./(vecerrvRp)**2.)\n",
    "    return xi"
   ]
  },
  {
   "cell_type": "code",
   "execution_count": 112,
   "metadata": {},
   "outputs": [],
   "source": [
    "x0_a_rho_h_rho_b_NFWI = np.array([1.,np.log(0.1e8),np.log(0.0001e8)])"
   ]
  },
  {
   "cell_type": "code",
   "execution_count": 113,
   "metadata": {},
   "outputs": [],
   "source": [
    "LS_a_rho_h_rho_b_NFWI = minimize(Xi2_a_rho_h_rho_b_NFWI,x0_a_rho_h_rho_b_NFWI,method='L-BFGS-B',bounds=((1.,9.),(np.log(0.1e8),np.log(20.0e8)),(np.log(0.0001e8),np.log(30.0e8)),))"
   ]
  },
  {
   "cell_type": "code",
   "execution_count": 114,
   "metadata": {},
   "outputs": [
    {
     "name": "stdout",
     "output_type": "stream",
     "text": [
      "      fun: 2684.5516814594175\n",
      " hess_inv: <3x3 LbfgsInvHessProduct with dtype=float64>\n",
      "      jac: array([ 0.0165528 ,  0.02387424, -0.00877662])\n",
      "  message: 'CONVERGENCE: REL_REDUCTION_OF_F_<=_FACTR*EPSMCH'\n",
      "     nfev: 148\n",
      "      nit: 24\n",
      "   status: 0\n",
      "  success: True\n",
      "        x: array([ 3.05318493, 19.43325486,  9.45009181])\n"
     ]
    }
   ],
   "source": [
    "print LS_a_rho_h_rho_b_NFWI"
   ]
  },
  {
   "cell_type": "code",
   "execution_count": 115,
   "metadata": {},
   "outputs": [
    {
     "name": "stdout",
     "output_type": "stream",
     "text": [
      "[3.05318493e+00 2.75267761e+08 1.27093320e+04]\n"
     ]
    }
   ],
   "source": [
    "pars_a_rho_h_rho_b_min_NFWI = np.array([LS_a_rho_h_rho_b_NFWI.x[0],np.exp(LS_a_rho_h_rho_b_NFWI.x[1]),np.exp(LS_a_rho_h_rho_b_NFWI.x[2])])\n",
    "print pars_a_rho_h_rho_b_min_NFWI"
   ]
  },
  {
   "cell_type": "code",
   "execution_count": 116,
   "metadata": {},
   "outputs": [
    {
     "data": {
      "image/png": "[encoded data removed]",
      "text/plain": [
       "<Figure size 432x288 with 1 Axes>"
      ]
     },
     "metadata": {
      "needs_background": "light"
     },
     "output_type": "display_data"
    }
   ],
   "source": [
    "plt.plot(vecRp,np.sqrt(Vc2_b(vecRp,np.asscalar(np.exp(LS_a_rho_h_rho_b_NFWI.x[2])))),'.',label='Bulge')\n",
    "plt.plot(vecRp,np.sqrt(Vc2_DM(vecRp,np.asscalar(LS_a_rho_h_rho_b_NFWI.x[0]),np.asscalar(np.exp(LS_a_rho_h_rho_b_NFWI.x[1])),1.,3.)),'.',label='DM Halo')\n",
    "plt.plot(vecRp,np.sqrt(SD_M_I),'.',label='Stelar Disk')\n",
    "plt.plot(vecRp,np.sqrt(ISM_M_I),'.',label='ISM')\n",
    "plt.plot(vecRp,Vc_tot_a_h_rho_h_rho_b_NFWI(vecRp,pars_a_rho_h_rho_b_min_NFWI,par_wo_a_h_rho_h_rho_b_NFW),'.',label='Total')\n",
    "plt.xlabel('R/kpc')\n",
    "plt.ylabel(r'$V_{c}(R)/kms^{-1}$')\n",
    "plt.legend(loc='lower right', prop={'size':10})\n",
    "plt.hlines(230,0,17)\n",
    "plt.vlines(8,0,240)\n",
    "plt.savefig('Fit_rho_b_rho_h_a_h_NFWI.pdf')"
   ]
  },
  {
   "cell_type": "markdown",
   "metadata": {},
   "source": [
    "# NFW II"
   ]
  },
  {
   "cell_type": "code",
   "execution_count": 63,
   "metadata": {},
   "outputs": [],
   "source": [
    "def Vc_tot_a_h_rho_h_rho_b_NFWII(R,params,parameters):\n",
    "    a_h,rho_h,rho_b = params\n",
    "    alpha_h,beta_h= parameters\n",
    "    suma = Vc2_b(R,rho_b) + Vc2_DM(R,a_h,rho_h,alpha_h,beta_h) + SD_M_II + ISM_M_II\n",
    "    return np.sqrt(suma)"
   ]
  },
  {
   "cell_type": "code",
   "execution_count": 64,
   "metadata": {},
   "outputs": [],
   "source": [
    "def Xi2_a_rho_h_rho_b_NFWII(parameters):\n",
    "    a_h,rho_h,rho_b = parameters\n",
    "    par = a_h,np.exp(rho_h),np.exp(rho_b)\n",
    "    model = Vc_tot_a_h_rho_h_rho_b_NFWII(vecRp,par,par_wo_a_h_rho_h_rho_b_NFW)\n",
    "    xi = np.sum((vecvRp-model)**2./(vecerrvRp)**2.)\n",
    "    return xi"
   ]
  },
  {
   "cell_type": "code",
   "execution_count": 65,
   "metadata": {},
   "outputs": [],
   "source": [
    "x0_a_rho_h_rho_b_NFWII = np.array([0.01,np.log(1.0e8),np.log(1.0e8)])"
   ]
  },
  {
   "cell_type": "code",
   "execution_count": 66,
   "metadata": {},
   "outputs": [],
   "source": [
    "LS_a_rho_h_rho_b_NFWII = minimize(Xi2_a_rho_h_rho_b_NFWII,x0_a_rho_h_rho_b_NFWII,method='L-BFGS-B',bounds=((1.,15.),(np.log(0.1e8),np.log(20.0e8)),(np.log(1.0e8),np.log(30.0e8)),))"
   ]
  },
  {
   "cell_type": "code",
   "execution_count": 67,
   "metadata": {},
   "outputs": [
    {
     "name": "stdout",
     "output_type": "stream",
     "text": [
      "      fun: 2268.446255634816\n",
      " hess_inv: <3x3 LbfgsInvHessProduct with dtype=float64>\n",
      "      jac: array([0.01264198, 0.03101377, 0.01123226])\n",
      "  message: 'CONVERGENCE: REL_REDUCTION_OF_F_<=_FACTR*EPSMCH'\n",
      "     nfev: 216\n",
      "      nit: 42\n",
      "   status: 0\n",
      "  success: True\n",
      "        x: array([ 4.48866644, 18.92340541, 20.41993921])\n"
     ]
    }
   ],
   "source": [
    "print LS_a_rho_h_rho_b_NFWII"
   ]
  },
  {
   "cell_type": "code",
   "execution_count": 68,
   "metadata": {},
   "outputs": [
    {
     "name": "stdout",
     "output_type": "stream",
     "text": [
      "[4.48866644e+00 1.65321961e+08 7.38357888e+08]\n"
     ]
    }
   ],
   "source": [
    "pars_a_rho_h_rho_b_min_NFWII = np.array([LS_a_rho_h_rho_b_NFWII.x[0],np.exp(LS_a_rho_h_rho_b_NFWII.x[1]),np.exp(LS_a_rho_h_rho_b_NFWII.x[2])])\n",
    "print pars_a_rho_h_rho_b_min_NFWII"
   ]
  },
  {
   "cell_type": "code",
   "execution_count": 69,
   "metadata": {},
   "outputs": [
    {
     "data": {
      "image/png": "[encoded data removed]",
      "text/plain": [
       "<Figure size 432x288 with 1 Axes>"
      ]
     },
     "metadata": {
      "needs_background": "light"
     },
     "output_type": "display_data"
    }
   ],
   "source": [
    "plt.plot(vecRp,np.sqrt(Vc2_b(vecRp,np.asscalar(np.exp(LS_a_rho_h_rho_b_NFWII.x[2])))),'.',label='Bulge')\n",
    "plt.plot(vecRp,np.sqrt(Vc2_DM(vecRp,np.asscalar(LS_a_rho_h_rho_b_NFWII.x[0]),np.asscalar(np.exp(LS_a_rho_h_rho_b_NFWII.x[1])),1.,3.)),'.',label='DM Halo')\n",
    "plt.plot(vecRp,np.sqrt(SD_M_II),'.',label='Stelar Disk')\n",
    "plt.plot(vecRp,np.sqrt(ISM_M_II),'.',label='ISM')\n",
    "plt.plot(vecRp,Vc_tot_a_h_rho_h_rho_b_NFWII(vecRp,pars_a_rho_h_rho_b_min_NFWII,par_wo_a_h_rho_h_rho_b_NFW),'.',label='Total')\n",
    "plt.xlabel('R/kpc')\n",
    "plt.ylabel(r'$V_{c}(R)/kms^{-1}$')\n",
    "plt.legend(loc='lower right', prop={'size':10})\n",
    "plt.hlines(230,0,17)\n",
    "plt.vlines(8,0,240)\n",
    "plt.savefig('Fit_rho_b_rho_h_a_h_NFWII.pdf')"
   ]
  },
  {
   "cell_type": "markdown",
   "metadata": {},
   "source": [
    "# NOTA: tiene un mínimo local, donde la densidad del bulbo queda del orden x10^4"
   ]
  },
  {
   "cell_type": "code",
   "execution_count": null,
   "metadata": {},
   "outputs": [],
   "source": []
  }
 ],
 "metadata": {
  "kernelspec": {
   "display_name": "Python 2",
   "language": "python",
   "name": "python2"
  },
  "language_info": {
   "codemirror_mode": {
    "name": "ipython",
    "version": 2
   },
   "file_extension": ".py",
   "mimetype": "text/x-python",
   "name": "python",
   "nbconvert_exporter": "python",
   "pygments_lexer": "ipython2",
   "version": "2.7.15"
  }
 },
 "nbformat": 4,
 "nbformat_minor": 2
}
